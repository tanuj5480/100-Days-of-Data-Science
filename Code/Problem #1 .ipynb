{
 "cells": [
  {
   "cell_type": "markdown",
   "metadata": {},
   "source": [
    "## Problem #1\n",
    "### Kaggle - House Prices: Advanced Regression Techniques "
   ]
  },
  {
   "cell_type": "markdown",
   "metadata": {},
   "source": [
    "After installing the API to download data from Kaggle"
   ]
  },
  {
   "cell_type": "code",
   "execution_count": 1,
   "metadata": {},
   "outputs": [
    {
     "name": "stdout",
     "output_type": "stream",
     "text": [
      "/Users/rachit/.kaggle/competitions/house-prices-advanced-regression-techniques\n"
     ]
    }
   ],
   "source": [
    "%cd ~/.kaggle/competitions/house-prices-advanced-regression-techniques"
   ]
  },
  {
   "cell_type": "code",
   "execution_count": 2,
   "metadata": {},
   "outputs": [
    {
     "name": "stdout",
     "output_type": "stream",
     "text": [
      "data_description.txt      test.csv                  train.csv.gz\r\n",
      "sample_submission.csv     test.csv.gz\r\n",
      "sample_submission.csv.gz  train.csv\r\n"
     ]
    }
   ],
   "source": [
    "%ls"
   ]
  },
  {
   "cell_type": "code",
   "execution_count": 3,
   "metadata": {
    "collapsed": true
   },
   "outputs": [],
   "source": [
    "import pandas as pd\n",
    "import numpy as np\n",
    "import seaborn as sns\n",
    "import matplotlib.pyplot as plt\n",
    "\n",
    "%matplotlib inline"
   ]
  },
  {
   "cell_type": "code",
   "execution_count": 4,
   "metadata": {
    "collapsed": true
   },
   "outputs": [],
   "source": [
    "train_df = pd.read_csv('train.csv')\n",
    "test_df = pd.read_csv('test.csv')"
   ]
  },
  {
   "cell_type": "code",
   "execution_count": 5,
   "metadata": {},
   "outputs": [
    {
     "data": {
      "text/html": [
       "<div>\n",
       "<style>\n",
       "    .dataframe thead tr:only-child th {\n",
       "        text-align: right;\n",
       "    }\n",
       "\n",
       "    .dataframe thead th {\n",
       "        text-align: left;\n",
       "    }\n",
       "\n",
       "    .dataframe tbody tr th {\n",
       "        vertical-align: top;\n",
       "    }\n",
       "</style>\n",
       "<table border=\"1\" class=\"dataframe\">\n",
       "  <thead>\n",
       "    <tr style=\"text-align: right;\">\n",
       "      <th></th>\n",
       "      <th>Id</th>\n",
       "      <th>MSSubClass</th>\n",
       "      <th>MSZoning</th>\n",
       "      <th>LotFrontage</th>\n",
       "      <th>LotArea</th>\n",
       "      <th>Street</th>\n",
       "      <th>Alley</th>\n",
       "      <th>LotShape</th>\n",
       "      <th>LandContour</th>\n",
       "      <th>Utilities</th>\n",
       "      <th>...</th>\n",
       "      <th>PoolArea</th>\n",
       "      <th>PoolQC</th>\n",
       "      <th>Fence</th>\n",
       "      <th>MiscFeature</th>\n",
       "      <th>MiscVal</th>\n",
       "      <th>MoSold</th>\n",
       "      <th>YrSold</th>\n",
       "      <th>SaleType</th>\n",
       "      <th>SaleCondition</th>\n",
       "      <th>SalePrice</th>\n",
       "    </tr>\n",
       "  </thead>\n",
       "  <tbody>\n",
       "    <tr>\n",
       "      <th>0</th>\n",
       "      <td>1</td>\n",
       "      <td>60</td>\n",
       "      <td>RL</td>\n",
       "      <td>65.0</td>\n",
       "      <td>8450</td>\n",
       "      <td>Pave</td>\n",
       "      <td>NaN</td>\n",
       "      <td>Reg</td>\n",
       "      <td>Lvl</td>\n",
       "      <td>AllPub</td>\n",
       "      <td>...</td>\n",
       "      <td>0</td>\n",
       "      <td>NaN</td>\n",
       "      <td>NaN</td>\n",
       "      <td>NaN</td>\n",
       "      <td>0</td>\n",
       "      <td>2</td>\n",
       "      <td>2008</td>\n",
       "      <td>WD</td>\n",
       "      <td>Normal</td>\n",
       "      <td>208500</td>\n",
       "    </tr>\n",
       "    <tr>\n",
       "      <th>1</th>\n",
       "      <td>2</td>\n",
       "      <td>20</td>\n",
       "      <td>RL</td>\n",
       "      <td>80.0</td>\n",
       "      <td>9600</td>\n",
       "      <td>Pave</td>\n",
       "      <td>NaN</td>\n",
       "      <td>Reg</td>\n",
       "      <td>Lvl</td>\n",
       "      <td>AllPub</td>\n",
       "      <td>...</td>\n",
       "      <td>0</td>\n",
       "      <td>NaN</td>\n",
       "      <td>NaN</td>\n",
       "      <td>NaN</td>\n",
       "      <td>0</td>\n",
       "      <td>5</td>\n",
       "      <td>2007</td>\n",
       "      <td>WD</td>\n",
       "      <td>Normal</td>\n",
       "      <td>181500</td>\n",
       "    </tr>\n",
       "    <tr>\n",
       "      <th>2</th>\n",
       "      <td>3</td>\n",
       "      <td>60</td>\n",
       "      <td>RL</td>\n",
       "      <td>68.0</td>\n",
       "      <td>11250</td>\n",
       "      <td>Pave</td>\n",
       "      <td>NaN</td>\n",
       "      <td>IR1</td>\n",
       "      <td>Lvl</td>\n",
       "      <td>AllPub</td>\n",
       "      <td>...</td>\n",
       "      <td>0</td>\n",
       "      <td>NaN</td>\n",
       "      <td>NaN</td>\n",
       "      <td>NaN</td>\n",
       "      <td>0</td>\n",
       "      <td>9</td>\n",
       "      <td>2008</td>\n",
       "      <td>WD</td>\n",
       "      <td>Normal</td>\n",
       "      <td>223500</td>\n",
       "    </tr>\n",
       "    <tr>\n",
       "      <th>3</th>\n",
       "      <td>4</td>\n",
       "      <td>70</td>\n",
       "      <td>RL</td>\n",
       "      <td>60.0</td>\n",
       "      <td>9550</td>\n",
       "      <td>Pave</td>\n",
       "      <td>NaN</td>\n",
       "      <td>IR1</td>\n",
       "      <td>Lvl</td>\n",
       "      <td>AllPub</td>\n",
       "      <td>...</td>\n",
       "      <td>0</td>\n",
       "      <td>NaN</td>\n",
       "      <td>NaN</td>\n",
       "      <td>NaN</td>\n",
       "      <td>0</td>\n",
       "      <td>2</td>\n",
       "      <td>2006</td>\n",
       "      <td>WD</td>\n",
       "      <td>Abnorml</td>\n",
       "      <td>140000</td>\n",
       "    </tr>\n",
       "    <tr>\n",
       "      <th>4</th>\n",
       "      <td>5</td>\n",
       "      <td>60</td>\n",
       "      <td>RL</td>\n",
       "      <td>84.0</td>\n",
       "      <td>14260</td>\n",
       "      <td>Pave</td>\n",
       "      <td>NaN</td>\n",
       "      <td>IR1</td>\n",
       "      <td>Lvl</td>\n",
       "      <td>AllPub</td>\n",
       "      <td>...</td>\n",
       "      <td>0</td>\n",
       "      <td>NaN</td>\n",
       "      <td>NaN</td>\n",
       "      <td>NaN</td>\n",
       "      <td>0</td>\n",
       "      <td>12</td>\n",
       "      <td>2008</td>\n",
       "      <td>WD</td>\n",
       "      <td>Normal</td>\n",
       "      <td>250000</td>\n",
       "    </tr>\n",
       "  </tbody>\n",
       "</table>\n",
       "<p>5 rows × 81 columns</p>\n",
       "</div>"
      ],
      "text/plain": [
       "   Id  MSSubClass MSZoning  LotFrontage  LotArea Street Alley LotShape  \\\n",
       "0   1          60       RL         65.0     8450   Pave   NaN      Reg   \n",
       "1   2          20       RL         80.0     9600   Pave   NaN      Reg   \n",
       "2   3          60       RL         68.0    11250   Pave   NaN      IR1   \n",
       "3   4          70       RL         60.0     9550   Pave   NaN      IR1   \n",
       "4   5          60       RL         84.0    14260   Pave   NaN      IR1   \n",
       "\n",
       "  LandContour Utilities    ...     PoolArea PoolQC Fence MiscFeature MiscVal  \\\n",
       "0         Lvl    AllPub    ...            0    NaN   NaN         NaN       0   \n",
       "1         Lvl    AllPub    ...            0    NaN   NaN         NaN       0   \n",
       "2         Lvl    AllPub    ...            0    NaN   NaN         NaN       0   \n",
       "3         Lvl    AllPub    ...            0    NaN   NaN         NaN       0   \n",
       "4         Lvl    AllPub    ...            0    NaN   NaN         NaN       0   \n",
       "\n",
       "  MoSold YrSold  SaleType  SaleCondition  SalePrice  \n",
       "0      2   2008        WD         Normal     208500  \n",
       "1      5   2007        WD         Normal     181500  \n",
       "2      9   2008        WD         Normal     223500  \n",
       "3      2   2006        WD        Abnorml     140000  \n",
       "4     12   2008        WD         Normal     250000  \n",
       "\n",
       "[5 rows x 81 columns]"
      ]
     },
     "execution_count": 5,
     "metadata": {},
     "output_type": "execute_result"
    }
   ],
   "source": [
    "train_df.head()"
   ]
  },
  {
   "cell_type": "code",
   "execution_count": 228,
   "metadata": {
    "collapsed": true
   },
   "outputs": [],
   "source": [
    "train_ID = train['Id']\n",
    "test_ID = test['Id']"
   ]
  },
  {
   "cell_type": "code",
   "execution_count": 6,
   "metadata": {},
   "outputs": [
    {
     "data": {
      "image/png": "[encoded data removed]",
      "text/plain": [
       "<matplotlib.figure.Figure at 0x10cf75550>"
      ]
     },
     "metadata": {},
     "output_type": "display_data"
    }
   ],
   "source": [
    "# plotting the dependant variable\n",
    "\n",
    "plt.figure(figsize=(8,6))\n",
    "plt.scatter(range(train_df.shape[0]), np.sort(train_df.SalePrice.values))\n",
    "plt.xlabel('index', fontsize=12)\n",
    "plt.ylabel('SalePrice', fontsize=12)\n",
    "plt.show()"
   ]
  },
  {
   "cell_type": "markdown",
   "metadata": {},
   "source": [
    "### Dependant Variable Analysis"
   ]
  },
  {
   "cell_type": "code",
   "execution_count": 7,
   "metadata": {
    "collapsed": true
   },
   "outputs": [],
   "source": [
    "from scipy import stats\n",
    "from scipy.stats import norm, skew #for some statistics"
   ]
  },
  {
   "cell_type": "code",
   "execution_count": 8,
   "metadata": {},
   "outputs": [
    {
     "name": "stdout",
     "output_type": "stream",
     "text": [
      "\n",
      " mu = 180921.20 and sigma = 79415.29\n",
      "\n"
     ]
    },
    {
     "data": {
      "image/png": "[encoded data removed]",
      "text/plain": [
       "<matplotlib.figure.Figure at 0x10f90d210>"
      ]
     },
     "metadata": {},
     "output_type": "display_data"
    },
    {
     "data": {
      "image/png": "[encoded data removed]",
      "text/plain": [
       "<matplotlib.figure.Figure at 0x10f90d2d0>"
      ]
     },
     "metadata": {},
     "output_type": "display_data"
    }
   ],
   "source": [
    "sns.distplot(train_df['SalePrice'], fit=norm);\n",
    "\n",
    "(mu, sigma) = norm.fit(train_df['SalePrice'])\n",
    "print ('\\n mu = {:.2f} and sigma = {:.2f}\\n'.format(mu, sigma))\n",
    "\n",
    "\n",
    "# plot the distribution\n",
    "plt.legend(['Normal dist. ($\\mu=${:.2f} and $\\sigma=${:.2f} )'.format(mu,sigma)])\n",
    "\n",
    "# also creating the Q-Q plot\n",
    "\n",
    "fig=plt.figure()\n",
    "res = stats.probplot(train_df['SalePrice'], plot=plt)\n",
    "plt.show()"
   ]
  },
  {
   "cell_type": "markdown",
   "metadata": {},
   "source": [
    "Dependant variable has right skew, and since linear models require normoal distribution, will apply transformation in the next step"
   ]
  },
  {
   "cell_type": "markdown",
   "metadata": {},
   "source": [
    "#### Log transformation of the dependant variable"
   ]
  },
  {
   "cell_type": "code",
   "execution_count": 9,
   "metadata": {
    "collapsed": true
   },
   "outputs": [],
   "source": [
    "# using numpy's log1p, which is log(1+x) on the column\n",
    "\n",
    "train_df[\"ln_SalePrice\"] = np.log1p(train_df[\"SalePrice\"])"
   ]
  },
  {
   "cell_type": "code",
   "execution_count": 10,
   "metadata": {},
   "outputs": [
    {
     "data": {
      "image/png": "[encoded data removed]",
      "text/plain": [
       "<matplotlib.figure.Figure at 0x10f9e3950>"
      ]
     },
     "metadata": {},
     "output_type": "display_data"
    },
    {
     "data": {
      "image/png": "[encoded data removed]",
      "text/plain": [
       "<matplotlib.figure.Figure at 0x10fb61c10>"
      ]
     },
     "metadata": {},
     "output_type": "display_data"
    }
   ],
   "source": [
    "# checking the new distribution\n",
    "(mu, sigma) = norm.fit(train_df['ln_SalePrice'])\n",
    "sns.distplot(train_df['ln_SalePrice'], fit=norm)\n",
    "\n",
    "plt.legend([('Norm dist. ($\\mu=${:.2f} and $\\sigma=${:.2f}').format(mu, sigma)])\n",
    "\n",
    "fig = plt.figure()\n",
    "res = stats.probplot(train_df['ln_SalePrice'], plot=plt)\n",
    "plt.show()\n",
    "\n"
   ]
  },
  {
   "cell_type": "code",
   "execution_count": 165,
   "metadata": {
    "collapsed": true
   },
   "outputs": [],
   "source": [
    "ntrain = train_df.shape[0]\n",
    "ntest = test_df.shape[0]\n",
    "\n",
    "y_train = train_df.ln_SalePrice.values\n",
    "all_data = pd.concat((train_df, test_df)).reset_index(drop=True)\n",
    "\n",
    "all_data.drop(['SalePrice', 'ln_SalePrice'], axis=1, inplace=True)"
   ]
  },
  {
   "cell_type": "code",
   "execution_count": 99,
   "metadata": {},
   "outputs": [
    {
     "data": {
      "text/plain": [
       "((2919, 76), (1460, 78), (1459, 76))"
      ]
     },
     "execution_count": 99,
     "metadata": {},
     "output_type": "execute_result"
    }
   ],
   "source": [
    "all_data.shape, train_df.shape, test_df.shape"
   ]
  },
  {
   "cell_type": "markdown",
   "metadata": {},
   "source": [
    "#### Fill Rate Analysis"
   ]
  },
  {
   "cell_type": "code",
   "execution_count": 224,
   "metadata": {},
   "outputs": [
    {
     "data": {
      "image/png": "[encoded data removed]",
      "text/plain": [
       "<matplotlib.figure.Figure at 0x1106049d0>"
      ]
     },
     "metadata": {},
     "output_type": "display_data"
    }
   ],
   "source": [
    "missing_df = all_data.isnull().sum(axis=0).reset_index()\n",
    "missing_df.columns = ['column_name', 'missing_count']\n",
    "missing_df = missing_df.loc[missing_df['missing_count']>0]\n",
    "missing_df = missing_df.sort_values(by='missing_count')\n",
    "\n",
    "ind = np.arange(missing_df.shape[0])\n",
    "width = 0.9\n",
    "fig, ax = plt.subplots(figsize=(12,18))\n",
    "rects = ax.barh(ind, missing_df.missing_count.values, color='blue')\n",
    "ax.set_yticks(ind)\n",
    "ax.set_yticklabels(missing_df.column_name.values, rotation='horizontal')\n",
    "ax.set_xlabel(\"Count of missing values\")\n",
    "ax.set_title(\"Number of missing values in each column\")\n",
    "plt.show()\n"
   ]
  },
  {
   "cell_type": "code",
   "execution_count": 168,
   "metadata": {},
   "outputs": [
    {
     "data": {
      "text/html": [
       "<div>\n",
       "<style>\n",
       "    .dataframe thead tr:only-child th {\n",
       "        text-align: right;\n",
       "    }\n",
       "\n",
       "    .dataframe thead th {\n",
       "        text-align: left;\n",
       "    }\n",
       "\n",
       "    .dataframe tbody tr th {\n",
       "        vertical-align: top;\n",
       "    }\n",
       "</style>\n",
       "<table border=\"1\" class=\"dataframe\">\n",
       "  <thead>\n",
       "    <tr style=\"text-align: right;\">\n",
       "      <th></th>\n",
       "      <th>column_name</th>\n",
       "      <th>missing_count</th>\n",
       "      <th>missing_ratio</th>\n",
       "    </tr>\n",
       "  </thead>\n",
       "  <tbody>\n",
       "  </tbody>\n",
       "</table>\n",
       "</div>"
      ],
      "text/plain": [
       "Empty DataFrame\n",
       "Columns: [column_name, missing_count, missing_ratio]\n",
       "Index: []"
      ]
     },
     "execution_count": 168,
     "metadata": {},
     "output_type": "execute_result"
    }
   ],
   "source": [
    "# Can drop the below variables since there is more than 80% missing data\n",
    "\n",
    "missing_df = all_data.isnull().sum(axis=0).reset_index()\n",
    "missing_df.columns = ['column_name', 'missing_count']\n",
    "missing_df['missing_ratio'] = missing_df['missing_count'] / all_data.shape[0]\n",
    "missing_df.loc[missing_df['missing_ratio']>0.80]"
   ]
  },
  {
   "cell_type": "code",
   "execution_count": 146,
   "metadata": {
    "collapsed": true
   },
   "outputs": [],
   "source": [
    "cols_to_drop = missing_df.loc[missing_df['missing_ratio']>0.80]\n",
    "lst_var_to_drop = list(cols_to_drop.column_name.values)\n",
    "\n",
    "train_df.drop(lst_var_to_drop, axis=1, inplace=True)"
   ]
  },
  {
   "cell_type": "code",
   "execution_count": 147,
   "metadata": {
    "collapsed": true
   },
   "outputs": [],
   "source": [
    "test_df.drop(lst_var_to_drop, axis=1, inplace=True)"
   ]
  },
  {
   "cell_type": "code",
   "execution_count": 181,
   "metadata": {
    "collapsed": true
   },
   "outputs": [],
   "source": [
    "dtype_df = all_data_2.dtypes.reset_index()\n",
    "dtype_df.columns = [\"Count\", \"Column Type\"]"
   ]
  },
  {
   "cell_type": "code",
   "execution_count": 182,
   "metadata": {},
   "outputs": [
    {
     "data": {
      "text/html": [
       "<div>\n",
       "<style>\n",
       "    .dataframe thead tr:only-child th {\n",
       "        text-align: right;\n",
       "    }\n",
       "\n",
       "    .dataframe thead th {\n",
       "        text-align: left;\n",
       "    }\n",
       "\n",
       "    .dataframe tbody tr th {\n",
       "        vertical-align: top;\n",
       "    }\n",
       "</style>\n",
       "<table border=\"1\" class=\"dataframe\">\n",
       "  <thead>\n",
       "    <tr style=\"text-align: right;\">\n",
       "      <th></th>\n",
       "      <th>Column Type</th>\n",
       "      <th>Count</th>\n",
       "    </tr>\n",
       "  </thead>\n",
       "  <tbody>\n",
       "    <tr>\n",
       "      <th>0</th>\n",
       "      <td>float64</td>\n",
       "      <td>33</td>\n",
       "    </tr>\n",
       "  </tbody>\n",
       "</table>\n",
       "</div>"
      ],
      "text/plain": [
       "  Column Type  Count\n",
       "0     float64     33"
      ]
     },
     "execution_count": 182,
     "metadata": {},
     "output_type": "execute_result"
    }
   ],
   "source": [
    "dtype_df.groupby('Column Type').count().reset_index()"
   ]
  },
  {
   "cell_type": "code",
   "execution_count": 172,
   "metadata": {
    "collapsed": true
   },
   "outputs": [],
   "source": [
    "# seperating out the categorical variables\n",
    "\n",
    "cat_var = dtype_df[dtype_df['Column Type'] == 'object'].Count.values\n",
    "cont_var = dtype_df[dtype_df['Column Type'] == 'float64'].Count.values"
   ]
  },
  {
   "cell_type": "code",
   "execution_count": 173,
   "metadata": {},
   "outputs": [
    {
     "data": {
      "text/plain": [
       "(array(['BldgType', 'BsmtCond', 'BsmtExposure', 'BsmtFinType1',\n",
       "        'BsmtFinType2', 'BsmtQual', 'CentralAir', 'Condition1',\n",
       "        'Condition2', 'Electrical', 'ExterCond', 'ExterQual', 'Exterior1st',\n",
       "        'Exterior2nd', 'FireplaceQu', 'Foundation', 'Functional',\n",
       "        'GarageCond', 'GarageFinish', 'GarageQual', 'GarageType', 'Heating',\n",
       "        'HeatingQC', 'HouseStyle', 'KitchenQual', 'LandContour',\n",
       "        'LandSlope', 'LotConfig', 'LotShape', 'MSZoning', 'MasVnrType',\n",
       "        'MoSold', 'Neighborhood', 'PavedDrive', 'RoofMatl', 'RoofStyle',\n",
       "        'SaleCondition', 'SaleType', 'Street', 'Utilities', 'YearBuilt',\n",
       "        'YearRemodAdd', 'YrSold'], dtype=object),\n",
       " array(['1stFlrSF', '2ndFlrSF', '3SsnPorch', 'BedroomAbvGr', 'BsmtFinSF1',\n",
       "        'BsmtFinSF2', 'BsmtFullBath', 'BsmtHalfBath', 'BsmtUnfSF',\n",
       "        'EnclosedPorch', 'Fireplaces', 'FullBath', 'GarageArea',\n",
       "        'GarageCars', 'GarageYrBlt', 'GrLivArea', 'HalfBath', 'Id',\n",
       "        'KitchenAbvGr', 'LotArea', 'LotFrontage', 'LowQualFinSF',\n",
       "        'MSSubClass', 'MasVnrArea', 'MiscVal', 'OpenPorchSF', 'OverallCond',\n",
       "        'OverallQual', 'PoolArea', 'ScreenPorch', 'TotRmsAbvGrd',\n",
       "        'TotalBsmtSF', 'WoodDeckSF'], dtype=object))"
      ]
     },
     "execution_count": 173,
     "metadata": {},
     "output_type": "execute_result"
    }
   ],
   "source": [
    "cat_var, cont_var"
   ]
  },
  {
   "cell_type": "code",
   "execution_count": 174,
   "metadata": {
    "collapsed": true
   },
   "outputs": [],
   "source": [
    "# Few of the above variables are really categorical but not continous, so transforming them into the same\n",
    "\n",
    "#Year and month sold are transformed into categorical features.\n",
    "all_data['YrSold'] = all_data['YrSold'].astype(str)\n",
    "all_data['MoSold'] = all_data['MoSold'].astype(str)\n",
    "all_data['YearBuilt'] = all_data['YearBuilt'].astype(str)\n",
    "all_data['YearRemodAdd'] = all_data['YearRemodAdd'].astype(str)\n",
    "all_data['YearRemodAdd'] = all_data['YearRemodAdd'].astype(str)"
   ]
  },
  {
   "cell_type": "code",
   "execution_count": 153,
   "metadata": {
    "collapsed": true
   },
   "outputs": [],
   "source": [
    "train_df['YrSold'] = train_df['YrSold'].astype(str)\n",
    "train_df['MoSold'] = train_df['MoSold'].astype(str)\n",
    "train_df['YearBuilt'] = train_df['YearBuilt'].astype(str)\n",
    "train_df['YearRemodAdd'] = train_df['YearRemodAdd'].astype(str)\n",
    "train_df['YearRemodAdd'] = train_df['YearRemodAdd'].astype(str)"
   ]
  },
  {
   "cell_type": "markdown",
   "metadata": {},
   "source": [
    "### Missing Value Imputation"
   ]
  },
  {
   "cell_type": "code",
   "execution_count": 154,
   "metadata": {
    "collapsed": true
   },
   "outputs": [],
   "source": [
    "# categorical variables: to replace with the mode for that variable\n",
    "\n",
    "for var in cat_var:\n",
    "    train_df[var].fillna(train_df[var].mode()[0], inplace=True)\n",
    "    \n",
    "# to further improve the model, we would have to go through at variable level and impute values accrodingly"
   ]
  },
  {
   "cell_type": "code",
   "execution_count": 190,
   "metadata": {},
   "outputs": [],
   "source": [
    "all_data[cont_var] = all_data[cont_var].fillna(all_data.mean().iloc[0])"
   ]
  },
  {
   "cell_type": "markdown",
   "metadata": {},
   "source": [
    "#### Skew check in numerical features"
   ]
  },
  {
   "cell_type": "code",
   "execution_count": 185,
   "metadata": {},
   "outputs": [
    {
     "name": "stdout",
     "output_type": "stream",
     "text": [
      "\n",
      "Skew in numerical features: \n",
      "\n"
     ]
    },
    {
     "data": {
      "text/html": [
       "<div>\n",
       "<style>\n",
       "    .dataframe thead tr:only-child th {\n",
       "        text-align: right;\n",
       "    }\n",
       "\n",
       "    .dataframe thead th {\n",
       "        text-align: left;\n",
       "    }\n",
       "\n",
       "    .dataframe tbody tr th {\n",
       "        vertical-align: top;\n",
       "    }\n",
       "</style>\n",
       "<table border=\"1\" class=\"dataframe\">\n",
       "  <thead>\n",
       "    <tr style=\"text-align: right;\">\n",
       "      <th></th>\n",
       "      <th>Skew</th>\n",
       "    </tr>\n",
       "  </thead>\n",
       "  <tbody>\n",
       "    <tr>\n",
       "      <th>PoolArea</th>\n",
       "      <td>14.342868</td>\n",
       "    </tr>\n",
       "    <tr>\n",
       "      <th>3SsnPorch</th>\n",
       "      <td>7.669694</td>\n",
       "    </tr>\n",
       "    <tr>\n",
       "      <th>LowQualFinSF</th>\n",
       "      <td>7.374240</td>\n",
       "    </tr>\n",
       "    <tr>\n",
       "      <th>MiscVal</th>\n",
       "      <td>5.082645</td>\n",
       "    </tr>\n",
       "    <tr>\n",
       "      <th>BsmtHalfBath</th>\n",
       "      <td>3.898693</td>\n",
       "    </tr>\n",
       "    <tr>\n",
       "      <th>KitchenAbvGr</th>\n",
       "      <td>3.339055</td>\n",
       "    </tr>\n",
       "    <tr>\n",
       "      <th>ScreenPorch</th>\n",
       "      <td>3.128072</td>\n",
       "    </tr>\n",
       "    <tr>\n",
       "      <th>BsmtFinSF2</th>\n",
       "      <td>2.472925</td>\n",
       "    </tr>\n",
       "    <tr>\n",
       "      <th>EnclosedPorch</th>\n",
       "      <td>2.078729</td>\n",
       "    </tr>\n",
       "    <tr>\n",
       "      <th>HalfBath</th>\n",
       "      <td>0.545949</td>\n",
       "    </tr>\n",
       "  </tbody>\n",
       "</table>\n",
       "</div>"
      ],
      "text/plain": [
       "                    Skew\n",
       "PoolArea       14.342868\n",
       "3SsnPorch       7.669694\n",
       "LowQualFinSF    7.374240\n",
       "MiscVal         5.082645\n",
       "BsmtHalfBath    3.898693\n",
       "KitchenAbvGr    3.339055\n",
       "ScreenPorch     3.128072\n",
       "BsmtFinSF2      2.472925\n",
       "EnclosedPorch   2.078729\n",
       "HalfBath        0.545949"
      ]
     },
     "execution_count": 185,
     "metadata": {},
     "output_type": "execute_result"
    }
   ],
   "source": [
    "numeric_feats = all_data.dtypes[all_data.dtypes != \"object\"].index\n",
    "\n",
    "# Check the skew of all numerical features\n",
    "skewed_feats = train_df[numeric_feats].apply(lambda x: skew(x.dropna())).sort_values(ascending=False)\n",
    "print(\"\\nSkew in numerical features: \\n\")\n",
    "skewness = pd.DataFrame({'Skew' :skewed_feats})\n",
    "skewness.head(10)"
   ]
  },
  {
   "cell_type": "code",
   "execution_count": 187,
   "metadata": {},
   "outputs": [
    {
     "name": "stdout",
     "output_type": "stream",
     "text": [
      "There are 33 skewed numerical features to Box Cox transform\n"
     ]
    }
   ],
   "source": [
    "skewness = skewness[abs(skewness) > 0.75]\n",
    "\n",
    "print(\"There are {} skewed numerical features to Box Cox transform\".format(skewness.shape[0]))\n",
    "\n",
    "from scipy.special import boxcox1p\n",
    "\n",
    "skewed_features = skewness.index\n",
    "lam = 0.15\n",
    "for feat in skewed_features:\n",
    "    #all_data[feat] += 1\n",
    "    all_data[feat] = boxcox1p(train_df[feat], lam)"
   ]
  },
  {
   "cell_type": "code",
   "execution_count": 82,
   "metadata": {},
   "outputs": [],
   "source": [
    "for feat in skewed_features:\n",
    "    #all_data[feat] += 1\n",
    "    if (feat not in ['SalePrice', 'ln_SalePrice']) :\n",
    "        test_df[feat] = boxcox1p(test_df[feat], lam)"
   ]
  },
  {
   "cell_type": "code",
   "execution_count": null,
   "metadata": {
    "collapsed": true
   },
   "outputs": [],
   "source": [
    "# In case of numerical varibles, capping the outliers to 95th-%tile.  \n",
    "# Since linear regression is sensitive to outliers\n",
    "\n"
   ]
  },
  {
   "cell_type": "code",
   "execution_count": 26,
   "metadata": {},
   "outputs": [],
   "source": [
    "# numerical variables: replacing with the mean value\n",
    "\n",
    "# train_df_2['LotFrontage'].fillna((train_df_2['LotFrontage'].mean()), inplace=True)\n",
    "# train_df_2['GarageYrBlt'].fillna((train_df_2['GarageYrBlt'].mean()), inplace=True)\n",
    "# train_df_2['MasVnrArea'].fillna((train_df_2['MasVnrArea'].mean()), inplace=True)"
   ]
  },
  {
   "cell_type": "code",
   "execution_count": 191,
   "metadata": {},
   "outputs": [
    {
     "data": {
      "text/html": [
       "<div>\n",
       "<style>\n",
       "    .dataframe thead tr:only-child th {\n",
       "        text-align: right;\n",
       "    }\n",
       "\n",
       "    .dataframe thead th {\n",
       "        text-align: left;\n",
       "    }\n",
       "\n",
       "    .dataframe tbody tr th {\n",
       "        vertical-align: top;\n",
       "    }\n",
       "</style>\n",
       "<table border=\"1\" class=\"dataframe\">\n",
       "  <thead>\n",
       "    <tr style=\"text-align: right;\">\n",
       "      <th></th>\n",
       "      <th>Missing Ratio</th>\n",
       "    </tr>\n",
       "  </thead>\n",
       "  <tbody>\n",
       "  </tbody>\n",
       "</table>\n",
       "</div>"
      ],
      "text/plain": [
       "Empty DataFrame\n",
       "Columns: [Missing Ratio]\n",
       "Index: []"
      ]
     },
     "execution_count": 191,
     "metadata": {},
     "output_type": "execute_result"
    }
   ],
   "source": [
    "all_data_na = (all_data.isnull().sum() / len(all_data)) * 100\n",
    "all_data_na = all_data_na.drop(all_data_na[all_data_na == 0].index).sort_values(ascending=False)\n",
    "missing_data = pd.DataFrame({'Missing Ratio' :all_data_na})\n",
    "missing_data.head()"
   ]
  },
  {
   "cell_type": "code",
   "execution_count": 23,
   "metadata": {
    "collapsed": true
   },
   "outputs": [],
   "source": [
    "# creating the one hot encoded variables, and dropping the original variables\n",
    "\n",
    "def get_dummies_ohe(df, varlst):\n",
    "    df_mod = df.copy()\n",
    "    for var in varlst:\n",
    "        new_var_name_lst = []\n",
    "        new_var_lst = pd.get_dummies(df[var])\n",
    "        df_mod = df_mod.drop(var, axis=1)\n",
    "        for elem in new_var_lst.columns:\n",
    "            new_var_name_lst.append(var+'_'+str(elem))\n",
    "        new_var_lst.columns = new_var_name_lst\n",
    "        df_mod = df_mod.join(new_var_lst)\n",
    "    return df_mod"
   ]
  },
  {
   "cell_type": "code",
   "execution_count": 192,
   "metadata": {},
   "outputs": [],
   "source": [
    "all_data_2 = get_dummies_ohe(all_data, cat_var)"
   ]
  },
  {
   "cell_type": "code",
   "execution_count": 193,
   "metadata": {},
   "outputs": [
    {
     "data": {
      "text/plain": [
       "468"
      ]
     },
     "execution_count": 193,
     "metadata": {},
     "output_type": "execute_result"
    }
   ],
   "source": [
    "len(all_data_2.columns)"
   ]
  },
  {
   "cell_type": "markdown",
   "metadata": {},
   "source": [
    "### Principal Component Analysis"
   ]
  },
  {
   "cell_type": "code",
   "execution_count": 30,
   "metadata": {
    "collapsed": true
   },
   "outputs": [],
   "source": [
    "from matplotlib.cm import register_cmap\n",
    "from scipy import stats\n",
    "from sklearn.decomposition import PCA as sklearnPCA\n",
    "from sklearn.preprocessing import StandardScaler\n"
   ]
  },
  {
   "cell_type": "code",
   "execution_count": 31,
   "metadata": {
    "collapsed": true
   },
   "outputs": [],
   "source": [
    "??sklearnPCA"
   ]
  },
  {
   "cell_type": "code",
   "execution_count": 194,
   "metadata": {},
   "outputs": [],
   "source": [
    "train = all_data_2[:ntrain]\n",
    "test = all_data_2[ntrain:]"
   ]
  },
  {
   "cell_type": "code",
   "execution_count": 195,
   "metadata": {
    "collapsed": true
   },
   "outputs": [],
   "source": [
    "y = train_df['ln_SalePrice']\n",
    "X = train"
   ]
  },
  {
   "cell_type": "code",
   "execution_count": 196,
   "metadata": {
    "collapsed": true
   },
   "outputs": [],
   "source": [
    "X = X.replace(np.nan, 0, regex=True)\n",
    "X_std = StandardScaler().fit_transform(X)"
   ]
  },
  {
   "cell_type": "code",
   "execution_count": 197,
   "metadata": {},
   "outputs": [],
   "source": [
    "test_std = StandardScaler().fit_transform(test)"
   ]
  },
  {
   "cell_type": "code",
   "execution_count": 198,
   "metadata": {},
   "outputs": [
    {
     "name": "stdout",
     "output_type": "stream",
     "text": [
      "Covariance matrix \n",
      "[[ 1.0006854  -0.36428694  0.0583364  ..., -0.04020635 -0.00712028\n",
      "  -0.00160545]\n",
      " [-0.36428694  1.0006854  -0.02511969 ...,  0.01518838  0.00888595\n",
      "  -0.02845497]\n",
      " [ 0.0583364  -0.02511969  1.0006854  ...,  0.04074688  0.00655791\n",
      "  -0.01445742]\n",
      " ..., \n",
      " [-0.04020635  0.01518838  0.04074688 ...,  1.0006854  -0.28165493\n",
      "  -0.18937511]\n",
      " [-0.00712028  0.00888595  0.00655791 ..., -0.28165493  1.0006854\n",
      "  -0.20268749]\n",
      " [-0.00160545 -0.02845497 -0.01445742 ..., -0.18937511 -0.20268749\n",
      "   1.0006854 ]]\n"
     ]
    }
   ],
   "source": [
    "mean_vec = np.mean(X_std, axis=0)\n",
    "cov_mat = (X_std - mean_vec).T.dot((X_std - mean_vec)) / (X_std.shape[0]-1)\n",
    "print('Covariance matrix \\n%s' %cov_mat)"
   ]
  },
  {
   "cell_type": "code",
   "execution_count": 199,
   "metadata": {
    "collapsed": true
   },
   "outputs": [],
   "source": [
    "#Perform eigendecomposition on covariance matrix\n",
    "cov_mat = np.cov(X_std.T)\n",
    "eig_vals, eig_vecs = np.linalg.eig(cov_mat)"
   ]
  },
  {
   "cell_type": "code",
   "execution_count": 200,
   "metadata": {},
   "outputs": [
    {
     "name": "stdout",
     "output_type": "stream",
     "text": [
      "Eigenvectors \n",
      "[[  1.04635912e-01+0.j  -8.94611498e-02+0.j  -1.92510297e-01+0.j ...,\n",
      "    0.00000000e+00+0.j   0.00000000e+00+0.j   0.00000000e+00+0.j]\n",
      " [  1.27706324e-02+0.j   1.31637569e-01+0.j  -3.89577259e-03+0.j ...,\n",
      "    0.00000000e+00+0.j   0.00000000e+00+0.j   0.00000000e+00+0.j]\n",
      " [  1.28298930e-02+0.j  -1.64886052e-02+0.j  -2.42939885e-02+0.j ...,\n",
      "    0.00000000e+00+0.j   0.00000000e+00+0.j   0.00000000e+00+0.j]\n",
      " ..., \n",
      " [ -5.92621620e-03+0.j  -9.56385103e-05+0.j   1.09029957e-02+0.j ...,\n",
      "    0.00000000e+00+0.j   0.00000000e+00+0.j   0.00000000e+00+0.j]\n",
      " [ -2.23240742e-04+0.j   7.38774039e-03+0.j  -1.21591587e-03+0.j ...,\n",
      "    0.00000000e+00+0.j   0.00000000e+00+0.j   0.00000000e+00+0.j]\n",
      " [ -3.03957778e-03+0.j  -2.49658041e-02+0.j   2.01460105e-02+0.j ...,\n",
      "    0.00000000e+00+0.j   0.00000000e+00+0.j   0.00000000e+00+0.j]]\n",
      "\n",
      "Eigenvalues \n",
      "[  1.77496908e+01 +0.00000000e+00j   9.55535714e+00 +0.00000000e+00j\n",
      "   6.79746137e+00 +0.00000000e+00j   6.45045553e+00 +0.00000000e+00j\n",
      "   5.22333929e+00 +0.00000000e+00j   4.97788859e+00 +0.00000000e+00j\n",
      "   4.65791549e+00 +0.00000000e+00j   4.01351079e+00 +0.00000000e+00j\n",
      "   3.85927698e+00 +0.00000000e+00j   3.68777712e+00 +0.00000000e+00j\n",
      "   3.57439105e+00 +0.00000000e+00j   3.48275620e+00 +0.00000000e+00j\n",
      "   3.41988589e+00 +0.00000000e+00j   3.29629796e+00 +0.00000000e+00j\n",
      "   3.23751154e+00 +0.00000000e+00j   3.10707692e+00 +0.00000000e+00j\n",
      "   3.07771801e+00 +0.00000000e+00j   3.02665802e+00 +0.00000000e+00j\n",
      "   3.00903511e+00 +0.00000000e+00j   2.96877458e+00 +0.00000000e+00j\n",
      "   2.89284074e+00 +0.00000000e+00j   2.82767285e+00 +0.00000000e+00j\n",
      "   2.78881015e+00 +0.00000000e+00j   2.76707145e+00 +0.00000000e+00j\n",
      "   2.71825851e+00 +0.00000000e+00j   2.68706517e+00 +0.00000000e+00j\n",
      "   2.65174903e+00 +0.00000000e+00j   2.64479039e+00 +0.00000000e+00j\n",
      "   2.58012708e+00 +0.00000000e+00j   2.54196853e+00 +0.00000000e+00j\n",
      "   2.52386987e+00 +0.00000000e+00j   2.48091637e+00 +0.00000000e+00j\n",
      "   2.46329391e+00 +0.00000000e+00j   2.44449348e+00 +0.00000000e+00j\n",
      "   2.42179536e+00 +0.00000000e+00j   2.39777397e+00 +0.00000000e+00j\n",
      "   2.39270682e+00 +0.00000000e+00j   2.36615144e+00 +0.00000000e+00j\n",
      "   2.34543879e+00 +0.00000000e+00j   2.32545859e+00 +0.00000000e+00j\n",
      "   2.31880327e+00 +0.00000000e+00j   2.29855102e+00 +0.00000000e+00j\n",
      "   2.23899777e+00 +0.00000000e+00j   2.26340692e+00 +0.00000000e+00j\n",
      "   2.26022259e+00 +0.00000000e+00j   2.22631702e+00 +0.00000000e+00j\n",
      "   2.21319334e+00 +0.00000000e+00j   2.19403011e+00 +0.00000000e+00j\n",
      "   2.16180778e+00 +0.00000000e+00j   2.15683476e+00 +0.00000000e+00j\n",
      "   2.12631800e+00 +0.00000000e+00j   2.11751927e+00 +0.00000000e+00j\n",
      "   2.10078383e+00 +0.00000000e+00j   2.09734555e+00 +0.00000000e+00j\n",
      "   2.08491411e+00 +0.00000000e+00j   2.06838915e+00 +0.00000000e+00j\n",
      "   2.06270442e+00 +0.00000000e+00j   2.04282953e+00 +0.00000000e+00j\n",
      "   2.03037691e+00 +0.00000000e+00j   2.01129186e+00 +0.00000000e+00j\n",
      "   2.00706083e+00 +0.00000000e+00j   2.00348896e+00 +0.00000000e+00j\n",
      "   1.99210845e+00 +0.00000000e+00j   1.97897348e+00 +0.00000000e+00j\n",
      "   1.97313912e+00 +0.00000000e+00j   1.94724593e+00 +0.00000000e+00j\n",
      "   1.94489771e+00 +0.00000000e+00j   1.92979249e+00 +0.00000000e+00j\n",
      "   1.91656159e+00 +0.00000000e+00j   1.90249420e+00 +0.00000000e+00j\n",
      "   1.89214196e+00 +0.00000000e+00j   1.88002839e+00 +0.00000000e+00j\n",
      "   1.86727149e+00 +0.00000000e+00j   1.85423693e+00 +0.00000000e+00j\n",
      "   1.83432011e+00 +0.00000000e+00j   1.75866783e+00 +0.00000000e+00j\n",
      "   1.76428892e+00 +0.00000000e+00j   1.77238786e+00 +0.00000000e+00j\n",
      "   1.82179414e+00 +0.00000000e+00j   1.78808909e+00 +0.00000000e+00j\n",
      "   1.81332375e+00 +0.00000000e+00j   1.79831429e+00 +0.00000000e+00j\n",
      "   1.80418035e+00 +0.00000000e+00j   1.73692436e+00 +0.00000000e+00j\n",
      "   1.72866696e+00 +0.00000000e+00j   1.72105049e+00 +0.00000000e+00j\n",
      "   1.71347073e+00 +0.00000000e+00j   1.69557765e+00 +0.00000000e+00j\n",
      "   1.68440886e+00 +0.00000000e+00j   1.67440993e+00 +0.00000000e+00j\n",
      "   1.66326840e+00 +0.00000000e+00j   1.65550492e+00 +0.00000000e+00j\n",
      "   1.63782867e+00 +0.00000000e+00j   1.63013762e+00 +0.00000000e+00j\n",
      "   1.61634963e+00 +0.00000000e+00j   1.60300236e+00 +0.00000000e+00j\n",
      "   1.60624242e+00 +0.00000000e+00j   1.59072217e+00 +0.00000000e+00j\n",
      "   1.57720420e+00 +0.00000000e+00j   1.57294209e+00 +0.00000000e+00j\n",
      "   1.56130061e+00 +0.00000000e+00j   1.55272723e+00 +0.00000000e+00j\n",
      "   1.54298865e+00 +0.00000000e+00j   1.53238291e+00 +0.00000000e+00j\n",
      "   1.47385801e+00 +0.00000000e+00j   1.47997244e+00 +0.00000000e+00j\n",
      "   1.51407987e+00 +0.00000000e+00j   1.50772321e+00 +0.00000000e+00j\n",
      "   1.49326975e+00 +0.00000000e+00j   1.49921483e+00 +0.00000000e+00j\n",
      "   1.46600100e+00 +0.00000000e+00j   1.45094310e+00 +0.00000000e+00j\n",
      "   1.43807755e+00 +0.00000000e+00j   1.43261454e+00 +0.00000000e+00j\n",
      "   1.42618777e+00 +0.00000000e+00j   1.42092370e+00 +0.00000000e+00j\n",
      "   1.41206655e+00 +0.00000000e+00j   1.40965491e+00 +0.00000000e+00j\n",
      "   1.39407460e+00 +0.00000000e+00j   1.38509909e+00 +0.00000000e+00j\n",
      "   1.37516044e+00 +0.00000000e+00j   1.36865919e+00 +0.00000000e+00j\n",
      "   1.36741332e+00 +0.00000000e+00j   1.35633436e+00 +0.00000000e+00j\n",
      "   1.33741479e+00 +0.00000000e+00j   1.33149641e+00 +0.00000000e+00j\n",
      "   1.32387630e+00 +0.00000000e+00j   1.31227989e+00 +0.00000000e+00j\n",
      "   1.30898843e+00 +0.00000000e+00j   1.29832014e+00 +0.00000000e+00j\n",
      "   1.28427934e+00 +0.00000000e+00j   1.28091391e+00 +0.00000000e+00j\n",
      "   1.27869761e+00 +0.00000000e+00j   1.26534909e+00 +0.00000000e+00j\n",
      "   1.25697390e+00 +0.00000000e+00j   1.25446938e+00 +0.00000000e+00j\n",
      "   1.24570889e+00 +0.00000000e+00j   1.23333207e+00 +0.00000000e+00j\n",
      "   1.23283131e+00 +0.00000000e+00j   1.22655202e+00 +0.00000000e+00j\n",
      "   1.21820069e+00 +0.00000000e+00j   1.21647577e+00 +0.00000000e+00j\n",
      "   1.21319139e+00 +0.00000000e+00j   1.20147309e+00 +0.00000000e+00j\n",
      "   1.19233511e+00 +0.00000000e+00j   1.18173810e+00 +0.00000000e+00j\n",
      "   1.17585368e+00 +0.00000000e+00j   1.17649963e+00 +0.00000000e+00j\n",
      "   1.16624661e+00 +0.00000000e+00j   1.16138923e+00 +0.00000000e+00j\n",
      "   1.14914765e+00 +0.00000000e+00j   1.14286340e+00 +0.00000000e+00j\n",
      "   1.13588621e+00 +0.00000000e+00j   1.12294168e+00 +0.00000000e+00j\n",
      "   1.12210699e+00 +0.00000000e+00j   1.04408034e+00 +0.00000000e+00j\n",
      "   1.05008130e+00 +0.00000000e+00j   1.11186603e+00 +0.00000000e+00j\n",
      "   1.11349027e+00 +0.00000000e+00j   1.10374060e+00 +0.00000000e+00j\n",
      "   1.06396673e+00 +0.00000000e+00j   1.06653721e+00 +0.00000000e+00j\n",
      "   1.07804115e+00 +0.00000000e+00j   1.08033986e+00 +0.00000000e+00j\n",
      "   1.08781044e+00 +0.00000000e+00j   1.08990795e+00 +0.00000000e+00j\n",
      "   1.09396006e+00 +0.00000000e+00j   1.09412825e+00 +0.00000000e+00j\n",
      "   1.04822350e+00 +0.00000000e+00j   1.03834867e+00 +0.00000000e+00j\n",
      "   1.03370264e+00 +0.00000000e+00j   1.02650467e+00 +0.00000000e+00j\n",
      "   1.01950145e+00 +0.00000000e+00j   1.01311984e+00 +0.00000000e+00j\n",
      "   1.01643156e+00 +0.00000000e+00j   1.00623885e+00 +0.00000000e+00j\n",
      "   1.00031320e+00 +0.00000000e+00j   9.96297374e-01 +0.00000000e+00j\n",
      "   8.62180876e-01 +0.00000000e+00j   9.86688283e-01 +0.00000000e+00j\n",
      "   9.82226033e-01 +0.00000000e+00j   9.78684036e-01 +0.00000000e+00j\n",
      "   8.70776589e-01 +0.00000000e+00j   8.70460750e-01 +0.00000000e+00j\n",
      "   8.79816951e-01 +0.00000000e+00j   8.86242251e-01 +0.00000000e+00j\n",
      "   9.68650787e-01 +0.00000000e+00j   9.67594402e-01 +0.00000000e+00j\n",
      "   9.63512546e-01 +0.00000000e+00j   8.94424252e-01 +0.00000000e+00j\n",
      "   9.52685249e-01 +0.00000000e+00j   9.01196460e-01 +0.00000000e+00j\n",
      "   9.04091597e-01 +0.00000000e+00j   9.07391698e-01 +0.00000000e+00j\n",
      "   9.13616114e-01 +0.00000000e+00j   9.44212561e-01 +0.00000000e+00j\n",
      "   9.48997226e-01 +0.00000000e+00j   9.33484614e-01 +0.00000000e+00j\n",
      "   9.22415074e-01 +0.00000000e+00j   9.28745060e-01 +0.00000000e+00j\n",
      "   9.26708620e-01 +0.00000000e+00j   8.27338451e-01 +0.00000000e+00j\n",
      "   8.32538620e-01 +0.00000000e+00j   8.35170302e-01 +0.00000000e+00j\n",
      "   8.44676429e-01 +0.00000000e+00j   8.54332073e-01 +0.00000000e+00j\n",
      "   8.57299231e-01 +0.00000000e+00j   7.86615938e-01 +0.00000000e+00j\n",
      "   8.21049969e-01 +0.00000000e+00j   8.17858168e-01 +0.00000000e+00j\n",
      "   8.08453851e-01 +0.00000000e+00j   8.06175226e-01 +0.00000000e+00j\n",
      "   7.98311937e-01 +0.00000000e+00j   8.00264003e-01 +0.00000000e+00j\n",
      "   8.02982845e-01 +0.00000000e+00j   7.78352036e-01 +0.00000000e+00j\n",
      "   7.71359491e-01 +0.00000000e+00j   7.69612235e-01 +0.00000000e+00j\n",
      "   7.65504740e-01 +0.00000000e+00j   7.59774625e-01 +0.00000000e+00j\n",
      "   7.55988609e-01 +0.00000000e+00j   7.39885329e-01 +0.00000000e+00j\n",
      "   7.38364223e-01 +0.00000000e+00j   7.24805627e-01 +0.00000000e+00j\n",
      "   7.19423697e-01 +0.00000000e+00j   7.13202946e-01 +0.00000000e+00j\n",
      "   7.15258299e-01 +0.00000000e+00j   7.06045690e-01 +0.00000000e+00j\n",
      "   7.04222693e-01 +0.00000000e+00j   6.97092124e-01 +0.00000000e+00j\n",
      "   6.89750323e-01 +0.00000000e+00j   6.85015934e-01 +0.00000000e+00j\n",
      "   6.80829910e-01 +0.00000000e+00j   6.77962597e-01 +0.00000000e+00j\n",
      "   6.73884421e-01 +0.00000000e+00j   6.64578609e-01 +0.00000000e+00j\n",
      "   6.58532119e-01 +0.00000000e+00j   6.56095324e-01 +0.00000000e+00j\n",
      "   6.46413381e-01 +0.00000000e+00j   6.44827583e-01 +0.00000000e+00j\n",
      "   6.40113591e-01 +0.00000000e+00j   6.33804140e-01 +0.00000000e+00j\n",
      "   6.32103217e-01 +0.00000000e+00j   6.26435591e-01 +0.00000000e+00j\n",
      "   6.20179060e-01 +0.00000000e+00j   6.12995959e-01 +0.00000000e+00j\n",
      "   6.09213663e-01 +0.00000000e+00j   6.04629675e-01 +0.00000000e+00j\n",
      "   6.00786206e-01 +0.00000000e+00j   5.95773656e-01 +0.00000000e+00j\n",
      "   5.92637018e-01 +0.00000000e+00j   5.87611305e-01 +0.00000000e+00j\n",
      "   5.80723401e-01 +0.00000000e+00j   5.74699342e-01 +0.00000000e+00j\n",
      "   5.71178566e-01 +0.00000000e+00j   5.66502620e-01 +0.00000000e+00j\n",
      "   5.58958974e-01 +0.00000000e+00j   2.13001479e-02 +0.00000000e+00j\n",
      "   2.42206353e-02 +0.00000000e+00j   2.67465851e-02 +0.00000000e+00j\n",
      "   2.82615260e-02 +0.00000000e+00j   3.65743020e-02 +0.00000000e+00j\n",
      "   1.65374761e-02 +0.00000000e+00j   1.54626613e-02 +0.00000000e+00j\n",
      "   4.13815285e-02 +0.00000000e+00j   4.47185760e-02 +0.00000000e+00j\n",
      "   4.71257465e-02 +0.00000000e+00j   5.07300792e-02 +0.00000000e+00j\n",
      "   5.33782613e-02 +0.00000000e+00j   5.64758592e-02 +0.00000000e+00j\n",
      "   5.94719525e-02 +0.00000000e+00j   6.10268138e-02 +0.00000000e+00j\n",
      "   6.68901421e-02 +0.00000000e+00j   6.56923241e-02 +0.00000000e+00j\n",
      "   7.07435644e-02 +0.00000000e+00j   7.35352179e-02 +0.00000000e+00j\n",
      "   7.58801375e-02 +0.00000000e+00j   7.68765602e-02 +0.00000000e+00j\n",
      "   7.89673961e-02 +0.00000000e+00j   8.08857633e-02 +0.00000000e+00j\n",
      "   8.52462837e-02 +0.00000000e+00j   8.70013076e-02 +0.00000000e+00j\n",
      "   8.81881414e-02 +0.00000000e+00j   9.15690657e-02 +0.00000000e+00j\n",
      "   9.33106595e-02 +0.00000000e+00j   5.51925245e-01 +0.00000000e+00j\n",
      "   5.49518563e-01 +0.00000000e+00j   5.62617253e-01 +0.00000000e+00j\n",
      "   5.37805110e-01 +0.00000000e+00j   5.34923594e-01 +0.00000000e+00j\n",
      "   5.27671139e-01 +0.00000000e+00j   5.23621069e-01 +0.00000000e+00j\n",
      "   5.18465055e-01 +0.00000000e+00j   5.13132282e-01 +0.00000000e+00j\n",
      "   5.09662408e-01 +0.00000000e+00j   5.05724590e-01 +0.00000000e+00j\n",
      "   4.96494029e-01 +0.00000000e+00j   4.90245295e-01 +0.00000000e+00j\n",
      "   5.00912698e-01 +0.00000000e+00j   4.78486966e-01 +0.00000000e+00j\n",
      "   4.76103312e-01 +0.00000000e+00j   1.38072053e-02 +0.00000000e+00j\n",
      "   9.80844252e-02 +0.00000000e+00j   1.01393111e-01 +0.00000000e+00j\n",
      "   1.09739034e-01 +0.00000000e+00j   1.80555072e-01 +0.00000000e+00j\n",
      "   1.76944606e-01 +0.00000000e+00j   1.68276861e-01 +0.00000000e+00j\n",
      "   1.63549786e-01 +0.00000000e+00j   1.65229098e-01 +0.00000000e+00j\n",
      "   1.74045747e-01 +0.00000000e+00j   1.57217114e-01 +0.00000000e+00j\n",
      "   1.54176214e-01 +0.00000000e+00j   1.49907384e-01 +0.00000000e+00j\n",
      "   4.71621941e-01 +0.00000000e+00j   4.59366326e-01 +0.00000000e+00j\n",
      "   4.45843042e-01 +0.00000000e+00j   4.14068179e-01 +0.00000000e+00j\n",
      "   4.05136496e-01 +0.00000000e+00j   1.12512497e-02 +0.00000000e+00j\n",
      "   1.22560193e-02 +0.00000000e+00j   2.98545428e-01 +0.00000000e+00j\n",
      "   2.96345546e-01 +0.00000000e+00j   3.01886419e-01 +0.00000000e+00j\n",
      "   2.44978741e-01 +0.00000000e+00j   2.38100568e-01 +0.00000000e+00j\n",
      "   2.34197322e-01 +0.00000000e+00j   2.32035683e-01 +0.00000000e+00j\n",
      "   1.85973376e-01 +0.00000000e+00j   2.19218817e-01 +0.00000000e+00j\n",
      "   2.23736099e-01 +0.00000000e+00j   2.10006095e-01 +0.00000000e+00j\n",
      "   2.04830503e-01 +0.00000000e+00j   2.01656488e-01 +0.00000000e+00j\n",
      "   2.14929759e-01 +0.00000000e+00j   1.99082610e-01 +0.00000000e+00j\n",
      "   1.92811218e-01 +0.00000000e+00j   1.05301379e-01 +0.00000000e+00j\n",
      "   1.12597437e-01 +0.00000000e+00j   1.45925694e-01 +0.00000000e+00j\n",
      "   1.18151664e-01 +0.00000000e+00j   1.19098889e-01 +0.00000000e+00j\n",
      "   1.35403400e-01 +0.00000000e+00j   1.29027041e-01 +0.00000000e+00j\n",
      "   1.31627695e-01 +0.00000000e+00j   1.26746103e-01 +0.00000000e+00j\n",
      "   5.31009604e-01 +0.00000000e+00j   4.71021600e-01 +0.00000000e+00j\n",
      "   4.36709921e-01 +0.00000000e+00j   4.32488863e-01 +0.00000000e+00j\n",
      "   3.90636323e-01 +0.00000000e+00j   4.17058110e-01 +0.00000000e+00j\n",
      "   3.83878618e-01 +0.00000000e+00j   3.73224026e-01 +0.00000000e+00j\n",
      "   3.94110530e-01 +0.00000000e+00j   3.22704777e-01 +0.00000000e+00j\n",
      "   3.21227926e-01 +0.00000000e+00j   3.10188346e-01 +0.00000000e+00j\n",
      "   3.17200083e-01 +0.00000000e+00j   2.92373908e-01 +0.00000000e+00j\n",
      "   1.38688471e-01 +0.00000000e+00j   2.48616877e-01 +0.00000000e+00j\n",
      "   2.25822946e-01 +0.00000000e+00j   4.54308400e-01 +0.00000000e+00j\n",
      "   1.04777326e-01 +0.00000000e+00j   1.04995159e-01 +0.00000000e+00j\n",
      "   1.41094789e-01 +0.00000000e+00j   1.88602370e-01 +0.00000000e+00j\n",
      "   3.98084075e-01 +0.00000000e+00j   2.13660624e-01 +0.00000000e+00j\n",
      "   2.81100260e-01 +0.00000000e+00j   2.85060182e-01 +0.00000000e+00j\n",
      "   3.63653543e-01 +0.00000000e+00j   3.28790151e-01 +0.00000000e+00j\n",
      "   3.58689964e-01 +0.00000000e+00j   3.33154197e-01 +0.00000000e+00j\n",
      "   3.44647990e-01 +0.00000000e+00j   5.44630989e-01 +0.00000000e+00j\n",
      "   4.26854275e-01 +0.00000000e+00j   2.59035579e-01 +0.00000000e+00j\n",
      "   2.77622235e-01 +0.00000000e+00j   1.14066352e-01 +0.00000000e+00j\n",
      "   1.22384103e-01 +0.00000000e+00j   1.48316309e-01 +0.00000000e+00j\n",
      "   4.39660444e-01 +0.00000000e+00j   4.24935931e-01 +0.00000000e+00j\n",
      "   1.96311583e-01 +0.00000000e+00j   3.99965520e-01 +0.00000000e+00j\n",
      "   3.62121612e-01 +0.00000000e+00j   2.74724674e-01 +0.00000000e+00j\n",
      "   2.69405654e-01 +0.00000000e+00j   2.52928144e-01 +0.00000000e+00j\n",
      "   2.60128936e-01 +0.00000000e+00j   3.51115554e-01 +0.00000000e+00j\n",
      "   3.51715290e-01 +0.00000000e+00j   2.66801863e-01 +0.00000000e+00j\n",
      "   2.86772488e-01 +0.00000000e+00j   3.36889794e-01 +0.00000000e+00j\n",
      "   4.63453838e-01 +0.00000000e+00j   4.21118640e-01 +0.00000000e+00j\n",
      "   1.22731733e-01 +0.00000000e+00j   1.41547994e-01 +0.00000000e+00j\n",
      "   1.24266436e-01 +0.00000000e+00j   1.73071075e-01 +0.00000000e+00j\n",
      "   3.38806671e-01 +0.00000000e+00j   3.40726866e-01 +0.00000000e+00j\n",
      "   2.53020098e-01 +0.00000000e+00j   1.89896170e-01 +0.00000000e+00j\n",
      "   4.50017317e-01 +0.00000000e+00j   4.64183171e-01 +0.00000000e+00j\n",
      "   3.78641641e-01 +0.00000000e+00j   3.78479164e-01 +0.00000000e+00j\n",
      "   2.64712617e-01 +0.00000000e+00j   5.03119556e-03 +0.00000000e+00j\n",
      "   2.41580637e-03 +0.00000000e+00j  -4.11284866e-15 +0.00000000e+00j\n",
      "   4.35058615e-15 +0.00000000e+00j   4.06923097e-15 +0.00000000e+00j\n",
      "   3.92958912e-15 +0.00000000e+00j  -3.50711983e-15 +0.00000000e+00j\n",
      "  -3.48107687e-15 +0.00000000e+00j  -3.26175319e-15 +0.00000000e+00j\n",
      "   3.47011639e-15 +0.00000000e+00j   3.30695146e-15 +0.00000000e+00j\n",
      "   3.21180828e-15 +0.00000000e+00j   2.88446023e-15 +0.00000000e+00j\n",
      "   2.67551827e-15 +0.00000000e+00j   2.53247350e-15 +0.00000000e+00j\n",
      "   2.43641576e-15 +0.00000000e+00j   2.03352903e-15 +0.00000000e+00j\n",
      "  -2.31466534e-15 +0.00000000e+00j  -2.15003802e-15 +0.00000000e+00j\n",
      "  -2.02760572e-15 +0.00000000e+00j   1.51049158e-15 +0.00000000e+00j\n",
      "   1.43836053e-15 +0.00000000e+00j   1.21680644e-15 +0.00000000e+00j\n",
      "   9.42837230e-16 +0.00000000e+00j   8.15980923e-16 +0.00000000e+00j\n",
      "  -1.45213960e-15 +0.00000000e+00j  -1.41603045e-15 +0.00000000e+00j\n",
      "  -1.31867966e-15 +3.15490533e-17j  -1.31867966e-15 -3.15490533e-17j\n",
      "  -1.19245452e-15 +0.00000000e+00j  -1.06741137e-15 +0.00000000e+00j\n",
      "  -8.64538533e-16 +0.00000000e+00j   5.69199922e-16 +0.00000000e+00j\n",
      "   4.80882687e-16 +0.00000000e+00j  -6.46144582e-16 +0.00000000e+00j\n",
      "  -5.60274026e-16 +0.00000000e+00j  -4.28674444e-16 +6.42526652e-17j\n",
      "  -4.28674444e-16 -6.42526652e-17j  -2.59308388e-16 +0.00000000e+00j\n",
      "   2.58936338e-16 +0.00000000e+00j   1.50809039e-16 +5.71441236e-17j\n",
      "   1.50809039e-16 -5.71441236e-17j   1.78089106e-17 +1.03587809e-16j\n",
      "   1.78089106e-17 -1.03587809e-16j  -9.06726817e-17 +1.17554149e-16j\n",
      "  -9.06726817e-17 -1.17554149e-16j  -2.17200453e-18 +3.92807103e-17j\n",
      "  -2.17200453e-18 -3.92807103e-17j  -7.37335471e-17 +0.00000000e+00j\n",
      "   0.00000000e+00 +0.00000000e+00j   0.00000000e+00 +0.00000000e+00j\n",
      "   0.00000000e+00 +0.00000000e+00j   0.00000000e+00 +0.00000000e+00j\n",
      "   0.00000000e+00 +0.00000000e+00j   0.00000000e+00 +0.00000000e+00j]\n"
     ]
    }
   ],
   "source": [
    "print('Eigenvectors \\n%s' %eig_vecs)\n",
    "print('\\nEigenvalues \\n%s' %eig_vals)"
   ]
  },
  {
   "cell_type": "code",
   "execution_count": 201,
   "metadata": {},
   "outputs": [
    {
     "name": "stdout",
     "output_type": "stream",
     "text": [
      "Eigenvalues in descending order:\n",
      "17.7496908458\n",
      "9.55535713598\n",
      "6.79746136631\n",
      "6.45045552539\n",
      "5.22333928809\n",
      "4.97788858904\n",
      "4.65791548501\n",
      "4.01351079418\n",
      "3.85927697782\n",
      "3.68777712348\n",
      "3.57439104755\n",
      "3.48275620354\n",
      "3.41988589457\n",
      "3.2962979596\n",
      "3.23751154133\n",
      "3.10707691625\n",
      "3.07771801277\n",
      "3.02665801528\n",
      "3.00903510935\n",
      "2.96877457556\n",
      "2.89284073641\n",
      "2.82767285339\n",
      "2.78881014823\n",
      "2.76707144654\n",
      "2.71825850958\n",
      "2.68706517112\n",
      "2.6517490279\n",
      "2.64479039471\n",
      "2.58012708002\n",
      "2.54196852962\n",
      "2.5238698706\n",
      "2.48091636936\n",
      "2.46329390762\n",
      "2.44449348105\n",
      "2.4217953554\n",
      "2.39777396955\n",
      "2.39270681867\n",
      "2.36615144108\n",
      "2.34543879477\n",
      "2.32545859199\n",
      "2.31880326624\n",
      "2.29855102406\n",
      "2.2389977698\n",
      "2.26340691915\n",
      "2.2602225898\n",
      "2.22631701556\n",
      "2.21319334364\n",
      "2.19403010899\n",
      "2.16180778182\n",
      "2.15683476097\n",
      "2.12631799933\n",
      "2.11751926694\n",
      "2.10078383079\n",
      "2.09734555435\n",
      "2.08491410501\n",
      "2.06838915479\n",
      "2.06270441823\n",
      "2.04282952894\n",
      "2.03037691435\n",
      "2.0112918621\n",
      "2.0070608322\n",
      "2.00348896243\n",
      "1.99210844776\n",
      "1.97897348414\n",
      "1.97313911979\n",
      "1.94724592753\n",
      "1.94489771013\n",
      "1.92979249241\n",
      "1.91656159459\n",
      "1.90249419663\n",
      "1.89214196103\n",
      "1.88002839237\n",
      "1.8672714885\n",
      "1.85423692694\n",
      "1.83432010737\n",
      "1.75866783343\n",
      "1.76428892177\n",
      "1.77238785809\n",
      "1.82179414367\n",
      "1.78808908585\n",
      "1.81332375274\n",
      "1.79831428986\n",
      "1.80418035035\n",
      "1.73692435997\n",
      "1.72866696044\n",
      "1.72105049264\n",
      "1.71347072668\n",
      "1.69557765367\n",
      "1.6844088608\n",
      "1.67440992886\n",
      "1.66326839768\n",
      "1.6555049151\n",
      "1.63782866926\n",
      "1.63013761683\n",
      "1.61634963286\n",
      "1.60300236464\n",
      "1.60624241584\n",
      "1.59072216914\n",
      "1.57720419592\n",
      "1.57294209058\n",
      "1.56130061069\n",
      "1.55272723206\n",
      "1.54298864581\n",
      "1.53238290843\n",
      "1.47385800805\n",
      "1.47997244045\n",
      "1.51407986535\n",
      "1.50772320586\n",
      "1.49326974678\n",
      "1.4992148258\n",
      "1.46600100012\n",
      "1.45094309602\n",
      "1.43807754911\n",
      "1.43261453513\n",
      "1.42618776781\n",
      "1.42092370463\n",
      "1.41206654947\n",
      "1.40965490885\n",
      "1.39407459958\n",
      "1.38509909439\n",
      "1.37516044112\n",
      "1.3686591865\n",
      "1.36741331713\n",
      "1.35633435696\n",
      "1.33741478901\n",
      "1.33149640794\n",
      "1.32387629806\n",
      "1.31227989385\n",
      "1.30898843373\n",
      "1.29832013738\n",
      "1.28427934391\n",
      "1.28091390819\n",
      "1.27869761227\n",
      "1.26534908792\n",
      "1.256973898\n",
      "1.25446938188\n",
      "1.24570889487\n",
      "1.23333207266\n",
      "1.23283130923\n",
      "1.22655201994\n",
      "1.21820068615\n",
      "1.21647576839\n",
      "1.21319138624\n",
      "1.20147309386\n",
      "1.1923351141\n",
      "1.18173809751\n",
      "1.1758536818\n",
      "1.17649962968\n",
      "1.16624660755\n",
      "1.16138923208\n",
      "1.14914764593\n",
      "1.1428633992\n",
      "1.13588621392\n",
      "1.12294168094\n",
      "1.12210699408\n",
      "1.04408033565\n",
      "1.05008129597\n",
      "1.11186603128\n",
      "1.11349026719\n",
      "1.10374059615\n",
      "1.06396673473\n",
      "1.06653720518\n",
      "1.0780411514\n",
      "1.08033986448\n",
      "1.0878104354\n",
      "1.08990794661\n",
      "1.09396006378\n",
      "1.09412824832\n",
      "1.04822350258\n",
      "1.0383486684\n",
      "1.03370263653\n",
      "1.02650467344\n",
      "1.01950144842\n",
      "1.01311983628\n",
      "1.01643156112\n",
      "1.00623885146\n",
      "1.00031319637\n",
      "0.996297374407\n",
      "0.86218087565\n",
      "0.986688282669\n",
      "0.982226032938\n",
      "0.978684035871\n",
      "0.870776588836\n",
      "0.87046074998\n",
      "0.879816950784\n",
      "0.886242251472\n",
      "0.968650786815\n",
      "0.96759440215\n",
      "0.963512546372\n",
      "0.894424252126\n",
      "0.952685248549\n",
      "0.901196460014\n",
      "0.904091596792\n",
      "0.907391697833\n",
      "0.913616113951\n",
      "0.944212561474\n",
      "0.948997225771\n",
      "0.933484614169\n",
      "0.922415074319\n",
      "0.928745060283\n",
      "0.9267086204\n",
      "0.82733845086\n",
      "0.83253861959\n",
      "0.835170302178\n",
      "0.844676428661\n",
      "0.854332073498\n",
      "0.857299231224\n",
      "0.786615938132\n",
      "0.821049969158\n",
      "0.817858168316\n",
      "0.808453850774\n",
      "0.806175225522\n",
      "0.798311936838\n",
      "0.800264003457\n",
      "0.80298284495\n",
      "0.778352035573\n",
      "0.771359490593\n",
      "0.769612235327\n",
      "0.765504740103\n",
      "0.759774624779\n",
      "0.755988609236\n",
      "0.739885328634\n",
      "0.738364223107\n",
      "0.724805626758\n",
      "0.719423696879\n",
      "0.713202945941\n",
      "0.715258298853\n",
      "0.706045690314\n",
      "0.704222692754\n",
      "0.697092123797\n",
      "0.689750322622\n",
      "0.685015933971\n",
      "0.680829909828\n",
      "0.677962597496\n",
      "0.673884420508\n",
      "0.664578608681\n",
      "0.658532119362\n",
      "0.65609532396\n",
      "0.646413381091\n",
      "0.644827583355\n",
      "0.64011359142\n",
      "0.633804139621\n",
      "0.632103216553\n",
      "0.626435590556\n",
      "0.620179060166\n",
      "0.612995959234\n",
      "0.60921366253\n",
      "0.604629674863\n",
      "0.600786206154\n",
      "0.595773656258\n",
      "0.592637018158\n",
      "0.587611304619\n",
      "0.580723400737\n",
      "0.574699342293\n",
      "0.571178565691\n",
      "0.566502620397\n",
      "0.558958974163\n",
      "0.0213001479201\n",
      "0.0242206352524\n",
      "0.0267465851305\n",
      "0.0282615260076\n",
      "0.0365743019516\n",
      "0.0165374760695\n",
      "0.0154626613372\n",
      "0.0413815285433\n",
      "0.0447185759957\n",
      "0.0471257464932\n",
      "0.0507300792094\n",
      "0.0533782612887\n",
      "0.0564758592395\n",
      "0.0594719525061\n",
      "0.0610268138203\n",
      "0.0668901421184\n",
      "0.0656923240893\n",
      "0.0707435643847\n",
      "0.0735352178639\n",
      "0.0758801375468\n",
      "0.0768765602359\n",
      "0.0789673960655\n",
      "0.0808857632803\n",
      "0.085246283688\n",
      "0.0870013075888\n",
      "0.0881881413832\n",
      "0.0915690657216\n",
      "0.0933106594824\n",
      "0.551925244659\n",
      "0.549518563347\n",
      "0.562617253055\n",
      "0.537805110081\n",
      "0.534923594191\n",
      "0.527671138879\n",
      "0.523621069152\n",
      "0.51846505471\n",
      "0.513132282112\n",
      "0.509662408294\n",
      "0.505724589531\n",
      "0.496494028907\n",
      "0.49024529539\n",
      "0.500912698174\n",
      "0.47848696593\n",
      "0.476103312302\n",
      "0.0138072053265\n",
      "0.0980844252153\n",
      "0.101393111045\n",
      "0.109739034401\n",
      "0.180555072242\n",
      "0.176944606104\n",
      "0.16827686136\n",
      "0.163549785584\n",
      "0.165229098378\n",
      "0.174045747336\n",
      "0.157217113506\n",
      "0.154176214418\n",
      "0.149907384115\n",
      "0.471621940972\n",
      "0.459366325813\n",
      "0.445843042296\n",
      "0.414068179028\n",
      "0.405136495854\n",
      "0.011251249687\n",
      "0.0122560192721\n",
      "0.298545428136\n",
      "0.296345545505\n",
      "0.301886419301\n",
      "0.244978740899\n",
      "0.238100567789\n",
      "0.234197321697\n",
      "0.232035682757\n",
      "0.185973376477\n",
      "0.219218817445\n",
      "0.223736098759\n",
      "0.210006095235\n",
      "0.204830503084\n",
      "0.201656488424\n",
      "0.214929759294\n",
      "0.199082610046\n",
      "0.192811217793\n",
      "0.105301379283\n",
      "0.112597437434\n",
      "0.145925694064\n",
      "0.118151664227\n",
      "0.119098888883\n",
      "0.135403400235\n",
      "0.129027041338\n",
      "0.131627694977\n",
      "0.126746103343\n",
      "0.531009604117\n",
      "0.471021599877\n",
      "0.436709920706\n",
      "0.432488863037\n",
      "0.390636323338\n",
      "0.417058109689\n",
      "0.383878617795\n",
      "0.3732240264\n",
      "0.394110530111\n",
      "0.322704777478\n",
      "0.321227926103\n",
      "0.310188345733\n",
      "0.317200082762\n",
      "0.292373907672\n",
      "0.138688471145\n",
      "0.248616877442\n",
      "0.225822945696\n",
      "0.454308400327\n",
      "0.104777325619\n",
      "0.104995159288\n",
      "0.141094788714\n",
      "0.188602370469\n",
      "0.398084074749\n",
      "0.213660624454\n",
      "0.281100259871\n",
      "0.285060182078\n",
      "0.363653543459\n",
      "0.328790150945\n",
      "0.358689964272\n",
      "0.333154197382\n",
      "0.344647990479\n",
      "0.544630988788\n",
      "0.426854274711\n",
      "0.259035578986\n",
      "0.277622235063\n",
      "0.114066351827\n",
      "0.122384102539\n",
      "0.148316309267\n",
      "0.439660444493\n",
      "0.424935930546\n",
      "0.196311583434\n",
      "0.39996551955\n",
      "0.362121611565\n",
      "0.274724673584\n",
      "0.269405653878\n",
      "0.252928143763\n",
      "0.260128936257\n",
      "0.351115554281\n",
      "0.351715289569\n",
      "0.266801862815\n",
      "0.286772488036\n",
      "0.336889793893\n",
      "0.463453838117\n",
      "0.421118639649\n",
      "0.122731733061\n",
      "0.141547993722\n",
      "0.124266436295\n",
      "0.173071075307\n",
      "0.338806671036\n",
      "0.340726866211\n",
      "0.253020098028\n",
      "0.189896170045\n",
      "0.450017316979\n",
      "0.46418317081\n",
      "0.378641640718\n",
      "0.37847916388\n",
      "0.264712617418\n",
      "0.00503119555815\n",
      "0.00241580637256\n",
      "4.11284866121e-15\n",
      "4.35058615308e-15\n",
      "4.06923096903e-15\n",
      "3.9295891226e-15\n",
      "3.50711983409e-15\n",
      "3.48107686675e-15\n",
      "3.26175319177e-15\n",
      "3.47011638888e-15\n",
      "3.30695146176e-15\n",
      "3.21180828371e-15\n",
      "2.88446023464e-15\n",
      "2.67551826535e-15\n",
      "2.53247349684e-15\n",
      "2.43641575909e-15\n",
      "2.03352902768e-15\n",
      "2.31466534478e-15\n",
      "2.150038018e-15\n",
      "2.02760571612e-15\n",
      "1.51049157929e-15\n",
      "1.43836053117e-15\n",
      "1.21680644307e-15\n",
      "9.42837229988e-16\n",
      "8.15980923055e-16\n",
      "1.452139601e-15\n",
      "1.41603044562e-15\n",
      "1.31905700641e-15\n",
      "1.31905700641e-15\n",
      "1.19245451825e-15\n",
      "1.06741136667e-15\n",
      "8.64538533273e-16\n",
      "5.69199922205e-16\n",
      "4.80882687334e-16\n",
      "6.46144582415e-16\n",
      "5.60274026091e-16\n",
      "4.33463013563e-16\n",
      "4.33463013563e-16\n",
      "2.59308388497e-16\n",
      "2.58936338134e-16\n",
      "1.61272493493e-16\n",
      "1.61272493493e-16\n",
      "1.05107523125e-16\n",
      "1.05107523125e-16\n",
      "1.48460477014e-16\n",
      "1.48460477014e-16\n",
      "3.93407143918e-17\n",
      "3.93407143918e-17\n",
      "7.37335470582e-17\n",
      "0.0\n",
      "0.0\n",
      "0.0\n",
      "0.0\n",
      "0.0\n",
      "0.0\n"
     ]
    }
   ],
   "source": [
    "eig_pairs = [(np.abs(eig_vals[i]), eig_vecs[:,i]) for i in range(len(eig_vals))]\n",
    "print('Eigenvalues in descending order:')\n",
    "for i in eig_pairs:\n",
    "    print(i[0])\n"
   ]
  },
  {
   "cell_type": "code",
   "execution_count": 202,
   "metadata": {},
   "outputs": [
    {
     "name": "stdout",
     "output_type": "stream",
     "text": [
      "[ 0.12238738  0.0567465   0.03715849  0.02917741  0.02605047  0.02370469\n",
      "  0.01982635]\n"
     ]
    }
   ],
   "source": [
    "pca = sklearnPCA(n_components=7)\n",
    "pca.fit_transform(X)\n",
    "print pca.explained_variance_ratio_\n"
   ]
  },
  {
   "cell_type": "code",
   "execution_count": 203,
   "metadata": {},
   "outputs": [
    {
     "data": {
      "image/png": "[encoded data removed]",
      "text/plain": [
       "<matplotlib.figure.Figure at 0x10faa0690>"
      ]
     },
     "metadata": {},
     "output_type": "display_data"
    }
   ],
   "source": [
    "#Explained variance\n",
    "pca = sklearnPCA().fit(X_std)\n",
    "plt.plot(np.cumsum(pca.explained_variance_ratio_))\n",
    "plt.xlabel('number of components')\n",
    "plt.ylabel('cumulative explained variance')\n",
    "plt.show()"
   ]
  },
  {
   "cell_type": "code",
   "execution_count": 204,
   "metadata": {},
   "outputs": [
    {
     "data": {
      "text/plain": [
       "(468, 468)"
      ]
     },
     "execution_count": 204,
     "metadata": {},
     "output_type": "execute_result"
    }
   ],
   "source": [
    "eig_vecs.shape"
   ]
  },
  {
   "cell_type": "code",
   "execution_count": 205,
   "metadata": {
    "collapsed": true
   },
   "outputs": [],
   "source": [
    "# planning to use top 5 components from PCA\n",
    "\n",
    "eig_pairs = [(np.abs(eig_vals[i]), eig_vecs[:,i]) for i in range(len(eig_vals))]\n",
    "matrix_w = np.hstack((eig_pairs[0][1].reshape(468,1),\n",
    "                      eig_pairs[1][1].reshape(468,1),\n",
    "                      eig_pairs[2][1].reshape(468,1),\n",
    "                      eig_pairs[3][1].reshape(468,1),\n",
    "                      eig_pairs[4][1].reshape(468,1)))"
   ]
  },
  {
   "cell_type": "code",
   "execution_count": 206,
   "metadata": {
    "collapsed": true
   },
   "outputs": [],
   "source": [
    "new_Y = X_std.dot(matrix_w)"
   ]
  },
  {
   "cell_type": "code",
   "execution_count": 207,
   "metadata": {},
   "outputs": [],
   "source": [
    "new_test = test_std.dot(matrix_w)"
   ]
  },
  {
   "cell_type": "code",
   "execution_count": 208,
   "metadata": {
    "collapsed": true
   },
   "outputs": [],
   "source": [
    "X_pca_5 = pd.DataFrame(new_Y, columns=['pca1','pca2','pca3','pca4','pca5'])"
   ]
  },
  {
   "cell_type": "code",
   "execution_count": 209,
   "metadata": {},
   "outputs": [
    {
     "data": {
      "text/html": [
       "<div>\n",
       "<style>\n",
       "    .dataframe thead tr:only-child th {\n",
       "        text-align: right;\n",
       "    }\n",
       "\n",
       "    .dataframe thead th {\n",
       "        text-align: left;\n",
       "    }\n",
       "\n",
       "    .dataframe tbody tr th {\n",
       "        vertical-align: top;\n",
       "    }\n",
       "</style>\n",
       "<table border=\"1\" class=\"dataframe\">\n",
       "  <thead>\n",
       "    <tr style=\"text-align: right;\">\n",
       "      <th></th>\n",
       "      <th>pca1</th>\n",
       "      <th>pca2</th>\n",
       "      <th>pca3</th>\n",
       "      <th>pca4</th>\n",
       "      <th>pca5</th>\n",
       "    </tr>\n",
       "  </thead>\n",
       "  <tbody>\n",
       "    <tr>\n",
       "      <th>0</th>\n",
       "      <td>(4.72298989+0j)</td>\n",
       "      <td>(1.51054024784+0j)</td>\n",
       "      <td>(1.99853447142+0j)</td>\n",
       "      <td>(-1.60773014072+0j)</td>\n",
       "      <td>(1.02871825485+0j)</td>\n",
       "    </tr>\n",
       "    <tr>\n",
       "      <th>1</th>\n",
       "      <td>(0.0453010581917+0j)</td>\n",
       "      <td>(-3.63127310146+0j)</td>\n",
       "      <td>(0.598621597797+0j)</td>\n",
       "      <td>(-1.02070456484+0j)</td>\n",
       "      <td>(0.0603370733082+0j)</td>\n",
       "    </tr>\n",
       "    <tr>\n",
       "      <th>2</th>\n",
       "      <td>(5.57734828786+0j)</td>\n",
       "      <td>(0.576046284469+0j)</td>\n",
       "      <td>(0.715355789885+0j)</td>\n",
       "      <td>(-2.82076680653+0j)</td>\n",
       "      <td>(0.516728940896+0j)</td>\n",
       "    </tr>\n",
       "    <tr>\n",
       "      <th>3</th>\n",
       "      <td>(-1.76043822966+0j)</td>\n",
       "      <td>(1.21382710146+0j)</td>\n",
       "      <td>(-1.05140056796+0j)</td>\n",
       "      <td>(-2.04313664074+0j)</td>\n",
       "      <td>(0.676324597061+0j)</td>\n",
       "    </tr>\n",
       "    <tr>\n",
       "      <th>4</th>\n",
       "      <td>(6.45518968592+0j)</td>\n",
       "      <td>(0.339067466928+0j)</td>\n",
       "      <td>(0.0892821604584+0j)</td>\n",
       "      <td>(-4.53857505395+0j)</td>\n",
       "      <td>(0.269109333675+0j)</td>\n",
       "    </tr>\n",
       "  </tbody>\n",
       "</table>\n",
       "</div>"
      ],
      "text/plain": [
       "                   pca1                 pca2                  pca3  \\\n",
       "0       (4.72298989+0j)   (1.51054024784+0j)    (1.99853447142+0j)   \n",
       "1  (0.0453010581917+0j)  (-3.63127310146+0j)   (0.598621597797+0j)   \n",
       "2    (5.57734828786+0j)  (0.576046284469+0j)   (0.715355789885+0j)   \n",
       "3   (-1.76043822966+0j)   (1.21382710146+0j)   (-1.05140056796+0j)   \n",
       "4    (6.45518968592+0j)  (0.339067466928+0j)  (0.0892821604584+0j)   \n",
       "\n",
       "                  pca4                  pca5  \n",
       "0  (-1.60773014072+0j)    (1.02871825485+0j)  \n",
       "1  (-1.02070456484+0j)  (0.0603370733082+0j)  \n",
       "2  (-2.82076680653+0j)   (0.516728940896+0j)  \n",
       "3  (-2.04313664074+0j)   (0.676324597061+0j)  \n",
       "4  (-4.53857505395+0j)   (0.269109333675+0j)  "
      ]
     },
     "execution_count": 209,
     "metadata": {},
     "output_type": "execute_result"
    }
   ],
   "source": [
    "X_pca_5.head()"
   ]
  },
  {
   "cell_type": "code",
   "execution_count": 210,
   "metadata": {},
   "outputs": [
    {
     "data": {
      "text/plain": [
       "(1460, 5)"
      ]
     },
     "execution_count": 210,
     "metadata": {},
     "output_type": "execute_result"
    }
   ],
   "source": [
    "X_pca_5.shape"
   ]
  },
  {
   "cell_type": "markdown",
   "metadata": {},
   "source": [
    "### Comparing two models\n",
    "* PCA based model\n",
    "* Non-PCA based, only with one hot encoded variables"
   ]
  },
  {
   "cell_type": "code",
   "execution_count": 211,
   "metadata": {},
   "outputs": [
    {
     "data": {
      "text/plain": [
       "(1460,)"
      ]
     },
     "execution_count": 211,
     "metadata": {},
     "output_type": "execute_result"
    }
   ],
   "source": [
    "y.shape"
   ]
  },
  {
   "cell_type": "code",
   "execution_count": 46,
   "metadata": {
    "collapsed": true
   },
   "outputs": [],
   "source": [
    "from sklearn.linear_model import ElasticNet, Lasso,  BayesianRidge, LassoLarsIC\n",
    "from sklearn.pipeline import make_pipeline\n",
    "from sklearn.preprocessing import RobustScaler\n",
    "from sklearn.kernel_ridge import KernelRidge\n",
    "import xgboost as xgb\n",
    "from sklearn.model_selection import KFold, cross_val_score, train_test_split\n",
    "from sklearn.metrics import mean_squared_error"
   ]
  },
  {
   "cell_type": "markdown",
   "metadata": {},
   "source": [
    "### Building Base Models"
   ]
  },
  {
   "cell_type": "code",
   "execution_count": 212,
   "metadata": {
    "collapsed": true
   },
   "outputs": [],
   "source": [
    "#Validation function\n",
    "n_folds = 5\n",
    "\n",
    "def rmsle_cv(model):\n",
    "    kf = KFold(n_folds, shuffle=True, random_state=42).get_n_splits(X_pca_5.values)\n",
    "    rmse= np.sqrt(-cross_val_score(model, X_pca_5.values, y, scoring=\"neg_mean_squared_error\", cv = kf))\n",
    "    return(rmse)\n"
   ]
  },
  {
   "cell_type": "code",
   "execution_count": 213,
   "metadata": {
    "collapsed": true
   },
   "outputs": [],
   "source": [
    "# Lasso\n",
    "\n",
    "lasso = make_pipeline(RobustScaler(), Lasso(alpha =0.0005, random_state=1))"
   ]
  },
  {
   "cell_type": "code",
   "execution_count": 214,
   "metadata": {
    "collapsed": true
   },
   "outputs": [],
   "source": [
    "# ElasticNet\n",
    "\n",
    "ENet = make_pipeline(RobustScaler(), ElasticNet(alpha=0.0005, l1_ratio=.9, random_state=3))"
   ]
  },
  {
   "cell_type": "code",
   "execution_count": 215,
   "metadata": {
    "collapsed": true
   },
   "outputs": [],
   "source": [
    "# Kernel Ridge Regression\n",
    "\n",
    "KRR = KernelRidge(alpha=0.6, kernel='polynomial', degree=2, coef0=2.5)"
   ]
  },
  {
   "cell_type": "code",
   "execution_count": 216,
   "metadata": {
    "collapsed": true
   },
   "outputs": [],
   "source": [
    "# xgboost\n",
    "\n",
    "model_xgb = xgb.XGBRegressor(colsample_bytree=0.4603, gamma=0.0468, \n",
    "                             learning_rate=0.05, max_depth=3, \n",
    "                             min_child_weight=1.7817, n_estimators=2200,\n",
    "                             reg_alpha=0.4640, reg_lambda=0.8571,\n",
    "                             subsample=0.5213, silent=1,\n",
    "                             random_state =7, nthread = -1)"
   ]
  },
  {
   "cell_type": "markdown",
   "metadata": {},
   "source": [
    "#### Models for the PCA data "
   ]
  },
  {
   "cell_type": "code",
   "execution_count": 217,
   "metadata": {},
   "outputs": [
    {
     "name": "stdout",
     "output_type": "stream",
     "text": [
      "\n",
      "Lasso score: 0.0065 (0.0004)\n",
      "\n"
     ]
    }
   ],
   "source": [
    "score = rmsle_cv(lasso)\n",
    "\n",
    "print(\"\\nLasso score: {:.4f} ({:.4f})\\n\".format(score.mean(), score.std()))"
   ]
  },
  {
   "cell_type": "code",
   "execution_count": 218,
   "metadata": {},
   "outputs": [
    {
     "name": "stdout",
     "output_type": "stream",
     "text": [
      "ElasticNet score: 0.0065 (0.0004)\n",
      "\n"
     ]
    }
   ],
   "source": [
    "score = rmsle_cv(ENet)\n",
    "print(\"ElasticNet score: {:.4f} ({:.4f})\\n\".format(score.mean(), score.std()))"
   ]
  },
  {
   "cell_type": "code",
   "execution_count": 219,
   "metadata": {},
   "outputs": [
    {
     "name": "stdout",
     "output_type": "stream",
     "text": [
      "Kernel Ridge score: 0.0060 (0.0004)\n",
      "\n"
     ]
    }
   ],
   "source": [
    "score = rmsle_cv(KRR)\n",
    "print(\"Kernel Ridge score: {:.4f} ({:.4f})\\n\".format(score.mean(), score.std()))"
   ]
  },
  {
   "cell_type": "code",
   "execution_count": 220,
   "metadata": {},
   "outputs": [
    {
     "name": "stdout",
     "output_type": "stream",
     "text": [
      "Xgboost score: 0.0133 (0.0007)\n",
      "\n"
     ]
    }
   ],
   "source": [
    "score = rmsle_cv(model_xgb)\n",
    "print(\"Xgboost score: {:.4f} ({:.4f})\\n\".format(score.mean(), score.std()))"
   ]
  },
  {
   "cell_type": "markdown",
   "metadata": {},
   "source": [
    "#### Models for the original data"
   ]
  },
  {
   "cell_type": "code",
   "execution_count": 56,
   "metadata": {
    "collapsed": true
   },
   "outputs": [],
   "source": [
    "#Validation function\n",
    "n_folds = 5\n",
    "\n",
    "def rmsle_cv(model):\n",
    "    kf = KFold(n_folds, shuffle=True, random_state=42).get_n_splits(train_df_2.values)\n",
    "    rmse= np.sqrt(-cross_val_score(model, train_df_2.values, y, scoring=\"neg_mean_squared_error\", cv = kf))\n",
    "    return(rmse)\n"
   ]
  },
  {
   "cell_type": "code",
   "execution_count": 57,
   "metadata": {},
   "outputs": [
    {
     "name": "stdout",
     "output_type": "stream",
     "text": [
      "\n",
      "Lasso score: 0.0006 (0.0000)\n",
      "\n"
     ]
    }
   ],
   "source": [
    "score = rmsle_cv(lasso)\n",
    "\n",
    "print(\"\\nLasso score: {:.4f} ({:.4f})\\n\".format(score.mean(), score.std()))"
   ]
  },
  {
   "cell_type": "code",
   "execution_count": 58,
   "metadata": {},
   "outputs": [
    {
     "name": "stdout",
     "output_type": "stream",
     "text": [
      "ElasticNet score: 0.0006 (0.0001)\n",
      "\n"
     ]
    }
   ],
   "source": [
    "score = rmsle_cv(ENet)\n",
    "print(\"ElasticNet score: {:.4f} ({:.4f})\\n\".format(score.mean(), score.std()))"
   ]
  },
  {
   "cell_type": "code",
   "execution_count": 59,
   "metadata": {},
   "outputs": [
    {
     "name": "stdout",
     "output_type": "stream",
     "text": [
      "Xgboost score: 0.0147 (0.0014)\n",
      "\n"
     ]
    }
   ],
   "source": [
    "score = rmsle_cv(model_xgb)\n",
    "print(\"Xgboost score: {:.4f} ({:.4f})\\n\".format(score.mean(), score.std()))"
   ]
  },
  {
   "cell_type": "markdown",
   "metadata": {
    "collapsed": true
   },
   "source": [
    "### Building a class to create stacked model"
   ]
  },
  {
   "cell_type": "code",
   "execution_count": 61,
   "metadata": {
    "collapsed": true
   },
   "outputs": [],
   "source": [
    "from sklearn.base import BaseEstimator, TransformerMixin, RegressorMixin, clone\n",
    "from sklearn.model_selection import KFold, cross_val_score, train_test_split"
   ]
  },
  {
   "cell_type": "code",
   "execution_count": 62,
   "metadata": {},
   "outputs": [],
   "source": [
    "class AveragingModels(BaseEstimator, RegressorMixin, TransformerMixin):\n",
    "    def __init__(self, models):\n",
    "        self.models = models\n",
    "        \n",
    "    def fit(self, X, y):\n",
    "        self.models_ = [clone(x) for x in self.models]\n",
    "        \n",
    "        for model in self.models_:\n",
    "            model.fit(X,y)\n",
    "            \n",
    "        return self\n",
    "\n",
    "    def predict(self, X):\n",
    "        predictions = np.column_stack([model.predict(X) for model in self.models_])\n",
    "        \n",
    "        return np.mean(predictions, axis=1)"
   ]
  },
  {
   "cell_type": "code",
   "execution_count": 221,
   "metadata": {},
   "outputs": [
    {
     "name": "stdout",
     "output_type": "stream",
     "text": [
      " Averaged base models score: 0.0070 (0.0004)\n",
      "\n"
     ]
    }
   ],
   "source": [
    "AveragedModel = AveragingModels(models = (ENet, model_xgb, KRR, lasso))\n",
    "\n",
    "score = rmsle_cv(AveragedModel)\n",
    "print(\" Averaged base models score: {:.4f} ({:.4f})\\n\".format(score.mean(), score.std()))"
   ]
  },
  {
   "cell_type": "code",
   "execution_count": 69,
   "metadata": {},
   "outputs": [
    {
     "name": "stdout",
     "output_type": "stream",
     "text": [
      " Averaged base models score: 0.0200 (0.0014)\n",
      "\n"
     ]
    }
   ],
   "source": [
    "AveragedModel = AveragingModels(models = (ENet, model_xgb, KRR, lasso))\n",
    "\n",
    "score = rmsle_cv(AveragedModel)\n",
    "print(\" Averaged base models score: {:.4f} ({:.4f})\\n\".format(score.mean(), score.std()))"
   ]
  },
  {
   "cell_type": "code",
   "execution_count": 225,
   "metadata": {
    "collapsed": true
   },
   "outputs": [],
   "source": [
    "def rmsle(y, y_pred):\n",
    "    return np.sqrt(mean_squared_error(y, y_pred))"
   ]
  },
  {
   "cell_type": "code",
   "execution_count": 226,
   "metadata": {},
   "outputs": [
    {
     "name": "stdout",
     "output_type": "stream",
     "text": [
      "0.0126548340483\n"
     ]
    }
   ],
   "source": [
    "model_xgb.fit(train, y_train)\n",
    "xgb_train_pred = model_xgb.predict(train)\n",
    "xgb_pred = np.expm1(model_xgb.predict(test))\n",
    "print(rmsle(y_train, xgb_train_pred))"
   ]
  },
  {
   "cell_type": "code",
   "execution_count": 229,
   "metadata": {},
   "outputs": [],
   "source": [
    "sub = pd.DataFrame()\n",
    "sub['Id'] = test_ID\n",
    "sub['SalePrice'] = xgb_pred\n",
    "sub.to_csv('submission.csv',index=False)"
   ]
  },
  {
   "cell_type": "code",
   "execution_count": 230,
   "metadata": {},
   "outputs": [
    {
     "name": "stdout",
     "output_type": "stream",
     "text": [
      "data_description.txt      submission.csv            train.csv\r\n",
      "sample_submission.csv     test.csv                  train.csv.gz\r\n",
      "sample_submission.csv.gz  test.csv.gz\r\n"
     ]
    }
   ],
   "source": [
    "%ls"
   ]
  },
  {
   "cell_type": "code",
   "execution_count": 231,
   "metadata": {},
   "outputs": [
    {
     "data": {
      "text/plain": [
       "u'/Users/rachit/.kaggle/competitions/house-prices-advanced-regression-techniques'"
      ]
     },
     "execution_count": 231,
     "metadata": {},
     "output_type": "execute_result"
    }
   ],
   "source": [
    "%pwd"
   ]
  },
  {
   "cell_type": "code",
   "execution_count": null,
   "metadata": {
    "collapsed": true
   },
   "outputs": [],
   "source": []
  }
 ],
 "metadata": {
  "kernelspec": {
   "display_name": "Python 2",
   "language": "python",
   "name": "python2"
  },
  "language_info": {
   "codemirror_mode": {
    "name": "ipython",
    "version": 2
   },
   "file_extension": ".py",
   "mimetype": "text/x-python",
   "name": "python",
   "nbconvert_exporter": "python",
   "pygments_lexer": "ipython2",
   "version": "2.7.14"
  }
 },
 "nbformat": 4,
 "nbformat_minor": 2
}
