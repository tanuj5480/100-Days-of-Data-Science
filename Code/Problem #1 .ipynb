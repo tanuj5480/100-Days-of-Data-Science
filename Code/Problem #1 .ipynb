{
 "cells": [
  {
   "cell_type": "markdown",
   "metadata": {},
   "source": [
    "## Problem #1\n",
    "### Kaggle - House Prices: Advanced Regression Techniques "
   ]
  },
  {
   "cell_type": "markdown",
   "metadata": {},
   "source": [
    "After installing the API to download data from Kaggle"
   ]
  },
  {
   "cell_type": "code",
   "execution_count": 1,
   "metadata": {},
   "outputs": [
    {
     "name": "stdout",
     "output_type": "stream",
     "text": [
      "/Users/rachit/.kaggle/competitions/house-prices-advanced-regression-techniques\n"
     ]
    }
   ],
   "source": [
    "%cd ~/.kaggle/competitions/house-prices-advanced-regression-techniques"
   ]
  },
  {
   "cell_type": "code",
   "execution_count": 2,
   "metadata": {},
   "outputs": [
    {
     "name": "stdout",
     "output_type": "stream",
     "text": [
      "data_description.txt      test.csv                  train.csv.gz\r\n",
      "sample_submission.csv     test.csv.gz\r\n",
      "sample_submission.csv.gz  train.csv\r\n"
     ]
    }
   ],
   "source": [
    "%ls"
   ]
  },
  {
   "cell_type": "code",
   "execution_count": 3,
   "metadata": {
    "collapsed": true
   },
   "outputs": [],
   "source": [
    "import pandas as pd\n",
    "import numpy as np\n",
    "import seaborn as sns\n",
    "import matplotlib.pyplot as plt\n",
    "\n",
    "%matplotlib inline"
   ]
  },
  {
   "cell_type": "code",
   "execution_count": 4,
   "metadata": {
    "collapsed": true
   },
   "outputs": [],
   "source": [
    "train_df = pd.read_csv('train.csv')\n",
    "test_df = pd.read_csv('test.csv')"
   ]
  },
  {
   "cell_type": "code",
   "execution_count": 5,
   "metadata": {},
   "outputs": [
    {
     "data": {
      "text/html": [
       "<div>\n",
       "<style>\n",
       "    .dataframe thead tr:only-child th {\n",
       "        text-align: right;\n",
       "    }\n",
       "\n",
       "    .dataframe thead th {\n",
       "        text-align: left;\n",
       "    }\n",
       "\n",
       "    .dataframe tbody tr th {\n",
       "        vertical-align: top;\n",
       "    }\n",
       "</style>\n",
       "<table border=\"1\" class=\"dataframe\">\n",
       "  <thead>\n",
       "    <tr style=\"text-align: right;\">\n",
       "      <th></th>\n",
       "      <th>Id</th>\n",
       "      <th>MSSubClass</th>\n",
       "      <th>MSZoning</th>\n",
       "      <th>LotFrontage</th>\n",
       "      <th>LotArea</th>\n",
       "      <th>Street</th>\n",
       "      <th>Alley</th>\n",
       "      <th>LotShape</th>\n",
       "      <th>LandContour</th>\n",
       "      <th>Utilities</th>\n",
       "      <th>...</th>\n",
       "      <th>PoolArea</th>\n",
       "      <th>PoolQC</th>\n",
       "      <th>Fence</th>\n",
       "      <th>MiscFeature</th>\n",
       "      <th>MiscVal</th>\n",
       "      <th>MoSold</th>\n",
       "      <th>YrSold</th>\n",
       "      <th>SaleType</th>\n",
       "      <th>SaleCondition</th>\n",
       "      <th>SalePrice</th>\n",
       "    </tr>\n",
       "  </thead>\n",
       "  <tbody>\n",
       "    <tr>\n",
       "      <th>0</th>\n",
       "      <td>1</td>\n",
       "      <td>60</td>\n",
       "      <td>RL</td>\n",
       "      <td>65.0</td>\n",
       "      <td>8450</td>\n",
       "      <td>Pave</td>\n",
       "      <td>NaN</td>\n",
       "      <td>Reg</td>\n",
       "      <td>Lvl</td>\n",
       "      <td>AllPub</td>\n",
       "      <td>...</td>\n",
       "      <td>0</td>\n",
       "      <td>NaN</td>\n",
       "      <td>NaN</td>\n",
       "      <td>NaN</td>\n",
       "      <td>0</td>\n",
       "      <td>2</td>\n",
       "      <td>2008</td>\n",
       "      <td>WD</td>\n",
       "      <td>Normal</td>\n",
       "      <td>208500</td>\n",
       "    </tr>\n",
       "    <tr>\n",
       "      <th>1</th>\n",
       "      <td>2</td>\n",
       "      <td>20</td>\n",
       "      <td>RL</td>\n",
       "      <td>80.0</td>\n",
       "      <td>9600</td>\n",
       "      <td>Pave</td>\n",
       "      <td>NaN</td>\n",
       "      <td>Reg</td>\n",
       "      <td>Lvl</td>\n",
       "      <td>AllPub</td>\n",
       "      <td>...</td>\n",
       "      <td>0</td>\n",
       "      <td>NaN</td>\n",
       "      <td>NaN</td>\n",
       "      <td>NaN</td>\n",
       "      <td>0</td>\n",
       "      <td>5</td>\n",
       "      <td>2007</td>\n",
       "      <td>WD</td>\n",
       "      <td>Normal</td>\n",
       "      <td>181500</td>\n",
       "    </tr>\n",
       "    <tr>\n",
       "      <th>2</th>\n",
       "      <td>3</td>\n",
       "      <td>60</td>\n",
       "      <td>RL</td>\n",
       "      <td>68.0</td>\n",
       "      <td>11250</td>\n",
       "      <td>Pave</td>\n",
       "      <td>NaN</td>\n",
       "      <td>IR1</td>\n",
       "      <td>Lvl</td>\n",
       "      <td>AllPub</td>\n",
       "      <td>...</td>\n",
       "      <td>0</td>\n",
       "      <td>NaN</td>\n",
       "      <td>NaN</td>\n",
       "      <td>NaN</td>\n",
       "      <td>0</td>\n",
       "      <td>9</td>\n",
       "      <td>2008</td>\n",
       "      <td>WD</td>\n",
       "      <td>Normal</td>\n",
       "      <td>223500</td>\n",
       "    </tr>\n",
       "    <tr>\n",
       "      <th>3</th>\n",
       "      <td>4</td>\n",
       "      <td>70</td>\n",
       "      <td>RL</td>\n",
       "      <td>60.0</td>\n",
       "      <td>9550</td>\n",
       "      <td>Pave</td>\n",
       "      <td>NaN</td>\n",
       "      <td>IR1</td>\n",
       "      <td>Lvl</td>\n",
       "      <td>AllPub</td>\n",
       "      <td>...</td>\n",
       "      <td>0</td>\n",
       "      <td>NaN</td>\n",
       "      <td>NaN</td>\n",
       "      <td>NaN</td>\n",
       "      <td>0</td>\n",
       "      <td>2</td>\n",
       "      <td>2006</td>\n",
       "      <td>WD</td>\n",
       "      <td>Abnorml</td>\n",
       "      <td>140000</td>\n",
       "    </tr>\n",
       "    <tr>\n",
       "      <th>4</th>\n",
       "      <td>5</td>\n",
       "      <td>60</td>\n",
       "      <td>RL</td>\n",
       "      <td>84.0</td>\n",
       "      <td>14260</td>\n",
       "      <td>Pave</td>\n",
       "      <td>NaN</td>\n",
       "      <td>IR1</td>\n",
       "      <td>Lvl</td>\n",
       "      <td>AllPub</td>\n",
       "      <td>...</td>\n",
       "      <td>0</td>\n",
       "      <td>NaN</td>\n",
       "      <td>NaN</td>\n",
       "      <td>NaN</td>\n",
       "      <td>0</td>\n",
       "      <td>12</td>\n",
       "      <td>2008</td>\n",
       "      <td>WD</td>\n",
       "      <td>Normal</td>\n",
       "      <td>250000</td>\n",
       "    </tr>\n",
       "  </tbody>\n",
       "</table>\n",
       "<p>5 rows × 81 columns</p>\n",
       "</div>"
      ],
      "text/plain": [
       "   Id  MSSubClass MSZoning  LotFrontage  LotArea Street Alley LotShape  \\\n",
       "0   1          60       RL         65.0     8450   Pave   NaN      Reg   \n",
       "1   2          20       RL         80.0     9600   Pave   NaN      Reg   \n",
       "2   3          60       RL         68.0    11250   Pave   NaN      IR1   \n",
       "3   4          70       RL         60.0     9550   Pave   NaN      IR1   \n",
       "4   5          60       RL         84.0    14260   Pave   NaN      IR1   \n",
       "\n",
       "  LandContour Utilities    ...     PoolArea PoolQC Fence MiscFeature MiscVal  \\\n",
       "0         Lvl    AllPub    ...            0    NaN   NaN         NaN       0   \n",
       "1         Lvl    AllPub    ...            0    NaN   NaN         NaN       0   \n",
       "2         Lvl    AllPub    ...            0    NaN   NaN         NaN       0   \n",
       "3         Lvl    AllPub    ...            0    NaN   NaN         NaN       0   \n",
       "4         Lvl    AllPub    ...            0    NaN   NaN         NaN       0   \n",
       "\n",
       "  MoSold YrSold  SaleType  SaleCondition  SalePrice  \n",
       "0      2   2008        WD         Normal     208500  \n",
       "1      5   2007        WD         Normal     181500  \n",
       "2      9   2008        WD         Normal     223500  \n",
       "3      2   2006        WD        Abnorml     140000  \n",
       "4     12   2008        WD         Normal     250000  \n",
       "\n",
       "[5 rows x 81 columns]"
      ]
     },
     "execution_count": 5,
     "metadata": {},
     "output_type": "execute_result"
    }
   ],
   "source": [
    "train_df.head()"
   ]
  },
  {
   "cell_type": "code",
   "execution_count": 6,
   "metadata": {},
   "outputs": [
    {
     "data": {
      "image/png": "[encoded data removed]",
      "text/plain": [
       "<matplotlib.figure.Figure at 0x10cf75550>"
      ]
     },
     "metadata": {},
     "output_type": "display_data"
    }
   ],
   "source": [
    "# plotting the dependant variable\n",
    "\n",
    "plt.figure(figsize=(8,6))\n",
    "plt.scatter(range(train_df.shape[0]), np.sort(train_df.SalePrice.values))\n",
    "plt.xlabel('index', fontsize=12)\n",
    "plt.ylabel('SalePrice', fontsize=12)\n",
    "plt.show()"
   ]
  },
  {
   "cell_type": "markdown",
   "metadata": {},
   "source": [
    "### Dependant Variable Analysis"
   ]
  },
  {
   "cell_type": "code",
   "execution_count": 7,
   "metadata": {
    "collapsed": true
   },
   "outputs": [],
   "source": [
    "from scipy import stats\n",
    "from scipy.stats import norm, skew #for some statistics"
   ]
  },
  {
   "cell_type": "code",
   "execution_count": 8,
   "metadata": {},
   "outputs": [
    {
     "name": "stdout",
     "output_type": "stream",
     "text": [
      "\n",
      " mu = 180921.20 and sigma = 79415.29\n",
      "\n"
     ]
    },
    {
     "data": {
      "image/png": "[encoded data removed]",
      "text/plain": [
       "<matplotlib.figure.Figure at 0x10f90d210>"
      ]
     },
     "metadata": {},
     "output_type": "display_data"
    },
    {
     "data": {
      "image/png": "[encoded data removed]",
      "text/plain": [
       "<matplotlib.figure.Figure at 0x10f90d2d0>"
      ]
     },
     "metadata": {},
     "output_type": "display_data"
    }
   ],
   "source": [
    "sns.distplot(train_df['SalePrice'], fit=norm);\n",
    "\n",
    "(mu, sigma) = norm.fit(train_df['SalePrice'])\n",
    "print ('\\n mu = {:.2f} and sigma = {:.2f}\\n'.format(mu, sigma))\n",
    "\n",
    "\n",
    "# plot the distribution\n",
    "plt.legend(['Normal dist. ($\\mu=${:.2f} and $\\sigma=${:.2f} )'.format(mu,sigma)])\n",
    "\n",
    "# also creating the Q-Q plot\n",
    "\n",
    "fig=plt.figure()\n",
    "res = stats.probplot(train_df['SalePrice'], plot=plt)\n",
    "plt.show()"
   ]
  },
  {
   "cell_type": "markdown",
   "metadata": {},
   "source": [
    "Dependant variable has right skew, and since linear models require normoal distribution, will apply transformation in the next step"
   ]
  },
  {
   "cell_type": "markdown",
   "metadata": {},
   "source": [
    "#### Log transformation of the dependant variable"
   ]
  },
  {
   "cell_type": "code",
   "execution_count": 9,
   "metadata": {
    "collapsed": true
   },
   "outputs": [],
   "source": [
    "# using numpy's log1p, which is log(1+x) on the column\n",
    "\n",
    "train_df[\"ln_SalePrice\"] = np.log1p(train_df[\"SalePrice\"])"
   ]
  },
  {
   "cell_type": "code",
   "execution_count": 10,
   "metadata": {},
   "outputs": [
    {
     "data": {
      "image/png": "[encoded data removed]",
      "text/plain": [
       "<matplotlib.figure.Figure at 0x10f9e3950>"
      ]
     },
     "metadata": {},
     "output_type": "display_data"
    },
    {
     "data": {
      "image/png": "[encoded data removed]",
      "text/plain": [
       "<matplotlib.figure.Figure at 0x10fb61c10>"
      ]
     },
     "metadata": {},
     "output_type": "display_data"
    }
   ],
   "source": [
    "# checking the new distribution\n",
    "(mu, sigma) = norm.fit(train_df['ln_SalePrice'])\n",
    "sns.distplot(train_df['ln_SalePrice'], fit=norm)\n",
    "\n",
    "plt.legend([('Norm dist. ($\\mu=${:.2f} and $\\sigma=${:.2f}').format(mu, sigma)])\n",
    "\n",
    "fig = plt.figure()\n",
    "res = stats.probplot(train_df['ln_SalePrice'], plot=plt)\n",
    "plt.show()\n",
    "\n"
   ]
  },
  {
   "cell_type": "code",
   "execution_count": 98,
   "metadata": {
    "collapsed": true
   },
   "outputs": [],
   "source": [
    "ntrain = train_df.shape[0]\n",
    "ntest = test_df.shape[0]\n",
    "\n",
    "y_train = train_df.ln_SalePrice.values\n",
    "all_data = pd.concat((train_df, test_df)).reset_index(drop=True)\n",
    "\n",
    "all_data.drop(['SalePrice', 'ln_SalePrice'], axis=1, inplace=True)"
   ]
  },
  {
   "cell_type": "code",
   "execution_count": 99,
   "metadata": {},
   "outputs": [
    {
     "data": {
      "text/plain": [
       "((2919, 76), (1460, 78), (1459, 76))"
      ]
     },
     "execution_count": 99,
     "metadata": {},
     "output_type": "execute_result"
    }
   ],
   "source": [
    "all_data.shape, train_df.shape, test_df.shape"
   ]
  },
  {
   "cell_type": "markdown",
   "metadata": {},
   "source": [
    "#### Fill Rate Analysis"
   ]
  },
  {
   "cell_type": "code",
   "execution_count": 100,
   "metadata": {},
   "outputs": [
    {
     "data": {
      "image/png": "[encoded data removed]",
      "text/plain": [
       "<matplotlib.figure.Figure at 0x10f93c3d0>"
      ]
     },
     "metadata": {},
     "output_type": "display_data"
    }
   ],
   "source": [
    "missing_df = all_data.isnull().sum(axis=0).reset_index()\n",
    "missing_df.columns = ['column_name', 'missing_count']\n",
    "missing_df = missing_df.loc[missing_df['missing_count']>0]\n",
    "missing_df = missing_df.sort_values(by='missing_count')\n",
    "\n",
    "ind = np.arange(missing_df.shape[0])\n",
    "width = 0.9\n",
    "fig, ax = plt.subplots(figsize=(12,18))\n",
    "rects = ax.barh(ind, missing_df.missing_count.values, color='blue')\n",
    "ax.set_yticks(ind)\n",
    "ax.set_yticklabels(missing_df.column_name.values, rotation='horizontal')\n",
    "ax.set_xlabel(\"Count of missing values\")\n",
    "ax.set_title(\"Number of missing values in each column\")\n",
    "plt.show()\n"
   ]
  },
  {
   "cell_type": "code",
   "execution_count": 122,
   "metadata": {},
   "outputs": [
    {
     "data": {
      "text/html": [
       "<div>\n",
       "<style>\n",
       "    .dataframe thead tr:only-child th {\n",
       "        text-align: right;\n",
       "    }\n",
       "\n",
       "    .dataframe thead th {\n",
       "        text-align: left;\n",
       "    }\n",
       "\n",
       "    .dataframe tbody tr th {\n",
       "        vertical-align: top;\n",
       "    }\n",
       "</style>\n",
       "<table border=\"1\" class=\"dataframe\">\n",
       "  <thead>\n",
       "    <tr style=\"text-align: right;\">\n",
       "      <th></th>\n",
       "      <th>column_name</th>\n",
       "      <th>missing_count</th>\n",
       "      <th>missing_ratio</th>\n",
       "    </tr>\n",
       "  </thead>\n",
       "  <tbody>\n",
       "  </tbody>\n",
       "</table>\n",
       "</div>"
      ],
      "text/plain": [
       "Empty DataFrame\n",
       "Columns: [column_name, missing_count, missing_ratio]\n",
       "Index: []"
      ]
     },
     "execution_count": 122,
     "metadata": {},
     "output_type": "execute_result"
    }
   ],
   "source": [
    "# Can drop the below variables since there is more than 80% missing data\n",
    "\n",
    "missing_df = all_data_2.isnull().sum(axis=0).reset_index()\n",
    "missing_df.columns = ['column_name', 'missing_count']\n",
    "missing_df['missing_ratio'] = missing_df['missing_count'] / all_data.shape[0]\n",
    "missing_df.loc[missing_df['missing_ratio']>0.80]"
   ]
  },
  {
   "cell_type": "code",
   "execution_count": 13,
   "metadata": {
    "collapsed": true
   },
   "outputs": [],
   "source": [
    "cols_to_drop = missing_df.loc[missing_df['missing_ratio']>0.80]\n",
    "lst_var_to_drop = list(cols_to_drop.column_name.values)\n",
    "\n",
    "train_df.drop(lst_var_to_drop, axis=1, inplace=True)"
   ]
  },
  {
   "cell_type": "code",
   "execution_count": 70,
   "metadata": {
    "collapsed": true
   },
   "outputs": [],
   "source": [
    "test_df.drop(lst_var_to_drop, axis=1, inplace=True)"
   ]
  },
  {
   "cell_type": "code",
   "execution_count": 102,
   "metadata": {
    "collapsed": true
   },
   "outputs": [],
   "source": [
    "dtype_df = all_data.dtypes.reset_index()\n",
    "dtype_df.columns = [\"Count\", \"Column Type\"]"
   ]
  },
  {
   "cell_type": "code",
   "execution_count": 103,
   "metadata": {},
   "outputs": [
    {
     "data": {
      "text/html": [
       "<div>\n",
       "<style>\n",
       "    .dataframe thead tr:only-child th {\n",
       "        text-align: right;\n",
       "    }\n",
       "\n",
       "    .dataframe thead th {\n",
       "        text-align: left;\n",
       "    }\n",
       "\n",
       "    .dataframe tbody tr th {\n",
       "        vertical-align: top;\n",
       "    }\n",
       "</style>\n",
       "<table border=\"1\" class=\"dataframe\">\n",
       "  <thead>\n",
       "    <tr style=\"text-align: right;\">\n",
       "      <th></th>\n",
       "      <th>Column Type</th>\n",
       "      <th>Count</th>\n",
       "    </tr>\n",
       "  </thead>\n",
       "  <tbody>\n",
       "    <tr>\n",
       "      <th>0</th>\n",
       "      <td>float64</td>\n",
       "      <td>33</td>\n",
       "    </tr>\n",
       "    <tr>\n",
       "      <th>1</th>\n",
       "      <td>object</td>\n",
       "      <td>43</td>\n",
       "    </tr>\n",
       "  </tbody>\n",
       "</table>\n",
       "</div>"
      ],
      "text/plain": [
       "  Column Type  Count\n",
       "0     float64     33\n",
       "1      object     43"
      ]
     },
     "execution_count": 103,
     "metadata": {},
     "output_type": "execute_result"
    }
   ],
   "source": [
    "dtype_df.groupby('Column Type').count().reset_index()"
   ]
  },
  {
   "cell_type": "code",
   "execution_count": 104,
   "metadata": {
    "collapsed": true
   },
   "outputs": [],
   "source": [
    "# seperating out the categorical variables\n",
    "\n",
    "cat_var = dtype_df[dtype_df['Column Type'] == 'object'].Count.values\n",
    "cont_var = dtype_df[dtype_df['Column Type'] == 'int64'].Count.values"
   ]
  },
  {
   "cell_type": "code",
   "execution_count": 105,
   "metadata": {},
   "outputs": [
    {
     "data": {
      "text/plain": [
       "(array(['BldgType', 'BsmtCond', 'BsmtExposure', 'BsmtFinType1',\n",
       "        'BsmtFinType2', 'BsmtQual', 'CentralAir', 'Condition1',\n",
       "        'Condition2', 'Electrical', 'ExterCond', 'ExterQual', 'Exterior1st',\n",
       "        'Exterior2nd', 'FireplaceQu', 'Foundation', 'Functional',\n",
       "        'GarageCond', 'GarageFinish', 'GarageQual', 'GarageType', 'Heating',\n",
       "        'HeatingQC', 'HouseStyle', 'KitchenQual', 'LandContour',\n",
       "        'LandSlope', 'LotConfig', 'LotShape', 'MSZoning', 'MasVnrType',\n",
       "        'MoSold', 'Neighborhood', 'PavedDrive', 'RoofMatl', 'RoofStyle',\n",
       "        'SaleCondition', 'SaleType', 'Street', 'Utilities', 'YearBuilt',\n",
       "        'YearRemodAdd', 'YrSold'], dtype=object), array([], dtype=object))"
      ]
     },
     "execution_count": 105,
     "metadata": {},
     "output_type": "execute_result"
    }
   ],
   "source": [
    "cat_var, cont_var"
   ]
  },
  {
   "cell_type": "code",
   "execution_count": 106,
   "metadata": {
    "collapsed": true
   },
   "outputs": [],
   "source": [
    "# Few of the above variables are really categorical but not continous, so transforming them into the same\n",
    "\n",
    "#Year and month sold are transformed into categorical features.\n",
    "all_data['YrSold'] = all_data['YrSold'].astype(str)\n",
    "all_data['MoSold'] = all_data['MoSold'].astype(str)\n",
    "all_data['YearBuilt'] = all_data['YearBuilt'].astype(str)\n",
    "all_data['YearRemodAdd'] = all_data['YearRemodAdd'].astype(str)\n",
    "all_data['YearRemodAdd'] = all_data['YearRemodAdd'].astype(str)"
   ]
  },
  {
   "cell_type": "code",
   "execution_count": 71,
   "metadata": {
    "collapsed": true
   },
   "outputs": [],
   "source": [
    "train_df['YrSold'] = train_df['YrSold'].astype(str)\n",
    "train_df['MoSold'] = train_df['MoSold'].astype(str)\n",
    "train_df['YearBuilt'] = train_df['YearBuilt'].astype(str)\n",
    "train_df['YearRemodAdd'] = train_df['YearRemodAdd'].astype(str)\n",
    "train_df['YearRemodAdd'] = train_df['YearRemodAdd'].astype(str)"
   ]
  },
  {
   "cell_type": "markdown",
   "metadata": {},
   "source": [
    "### Missing Value Imputation"
   ]
  },
  {
   "cell_type": "code",
   "execution_count": 107,
   "metadata": {
    "collapsed": true
   },
   "outputs": [],
   "source": [
    "# categorical variables: to replace with the mode for that variable\n",
    "\n",
    "for var in cat_var:\n",
    "    all_data[var].fillna(all_data[var].mode()[0], inplace=True)\n",
    "    \n",
    "# to further improve the model, we would have to go through at variable level and impute values accrodingly"
   ]
  },
  {
   "cell_type": "code",
   "execution_count": 72,
   "metadata": {
    "collapsed": true
   },
   "outputs": [],
   "source": [
    "for var in cat_var:\n",
    "    test_df[var].fillna(test_df[var].mode()[0], inplace=True)\n"
   ]
  },
  {
   "cell_type": "markdown",
   "metadata": {},
   "source": [
    "#### Skew check in numerical features"
   ]
  },
  {
   "cell_type": "code",
   "execution_count": 108,
   "metadata": {},
   "outputs": [
    {
     "name": "stdout",
     "output_type": "stream",
     "text": [
      "\n",
      "Skew in numerical features: \n",
      "\n"
     ]
    },
    {
     "data": {
      "text/html": [
       "<div>\n",
       "<style>\n",
       "    .dataframe thead tr:only-child th {\n",
       "        text-align: right;\n",
       "    }\n",
       "\n",
       "    .dataframe thead th {\n",
       "        text-align: left;\n",
       "    }\n",
       "\n",
       "    .dataframe tbody tr th {\n",
       "        vertical-align: top;\n",
       "    }\n",
       "</style>\n",
       "<table border=\"1\" class=\"dataframe\">\n",
       "  <thead>\n",
       "    <tr style=\"text-align: right;\">\n",
       "      <th></th>\n",
       "      <th>Skew</th>\n",
       "    </tr>\n",
       "  </thead>\n",
       "  <tbody>\n",
       "    <tr>\n",
       "      <th>PoolArea</th>\n",
       "      <td>20.334726</td>\n",
       "    </tr>\n",
       "    <tr>\n",
       "      <th>3SsnPorch</th>\n",
       "      <td>11.173582</td>\n",
       "    </tr>\n",
       "    <tr>\n",
       "      <th>LowQualFinSF</th>\n",
       "      <td>10.851921</td>\n",
       "    </tr>\n",
       "    <tr>\n",
       "      <th>MiscVal</th>\n",
       "      <td>7.952790</td>\n",
       "    </tr>\n",
       "    <tr>\n",
       "      <th>BsmtHalfBath</th>\n",
       "      <td>4.916507</td>\n",
       "    </tr>\n",
       "    <tr>\n",
       "      <th>ScreenPorch</th>\n",
       "      <td>4.781947</td>\n",
       "    </tr>\n",
       "    <tr>\n",
       "      <th>BsmtFinSF2</th>\n",
       "      <td>4.050246</td>\n",
       "    </tr>\n",
       "    <tr>\n",
       "      <th>EnclosedPorch</th>\n",
       "      <td>3.454397</td>\n",
       "    </tr>\n",
       "    <tr>\n",
       "      <th>MasVnrArea</th>\n",
       "      <td>1.664569</td>\n",
       "    </tr>\n",
       "    <tr>\n",
       "      <th>OpenPorchSF</th>\n",
       "      <td>1.233877</td>\n",
       "    </tr>\n",
       "  </tbody>\n",
       "</table>\n",
       "</div>"
      ],
      "text/plain": [
       "                    Skew\n",
       "PoolArea       20.334726\n",
       "3SsnPorch      11.173582\n",
       "LowQualFinSF   10.851921\n",
       "MiscVal         7.952790\n",
       "BsmtHalfBath    4.916507\n",
       "ScreenPorch     4.781947\n",
       "BsmtFinSF2      4.050246\n",
       "EnclosedPorch   3.454397\n",
       "MasVnrArea      1.664569\n",
       "OpenPorchSF     1.233877"
      ]
     },
     "execution_count": 108,
     "metadata": {},
     "output_type": "execute_result"
    }
   ],
   "source": [
    "numeric_feats = all_data.dtypes[train_df.dtypes != \"object\"].index\n",
    "\n",
    "# Check the skew of all numerical features\n",
    "skewed_feats = all_data[numeric_feats].apply(lambda x: skew(x.dropna())).sort_values(ascending=False)\n",
    "print(\"\\nSkew in numerical features: \\n\")\n",
    "skewness = pd.DataFrame({'Skew' :skewed_feats})\n",
    "skewness.head(10)"
   ]
  },
  {
   "cell_type": "code",
   "execution_count": 109,
   "metadata": {},
   "outputs": [
    {
     "name": "stdout",
     "output_type": "stream",
     "text": [
      "There are 33 skewed numerical features to Box Cox transform\n"
     ]
    }
   ],
   "source": [
    "skewness = skewness[abs(skewness) > 0.75]\n",
    "\n",
    "print(\"There are {} skewed numerical features to Box Cox transform\".format(skewness.shape[0]))\n",
    "\n",
    "from scipy.special import boxcox1p\n",
    "\n",
    "skewed_features = skewness.index\n",
    "lam = 0.15\n",
    "for feat in skewed_features:\n",
    "    #all_data[feat] += 1\n",
    "    all_data[feat] = boxcox1p(train_df[feat], lam)"
   ]
  },
  {
   "cell_type": "code",
   "execution_count": 82,
   "metadata": {},
   "outputs": [],
   "source": [
    "for feat in skewed_features:\n",
    "    #all_data[feat] += 1\n",
    "    if (feat not in ['SalePrice', 'ln_SalePrice']) :\n",
    "        test_df[feat] = boxcox1p(test_df[feat], lam)"
   ]
  },
  {
   "cell_type": "code",
   "execution_count": null,
   "metadata": {
    "collapsed": true
   },
   "outputs": [],
   "source": [
    "# In case of numerical varibles, capping the outliers to 95th-%tile.  \n",
    "# Since linear regression is sensitive to outliers\n",
    "\n"
   ]
  },
  {
   "cell_type": "code",
   "execution_count": 26,
   "metadata": {},
   "outputs": [],
   "source": [
    "# numerical variables: replacing with the mean value\n",
    "\n",
    "# train_df_2['LotFrontage'].fillna((train_df_2['LotFrontage'].mean()), inplace=True)\n",
    "# train_df_2['GarageYrBlt'].fillna((train_df_2['GarageYrBlt'].mean()), inplace=True)\n",
    "# train_df_2['MasVnrArea'].fillna((train_df_2['MasVnrArea'].mean()), inplace=True)"
   ]
  },
  {
   "cell_type": "code",
   "execution_count": 113,
   "metadata": {
    "collapsed": true
   },
   "outputs": [],
   "source": [
    "all_data_2['LotFrontage'].fillna((all_data_2['LotFrontage'].mean()), inplace=True)\n",
    "all_data_2['GarageYrBlt'].fillna((all_data_2['GarageYrBlt'].mean()), inplace=True)\n",
    "all_data_2['MasVnrArea'].fillna((all_data_2['MasVnrArea'].mean()), inplace=True)\n",
    "all_data_2['GarageArea'].fillna((all_data_2['GarageArea'].mean()), inplace=True)\n",
    "all_data_2['WoodDeckSF'].fillna((all_data_2['WoodDeckSF'].mean()), inplace=True)\n"
   ]
  },
  {
   "cell_type": "code",
   "execution_count": 124,
   "metadata": {},
   "outputs": [
    {
     "data": {
      "text/html": [
       "<div>\n",
       "<style>\n",
       "    .dataframe thead tr:only-child th {\n",
       "        text-align: right;\n",
       "    }\n",
       "\n",
       "    .dataframe thead th {\n",
       "        text-align: left;\n",
       "    }\n",
       "\n",
       "    .dataframe tbody tr th {\n",
       "        vertical-align: top;\n",
       "    }\n",
       "</style>\n",
       "<table border=\"1\" class=\"dataframe\">\n",
       "  <thead>\n",
       "    <tr style=\"text-align: right;\">\n",
       "      <th></th>\n",
       "      <th>Missing Ratio</th>\n",
       "    </tr>\n",
       "  </thead>\n",
       "  <tbody>\n",
       "    <tr>\n",
       "      <th>LotFrontage</th>\n",
       "      <td>58.855773</td>\n",
       "    </tr>\n",
       "    <tr>\n",
       "      <th>GarageYrBlt</th>\n",
       "      <td>52.757794</td>\n",
       "    </tr>\n",
       "    <tr>\n",
       "      <th>MasVnrArea</th>\n",
       "      <td>50.256937</td>\n",
       "    </tr>\n",
       "    <tr>\n",
       "      <th>WoodDeckSF</th>\n",
       "      <td>49.982871</td>\n",
       "    </tr>\n",
       "    <tr>\n",
       "      <th>GarageArea</th>\n",
       "      <td>49.982871</td>\n",
       "    </tr>\n",
       "  </tbody>\n",
       "</table>\n",
       "</div>"
      ],
      "text/plain": [
       "             Missing Ratio\n",
       "LotFrontage      58.855773\n",
       "GarageYrBlt      52.757794\n",
       "MasVnrArea       50.256937\n",
       "WoodDeckSF       49.982871\n",
       "GarageArea       49.982871"
      ]
     },
     "execution_count": 124,
     "metadata": {},
     "output_type": "execute_result"
    }
   ],
   "source": [
    "all_data_na = (all_data.isnull().sum() / len(all_data)) * 100\n",
    "all_data_na = all_data_na.drop(all_data_na[all_data_na == 0].index).sort_values(ascending=False)\n",
    "missing_data = pd.DataFrame({'Missing Ratio' :all_data_na})\n",
    "missing_data.head()"
   ]
  },
  {
   "cell_type": "code",
   "execution_count": 123,
   "metadata": {},
   "outputs": [
    {
     "data": {
      "text/html": [
       "<div>\n",
       "<style>\n",
       "    .dataframe thead tr:only-child th {\n",
       "        text-align: right;\n",
       "    }\n",
       "\n",
       "    .dataframe thead th {\n",
       "        text-align: left;\n",
       "    }\n",
       "\n",
       "    .dataframe tbody tr th {\n",
       "        vertical-align: top;\n",
       "    }\n",
       "</style>\n",
       "<table border=\"1\" class=\"dataframe\">\n",
       "  <thead>\n",
       "    <tr style=\"text-align: right;\">\n",
       "      <th></th>\n",
       "      <th>Missing Ratio</th>\n",
       "    </tr>\n",
       "  </thead>\n",
       "  <tbody>\n",
       "    <tr>\n",
       "      <th>TotalBsmtSF</th>\n",
       "      <td>49.982871</td>\n",
       "    </tr>\n",
       "    <tr>\n",
       "      <th>TotRmsAbvGrd</th>\n",
       "      <td>49.982871</td>\n",
       "    </tr>\n",
       "    <tr>\n",
       "      <th>2ndFlrSF</th>\n",
       "      <td>49.982871</td>\n",
       "    </tr>\n",
       "    <tr>\n",
       "      <th>3SsnPorch</th>\n",
       "      <td>49.982871</td>\n",
       "    </tr>\n",
       "    <tr>\n",
       "      <th>BedroomAbvGr</th>\n",
       "      <td>49.982871</td>\n",
       "    </tr>\n",
       "    <tr>\n",
       "      <th>BsmtFinSF1</th>\n",
       "      <td>49.982871</td>\n",
       "    </tr>\n",
       "    <tr>\n",
       "      <th>BsmtFinSF2</th>\n",
       "      <td>49.982871</td>\n",
       "    </tr>\n",
       "    <tr>\n",
       "      <th>BsmtFullBath</th>\n",
       "      <td>49.982871</td>\n",
       "    </tr>\n",
       "    <tr>\n",
       "      <th>BsmtHalfBath</th>\n",
       "      <td>49.982871</td>\n",
       "    </tr>\n",
       "    <tr>\n",
       "      <th>BsmtUnfSF</th>\n",
       "      <td>49.982871</td>\n",
       "    </tr>\n",
       "    <tr>\n",
       "      <th>EnclosedPorch</th>\n",
       "      <td>49.982871</td>\n",
       "    </tr>\n",
       "    <tr>\n",
       "      <th>Fireplaces</th>\n",
       "      <td>49.982871</td>\n",
       "    </tr>\n",
       "    <tr>\n",
       "      <th>FullBath</th>\n",
       "      <td>49.982871</td>\n",
       "    </tr>\n",
       "    <tr>\n",
       "      <th>GarageCars</th>\n",
       "      <td>49.982871</td>\n",
       "    </tr>\n",
       "    <tr>\n",
       "      <th>GrLivArea</th>\n",
       "      <td>49.982871</td>\n",
       "    </tr>\n",
       "    <tr>\n",
       "      <th>HalfBath</th>\n",
       "      <td>49.982871</td>\n",
       "    </tr>\n",
       "    <tr>\n",
       "      <th>Id</th>\n",
       "      <td>49.982871</td>\n",
       "    </tr>\n",
       "    <tr>\n",
       "      <th>KitchenAbvGr</th>\n",
       "      <td>49.982871</td>\n",
       "    </tr>\n",
       "    <tr>\n",
       "      <th>LotArea</th>\n",
       "      <td>49.982871</td>\n",
       "    </tr>\n",
       "    <tr>\n",
       "      <th>LowQualFinSF</th>\n",
       "      <td>49.982871</td>\n",
       "    </tr>\n",
       "    <tr>\n",
       "      <th>MSSubClass</th>\n",
       "      <td>49.982871</td>\n",
       "    </tr>\n",
       "    <tr>\n",
       "      <th>MiscVal</th>\n",
       "      <td>49.982871</td>\n",
       "    </tr>\n",
       "    <tr>\n",
       "      <th>OpenPorchSF</th>\n",
       "      <td>49.982871</td>\n",
       "    </tr>\n",
       "    <tr>\n",
       "      <th>OverallCond</th>\n",
       "      <td>49.982871</td>\n",
       "    </tr>\n",
       "    <tr>\n",
       "      <th>OverallQual</th>\n",
       "      <td>49.982871</td>\n",
       "    </tr>\n",
       "    <tr>\n",
       "      <th>PoolArea</th>\n",
       "      <td>49.982871</td>\n",
       "    </tr>\n",
       "    <tr>\n",
       "      <th>ScreenPorch</th>\n",
       "      <td>49.982871</td>\n",
       "    </tr>\n",
       "    <tr>\n",
       "      <th>1stFlrSF</th>\n",
       "      <td>49.982871</td>\n",
       "    </tr>\n",
       "  </tbody>\n",
       "</table>\n",
       "</div>"
      ],
      "text/plain": [
       "               Missing Ratio\n",
       "TotalBsmtSF        49.982871\n",
       "TotRmsAbvGrd       49.982871\n",
       "2ndFlrSF           49.982871\n",
       "3SsnPorch          49.982871\n",
       "BedroomAbvGr       49.982871\n",
       "BsmtFinSF1         49.982871\n",
       "BsmtFinSF2         49.982871\n",
       "BsmtFullBath       49.982871\n",
       "BsmtHalfBath       49.982871\n",
       "BsmtUnfSF          49.982871\n",
       "EnclosedPorch      49.982871\n",
       "Fireplaces         49.982871\n",
       "FullBath           49.982871\n",
       "GarageCars         49.982871\n",
       "GrLivArea          49.982871\n",
       "HalfBath           49.982871\n",
       "Id                 49.982871\n",
       "KitchenAbvGr       49.982871\n",
       "LotArea            49.982871\n",
       "LowQualFinSF       49.982871\n",
       "MSSubClass         49.982871\n",
       "MiscVal            49.982871\n",
       "OpenPorchSF        49.982871\n",
       "OverallCond        49.982871\n",
       "OverallQual        49.982871\n",
       "PoolArea           49.982871\n",
       "ScreenPorch        49.982871\n",
       "1stFlrSF           49.982871"
      ]
     },
     "execution_count": 123,
     "metadata": {},
     "output_type": "execute_result"
    }
   ],
   "source": [
    "missing_data"
   ]
  },
  {
   "cell_type": "code",
   "execution_count": 23,
   "metadata": {
    "collapsed": true
   },
   "outputs": [],
   "source": [
    "# creating the one hot encoded variables, and dropping the original variables\n",
    "\n",
    "def get_dummies_ohe(df, varlst):\n",
    "    df_mod = df.copy()\n",
    "    for var in varlst:\n",
    "        new_var_name_lst = []\n",
    "        new_var_lst = pd.get_dummies(df[var])\n",
    "        df_mod = df_mod.drop(var, axis=1)\n",
    "        for elem in new_var_lst.columns:\n",
    "            new_var_name_lst.append(var+'_'+str(elem))\n",
    "        new_var_lst.columns = new_var_name_lst\n",
    "        df_mod = df_mod.join(new_var_lst)\n",
    "    return df_mod"
   ]
  },
  {
   "cell_type": "code",
   "execution_count": 110,
   "metadata": {
    "collapsed": true
   },
   "outputs": [],
   "source": [
    "all_data_2 = get_dummies_ohe(all_data, cat_var)"
   ]
  },
  {
   "cell_type": "code",
   "execution_count": 111,
   "metadata": {},
   "outputs": [
    {
     "data": {
      "text/plain": [
       "468"
      ]
     },
     "execution_count": 111,
     "metadata": {},
     "output_type": "execute_result"
    }
   ],
   "source": [
    "len(all_data_2.columns)"
   ]
  },
  {
   "cell_type": "code",
   "execution_count": 93,
   "metadata": {},
   "outputs": [
    {
     "data": {
      "text/plain": [
       "['Exterior2nd_Other',\n",
       " 'HouseStyle_2.5Fin',\n",
       " 'Utilities_NoSeWa',\n",
       " 'ln_SalePrice',\n",
       " 'Heating_Floor',\n",
       " 'Exterior1st_Stone',\n",
       " 'RoofMatl_ClyTile',\n",
       " 'Heating_OthW',\n",
       " 'Condition2_RRAe',\n",
       " 'RoofMatl_Roll',\n",
       " 'Condition2_RRNn',\n",
       " 'GarageQual_Ex',\n",
       " 'RoofMatl_Membran',\n",
       " 'Condition2_RRAn',\n",
       " 'RoofMatl_Metal',\n",
       " 'Electrical_Mix',\n",
       " 'Exterior1st_ImStucc',\n",
       " 'SalePrice']"
      ]
     },
     "execution_count": 93,
     "metadata": {},
     "output_type": "execute_result"
    }
   ],
   "source": [
    "list(set(train_df_2.columns) - set(test_df_2.columns))"
   ]
  },
  {
   "cell_type": "code",
   "execution_count": 28,
   "metadata": {},
   "outputs": [
    {
     "name": "stdout",
     "output_type": "stream",
     "text": [
      "Number of columns changed from 78 to 278 after one hot encoding\n"
     ]
    }
   ],
   "source": [
    "print \"Number of columns changed from {} to {} after one hot encoding\".format(len(train_df.columns), len(train_df_2.columns))"
   ]
  },
  {
   "cell_type": "code",
   "execution_count": 29,
   "metadata": {},
   "outputs": [
    {
     "data": {
      "text/html": [
       "<div>\n",
       "<style>\n",
       "    .dataframe thead tr:only-child th {\n",
       "        text-align: right;\n",
       "    }\n",
       "\n",
       "    .dataframe thead th {\n",
       "        text-align: left;\n",
       "    }\n",
       "\n",
       "    .dataframe tbody tr th {\n",
       "        vertical-align: top;\n",
       "    }\n",
       "</style>\n",
       "<table border=\"1\" class=\"dataframe\">\n",
       "  <thead>\n",
       "    <tr style=\"text-align: right;\">\n",
       "      <th></th>\n",
       "      <th>Id</th>\n",
       "      <th>MSSubClass</th>\n",
       "      <th>LotFrontage</th>\n",
       "      <th>LotArea</th>\n",
       "      <th>OverallQual</th>\n",
       "      <th>OverallCond</th>\n",
       "      <th>YearBuilt</th>\n",
       "      <th>YearRemodAdd</th>\n",
       "      <th>MasVnrArea</th>\n",
       "      <th>BsmtFinSF1</th>\n",
       "      <th>...</th>\n",
       "      <th>SaleType_ConLw</th>\n",
       "      <th>SaleType_New</th>\n",
       "      <th>SaleType_Oth</th>\n",
       "      <th>SaleType_WD</th>\n",
       "      <th>SaleCondition_Abnorml</th>\n",
       "      <th>SaleCondition_AdjLand</th>\n",
       "      <th>SaleCondition_Alloca</th>\n",
       "      <th>SaleCondition_Family</th>\n",
       "      <th>SaleCondition_Normal</th>\n",
       "      <th>SaleCondition_Partial</th>\n",
       "    </tr>\n",
       "  </thead>\n",
       "  <tbody>\n",
       "    <tr>\n",
       "      <th>0</th>\n",
       "      <td>0.730463</td>\n",
       "      <td>5.684507</td>\n",
       "      <td>5.831328</td>\n",
       "      <td>19.212182</td>\n",
       "      <td>2.440268</td>\n",
       "      <td>2.055642</td>\n",
       "      <td>2003</td>\n",
       "      <td>2003</td>\n",
       "      <td>8.059126</td>\n",
       "      <td>11.170327</td>\n",
       "      <td>...</td>\n",
       "      <td>0</td>\n",
       "      <td>0</td>\n",
       "      <td>0</td>\n",
       "      <td>1</td>\n",
       "      <td>0</td>\n",
       "      <td>0</td>\n",
       "      <td>0</td>\n",
       "      <td>0</td>\n",
       "      <td>1</td>\n",
       "      <td>0</td>\n",
       "    </tr>\n",
       "    <tr>\n",
       "      <th>1</th>\n",
       "      <td>1.194318</td>\n",
       "      <td>3.858807</td>\n",
       "      <td>6.221214</td>\n",
       "      <td>19.712205</td>\n",
       "      <td>2.259674</td>\n",
       "      <td>2.602594</td>\n",
       "      <td>1976</td>\n",
       "      <td>1976</td>\n",
       "      <td>0.000000</td>\n",
       "      <td>12.062832</td>\n",
       "      <td>...</td>\n",
       "      <td>0</td>\n",
       "      <td>0</td>\n",
       "      <td>0</td>\n",
       "      <td>1</td>\n",
       "      <td>0</td>\n",
       "      <td>0</td>\n",
       "      <td>0</td>\n",
       "      <td>0</td>\n",
       "      <td>1</td>\n",
       "      <td>0</td>\n",
       "    </tr>\n",
       "    <tr>\n",
       "      <th>2</th>\n",
       "      <td>1.540963</td>\n",
       "      <td>5.684507</td>\n",
       "      <td>5.914940</td>\n",
       "      <td>20.347241</td>\n",
       "      <td>2.440268</td>\n",
       "      <td>2.055642</td>\n",
       "      <td>2001</td>\n",
       "      <td>2002</td>\n",
       "      <td>7.646538</td>\n",
       "      <td>10.200343</td>\n",
       "      <td>...</td>\n",
       "      <td>0</td>\n",
       "      <td>0</td>\n",
       "      <td>0</td>\n",
       "      <td>1</td>\n",
       "      <td>0</td>\n",
       "      <td>0</td>\n",
       "      <td>0</td>\n",
       "      <td>0</td>\n",
       "      <td>1</td>\n",
       "      <td>0</td>\n",
       "    </tr>\n",
       "    <tr>\n",
       "      <th>3</th>\n",
       "      <td>1.820334</td>\n",
       "      <td>5.968981</td>\n",
       "      <td>5.684507</td>\n",
       "      <td>19.691553</td>\n",
       "      <td>2.440268</td>\n",
       "      <td>2.055642</td>\n",
       "      <td>1915</td>\n",
       "      <td>1970</td>\n",
       "      <td>0.000000</td>\n",
       "      <td>8.274266</td>\n",
       "      <td>...</td>\n",
       "      <td>0</td>\n",
       "      <td>0</td>\n",
       "      <td>0</td>\n",
       "      <td>1</td>\n",
       "      <td>1</td>\n",
       "      <td>0</td>\n",
       "      <td>0</td>\n",
       "      <td>0</td>\n",
       "      <td>0</td>\n",
       "      <td>0</td>\n",
       "    </tr>\n",
       "    <tr>\n",
       "      <th>4</th>\n",
       "      <td>2.055642</td>\n",
       "      <td>5.684507</td>\n",
       "      <td>6.314735</td>\n",
       "      <td>21.325160</td>\n",
       "      <td>2.602594</td>\n",
       "      <td>2.055642</td>\n",
       "      <td>2000</td>\n",
       "      <td>2000</td>\n",
       "      <td>9.391827</td>\n",
       "      <td>10.971129</td>\n",
       "      <td>...</td>\n",
       "      <td>0</td>\n",
       "      <td>0</td>\n",
       "      <td>0</td>\n",
       "      <td>1</td>\n",
       "      <td>0</td>\n",
       "      <td>0</td>\n",
       "      <td>0</td>\n",
       "      <td>0</td>\n",
       "      <td>1</td>\n",
       "      <td>0</td>\n",
       "    </tr>\n",
       "  </tbody>\n",
       "</table>\n",
       "<p>5 rows × 278 columns</p>\n",
       "</div>"
      ],
      "text/plain": [
       "         Id  MSSubClass  LotFrontage    LotArea  OverallQual  OverallCond  \\\n",
       "0  0.730463    5.684507     5.831328  19.212182     2.440268     2.055642   \n",
       "1  1.194318    3.858807     6.221214  19.712205     2.259674     2.602594   \n",
       "2  1.540963    5.684507     5.914940  20.347241     2.440268     2.055642   \n",
       "3  1.820334    5.968981     5.684507  19.691553     2.440268     2.055642   \n",
       "4  2.055642    5.684507     6.314735  21.325160     2.602594     2.055642   \n",
       "\n",
       "  YearBuilt YearRemodAdd  MasVnrArea  BsmtFinSF1          ...            \\\n",
       "0      2003         2003    8.059126   11.170327          ...             \n",
       "1      1976         1976    0.000000   12.062832          ...             \n",
       "2      2001         2002    7.646538   10.200343          ...             \n",
       "3      1915         1970    0.000000    8.274266          ...             \n",
       "4      2000         2000    9.391827   10.971129          ...             \n",
       "\n",
       "   SaleType_ConLw  SaleType_New  SaleType_Oth  SaleType_WD  \\\n",
       "0               0             0             0            1   \n",
       "1               0             0             0            1   \n",
       "2               0             0             0            1   \n",
       "3               0             0             0            1   \n",
       "4               0             0             0            1   \n",
       "\n",
       "   SaleCondition_Abnorml  SaleCondition_AdjLand  SaleCondition_Alloca  \\\n",
       "0                      0                      0                     0   \n",
       "1                      0                      0                     0   \n",
       "2                      0                      0                     0   \n",
       "3                      1                      0                     0   \n",
       "4                      0                      0                     0   \n",
       "\n",
       "   SaleCondition_Family  SaleCondition_Normal  SaleCondition_Partial  \n",
       "0                     0                     1                      0  \n",
       "1                     0                     1                      0  \n",
       "2                     0                     1                      0  \n",
       "3                     0                     0                      0  \n",
       "4                     0                     1                      0  \n",
       "\n",
       "[5 rows x 278 columns]"
      ]
     },
     "execution_count": 29,
     "metadata": {},
     "output_type": "execute_result"
    }
   ],
   "source": [
    "train_df_2.head()"
   ]
  },
  {
   "cell_type": "markdown",
   "metadata": {},
   "source": [
    "### Principal Component Analysis"
   ]
  },
  {
   "cell_type": "code",
   "execution_count": 30,
   "metadata": {
    "collapsed": true
   },
   "outputs": [],
   "source": [
    "from matplotlib.cm import register_cmap\n",
    "from scipy import stats\n",
    "from sklearn.decomposition import PCA as sklearnPCA\n",
    "from sklearn.preprocessing import StandardScaler\n"
   ]
  },
  {
   "cell_type": "code",
   "execution_count": 31,
   "metadata": {
    "collapsed": true
   },
   "outputs": [],
   "source": [
    "??sklearnPCA"
   ]
  },
  {
   "cell_type": "code",
   "execution_count": 32,
   "metadata": {
    "collapsed": true
   },
   "outputs": [],
   "source": [
    "y = train_df_2['ln_SalePrice']\n",
    "X = train_df_2.drop(['SalePrice', 'ln_SalePrice'], axis=1, inplace=False)"
   ]
  },
  {
   "cell_type": "code",
   "execution_count": 33,
   "metadata": {
    "collapsed": true
   },
   "outputs": [],
   "source": [
    "X = X.replace(np.nan, 0, regex=True)\n",
    "X_std = StandardScaler().fit_transform(X)"
   ]
  },
  {
   "cell_type": "code",
   "execution_count": 90,
   "metadata": {
    "collapsed": true
   },
   "outputs": [],
   "source": [
    "test_std = StandardScaler().fit_transform(test_df_2)"
   ]
  },
  {
   "cell_type": "code",
   "execution_count": 34,
   "metadata": {},
   "outputs": [
    {
     "name": "stdout",
     "output_type": "stream",
     "text": [
      "Covariance matrix \n",
      "[[ 1.0006854   0.03047185 -0.02660092 ...,  0.01297872  0.01177981\n",
      "  -0.01337462]\n",
      " [ 0.03047185  1.0006854  -0.39590201 ...,  0.00409792  0.03193428\n",
      "  -0.0646505 ]\n",
      " [-0.02660092 -0.39590201  1.0006854  ...,  0.00990972 -0.06324112\n",
      "   0.12011807]\n",
      " ..., \n",
      " [ 0.01297872  0.00409792  0.00990972 ...,  1.0006854  -0.25217909\n",
      "  -0.03608658]\n",
      " [ 0.01177981  0.03193428 -0.06324112 ..., -0.25217909  1.0006854\n",
      "  -0.6547714 ]\n",
      " [-0.01337462 -0.0646505   0.12011807 ..., -0.03608658 -0.6547714\n",
      "   1.0006854 ]]\n"
     ]
    }
   ],
   "source": [
    "mean_vec = np.mean(X_std, axis=0)\n",
    "cov_mat = (X_std - mean_vec).T.dot((X_std - mean_vec)) / (X_std.shape[0]-1)\n",
    "print('Covariance matrix \\n%s' %cov_mat)"
   ]
  },
  {
   "cell_type": "code",
   "execution_count": 35,
   "metadata": {
    "collapsed": true
   },
   "outputs": [],
   "source": [
    "#Perform eigendecomposition on covariance matrix\n",
    "cov_mat = np.cov(X_std.T)\n",
    "eig_vals, eig_vecs = np.linalg.eig(cov_mat)"
   ]
  },
  {
   "cell_type": "code",
   "execution_count": 32,
   "metadata": {},
   "outputs": [
    {
     "name": "stdout",
     "output_type": "stream",
     "text": [
      "Eigenvectors \n",
      "[[  3.30343677e-04 +0.00000000e+00j   1.92738292e-03 +0.00000000e+00j\n",
      "   -2.26757545e-03 +0.00000000e+00j ...,  -2.17667834e-17 -1.14342574e-17j\n",
      "   -2.17667834e-17 +1.14342574e-17j  -1.90647065e-17 +0.00000000e+00j]\n",
      " [ -5.10434524e-04 +0.00000000e+00j  -1.16092673e-01 +0.00000000e+00j\n",
      "   -4.24986146e-02 +0.00000000e+00j ...,  -6.76147506e-15 +3.89744675e-16j\n",
      "   -6.76147506e-15 -3.89744675e-16j  -2.16817302e-15 +0.00000000e+00j]\n",
      " [ -3.69667892e-03 +0.00000000e+00j  -7.20129270e-02 +0.00000000e+00j\n",
      "    1.12571563e-02 +0.00000000e+00j ...,   4.06774155e-16 -6.51350215e-17j\n",
      "    4.06774155e-16 +6.51350215e-17j  -2.02745692e-16 +0.00000000e+00j]\n",
      " ..., \n",
      " [  9.02837867e-03 +0.00000000e+00j   4.76743408e-03 +0.00000000e+00j\n",
      "    4.86698484e-03 +0.00000000e+00j ...,   2.97287529e-02 +5.72603512e-07j\n",
      "    2.97287529e-02 -5.72603512e-07j   3.25236003e-03 +0.00000000e+00j]\n",
      " [  4.57725085e-02 +0.00000000e+00j   6.30147945e-02 +0.00000000e+00j\n",
      "   -8.72711731e-03 +0.00000000e+00j ...,   9.81430392e-02 +1.89032648e-06j\n",
      "    9.81430392e-02 -1.89032648e-06j   1.07369622e-02 +0.00000000e+00j]\n",
      " [ -1.00026608e-01 +0.00000000e+00j  -9.24452650e-02 +0.00000000e+00j\n",
      "    2.19652131e-03 +0.00000000e+00j ...,   7.15609484e-02 +1.37833062e-06j\n",
      "    7.15609484e-02 -1.37833062e-06j   7.82885070e-03 +0.00000000e+00j]]\n",
      "\n",
      "Eigenvalues \n",
      "[  1.74374998e+01 +0.00000000e+00j   8.46656710e+00 +0.00000000e+00j\n",
      "   6.22848016e+00 +0.00000000e+00j   5.61987701e+00 +0.00000000e+00j\n",
      "   4.76349639e+00 +0.00000000e+00j   4.46047777e+00 +0.00000000e+00j\n",
      "   4.20305086e+00 +0.00000000e+00j   3.66223618e+00 +0.00000000e+00j\n",
      "   3.45715764e+00 +0.00000000e+00j   3.25287599e+00 +0.00000000e+00j\n",
      "   3.21236903e+00 +0.00000000e+00j   3.10022377e+00 +0.00000000e+00j\n",
      "   3.04890278e+00 +0.00000000e+00j   2.90214516e+00 +0.00000000e+00j\n",
      "   2.81776683e+00 +0.00000000e+00j   2.74807789e+00 +0.00000000e+00j\n",
      "   2.73267208e+00 +0.00000000e+00j   2.65780620e+00 +0.00000000e+00j\n",
      "   2.48880103e+00 +0.00000000e+00j   2.46637804e+00 +0.00000000e+00j\n",
      "   2.41169959e+00 +0.00000000e+00j   2.37446409e+00 +0.00000000e+00j\n",
      "   2.34481746e+00 +0.00000000e+00j   2.27815204e+00 +0.00000000e+00j\n",
      "   2.23372853e+00 +0.00000000e+00j   2.22564324e+00 +0.00000000e+00j\n",
      "   2.18184137e+00 +0.00000000e+00j   2.15679158e+00 +0.00000000e+00j\n",
      "   2.13081550e+00 +0.00000000e+00j   2.08682621e+00 +0.00000000e+00j\n",
      "   2.06963992e+00 +0.00000000e+00j   2.06401613e+00 +0.00000000e+00j\n",
      "   2.03710511e+00 +0.00000000e+00j   1.98618040e+00 +0.00000000e+00j\n",
      "   1.95465419e+00 +0.00000000e+00j   1.93185984e+00 +0.00000000e+00j\n",
      "   1.89391460e+00 +0.00000000e+00j   1.89209568e+00 +0.00000000e+00j\n",
      "   1.84700442e+00 +0.00000000e+00j   1.83664002e+00 +0.00000000e+00j\n",
      "   1.81907667e+00 +0.00000000e+00j   1.77317216e+00 +0.00000000e+00j\n",
      "   1.76810255e+00 +0.00000000e+00j   1.75373791e+00 +0.00000000e+00j\n",
      "   1.72552187e+00 +0.00000000e+00j   1.70139204e+00 +0.00000000e+00j\n",
      "   1.67288029e+00 +0.00000000e+00j   1.64050912e+00 +0.00000000e+00j\n",
      "   1.61226331e+00 +0.00000000e+00j   1.60191919e+00 +0.00000000e+00j\n",
      "   1.57176225e+00 +0.00000000e+00j   1.56759203e+00 +0.00000000e+00j\n",
      "   1.53792884e+00 +0.00000000e+00j   1.51505528e+00 +0.00000000e+00j\n",
      "   1.50826297e+00 +0.00000000e+00j   1.49125861e+00 +0.00000000e+00j\n",
      "   1.47519208e+00 +0.00000000e+00j   1.45907028e+00 +0.00000000e+00j\n",
      "   1.44172245e+00 +0.00000000e+00j   1.43171957e+00 +0.00000000e+00j\n",
      "   1.40784950e+00 +0.00000000e+00j   1.39574445e+00 +0.00000000e+00j\n",
      "   1.38700681e+00 +0.00000000e+00j   1.36716543e+00 +0.00000000e+00j\n",
      "   1.35280391e+00 +0.00000000e+00j   1.34884156e+00 +0.00000000e+00j\n",
      "   1.33024824e+00 +0.00000000e+00j   1.30336476e+00 +0.00000000e+00j\n",
      "   1.19773076e+00 +0.00000000e+00j   1.20620620e+00 +0.00000000e+00j\n",
      "   1.21429712e+00 +0.00000000e+00j   1.29062190e+00 +0.00000000e+00j\n",
      "   1.28207996e+00 +0.00000000e+00j   1.27495222e+00 +0.00000000e+00j\n",
      "   1.26738064e+00 +0.00000000e+00j   1.23626878e+00 +0.00000000e+00j\n",
      "   1.23973501e+00 +0.00000000e+00j   1.25515341e+00 +0.00000000e+00j\n",
      "   1.25448217e+00 +0.00000000e+00j   1.18085879e+00 +0.00000000e+00j\n",
      "   1.17005107e+00 +0.00000000e+00j   1.16553612e+00 +0.00000000e+00j\n",
      "   1.14854429e+00 +0.00000000e+00j   1.14529464e+00 +0.00000000e+00j\n",
      "   1.13381368e+00 +0.00000000e+00j   1.12458177e+00 +0.00000000e+00j\n",
      "   1.11714164e+00 +0.00000000e+00j   1.10525501e+00 +0.00000000e+00j\n",
      "   1.09406602e+00 +0.00000000e+00j   1.07132192e+00 +0.00000000e+00j\n",
      "   1.07816981e+00 +0.00000000e+00j   1.08246489e+00 +0.00000000e+00j\n",
      "   1.05745186e+00 +0.00000000e+00j   1.04580243e+00 +0.00000000e+00j\n",
      "   1.03758906e+00 +0.00000000e+00j   1.02753505e+00 +0.00000000e+00j\n",
      "   1.02397129e+00 +0.00000000e+00j   1.01752576e+00 +0.00000000e+00j\n",
      "   1.00574624e+00 +0.00000000e+00j   1.00018214e+00 +0.00000000e+00j\n",
      "   9.89937772e-01 +0.00000000e+00j   9.77243286e-01 +0.00000000e+00j\n",
      "   9.67629220e-01 +0.00000000e+00j   9.59842403e-01 +0.00000000e+00j\n",
      "   1.09201883e-01 +0.00000000e+00j   1.16595106e-01 +0.00000000e+00j\n",
      "   1.27865280e-01 +0.00000000e+00j   1.40721619e-01 +0.00000000e+00j\n",
      "   9.45095999e-01 +0.00000000e+00j   9.41876522e-01 +0.00000000e+00j\n",
      "   9.32006070e-01 +0.00000000e+00j   9.29236041e-01 +0.00000000e+00j\n",
      "   9.16559950e-01 +0.00000000e+00j   9.17546688e-01 +0.00000000e+00j\n",
      "   8.97985317e-01 +0.00000000e+00j   8.93535346e-01 +0.00000000e+00j\n",
      "   8.90127551e-01 +0.00000000e+00j   8.75102222e-01 +0.00000000e+00j\n",
      "   8.61681312e-01 +0.00000000e+00j   8.57528801e-01 +0.00000000e+00j\n",
      "   8.38364831e-01 +0.00000000e+00j   8.39307368e-01 +0.00000000e+00j\n",
      "   8.41416349e-01 +0.00000000e+00j   6.92741887e-02 +0.00000000e+00j\n",
      "   8.25317832e-02 +0.00000000e+00j   8.18422915e-02 +0.00000000e+00j\n",
      "   9.54171586e-02 +0.00000000e+00j   1.00249062e-01 +0.00000000e+00j\n",
      "   1.03636620e-01 +0.00000000e+00j   1.22149093e-01 +0.00000000e+00j\n",
      "   1.73953514e-01 +0.00000000e+00j   1.54165060e-01 +0.00000000e+00j\n",
      "   1.58873407e-01 +0.00000000e+00j   1.44238005e-01 +0.00000000e+00j\n",
      "   1.85707508e-01 +0.00000000e+00j   1.56677788e-01 +0.00000000e+00j\n",
      "   1.98799441e-01 +0.00000000e+00j   2.03673148e-01 +0.00000000e+00j\n",
      "   2.22440683e-01 +0.00000000e+00j   2.15294907e-01 +0.00000000e+00j\n",
      "   2.12287170e-01 +0.00000000e+00j   8.23922321e-01 +0.00000000e+00j\n",
      "   8.19074769e-01 +0.00000000e+00j   8.13192556e-01 +0.00000000e+00j\n",
      "   7.99462200e-01 +0.00000000e+00j   5.37521158e-02 +0.00000000e+00j\n",
      "   2.39145083e-01 +0.00000000e+00j   2.43654598e-01 +0.00000000e+00j\n",
      "   2.60434709e-01 +0.00000000e+00j   2.56480459e-01 +0.00000000e+00j\n",
      "   2.74997444e-01 +0.00000000e+00j   2.78654824e-01 +0.00000000e+00j\n",
      "   7.91763422e-01 +0.00000000e+00j   7.82691549e-01 +0.00000000e+00j\n",
      "   3.78426600e-02 +0.00000000e+00j   3.82555533e-02 +0.00000000e+00j\n",
      "   3.40185424e-02 +0.00000000e+00j   2.86256367e-01 +0.00000000e+00j\n",
      "   2.96248844e-01 +0.00000000e+00j   7.74713297e-01 +0.00000000e+00j\n",
      "   7.87501128e-01 +0.00000000e+00j   7.81442947e-01 +0.00000000e+00j\n",
      "   7.64390246e-01 +0.00000000e+00j   7.56406639e-01 +0.00000000e+00j\n",
      "   7.47708786e-01 +0.00000000e+00j   7.51227316e-01 +0.00000000e+00j\n",
      "   3.19673360e-02 +0.00000000e+00j   2.56892035e-02 +0.00000000e+00j\n",
      "   7.40132975e-01 +0.00000000e+00j   7.32539081e-01 +0.00000000e+00j\n",
      "   7.15944717e-01 +0.00000000e+00j   7.09182116e-01 +0.00000000e+00j\n",
      "   7.04605246e-01 +0.00000000e+00j   6.93418904e-01 +0.00000000e+00j\n",
      "   6.81689806e-01 +0.00000000e+00j   3.06350490e-01 +0.00000000e+00j\n",
      "   3.16436246e-01 +0.00000000e+00j   3.13139152e-01 +0.00000000e+00j\n",
      "   3.09288649e-01 +0.00000000e+00j   3.31754529e-01 +0.00000000e+00j\n",
      "   3.53113566e-01 +0.00000000e+00j   3.42472663e-01 +0.00000000e+00j\n",
      "   3.46133353e-01 +0.00000000e+00j   6.69102886e-01 +0.00000000e+00j\n",
      "   3.62007626e-01 +0.00000000e+00j   3.73031012e-01 +0.00000000e+00j\n",
      "   3.75391927e-01 +0.00000000e+00j   1.77676023e-02 +0.00000000e+00j\n",
      "   2.01912586e-02 +0.00000000e+00j   6.66309369e-01 +0.00000000e+00j\n",
      "   6.56869190e-01 +0.00000000e+00j   6.49423823e-01 +0.00000000e+00j\n",
      "   6.59149018e-01 +0.00000000e+00j   4.07332814e-01 +0.00000000e+00j\n",
      "   3.89035637e-01 +0.00000000e+00j   4.10693152e-01 +0.00000000e+00j\n",
      "   6.36499116e-01 +0.00000000e+00j   6.09332615e-01 +0.00000000e+00j\n",
      "   5.68357989e-01 +0.00000000e+00j   5.81433497e-01 +0.00000000e+00j\n",
      "   4.19279040e-01 +0.00000000e+00j   5.55465674e-01 +0.00000000e+00j\n",
      "   4.95184487e-01 +0.00000000e+00j   4.84707590e-01 +0.00000000e+00j\n",
      "   5.00756096e-01 +0.00000000e+00j   5.15725052e-01 +0.00000000e+00j\n",
      "   5.26649326e-01 +0.00000000e+00j   6.32631849e-01 +0.00000000e+00j\n",
      "   6.22445756e-01 +0.00000000e+00j   6.27585234e-01 +0.00000000e+00j\n",
      "   5.93012556e-01 +0.00000000e+00j   6.01648182e-01 +0.00000000e+00j\n",
      "   5.44959142e-01 +0.00000000e+00j   4.77940466e-01 +0.00000000e+00j\n",
      "   5.08816014e-01 +0.00000000e+00j   4.53100117e-01 +0.00000000e+00j\n",
      "   4.35835024e-01 +0.00000000e+00j   4.50055406e-01 +0.00000000e+00j\n",
      "   4.32865333e-01 +0.00000000e+00j   4.67627043e-01 +0.00000000e+00j\n",
      "   5.35407825e-01 +0.00000000e+00j   4.64431364e-01 +0.00000000e+00j\n",
      "   5.32584666e-01 +0.00000000e+00j   2.10827069e-02 +0.00000000e+00j\n",
      "   3.87341089e-01 +0.00000000e+00j   4.17374277e-01 +0.00000000e+00j\n",
      "   3.80069375e-01 +0.00000000e+00j   5.77011481e-01 +0.00000000e+00j\n",
      "   5.97766210e-01 +0.00000000e+00j   5.50038195e-01 +0.00000000e+00j\n",
      "   4.43780679e-01 +0.00000000e+00j   1.47893154e-02 +0.00000000e+00j\n",
      "   6.13026671e-01 +0.00000000e+00j   4.62192239e-01 +0.00000000e+00j\n",
      "   1.39455671e-02 +0.00000000e+00j   7.66947880e-03 +0.00000000e+00j\n",
      "  -4.03119782e-15 +0.00000000e+00j   4.28430130e-15 +0.00000000e+00j\n",
      "   3.86717607e-15 +0.00000000e+00j  -3.29886293e-15 +0.00000000e+00j\n",
      "  -3.07227462e-15 +0.00000000e+00j   3.26102072e-15 +6.03282783e-17j\n",
      "   3.26102072e-15 -6.03282783e-17j   2.84789808e-15 +0.00000000e+00j\n",
      "  -2.64929080e-15 +0.00000000e+00j   2.47989260e-15 +0.00000000e+00j\n",
      "   2.33089863e-15 +0.00000000e+00j   2.09691841e-15 +0.00000000e+00j\n",
      "   1.76542898e-15 +0.00000000e+00j  -2.36005107e-15 +0.00000000e+00j\n",
      "  -1.99672388e-15 +0.00000000e+00j  -1.82621627e-15 +0.00000000e+00j\n",
      "   1.26659155e-15 +5.69613752e-17j   1.26659155e-15 -5.69613752e-17j\n",
      "   1.01953424e-15 +0.00000000e+00j   8.02525246e-16 +1.73110981e-17j\n",
      "   8.02525246e-16 -1.73110981e-17j   5.95557348e-16 +0.00000000e+00j\n",
      "   5.40014531e-16 +0.00000000e+00j  -1.41661373e-15 +1.60944093e-17j\n",
      "  -1.41661373e-15 -1.60944093e-17j   1.71283223e-16 +1.08436891e-16j\n",
      "   1.71283223e-16 -1.08436891e-16j   2.17746895e-16 +0.00000000e+00j\n",
      "  -3.52251270e-18 +5.13323485e-17j  -3.52251270e-18 -5.13323485e-17j\n",
      "  -1.15934349e-16 +0.00000000e+00j  -2.70659712e-16 +3.96559947e-17j\n",
      "  -2.70659712e-16 -3.96559947e-17j  -3.93895948e-16 +0.00000000e+00j\n",
      "  -3.65349291e-16 +0.00000000e+00j  -1.28095731e-15 +0.00000000e+00j\n",
      "  -1.09423169e-15 +0.00000000e+00j  -8.29275279e-16 +2.36774153e-17j\n",
      "  -8.29275279e-16 -2.36774153e-17j  -1.18619779e-15 +0.00000000e+00j]\n"
     ]
    }
   ],
   "source": [
    "print('Eigenvectors \\n%s' %eig_vecs)\n",
    "print('\\nEigenvalues \\n%s' %eig_vals)"
   ]
  },
  {
   "cell_type": "code",
   "execution_count": 36,
   "metadata": {},
   "outputs": [
    {
     "name": "stdout",
     "output_type": "stream",
     "text": [
      "Eigenvalues in descending order:\n",
      "17.9773223737\n",
      "8.46933959676\n",
      "6.50306055434\n",
      "5.58399300498\n",
      "4.78834653436\n",
      "4.48038388778\n",
      "4.20201271461\n",
      "3.64919808532\n",
      "3.4418851477\n",
      "3.22571577168\n",
      "3.11823592433\n",
      "3.08403518907\n",
      "2.97540876888\n",
      "2.89537979111\n",
      "2.8038759497\n",
      "2.74783710735\n",
      "2.69688268562\n",
      "2.63252751396\n",
      "2.49878742435\n",
      "2.45338285302\n",
      "2.41216816646\n",
      "2.37059991257\n",
      "2.33976881468\n",
      "2.27691459804\n",
      "2.23624345775\n",
      "2.22773142403\n",
      "2.18477876055\n",
      "2.14999176099\n",
      "2.12370421613\n",
      "2.08790207409\n",
      "2.06235739444\n",
      "2.04329256046\n",
      "2.00747746755\n",
      "1.98091940715\n",
      "1.94763114292\n",
      "1.9376454615\n",
      "1.89471115569\n",
      "1.88526700764\n",
      "1.84014446921\n",
      "1.82243820552\n",
      "1.81729582672\n",
      "1.78048989862\n",
      "1.76676545929\n",
      "1.73786312398\n",
      "1.72029831753\n",
      "1.68205622001\n",
      "1.67031930287\n",
      "1.64433881432\n",
      "1.60715213982\n",
      "1.60231473699\n",
      "1.56252100441\n",
      "1.56580009447\n",
      "1.52725242327\n",
      "1.5157678612\n",
      "1.50766793655\n",
      "1.48721591106\n",
      "1.46748580669\n",
      "1.45832996786\n",
      "1.43441971502\n",
      "1.42182003139\n",
      "1.40897728837\n",
      "1.39464600158\n",
      "1.37616010313\n",
      "1.3273664257\n",
      "1.35964405939\n",
      "1.35219504959\n",
      "1.34775105011\n",
      "1.30633079816\n",
      "1.29192512607\n",
      "1.27754392013\n",
      "1.27228786546\n",
      "1.26262344249\n",
      "1.25409554048\n",
      "1.24896013269\n",
      "1.24264469858\n",
      "1.23551937588\n",
      "1.21353493284\n",
      "1.20393788738\n",
      "1.19155999429\n",
      "1.16157946308\n",
      "1.16953230909\n",
      "1.17952498968\n",
      "1.1503009455\n",
      "1.14046220295\n",
      "1.12690389834\n",
      "1.12332120998\n",
      "1.10975592602\n",
      "1.09957609815\n",
      "1.04738720651\n",
      "1.05777923944\n",
      "1.06928091339\n",
      "1.08040238718\n",
      "1.07557022122\n",
      "1.09014219949\n",
      "1.03552533418\n",
      "1.02348473988\n",
      "1.02702478997\n",
      "1.01516480663\n",
      "1.0050004188\n",
      "0.998626078054\n",
      "0.98790376955\n",
      "0.979259443488\n",
      "0.967229716223\n",
      "0.962416106185\n",
      "0.944079035267\n",
      "0.945086603399\n",
      "0.930542800646\n",
      "0.92794111652\n",
      "0.91806907346\n",
      "0.912488632744\n",
      "0.899534796809\n",
      "0.896763329946\n",
      "0.890882236606\n",
      "0.870015051739\n",
      "0.857676014834\n",
      "0.856859274274\n",
      "0.840838729115\n",
      "0.836596122842\n",
      "0.835098625625\n",
      "0.82260029696\n",
      "0.820161453802\n",
      "0.812275617589\n",
      "0.801954747463\n",
      "0.174832910396\n",
      "0.188940695193\n",
      "0.196622898204\n",
      "0.164710923313\n",
      "0.15639758261\n",
      "0.154554910829\n",
      "0.14853778983\n",
      "0.138653108662\n",
      "0.143024678225\n",
      "0.126501447982\n",
      "0.117502728678\n",
      "0.109796617048\n",
      "0.104309569295\n",
      "0.101202735049\n",
      "0.093167238873\n",
      "0.0823719653556\n",
      "0.0814851583232\n",
      "0.0692600293451\n",
      "0.792398667093\n",
      "0.770893679345\n",
      "0.773270146122\n",
      "0.787424918536\n",
      "0.782259933029\n",
      "0.0592747974091\n",
      "0.0518634132499\n",
      "0.201104721842\n",
      "0.264062206413\n",
      "0.213309922884\n",
      "0.20947261361\n",
      "0.224301570332\n",
      "0.232649981732\n",
      "0.248245754203\n",
      "0.243724012588\n",
      "0.260512416743\n",
      "0.759467190954\n",
      "0.738541408322\n",
      "0.749414881016\n",
      "0.280482943388\n",
      "0.286488424854\n",
      "0.290192348851\n",
      "0.0380254957056\n",
      "0.0395873787415\n",
      "0.0319442370753\n",
      "0.732916489647\n",
      "0.742076887352\n",
      "0.749992754466\n",
      "0.716355417592\n",
      "0.708847416575\n",
      "0.704320708103\n",
      "0.692518392459\n",
      "0.680852003916\n",
      "0.298468805654\n",
      "0.308293977596\n",
      "0.312743539633\n",
      "0.315658893263\n",
      "0.32953357136\n",
      "0.33854399218\n",
      "0.341214254068\n",
      "0.66949981525\n",
      "0.0256922574606\n",
      "0.665313418723\n",
      "0.64328213088\n",
      "0.351476473999\n",
      "0.364920060339\n",
      "0.373573090838\n",
      "0.377481929242\n",
      "0.0337459014752\n",
      "0.0200511144072\n",
      "0.655453387403\n",
      "0.652996986394\n",
      "0.633670379623\n",
      "0.35015195586\n",
      "0.387389549013\n",
      "0.411576935335\n",
      "0.40861001234\n",
      "0.41862679932\n",
      "0.578382233325\n",
      "0.571977279893\n",
      "0.565502272046\n",
      "0.527043244954\n",
      "0.532367481702\n",
      "0.0176701837049\n",
      "0.616077698047\n",
      "0.624727447141\n",
      "0.611468520789\n",
      "0.394581791983\n",
      "0.515623928818\n",
      "0.606740504945\n",
      "0.593062561451\n",
      "0.550940319126\n",
      "0.547674720504\n",
      "0.437464631606\n",
      "0.456693048843\n",
      "0.431248055528\n",
      "0.494845329768\n",
      "0.498297175648\n",
      "0.469951937541\n",
      "0.508790207392\n",
      "0.434063764339\n",
      "0.4643521606\n",
      "0.450520682053\n",
      "0.0210320137505\n",
      "0.0147486033961\n",
      "0.382142738247\n",
      "0.625218222392\n",
      "0.603530597796\n",
      "0.466633735369\n",
      "0.482080989873\n",
      "0.499909911482\n",
      "0.542503517452\n",
      "0.449026025577\n",
      "0.591146205214\n",
      "0.00770097652559\n",
      "4.14573590832e-15\n",
      "4.42231771052e-15\n",
      "4.02015708985e-15\n",
      "3.33563374841e-15\n",
      "3.17168816473e-15\n",
      "2.70080882485e-15\n",
      "3.40140717067e-15\n",
      "3.0167488054e-15\n",
      "2.60075843537e-15\n",
      "2.50042294131e-15\n",
      "2.31923329253e-15\n",
      "2.30121787385e-15\n",
      "1.97442445848e-15\n",
      "2.05188212581e-15\n",
      "1.6978532887e-15\n",
      "1.81248119077e-15\n",
      "1.4123866618e-15\n",
      "1.4123866618e-15\n",
      "1.34098715217e-15\n",
      "1.38687918191e-15\n",
      "1.06373384504e-15\n",
      "1.06373384504e-15\n",
      "1.20423120082e-15\n",
      "1.20423120082e-15\n",
      "1.1603861897e-15\n",
      "8.66899518726e-16\n",
      "8.13191967045e-16\n",
      "6.16858861967e-16\n",
      "4.2432441635e-16\n",
      "4.2432441635e-16\n",
      "4.64648746829e-16\n",
      "4.23451581851e-16\n",
      "4.6856284532e-16\n",
      "2.69407059647e-16\n",
      "2.29209801632e-16\n",
      "1.32061448807e-16\n",
      "1.32061448807e-16\n",
      "5.50798947188e-17\n",
      "4.44020370414e-17\n",
      "5.76328968609e-18\n"
     ]
    }
   ],
   "source": [
    "eig_pairs = [(np.abs(eig_vals[i]), eig_vecs[:,i]) for i in range(len(eig_vals))]\n",
    "print('Eigenvalues in descending order:')\n",
    "for i in eig_pairs:\n",
    "    print(i[0])\n"
   ]
  },
  {
   "cell_type": "code",
   "execution_count": 37,
   "metadata": {},
   "outputs": [
    {
     "name": "stdout",
     "output_type": "stream",
     "text": [
      "[ 0.73541645  0.15025779  0.02427992  0.01711612  0.01061049  0.00932033\n",
      "  0.00705157]\n"
     ]
    }
   ],
   "source": [
    "pca = sklearnPCA(n_components=7)\n",
    "pca.fit_transform(X)\n",
    "print pca.explained_variance_ratio_\n"
   ]
  },
  {
   "cell_type": "code",
   "execution_count": 38,
   "metadata": {},
   "outputs": [
    {
     "data": {
      "image/png": "[encoded data removed]",
      "text/plain": [
       "<matplotlib.figure.Figure at 0x10d213b10>"
      ]
     },
     "metadata": {},
     "output_type": "display_data"
    }
   ],
   "source": [
    "#Explained variance\n",
    "pca = sklearnPCA().fit(X_std)\n",
    "plt.plot(np.cumsum(pca.explained_variance_ratio_))\n",
    "plt.xlabel('number of components')\n",
    "plt.ylabel('cumulative explained variance')\n",
    "plt.show()"
   ]
  },
  {
   "cell_type": "code",
   "execution_count": 39,
   "metadata": {},
   "outputs": [
    {
     "data": {
      "text/plain": [
       "(276, 276)"
      ]
     },
     "execution_count": 39,
     "metadata": {},
     "output_type": "execute_result"
    }
   ],
   "source": [
    "eig_vecs.shape"
   ]
  },
  {
   "cell_type": "code",
   "execution_count": 40,
   "metadata": {
    "collapsed": true
   },
   "outputs": [],
   "source": [
    "# planning to use top 5 components from PCA\n",
    "\n",
    "eig_pairs = [(np.abs(eig_vals[i]), eig_vecs[:,i]) for i in range(len(eig_vals))]\n",
    "matrix_w = np.hstack((eig_pairs[0][1].reshape(276,1),\n",
    "                      eig_pairs[1][1].reshape(276,1),\n",
    "                      eig_pairs[2][1].reshape(276,1),\n",
    "                      eig_pairs[3][1].reshape(276,1),\n",
    "                      eig_pairs[4][1].reshape(276,1)))"
   ]
  },
  {
   "cell_type": "code",
   "execution_count": 41,
   "metadata": {
    "collapsed": true
   },
   "outputs": [],
   "source": [
    "new_Y = X_std.dot(matrix_w)"
   ]
  },
  {
   "cell_type": "code",
   "execution_count": 91,
   "metadata": {},
   "outputs": [
    {
     "ename": "ValueError",
     "evalue": "shapes (1459,260) and (276,5) not aligned: 260 (dim 1) != 276 (dim 0)",
     "output_type": "error",
     "traceback": [
      "\u001b[0;31m---------------------------------------------------------------------------\u001b[0m",
      "\u001b[0;31mValueError\u001b[0m                                Traceback (most recent call last)",
      "\u001b[0;32m<ipython-input-91-abb83bb16b38>\u001b[0m in \u001b[0;36m<module>\u001b[0;34m()\u001b[0m\n\u001b[0;32m----> 1\u001b[0;31m \u001b[0mnew_test\u001b[0m \u001b[0;34m=\u001b[0m \u001b[0mtest_std\u001b[0m\u001b[0;34m.\u001b[0m\u001b[0mdot\u001b[0m\u001b[0;34m(\u001b[0m\u001b[0mmatrix_w\u001b[0m\u001b[0;34m)\u001b[0m\u001b[0;34m\u001b[0m\u001b[0m\n\u001b[0m",
      "\u001b[0;31mValueError\u001b[0m: shapes (1459,260) and (276,5) not aligned: 260 (dim 1) != 276 (dim 0)"
     ]
    }
   ],
   "source": [
    "new_test = test_std.dot(matrix_w)"
   ]
  },
  {
   "cell_type": "code",
   "execution_count": 42,
   "metadata": {
    "collapsed": true
   },
   "outputs": [],
   "source": [
    "X_pca_5 = pd.DataFrame(new_Y, columns=['pca1','pca2','pca3','pca4','pca5'])"
   ]
  },
  {
   "cell_type": "code",
   "execution_count": 43,
   "metadata": {},
   "outputs": [
    {
     "data": {
      "text/html": [
       "<div>\n",
       "<style>\n",
       "    .dataframe thead tr:only-child th {\n",
       "        text-align: right;\n",
       "    }\n",
       "\n",
       "    .dataframe thead th {\n",
       "        text-align: left;\n",
       "    }\n",
       "\n",
       "    .dataframe tbody tr th {\n",
       "        vertical-align: top;\n",
       "    }\n",
       "</style>\n",
       "<table border=\"1\" class=\"dataframe\">\n",
       "  <thead>\n",
       "    <tr style=\"text-align: right;\">\n",
       "      <th></th>\n",
       "      <th>pca1</th>\n",
       "      <th>pca2</th>\n",
       "      <th>pca3</th>\n",
       "      <th>pca4</th>\n",
       "      <th>pca5</th>\n",
       "    </tr>\n",
       "  </thead>\n",
       "  <tbody>\n",
       "    <tr>\n",
       "      <th>0</th>\n",
       "      <td>(-4.56182496325+0j)</td>\n",
       "      <td>(1.67827385208+0j)</td>\n",
       "      <td>(1.464188956+0j)</td>\n",
       "      <td>(-1.81993329509+0j)</td>\n",
       "      <td>(0.101451924424+0j)</td>\n",
       "    </tr>\n",
       "    <tr>\n",
       "      <th>1</th>\n",
       "      <td>(-0.0696319505277+0j)</td>\n",
       "      <td>(-3.3321326514+0j)</td>\n",
       "      <td>(0.351472194921+0j)</td>\n",
       "      <td>(-0.475518552595+0j)</td>\n",
       "      <td>(0.151976273034+0j)</td>\n",
       "    </tr>\n",
       "    <tr>\n",
       "      <th>2</th>\n",
       "      <td>(-5.38915273723+0j)</td>\n",
       "      <td>(0.671827652626+0j)</td>\n",
       "      <td>(0.280973551762+0j)</td>\n",
       "      <td>(-2.43161782347+0j)</td>\n",
       "      <td>(-0.432702849093+0j)</td>\n",
       "    </tr>\n",
       "    <tr>\n",
       "      <th>3</th>\n",
       "      <td>(1.95295573908+0j)</td>\n",
       "      <td>(1.05700999876+0j)</td>\n",
       "      <td>(-2.16769326646+0j)</td>\n",
       "      <td>(-1.32886981294+0j)</td>\n",
       "      <td>(0.645762510934+0j)</td>\n",
       "    </tr>\n",
       "    <tr>\n",
       "      <th>4</th>\n",
       "      <td>(-6.72144212871+0j)</td>\n",
       "      <td>(0.253510229171+0j)</td>\n",
       "      <td>(-1.39886846993+0j)</td>\n",
       "      <td>(-3.47081849383+0j)</td>\n",
       "      <td>(-0.343967205165+0j)</td>\n",
       "    </tr>\n",
       "  </tbody>\n",
       "</table>\n",
       "</div>"
      ],
      "text/plain": [
       "                    pca1                 pca2                 pca3  \\\n",
       "0    (-4.56182496325+0j)   (1.67827385208+0j)     (1.464188956+0j)   \n",
       "1  (-0.0696319505277+0j)   (-3.3321326514+0j)  (0.351472194921+0j)   \n",
       "2    (-5.38915273723+0j)  (0.671827652626+0j)  (0.280973551762+0j)   \n",
       "3     (1.95295573908+0j)   (1.05700999876+0j)  (-2.16769326646+0j)   \n",
       "4    (-6.72144212871+0j)  (0.253510229171+0j)  (-1.39886846993+0j)   \n",
       "\n",
       "                   pca4                  pca5  \n",
       "0   (-1.81993329509+0j)   (0.101451924424+0j)  \n",
       "1  (-0.475518552595+0j)   (0.151976273034+0j)  \n",
       "2   (-2.43161782347+0j)  (-0.432702849093+0j)  \n",
       "3   (-1.32886981294+0j)   (0.645762510934+0j)  \n",
       "4   (-3.47081849383+0j)  (-0.343967205165+0j)  "
      ]
     },
     "execution_count": 43,
     "metadata": {},
     "output_type": "execute_result"
    }
   ],
   "source": [
    "X_pca_5.head()"
   ]
  },
  {
   "cell_type": "code",
   "execution_count": 44,
   "metadata": {},
   "outputs": [
    {
     "data": {
      "text/plain": [
       "(1460, 5)"
      ]
     },
     "execution_count": 44,
     "metadata": {},
     "output_type": "execute_result"
    }
   ],
   "source": [
    "X_pca_5.shape"
   ]
  },
  {
   "cell_type": "markdown",
   "metadata": {},
   "source": [
    "### Comparing two models\n",
    "* PCA based model\n",
    "* Non-PCA based, only with one hot encoded variables"
   ]
  },
  {
   "cell_type": "code",
   "execution_count": 45,
   "metadata": {},
   "outputs": [
    {
     "data": {
      "text/plain": [
       "(1460,)"
      ]
     },
     "execution_count": 45,
     "metadata": {},
     "output_type": "execute_result"
    }
   ],
   "source": [
    "y.shape"
   ]
  },
  {
   "cell_type": "code",
   "execution_count": 46,
   "metadata": {
    "collapsed": true
   },
   "outputs": [],
   "source": [
    "from sklearn.linear_model import ElasticNet, Lasso,  BayesianRidge, LassoLarsIC\n",
    "from sklearn.pipeline import make_pipeline\n",
    "from sklearn.preprocessing import RobustScaler\n",
    "from sklearn.kernel_ridge import KernelRidge\n",
    "import xgboost as xgb\n",
    "from sklearn.model_selection import KFold, cross_val_score, train_test_split\n",
    "from sklearn.metrics import mean_squared_error"
   ]
  },
  {
   "cell_type": "markdown",
   "metadata": {},
   "source": [
    "### Building Base Models"
   ]
  },
  {
   "cell_type": "code",
   "execution_count": 68,
   "metadata": {
    "collapsed": true
   },
   "outputs": [],
   "source": [
    "#Validation function\n",
    "n_folds = 5\n",
    "\n",
    "def rmsle_cv(model):\n",
    "    kf = KFold(n_folds, shuffle=True, random_state=42).get_n_splits(X_pca_5.values)\n",
    "    rmse= np.sqrt(-cross_val_score(model, X_pca_5.values, y, scoring=\"neg_mean_squared_error\", cv = kf))\n",
    "    return(rmse)\n"
   ]
  },
  {
   "cell_type": "code",
   "execution_count": 48,
   "metadata": {
    "collapsed": true
   },
   "outputs": [],
   "source": [
    "# Lasso\n",
    "\n",
    "lasso = make_pipeline(RobustScaler(), Lasso(alpha =0.0005, random_state=1))"
   ]
  },
  {
   "cell_type": "code",
   "execution_count": 49,
   "metadata": {
    "collapsed": true
   },
   "outputs": [],
   "source": [
    "# ElasticNet\n",
    "\n",
    "ENet = make_pipeline(RobustScaler(), ElasticNet(alpha=0.0005, l1_ratio=.9, random_state=3))"
   ]
  },
  {
   "cell_type": "code",
   "execution_count": 50,
   "metadata": {
    "collapsed": true
   },
   "outputs": [],
   "source": [
    "# Kernel Ridge Regression\n",
    "\n",
    "KRR = KernelRidge(alpha=0.6, kernel='polynomial', degree=2, coef0=2.5)"
   ]
  },
  {
   "cell_type": "code",
   "execution_count": 51,
   "metadata": {
    "collapsed": true
   },
   "outputs": [],
   "source": [
    "# xgboost\n",
    "\n",
    "model_xgb = xgb.XGBRegressor(colsample_bytree=0.4603, gamma=0.0468, \n",
    "                             learning_rate=0.05, max_depth=3, \n",
    "                             min_child_weight=1.7817, n_estimators=2200,\n",
    "                             reg_alpha=0.4640, reg_lambda=0.8571,\n",
    "                             subsample=0.5213, silent=1,\n",
    "                             random_state =7, nthread = -1)"
   ]
  },
  {
   "cell_type": "markdown",
   "metadata": {},
   "source": [
    "#### Models for the PCA data "
   ]
  },
  {
   "cell_type": "code",
   "execution_count": 66,
   "metadata": {},
   "outputs": [
    {
     "name": "stdout",
     "output_type": "stream",
     "text": [
      "\n",
      "Lasso score: 0.0006 (0.0000)\n",
      "\n"
     ]
    }
   ],
   "source": [
    "score = rmsle_cv(lasso)\n",
    "\n",
    "print(\"\\nLasso score: {:.4f} ({:.4f})\\n\".format(score.mean(), score.std()))"
   ]
  },
  {
   "cell_type": "code",
   "execution_count": 67,
   "metadata": {},
   "outputs": [
    {
     "name": "stdout",
     "output_type": "stream",
     "text": [
      "ElasticNet score: 0.0006 (0.0001)\n",
      "\n"
     ]
    }
   ],
   "source": [
    "score = rmsle_cv(ENet)\n",
    "print(\"ElasticNet score: {:.4f} ({:.4f})\\n\".format(score.mean(), score.std()))"
   ]
  },
  {
   "cell_type": "code",
   "execution_count": 54,
   "metadata": {},
   "outputs": [
    {
     "name": "stdout",
     "output_type": "stream",
     "text": [
      "Kernel Ridge score: 0.0192 (0.0016)\n",
      "\n"
     ]
    }
   ],
   "source": [
    "score = rmsle_cv(KRR)\n",
    "print(\"Kernel Ridge score: {:.4f} ({:.4f})\\n\".format(score.mean(), score.std()))"
   ]
  },
  {
   "cell_type": "code",
   "execution_count": 55,
   "metadata": {},
   "outputs": [
    {
     "name": "stderr",
     "output_type": "stream",
     "text": [
      "/Users/rachit/anaconda2/lib/python2.7/site-packages/xgboost/core.py:346: ComplexWarning: Casting complex values to real discards the imaginary part\n",
      "  data = np.array(mat.reshape(mat.size), copy=False, dtype=np.float32)\n"
     ]
    },
    {
     "name": "stdout",
     "output_type": "stream",
     "text": [
      "Xgboost score: 0.0256 (0.0015)\n",
      "\n"
     ]
    }
   ],
   "source": [
    "score = rmsle_cv(model_xgb)\n",
    "print(\"Xgboost score: {:.4f} ({:.4f})\\n\".format(score.mean(), score.std()))"
   ]
  },
  {
   "cell_type": "markdown",
   "metadata": {},
   "source": [
    "#### Models for the original data"
   ]
  },
  {
   "cell_type": "code",
   "execution_count": 56,
   "metadata": {
    "collapsed": true
   },
   "outputs": [],
   "source": [
    "#Validation function\n",
    "n_folds = 5\n",
    "\n",
    "def rmsle_cv(model):\n",
    "    kf = KFold(n_folds, shuffle=True, random_state=42).get_n_splits(train_df_2.values)\n",
    "    rmse= np.sqrt(-cross_val_score(model, train_df_2.values, y, scoring=\"neg_mean_squared_error\", cv = kf))\n",
    "    return(rmse)\n"
   ]
  },
  {
   "cell_type": "code",
   "execution_count": 57,
   "metadata": {},
   "outputs": [
    {
     "name": "stdout",
     "output_type": "stream",
     "text": [
      "\n",
      "Lasso score: 0.0006 (0.0000)\n",
      "\n"
     ]
    }
   ],
   "source": [
    "score = rmsle_cv(lasso)\n",
    "\n",
    "print(\"\\nLasso score: {:.4f} ({:.4f})\\n\".format(score.mean(), score.std()))"
   ]
  },
  {
   "cell_type": "code",
   "execution_count": 58,
   "metadata": {},
   "outputs": [
    {
     "name": "stdout",
     "output_type": "stream",
     "text": [
      "ElasticNet score: 0.0006 (0.0001)\n",
      "\n"
     ]
    }
   ],
   "source": [
    "score = rmsle_cv(ENet)\n",
    "print(\"ElasticNet score: {:.4f} ({:.4f})\\n\".format(score.mean(), score.std()))"
   ]
  },
  {
   "cell_type": "code",
   "execution_count": 59,
   "metadata": {},
   "outputs": [
    {
     "name": "stdout",
     "output_type": "stream",
     "text": [
      "Xgboost score: 0.0147 (0.0014)\n",
      "\n"
     ]
    }
   ],
   "source": [
    "score = rmsle_cv(model_xgb)\n",
    "print(\"Xgboost score: {:.4f} ({:.4f})\\n\".format(score.mean(), score.std()))"
   ]
  },
  {
   "cell_type": "markdown",
   "metadata": {
    "collapsed": true
   },
   "source": [
    "### Building a class to create stacked model"
   ]
  },
  {
   "cell_type": "code",
   "execution_count": 61,
   "metadata": {
    "collapsed": true
   },
   "outputs": [],
   "source": [
    "from sklearn.base import BaseEstimator, TransformerMixin, RegressorMixin, clone\n",
    "from sklearn.model_selection import KFold, cross_val_score, train_test_split"
   ]
  },
  {
   "cell_type": "code",
   "execution_count": 62,
   "metadata": {},
   "outputs": [],
   "source": [
    "class AveragingModels(BaseEstimator, RegressorMixin, TransformerMixin):\n",
    "    def __init__(self, models):\n",
    "        self.models = models\n",
    "        \n",
    "    def fit(self, X, y):\n",
    "        self.models_ = [clone(x) for x in self.models]\n",
    "        \n",
    "        for model in self.models_:\n",
    "            model.fit(X,y)\n",
    "            \n",
    "        return self\n",
    "\n",
    "    def predict(self, X):\n",
    "        predictions = np.column_stack([model.predict(X) for model in self.models_])\n",
    "        \n",
    "        return np.mean(predictions, axis=1)"
   ]
  },
  {
   "cell_type": "code",
   "execution_count": 65,
   "metadata": {},
   "outputs": [
    {
     "name": "stdout",
     "output_type": "stream",
     "text": [
      " Averaged base models score: 0.0039 (0.0004)\n",
      "\n"
     ]
    }
   ],
   "source": [
    "AveragedModel = AveragingModels(models = (ENet, model_xgb, KRR, lasso))\n",
    "\n",
    "score = rmsle_cv(AveragedModel)\n",
    "print(\" Averaged base models score: {:.4f} ({:.4f})\\n\".format(score.mean(), score.std()))"
   ]
  },
  {
   "cell_type": "code",
   "execution_count": 69,
   "metadata": {},
   "outputs": [
    {
     "name": "stdout",
     "output_type": "stream",
     "text": [
      " Averaged base models score: 0.0200 (0.0014)\n",
      "\n"
     ]
    }
   ],
   "source": [
    "AveragedModel = AveragingModels(models = (ENet, model_xgb, KRR, lasso))\n",
    "\n",
    "score = rmsle_cv(AveragedModel)\n",
    "print(\" Averaged base models score: {:.4f} ({:.4f})\\n\".format(score.mean(), score.std()))"
   ]
  },
  {
   "cell_type": "code",
   "execution_count": null,
   "metadata": {
    "collapsed": true
   },
   "outputs": [],
   "source": []
  }
 ],
 "metadata": {
  "kernelspec": {
   "display_name": "Python 2",
   "language": "python",
   "name": "python2"
  },
  "language_info": {
   "codemirror_mode": {
    "name": "ipython",
    "version": 2
   },
   "file_extension": ".py",
   "mimetype": "text/x-python",
   "name": "python",
   "nbconvert_exporter": "python",
   "pygments_lexer": "ipython2",
   "version": "2.7.14"
  }
 },
 "nbformat": 4,
 "nbformat_minor": 2
}
