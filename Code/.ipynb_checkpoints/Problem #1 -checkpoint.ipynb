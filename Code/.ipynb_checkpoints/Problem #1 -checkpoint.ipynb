{
 "cells": [
  {
   "cell_type": "markdown",
   "metadata": {},
   "source": [
    "## Problem #1\n",
    "### Kaggle - House Prices: Advanced Regression Techniques "
   ]
  },
  {
   "cell_type": "markdown",
   "metadata": {},
   "source": [
    "After installing the API to download data from Kaggle"
   ]
  },
  {
   "cell_type": "code",
   "execution_count": 1,
   "metadata": {},
   "outputs": [
    {
     "name": "stdout",
     "output_type": "stream",
     "text": [
      "/Users/rachit/.kaggle/competitions/house-prices-advanced-regression-techniques\n"
     ]
    }
   ],
   "source": [
    "%cd ~/.kaggle/competitions/house-prices-advanced-regression-techniques"
   ]
  },
  {
   "cell_type": "code",
   "execution_count": 2,
   "metadata": {},
   "outputs": [
    {
     "name": "stdout",
     "output_type": "stream",
     "text": [
      "data_description.txt      test.csv                  train.csv.gz\r\n",
      "sample_submission.csv     test.csv.gz\r\n",
      "sample_submission.csv.gz  train.csv\r\n"
     ]
    }
   ],
   "source": [
    "%ls"
   ]
  },
  {
   "cell_type": "code",
   "execution_count": 3,
   "metadata": {
    "collapsed": true
   },
   "outputs": [],
   "source": [
    "import pandas as pd\n",
    "import numpy as np\n",
    "import seaborn as sns\n",
    "import matplotlib.pyplot as plt\n",
    "\n",
    "%matplotlib inline"
   ]
  },
  {
   "cell_type": "code",
   "execution_count": 4,
   "metadata": {
    "collapsed": true
   },
   "outputs": [],
   "source": [
    "train_df = pd.read_csv('train.csv')\n",
    "test_df = pd.read_csv('test.csv')"
   ]
  },
  {
   "cell_type": "code",
   "execution_count": 5,
   "metadata": {},
   "outputs": [
    {
     "data": {
      "text/html": [
       "<div>\n",
       "<style>\n",
       "    .dataframe thead tr:only-child th {\n",
       "        text-align: right;\n",
       "    }\n",
       "\n",
       "    .dataframe thead th {\n",
       "        text-align: left;\n",
       "    }\n",
       "\n",
       "    .dataframe tbody tr th {\n",
       "        vertical-align: top;\n",
       "    }\n",
       "</style>\n",
       "<table border=\"1\" class=\"dataframe\">\n",
       "  <thead>\n",
       "    <tr style=\"text-align: right;\">\n",
       "      <th></th>\n",
       "      <th>Id</th>\n",
       "      <th>MSSubClass</th>\n",
       "      <th>MSZoning</th>\n",
       "      <th>LotFrontage</th>\n",
       "      <th>LotArea</th>\n",
       "      <th>Street</th>\n",
       "      <th>Alley</th>\n",
       "      <th>LotShape</th>\n",
       "      <th>LandContour</th>\n",
       "      <th>Utilities</th>\n",
       "      <th>...</th>\n",
       "      <th>PoolArea</th>\n",
       "      <th>PoolQC</th>\n",
       "      <th>Fence</th>\n",
       "      <th>MiscFeature</th>\n",
       "      <th>MiscVal</th>\n",
       "      <th>MoSold</th>\n",
       "      <th>YrSold</th>\n",
       "      <th>SaleType</th>\n",
       "      <th>SaleCondition</th>\n",
       "      <th>SalePrice</th>\n",
       "    </tr>\n",
       "  </thead>\n",
       "  <tbody>\n",
       "    <tr>\n",
       "      <th>0</th>\n",
       "      <td>1</td>\n",
       "      <td>60</td>\n",
       "      <td>RL</td>\n",
       "      <td>65.0</td>\n",
       "      <td>8450</td>\n",
       "      <td>Pave</td>\n",
       "      <td>NaN</td>\n",
       "      <td>Reg</td>\n",
       "      <td>Lvl</td>\n",
       "      <td>AllPub</td>\n",
       "      <td>...</td>\n",
       "      <td>0</td>\n",
       "      <td>NaN</td>\n",
       "      <td>NaN</td>\n",
       "      <td>NaN</td>\n",
       "      <td>0</td>\n",
       "      <td>2</td>\n",
       "      <td>2008</td>\n",
       "      <td>WD</td>\n",
       "      <td>Normal</td>\n",
       "      <td>208500</td>\n",
       "    </tr>\n",
       "    <tr>\n",
       "      <th>1</th>\n",
       "      <td>2</td>\n",
       "      <td>20</td>\n",
       "      <td>RL</td>\n",
       "      <td>80.0</td>\n",
       "      <td>9600</td>\n",
       "      <td>Pave</td>\n",
       "      <td>NaN</td>\n",
       "      <td>Reg</td>\n",
       "      <td>Lvl</td>\n",
       "      <td>AllPub</td>\n",
       "      <td>...</td>\n",
       "      <td>0</td>\n",
       "      <td>NaN</td>\n",
       "      <td>NaN</td>\n",
       "      <td>NaN</td>\n",
       "      <td>0</td>\n",
       "      <td>5</td>\n",
       "      <td>2007</td>\n",
       "      <td>WD</td>\n",
       "      <td>Normal</td>\n",
       "      <td>181500</td>\n",
       "    </tr>\n",
       "    <tr>\n",
       "      <th>2</th>\n",
       "      <td>3</td>\n",
       "      <td>60</td>\n",
       "      <td>RL</td>\n",
       "      <td>68.0</td>\n",
       "      <td>11250</td>\n",
       "      <td>Pave</td>\n",
       "      <td>NaN</td>\n",
       "      <td>IR1</td>\n",
       "      <td>Lvl</td>\n",
       "      <td>AllPub</td>\n",
       "      <td>...</td>\n",
       "      <td>0</td>\n",
       "      <td>NaN</td>\n",
       "      <td>NaN</td>\n",
       "      <td>NaN</td>\n",
       "      <td>0</td>\n",
       "      <td>9</td>\n",
       "      <td>2008</td>\n",
       "      <td>WD</td>\n",
       "      <td>Normal</td>\n",
       "      <td>223500</td>\n",
       "    </tr>\n",
       "    <tr>\n",
       "      <th>3</th>\n",
       "      <td>4</td>\n",
       "      <td>70</td>\n",
       "      <td>RL</td>\n",
       "      <td>60.0</td>\n",
       "      <td>9550</td>\n",
       "      <td>Pave</td>\n",
       "      <td>NaN</td>\n",
       "      <td>IR1</td>\n",
       "      <td>Lvl</td>\n",
       "      <td>AllPub</td>\n",
       "      <td>...</td>\n",
       "      <td>0</td>\n",
       "      <td>NaN</td>\n",
       "      <td>NaN</td>\n",
       "      <td>NaN</td>\n",
       "      <td>0</td>\n",
       "      <td>2</td>\n",
       "      <td>2006</td>\n",
       "      <td>WD</td>\n",
       "      <td>Abnorml</td>\n",
       "      <td>140000</td>\n",
       "    </tr>\n",
       "    <tr>\n",
       "      <th>4</th>\n",
       "      <td>5</td>\n",
       "      <td>60</td>\n",
       "      <td>RL</td>\n",
       "      <td>84.0</td>\n",
       "      <td>14260</td>\n",
       "      <td>Pave</td>\n",
       "      <td>NaN</td>\n",
       "      <td>IR1</td>\n",
       "      <td>Lvl</td>\n",
       "      <td>AllPub</td>\n",
       "      <td>...</td>\n",
       "      <td>0</td>\n",
       "      <td>NaN</td>\n",
       "      <td>NaN</td>\n",
       "      <td>NaN</td>\n",
       "      <td>0</td>\n",
       "      <td>12</td>\n",
       "      <td>2008</td>\n",
       "      <td>WD</td>\n",
       "      <td>Normal</td>\n",
       "      <td>250000</td>\n",
       "    </tr>\n",
       "  </tbody>\n",
       "</table>\n",
       "<p>5 rows × 81 columns</p>\n",
       "</div>"
      ],
      "text/plain": [
       "   Id  MSSubClass MSZoning  LotFrontage  LotArea Street Alley LotShape  \\\n",
       "0   1          60       RL         65.0     8450   Pave   NaN      Reg   \n",
       "1   2          20       RL         80.0     9600   Pave   NaN      Reg   \n",
       "2   3          60       RL         68.0    11250   Pave   NaN      IR1   \n",
       "3   4          70       RL         60.0     9550   Pave   NaN      IR1   \n",
       "4   5          60       RL         84.0    14260   Pave   NaN      IR1   \n",
       "\n",
       "  LandContour Utilities    ...     PoolArea PoolQC Fence MiscFeature MiscVal  \\\n",
       "0         Lvl    AllPub    ...            0    NaN   NaN         NaN       0   \n",
       "1         Lvl    AllPub    ...            0    NaN   NaN         NaN       0   \n",
       "2         Lvl    AllPub    ...            0    NaN   NaN         NaN       0   \n",
       "3         Lvl    AllPub    ...            0    NaN   NaN         NaN       0   \n",
       "4         Lvl    AllPub    ...            0    NaN   NaN         NaN       0   \n",
       "\n",
       "  MoSold YrSold  SaleType  SaleCondition  SalePrice  \n",
       "0      2   2008        WD         Normal     208500  \n",
       "1      5   2007        WD         Normal     181500  \n",
       "2      9   2008        WD         Normal     223500  \n",
       "3      2   2006        WD        Abnorml     140000  \n",
       "4     12   2008        WD         Normal     250000  \n",
       "\n",
       "[5 rows x 81 columns]"
      ]
     },
     "execution_count": 5,
     "metadata": {},
     "output_type": "execute_result"
    }
   ],
   "source": [
    "train_df.head()"
   ]
  },
  {
   "cell_type": "code",
   "execution_count": 6,
   "metadata": {},
   "outputs": [
    {
     "data": {
      "image/png": "[encoded data removed]",
      "text/plain": [
       "<matplotlib.figure.Figure at 0x1a0c1ef390>"
      ]
     },
     "metadata": {},
     "output_type": "display_data"
    }
   ],
   "source": [
    "# plotting the dependant variable\n",
    "\n",
    "plt.figure(figsize=(8,6))\n",
    "plt.scatter(range(train_df.shape[0]), np.sort(train_df.SalePrice.values))\n",
    "plt.xlabel('index', fontsize=12)\n",
    "plt.ylabel('SalePrice', fontsize=12)\n",
    "plt.show()"
   ]
  },
  {
   "cell_type": "markdown",
   "metadata": {},
   "source": [
    "### Dependant Variable Analysis"
   ]
  },
  {
   "cell_type": "code",
   "execution_count": 85,
   "metadata": {
    "collapsed": true
   },
   "outputs": [],
   "source": [
    "from scipy import stats\n",
    "from scipy.stats import norm, skew #for some statistics"
   ]
  },
  {
   "cell_type": "code",
   "execution_count": 93,
   "metadata": {},
   "outputs": [
    {
     "name": "stdout",
     "output_type": "stream",
     "text": [
      "\n",
      " mu = 12.02 and sigma = 0.40\n",
      "\n"
     ]
    },
    {
     "data": {
      "image/png": "[encoded data removed]",
      "text/plain": [
       "<matplotlib.figure.Figure at 0x1a15a8c2d0>"
      ]
     },
     "metadata": {},
     "output_type": "display_data"
    },
    {
     "data": {
      "image/png": "[encoded data removed]",
      "text/plain": [
       "<matplotlib.figure.Figure at 0x1a15bae1d0>"
      ]
     },
     "metadata": {},
     "output_type": "display_data"
    }
   ],
   "source": [
    "sns.distplot(train_df['SalePrice'], fit=norm);\n",
    "\n",
    "(mu, sigma) = norm.fit(train_df['ln_SalePrice'])\n",
    "print ('\\n mu = {:.2f} and sigma = {:.2f}\\n'.format(mu, sigma))\n",
    "\n",
    "\n",
    "# plot the distribution\n",
    "plt.legend(['Normal dist. ($\\mu=${:.2f} and $\\sigma=${:.2f} )'.format(mu,sigma)])\n",
    "\n",
    "# also creating the Q-Q plot\n",
    "\n",
    "fig=plt.figure()\n",
    "res = stats.probplot(train_df['SalePrice'], plot=plt)\n",
    "plt.show()"
   ]
  },
  {
   "cell_type": "markdown",
   "metadata": {},
   "source": [
    "Dependant variable has right skew, and since linear models require normoal distribution, will apply transformation in the next step"
   ]
  },
  {
   "cell_type": "markdown",
   "metadata": {},
   "source": [
    "#### Log transformation of the dependant variable"
   ]
  },
  {
   "cell_type": "code",
   "execution_count": null,
   "metadata": {
    "collapsed": true
   },
   "outputs": [],
   "source": [
    "# using numpy's log1p, which is log(1+x) on the column\n",
    "\n",
    "train_df[\"ln_SalePrice\"] = np.log1p(train_df[\"SalePrice\"])"
   ]
  },
  {
   "cell_type": "code",
   "execution_count": 96,
   "metadata": {},
   "outputs": [
    {
     "data": {
      "image/png": "[encoded data removed]",
      "text/plain": [
       "<matplotlib.figure.Figure at 0x1a1562fb10>"
      ]
     },
     "metadata": {},
     "output_type": "display_data"
    },
    {
     "data": {
      "image/png": "[encoded data removed]",
      "text/plain": [
       "<matplotlib.figure.Figure at 0x1a18848b90>"
      ]
     },
     "metadata": {},
     "output_type": "display_data"
    }
   ],
   "source": [
    "# checking the new distribution\n",
    "(mu, sigma) = norm.fit(train_df['ln_SalePrice'])\n",
    "sns.distplot(train_df['ln_SalePrice'], fit=norm)\n",
    "\n",
    "plt.legend([('Norm dist. ($\\mu=${:.2f} and $\\sigma=${:.2f}').format(mu, sigma)])\n",
    "\n",
    "fig = plt.figure()\n",
    "res = stats.probplot(train_df['ln_SalePrice'], plot=plt)\n",
    "plt.show()\n",
    "\n"
   ]
  },
  {
   "cell_type": "markdown",
   "metadata": {},
   "source": [
    "#### Fill Rate Analysis"
   ]
  },
  {
   "cell_type": "code",
   "execution_count": 7,
   "metadata": {},
   "outputs": [
    {
     "data": {
      "image/png": "[encoded data removed]",
      "text/plain": [
       "<matplotlib.figure.Figure at 0x1a11e542d0>"
      ]
     },
     "metadata": {},
     "output_type": "display_data"
    }
   ],
   "source": [
    "missing_df = train_df.isnull().sum(axis=0).reset_index()\n",
    "missing_df.columns = ['column_name', 'missing_count']\n",
    "missing_df = missing_df.loc[missing_df['missing_count']>0]\n",
    "missing_df = missing_df.sort_values(by='missing_count')\n",
    "\n",
    "ind = np.arange(missing_df.shape[0])\n",
    "width = 0.9\n",
    "fig, ax = plt.subplots(figsize=(12,18))\n",
    "rects = ax.barh(ind, missing_df.missing_count.values, color='blue')\n",
    "ax.set_yticks(ind)\n",
    "ax.set_yticklabels(missing_df.column_name.values, rotation='horizontal')\n",
    "ax.set_xlabel(\"Count of missing values\")\n",
    "ax.set_title(\"Number of missing values in each column\")\n",
    "plt.show()\n"
   ]
  },
  {
   "cell_type": "code",
   "execution_count": 8,
   "metadata": {},
   "outputs": [
    {
     "data": {
      "text/html": [
       "<div>\n",
       "<style>\n",
       "    .dataframe thead tr:only-child th {\n",
       "        text-align: right;\n",
       "    }\n",
       "\n",
       "    .dataframe thead th {\n",
       "        text-align: left;\n",
       "    }\n",
       "\n",
       "    .dataframe tbody tr th {\n",
       "        vertical-align: top;\n",
       "    }\n",
       "</style>\n",
       "<table border=\"1\" class=\"dataframe\">\n",
       "  <thead>\n",
       "    <tr style=\"text-align: right;\">\n",
       "      <th></th>\n",
       "      <th>column_name</th>\n",
       "      <th>missing_count</th>\n",
       "      <th>missing_ratio</th>\n",
       "    </tr>\n",
       "  </thead>\n",
       "  <tbody>\n",
       "    <tr>\n",
       "      <th>6</th>\n",
       "      <td>Alley</td>\n",
       "      <td>1369</td>\n",
       "      <td>0.937671</td>\n",
       "    </tr>\n",
       "    <tr>\n",
       "      <th>72</th>\n",
       "      <td>PoolQC</td>\n",
       "      <td>1453</td>\n",
       "      <td>0.995205</td>\n",
       "    </tr>\n",
       "    <tr>\n",
       "      <th>73</th>\n",
       "      <td>Fence</td>\n",
       "      <td>1179</td>\n",
       "      <td>0.807534</td>\n",
       "    </tr>\n",
       "    <tr>\n",
       "      <th>74</th>\n",
       "      <td>MiscFeature</td>\n",
       "      <td>1406</td>\n",
       "      <td>0.963014</td>\n",
       "    </tr>\n",
       "  </tbody>\n",
       "</table>\n",
       "</div>"
      ],
      "text/plain": [
       "    column_name  missing_count  missing_ratio\n",
       "6         Alley           1369       0.937671\n",
       "72       PoolQC           1453       0.995205\n",
       "73        Fence           1179       0.807534\n",
       "74  MiscFeature           1406       0.963014"
      ]
     },
     "execution_count": 8,
     "metadata": {},
     "output_type": "execute_result"
    }
   ],
   "source": [
    "# Can drop the below variables since there is more than 80% missing data\n",
    "\n",
    "missing_df = train_df.isnull().sum(axis=0).reset_index()\n",
    "missing_df.columns = ['column_name', 'missing_count']\n",
    "missing_df['missing_ratio'] = missing_df['missing_count'] / train_df.shape[0]\n",
    "missing_df.loc[missing_df['missing_ratio']>0.80]"
   ]
  },
  {
   "cell_type": "code",
   "execution_count": 9,
   "metadata": {
    "collapsed": true
   },
   "outputs": [],
   "source": [
    "cols_to_drop = missing_df.loc[missing_df['missing_ratio']>0.80]\n",
    "lst_var_to_drop = list(cols_to_drop.column_name.values)\n",
    "\n",
    "train_df.drop(lst_var_to_drop, axis=1, inplace=True)"
   ]
  },
  {
   "cell_type": "code",
   "execution_count": 10,
   "metadata": {
    "collapsed": true
   },
   "outputs": [],
   "source": [
    "dtype_df = train_df.dtypes.reset_index()\n",
    "dtype_df.columns = [\"Count\", \"Column Type\"]"
   ]
  },
  {
   "cell_type": "code",
   "execution_count": 11,
   "metadata": {},
   "outputs": [
    {
     "data": {
      "text/html": [
       "<div>\n",
       "<style>\n",
       "    .dataframe thead tr:only-child th {\n",
       "        text-align: right;\n",
       "    }\n",
       "\n",
       "    .dataframe thead th {\n",
       "        text-align: left;\n",
       "    }\n",
       "\n",
       "    .dataframe tbody tr th {\n",
       "        vertical-align: top;\n",
       "    }\n",
       "</style>\n",
       "<table border=\"1\" class=\"dataframe\">\n",
       "  <thead>\n",
       "    <tr style=\"text-align: right;\">\n",
       "      <th></th>\n",
       "      <th>Column Type</th>\n",
       "      <th>Count</th>\n",
       "    </tr>\n",
       "  </thead>\n",
       "  <tbody>\n",
       "    <tr>\n",
       "      <th>0</th>\n",
       "      <td>int64</td>\n",
       "      <td>35</td>\n",
       "    </tr>\n",
       "    <tr>\n",
       "      <th>1</th>\n",
       "      <td>float64</td>\n",
       "      <td>3</td>\n",
       "    </tr>\n",
       "    <tr>\n",
       "      <th>2</th>\n",
       "      <td>object</td>\n",
       "      <td>39</td>\n",
       "    </tr>\n",
       "  </tbody>\n",
       "</table>\n",
       "</div>"
      ],
      "text/plain": [
       "  Column Type  Count\n",
       "0       int64     35\n",
       "1     float64      3\n",
       "2      object     39"
      ]
     },
     "execution_count": 11,
     "metadata": {},
     "output_type": "execute_result"
    }
   ],
   "source": [
    "dtype_df.groupby('Column Type').count().reset_index()"
   ]
  },
  {
   "cell_type": "code",
   "execution_count": 12,
   "metadata": {
    "collapsed": true
   },
   "outputs": [],
   "source": [
    "# seperating out the categorical variables\n",
    "\n",
    "cat_var = dtype_df[dtype_df['Column Type'] == 'object'].Count.values"
   ]
  },
  {
   "cell_type": "code",
   "execution_count": 13,
   "metadata": {
    "collapsed": true
   },
   "outputs": [],
   "source": [
    "# creating the one hot encoded variables, and dropping the original variables\n",
    "\n",
    "def get_dummies_ohe(df, varlst):\n",
    "    df_mod = df.copy()\n",
    "    for var in varlst:\n",
    "        new_var_name_lst = []\n",
    "        new_var_lst = pd.get_dummies(df[var])\n",
    "        df_mod = df_mod.drop(var, axis=1)\n",
    "        for elem in new_var_lst.columns:\n",
    "            new_var_name_lst.append(var+'_'+str(elem))\n",
    "        new_var_lst.columns = new_var_name_lst\n",
    "        df_mod = df_mod.join(new_var_lst)\n",
    "    return df_mod"
   ]
  },
  {
   "cell_type": "code",
   "execution_count": 14,
   "metadata": {
    "collapsed": true
   },
   "outputs": [],
   "source": [
    "train_df_2 = get_dummies_ohe(train_df, cat_var)"
   ]
  },
  {
   "cell_type": "code",
   "execution_count": 15,
   "metadata": {},
   "outputs": [
    {
     "data": {
      "text/plain": [
       "277"
      ]
     },
     "execution_count": 15,
     "metadata": {},
     "output_type": "execute_result"
    }
   ],
   "source": [
    "len(train_df_2.columns)"
   ]
  },
  {
   "cell_type": "code",
   "execution_count": 17,
   "metadata": {},
   "outputs": [
    {
     "name": "stdout",
     "output_type": "stream",
     "text": [
      "Number of columns changed from 77 to 277 after one hot encoding\n"
     ]
    }
   ],
   "source": [
    "print \"Number of columns changed from {} to {} after one hot encoding\".format(len(train_df.columns), len(train_df_2.columns))"
   ]
  },
  {
   "cell_type": "code",
   "execution_count": 20,
   "metadata": {},
   "outputs": [
    {
     "data": {
      "text/html": [
       "<div>\n",
       "<style>\n",
       "    .dataframe thead tr:only-child th {\n",
       "        text-align: right;\n",
       "    }\n",
       "\n",
       "    .dataframe thead th {\n",
       "        text-align: left;\n",
       "    }\n",
       "\n",
       "    .dataframe tbody tr th {\n",
       "        vertical-align: top;\n",
       "    }\n",
       "</style>\n",
       "<table border=\"1\" class=\"dataframe\">\n",
       "  <thead>\n",
       "    <tr style=\"text-align: right;\">\n",
       "      <th></th>\n",
       "      <th>Id</th>\n",
       "      <th>MSSubClass</th>\n",
       "      <th>LotFrontage</th>\n",
       "      <th>LotArea</th>\n",
       "      <th>OverallQual</th>\n",
       "      <th>OverallCond</th>\n",
       "      <th>YearBuilt</th>\n",
       "      <th>YearRemodAdd</th>\n",
       "      <th>MasVnrArea</th>\n",
       "      <th>BsmtFinSF1</th>\n",
       "      <th>...</th>\n",
       "      <th>SaleType_ConLw</th>\n",
       "      <th>SaleType_New</th>\n",
       "      <th>SaleType_Oth</th>\n",
       "      <th>SaleType_WD</th>\n",
       "      <th>SaleCondition_Abnorml</th>\n",
       "      <th>SaleCondition_AdjLand</th>\n",
       "      <th>SaleCondition_Alloca</th>\n",
       "      <th>SaleCondition_Family</th>\n",
       "      <th>SaleCondition_Normal</th>\n",
       "      <th>SaleCondition_Partial</th>\n",
       "    </tr>\n",
       "  </thead>\n",
       "  <tbody>\n",
       "    <tr>\n",
       "      <th>0</th>\n",
       "      <td>1</td>\n",
       "      <td>60</td>\n",
       "      <td>65.0</td>\n",
       "      <td>8450</td>\n",
       "      <td>7</td>\n",
       "      <td>5</td>\n",
       "      <td>2003</td>\n",
       "      <td>2003</td>\n",
       "      <td>196.0</td>\n",
       "      <td>706</td>\n",
       "      <td>...</td>\n",
       "      <td>0</td>\n",
       "      <td>0</td>\n",
       "      <td>0</td>\n",
       "      <td>1</td>\n",
       "      <td>0</td>\n",
       "      <td>0</td>\n",
       "      <td>0</td>\n",
       "      <td>0</td>\n",
       "      <td>1</td>\n",
       "      <td>0</td>\n",
       "    </tr>\n",
       "    <tr>\n",
       "      <th>1</th>\n",
       "      <td>2</td>\n",
       "      <td>20</td>\n",
       "      <td>80.0</td>\n",
       "      <td>9600</td>\n",
       "      <td>6</td>\n",
       "      <td>8</td>\n",
       "      <td>1976</td>\n",
       "      <td>1976</td>\n",
       "      <td>0.0</td>\n",
       "      <td>978</td>\n",
       "      <td>...</td>\n",
       "      <td>0</td>\n",
       "      <td>0</td>\n",
       "      <td>0</td>\n",
       "      <td>1</td>\n",
       "      <td>0</td>\n",
       "      <td>0</td>\n",
       "      <td>0</td>\n",
       "      <td>0</td>\n",
       "      <td>1</td>\n",
       "      <td>0</td>\n",
       "    </tr>\n",
       "    <tr>\n",
       "      <th>2</th>\n",
       "      <td>3</td>\n",
       "      <td>60</td>\n",
       "      <td>68.0</td>\n",
       "      <td>11250</td>\n",
       "      <td>7</td>\n",
       "      <td>5</td>\n",
       "      <td>2001</td>\n",
       "      <td>2002</td>\n",
       "      <td>162.0</td>\n",
       "      <td>486</td>\n",
       "      <td>...</td>\n",
       "      <td>0</td>\n",
       "      <td>0</td>\n",
       "      <td>0</td>\n",
       "      <td>1</td>\n",
       "      <td>0</td>\n",
       "      <td>0</td>\n",
       "      <td>0</td>\n",
       "      <td>0</td>\n",
       "      <td>1</td>\n",
       "      <td>0</td>\n",
       "    </tr>\n",
       "    <tr>\n",
       "      <th>3</th>\n",
       "      <td>4</td>\n",
       "      <td>70</td>\n",
       "      <td>60.0</td>\n",
       "      <td>9550</td>\n",
       "      <td>7</td>\n",
       "      <td>5</td>\n",
       "      <td>1915</td>\n",
       "      <td>1970</td>\n",
       "      <td>0.0</td>\n",
       "      <td>216</td>\n",
       "      <td>...</td>\n",
       "      <td>0</td>\n",
       "      <td>0</td>\n",
       "      <td>0</td>\n",
       "      <td>1</td>\n",
       "      <td>1</td>\n",
       "      <td>0</td>\n",
       "      <td>0</td>\n",
       "      <td>0</td>\n",
       "      <td>0</td>\n",
       "      <td>0</td>\n",
       "    </tr>\n",
       "    <tr>\n",
       "      <th>4</th>\n",
       "      <td>5</td>\n",
       "      <td>60</td>\n",
       "      <td>84.0</td>\n",
       "      <td>14260</td>\n",
       "      <td>8</td>\n",
       "      <td>5</td>\n",
       "      <td>2000</td>\n",
       "      <td>2000</td>\n",
       "      <td>350.0</td>\n",
       "      <td>655</td>\n",
       "      <td>...</td>\n",
       "      <td>0</td>\n",
       "      <td>0</td>\n",
       "      <td>0</td>\n",
       "      <td>1</td>\n",
       "      <td>0</td>\n",
       "      <td>0</td>\n",
       "      <td>0</td>\n",
       "      <td>0</td>\n",
       "      <td>1</td>\n",
       "      <td>0</td>\n",
       "    </tr>\n",
       "  </tbody>\n",
       "</table>\n",
       "<p>5 rows × 277 columns</p>\n",
       "</div>"
      ],
      "text/plain": [
       "   Id  MSSubClass  LotFrontage  LotArea  OverallQual  OverallCond  YearBuilt  \\\n",
       "0   1          60         65.0     8450            7            5       2003   \n",
       "1   2          20         80.0     9600            6            8       1976   \n",
       "2   3          60         68.0    11250            7            5       2001   \n",
       "3   4          70         60.0     9550            7            5       1915   \n",
       "4   5          60         84.0    14260            8            5       2000   \n",
       "\n",
       "   YearRemodAdd  MasVnrArea  BsmtFinSF1          ...            \\\n",
       "0          2003       196.0         706          ...             \n",
       "1          1976         0.0         978          ...             \n",
       "2          2002       162.0         486          ...             \n",
       "3          1970         0.0         216          ...             \n",
       "4          2000       350.0         655          ...             \n",
       "\n",
       "   SaleType_ConLw  SaleType_New  SaleType_Oth  SaleType_WD  \\\n",
       "0               0             0             0            1   \n",
       "1               0             0             0            1   \n",
       "2               0             0             0            1   \n",
       "3               0             0             0            1   \n",
       "4               0             0             0            1   \n",
       "\n",
       "   SaleCondition_Abnorml  SaleCondition_AdjLand  SaleCondition_Alloca  \\\n",
       "0                      0                      0                     0   \n",
       "1                      0                      0                     0   \n",
       "2                      0                      0                     0   \n",
       "3                      1                      0                     0   \n",
       "4                      0                      0                     0   \n",
       "\n",
       "   SaleCondition_Family  SaleCondition_Normal  SaleCondition_Partial  \n",
       "0                     0                     1                      0  \n",
       "1                     0                     1                      0  \n",
       "2                     0                     1                      0  \n",
       "3                     0                     0                      0  \n",
       "4                     0                     1                      0  \n",
       "\n",
       "[5 rows x 277 columns]"
      ]
     },
     "execution_count": 20,
     "metadata": {},
     "output_type": "execute_result"
    }
   ],
   "source": [
    "train_df_2.head()"
   ]
  },
  {
   "cell_type": "markdown",
   "metadata": {},
   "source": [
    "### Principal Component Analysis"
   ]
  },
  {
   "cell_type": "code",
   "execution_count": 25,
   "metadata": {
    "collapsed": true
   },
   "outputs": [],
   "source": [
    "from matplotlib.cm import register_cmap\n",
    "from scipy import stats\n",
    "from sklearn.decomposition import PCA as sklearnPCA\n",
    "from sklearn.preprocessing import StandardScaler\n"
   ]
  },
  {
   "cell_type": "code",
   "execution_count": 22,
   "metadata": {
    "collapsed": true
   },
   "outputs": [],
   "source": [
    "??sklearnPCA"
   ]
  },
  {
   "cell_type": "code",
   "execution_count": 36,
   "metadata": {
    "collapsed": true
   },
   "outputs": [],
   "source": [
    "y = train_df_2['SalePrice']\n",
    "X = train_df_2.drop(['SalePrice'], axis=1, inplace=False)"
   ]
  },
  {
   "cell_type": "code",
   "execution_count": 38,
   "metadata": {},
   "outputs": [],
   "source": [
    "X = X.replace(np.nan, 0, regex=True)\n",
    "X_std = StandardScaler().fit_transform(X)"
   ]
  },
  {
   "cell_type": "code",
   "execution_count": 39,
   "metadata": {},
   "outputs": [
    {
     "name": "stdout",
     "output_type": "stream",
     "text": [
      "Covariance matrix \n",
      "[[  1.00068540e+00   1.11641249e-02  -1.97748644e-02 ...,   4.86876074e-03\n",
      "    1.58923326e-02  -2.07524240e-02]\n",
      " [  1.11641249e-02   1.00068540e+00  -2.15170263e-01 ...,   9.83757919e-04\n",
      "    2.43757919e-02  -5.11034975e-02]\n",
      " [ -1.97748644e-02  -2.15170263e-01   1.00068540e+00 ...,   2.85082928e-02\n",
      "   -1.34207108e-01   1.84228777e-01]\n",
      " ..., \n",
      " [  4.86876074e-03   9.83757919e-04   2.85082928e-02 ...,   1.00068540e+00\n",
      "   -2.52179093e-01  -3.60865770e-02]\n",
      " [  1.58923326e-02   2.43757919e-02  -1.34207108e-01 ...,  -2.52179093e-01\n",
      "    1.00068540e+00  -6.54771399e-01]\n",
      " [ -2.07524240e-02  -5.11034975e-02   1.84228777e-01 ...,  -3.60865770e-02\n",
      "   -6.54771399e-01   1.00068540e+00]]\n"
     ]
    }
   ],
   "source": [
    "mean_vec = np.mean(X_std, axis=0)\n",
    "cov_mat = (X_std - mean_vec).T.dot((X_std - mean_vec)) / (X_std.shape[0]-1)\n",
    "print('Covariance matrix \\n%s' %cov_mat)"
   ]
  },
  {
   "cell_type": "code",
   "execution_count": 40,
   "metadata": {
    "collapsed": true
   },
   "outputs": [],
   "source": [
    "#Perform eigendecomposition on covariance matrix\n",
    "cov_mat = np.cov(X_std.T)\n",
    "eig_vals, eig_vecs = np.linalg.eig(cov_mat)"
   ]
  },
  {
   "cell_type": "code",
   "execution_count": 30,
   "metadata": {},
   "outputs": [
    {
     "name": "stdout",
     "output_type": "stream",
     "text": [
      "Eigenvectors \n",
      "[[ -7.91593303e-04 +0.00000000e+00j   3.03850753e-03 +0.00000000e+00j\n",
      "   -6.09761178e-03 +0.00000000e+00j ...,  -7.67988533e-16 +0.00000000e+00j\n",
      "   -1.61883028e-16 +2.72818395e-17j  -1.61883028e-16 -2.72818395e-17j]\n",
      " [ -7.40744164e-03 +0.00000000e+00j  -9.74742782e-02 +0.00000000e+00j\n",
      "   -7.86686134e-02 +0.00000000e+00j ...,  -3.47620951e-15 +0.00000000e+00j\n",
      "   -3.79078472e-15 +1.66134791e-15j  -3.79078472e-15 -1.66134791e-15j]\n",
      " [  3.67168866e-02 +0.00000000e+00j  -3.27994755e-02 +0.00000000e+00j\n",
      "    1.06033115e-01 +0.00000000e+00j ...,   5.85543790e-16 +0.00000000e+00j\n",
      "    5.17676362e-16 +1.29475770e-16j   5.17676362e-16 -1.29475770e-16j]\n",
      " ..., \n",
      " [ -8.37290018e-03 +0.00000000e+00j   6.42355869e-03 +0.00000000e+00j\n",
      "    6.41069433e-03 +0.00000000e+00j ...,  -4.63687336e-02 +0.00000000e+00j\n",
      "    5.31555526e-03 -3.04717358e-02j   5.31555526e-03 +3.04717358e-02j]\n",
      " [ -4.84583173e-02 +0.00000000e+00j   6.45711264e-02 +0.00000000e+00j\n",
      "   -4.76517439e-02 +0.00000000e+00j ...,  -1.53076331e-01 +0.00000000e+00j\n",
      "    1.75481544e-02 -1.00595836e-01j   1.75481544e-02 +1.00595836e-01j]\n",
      " [  1.02496435e-01 +0.00000000e+00j  -9.23863657e-02 +0.00000000e+00j\n",
      "    3.77868105e-02 +0.00000000e+00j ...,  -1.11615531e-01 +0.00000000e+00j\n",
      "    1.27952281e-02 -7.33494042e-02j   1.27952281e-02 +7.33494042e-02j]]\n",
      "\n",
      "Eigenvalues \n",
      "[  1.83304314e+01 +0.00000000e+00j   8.16944003e+00 +0.00000000e+00j\n",
      "   6.70833976e+00 +0.00000000e+00j   5.50341245e+00 +0.00000000e+00j\n",
      "   4.90924018e+00 +0.00000000e+00j   4.52295693e+00 +0.00000000e+00j\n",
      "   4.10500910e+00 +0.00000000e+00j   3.49692839e+00 +0.00000000e+00j\n",
      "   3.39541728e+00 +0.00000000e+00j   3.32041891e+00 +0.00000000e+00j\n",
      "   3.15085385e+00 +0.00000000e+00j   3.06337973e+00 +0.00000000e+00j\n",
      "   2.88748096e+00 +0.00000000e+00j   2.87486894e+00 +0.00000000e+00j\n",
      "   2.76827450e+00 +0.00000000e+00j   2.74855599e+00 +0.00000000e+00j\n",
      "   2.63697416e+00 +0.00000000e+00j   2.57476179e+00 +0.00000000e+00j\n",
      "   2.50675198e+00 +0.00000000e+00j   2.46935946e+00 +0.00000000e+00j\n",
      "   2.42999183e+00 +0.00000000e+00j   2.35086922e+00 +0.00000000e+00j\n",
      "   2.31761678e+00 +0.00000000e+00j   2.26654671e+00 +0.00000000e+00j\n",
      "   2.22376306e+00 +0.00000000e+00j   2.20610248e+00 +0.00000000e+00j\n",
      "   2.19721733e+00 +0.00000000e+00j   2.15531496e+00 +0.00000000e+00j\n",
      "   2.12773677e+00 +0.00000000e+00j   2.09717263e+00 +0.00000000e+00j\n",
      "   2.08716540e+00 +0.00000000e+00j   2.06313828e+00 +0.00000000e+00j\n",
      "   1.99506853e+00 +0.00000000e+00j   1.96327622e+00 +0.00000000e+00j\n",
      "   1.95372484e+00 +0.00000000e+00j   1.91190906e+00 +0.00000000e+00j\n",
      "   1.89609850e+00 +0.00000000e+00j   1.88529266e+00 +0.00000000e+00j\n",
      "   1.86326274e+00 +0.00000000e+00j   1.83262660e+00 +0.00000000e+00j\n",
      "   1.79936041e+00 +0.00000000e+00j   1.77402305e+00 +0.00000000e+00j\n",
      "   1.74327564e+00 +0.00000000e+00j   1.72150465e+00 +0.00000000e+00j\n",
      "   1.69191269e+00 +0.00000000e+00j   1.65186276e+00 +0.00000000e+00j\n",
      "   1.67576607e+00 +0.00000000e+00j   1.64423484e+00 +0.00000000e+00j\n",
      "   1.60924968e+00 +0.00000000e+00j   1.59778017e+00 +0.00000000e+00j\n",
      "   1.58287559e+00 +0.00000000e+00j   1.56034811e+00 +0.00000000e+00j\n",
      "   1.54081871e+00 +0.00000000e+00j   1.52594312e+00 +0.00000000e+00j\n",
      "   1.49644659e+00 +0.00000000e+00j   1.48193949e+00 +0.00000000e+00j\n",
      "   1.47696019e+00 +0.00000000e+00j   1.45428457e+00 +0.00000000e+00j\n",
      "   1.43028147e+00 +0.00000000e+00j   1.41944659e+00 +0.00000000e+00j\n",
      "   1.41045367e+00 +0.00000000e+00j   1.39696579e+00 +0.00000000e+00j\n",
      "   1.38201092e+00 +0.00000000e+00j   1.35747761e+00 +0.00000000e+00j\n",
      "   1.35190838e+00 +0.00000000e+00j   1.33387360e+00 +0.00000000e+00j\n",
      "   1.29917381e+00 +0.00000000e+00j   1.30657078e+00 +0.00000000e+00j\n",
      "   1.32402940e+00 +0.00000000e+00j   1.28259449e+00 +0.00000000e+00j\n",
      "   1.27475079e+00 +0.00000000e+00j   1.27031743e+00 +0.00000000e+00j\n",
      "   1.25029164e+00 +0.00000000e+00j   1.23746512e+00 +0.00000000e+00j\n",
      "   1.23277092e+00 +0.00000000e+00j   1.22387268e+00 +0.00000000e+00j\n",
      "   1.20047441e+00 +0.00000000e+00j   1.19308440e+00 +0.00000000e+00j\n",
      "   1.18110381e+00 +0.00000000e+00j   1.17933759e+00 +0.00000000e+00j\n",
      "   1.16730082e+00 +0.00000000e+00j   1.15879178e+00 +0.00000000e+00j\n",
      "   1.15061355e+00 +0.00000000e+00j   1.14177664e+00 +0.00000000e+00j\n",
      "   1.12847120e+00 +0.00000000e+00j   1.09109199e+00 +0.00000000e+00j\n",
      "   1.11243752e+00 +0.00000000e+00j   1.10638702e+00 +0.00000000e+00j\n",
      "   1.08965719e+00 +0.00000000e+00j   1.07587653e+00 +0.00000000e+00j\n",
      "   1.07455049e+00 +0.00000000e+00j   1.06272140e+00 +0.00000000e+00j\n",
      "   1.05980377e+00 +0.00000000e+00j   1.04941048e+00 +0.00000000e+00j\n",
      "   1.04044691e+00 +0.00000000e+00j   1.03575250e+00 +0.00000000e+00j\n",
      "   1.03145760e+00 +0.00000000e+00j   1.02295443e+00 +0.00000000e+00j\n",
      "   1.00236348e+00 +0.00000000e+00j   1.00014084e+00 +0.00000000e+00j\n",
      "   9.88388524e-01 +0.00000000e+00j   9.82590136e-01 +0.00000000e+00j\n",
      "   9.70906344e-01 +0.00000000e+00j   9.63616761e-01 +0.00000000e+00j\n",
      "   9.56595266e-01 +0.00000000e+00j   9.35170610e-01 +0.00000000e+00j\n",
      "   9.28292776e-01 +0.00000000e+00j   9.25158739e-01 +0.00000000e+00j\n",
      "   9.20471455e-01 +0.00000000e+00j   9.11240076e-01 +0.00000000e+00j\n",
      "   9.01847823e-01 +0.00000000e+00j   8.94178145e-01 +0.00000000e+00j\n",
      "   8.81070012e-01 +0.00000000e+00j   8.69620774e-01 +0.00000000e+00j\n",
      "   8.65808945e-01 +0.00000000e+00j   8.60329824e-01 +0.00000000e+00j\n",
      "   8.50408554e-01 +0.00000000e+00j   8.42841272e-01 +0.00000000e+00j\n",
      "   8.35437636e-01 +0.00000000e+00j   8.26078927e-01 +0.00000000e+00j\n",
      "   8.21797799e-01 +0.00000000e+00j   8.19097884e-01 +0.00000000e+00j\n",
      "   8.05195846e-01 +0.00000000e+00j   8.02815066e-01 +0.00000000e+00j\n",
      "   7.92150045e-01 +0.00000000e+00j   7.87704126e-01 +0.00000000e+00j\n",
      "   2.17172252e-01 +0.00000000e+00j   2.10709713e-01 +0.00000000e+00j\n",
      "   1.88065791e-01 +0.00000000e+00j   1.94714854e-01 +0.00000000e+00j\n",
      "   2.07113015e-01 +0.00000000e+00j   1.65894941e-01 +0.00000000e+00j\n",
      "   1.62611545e-01 +0.00000000e+00j   1.57277052e-01 +0.00000000e+00j\n",
      "   1.54712718e-01 +0.00000000e+00j   1.49944302e-01 +0.00000000e+00j\n",
      "   1.44649873e-01 +0.00000000e+00j   1.26535061e-01 +0.00000000e+00j\n",
      "   1.21091901e-01 +0.00000000e+00j   1.15382754e-01 +0.00000000e+00j\n",
      "   9.86105368e-02 +0.00000000e+00j   1.03142522e-01 +0.00000000e+00j\n",
      "   1.04228853e-01 +0.00000000e+00j   8.20158582e-02 +0.00000000e+00j\n",
      "   8.33744784e-02 +0.00000000e+00j   6.43295098e-02 +0.00000000e+00j\n",
      "   7.06583787e-02 +0.00000000e+00j   6.91361554e-02 +0.00000000e+00j\n",
      "   1.39954539e-01 +0.00000000e+00j   5.53835277e-02 +0.00000000e+00j\n",
      "   2.30447752e-01 +0.00000000e+00j   2.26868127e-01 +0.00000000e+00j\n",
      "   7.73923564e-01 +0.00000000e+00j   7.67711271e-01 +0.00000000e+00j\n",
      "   2.42839333e-01 +0.00000000e+00j   2.48291690e-01 +0.00000000e+00j\n",
      "   5.04582523e-02 +0.00000000e+00j   7.61219625e-01 +0.00000000e+00j\n",
      "   7.56800227e-01 +0.00000000e+00j   7.46022268e-01 +0.00000000e+00j\n",
      "   4.80872831e-02 +0.00000000e+00j   4.19143418e-02 +0.00000000e+00j\n",
      "   2.35147672e-01 +0.00000000e+00j   2.63447978e-01 +0.00000000e+00j\n",
      "   2.77832175e-01 +0.00000000e+00j   2.87296552e-01 +0.00000000e+00j\n",
      "   2.79580705e-01 +0.00000000e+00j   7.34431471e-01 +0.00000000e+00j\n",
      "   7.33386246e-01 +0.00000000e+00j   7.22845464e-01 +0.00000000e+00j\n",
      "   7.11783175e-01 +0.00000000e+00j   3.32878233e-02 +0.00000000e+00j\n",
      "   2.97939044e-01 +0.00000000e+00j   3.01515523e-01 +0.00000000e+00j\n",
      "   3.05246093e-01 +0.00000000e+00j   7.20256064e-01 +0.00000000e+00j\n",
      "   7.02124233e-01 +0.00000000e+00j   6.98144746e-01 +0.00000000e+00j\n",
      "   6.88924926e-01 +0.00000000e+00j   6.83186210e-01 +0.00000000e+00j\n",
      "   6.78098408e-01 +0.00000000e+00j   6.67631033e-01 +0.00000000e+00j\n",
      "   6.61275308e-01 +0.00000000e+00j   6.52041196e-01 +0.00000000e+00j\n",
      "   3.10997480e-01 +0.00000000e+00j   3.36887253e-01 +0.00000000e+00j\n",
      "   3.32283014e-01 +0.00000000e+00j   3.24427970e-01 +0.00000000e+00j\n",
      "   3.48088639e-01 +0.00000000e+00j   3.65956042e-01 +0.00000000e+00j\n",
      "   3.52247768e-01 +0.00000000e+00j   3.70254205e-01 +0.00000000e+00j\n",
      "   3.77648916e-01 +0.00000000e+00j   3.83697635e-01 +0.00000000e+00j\n",
      "   6.38541141e-01 +0.00000000e+00j   6.41927895e-01 +0.00000000e+00j\n",
      "   6.23545198e-01 +0.00000000e+00j   6.25674340e-01 +0.00000000e+00j\n",
      "   2.02529194e-02 +0.00000000e+00j   1.79355512e-02 +0.00000000e+00j\n",
      "   6.15595823e-01 +0.00000000e+00j   6.10876607e-01 +0.00000000e+00j\n",
      "   5.88466733e-01 +0.00000000e+00j   6.07936310e-01 +0.00000000e+00j\n",
      "   5.71530194e-01 +0.00000000e+00j   4.03200303e-01 +0.00000000e+00j\n",
      "   4.12241062e-01 +0.00000000e+00j   4.14917490e-01 +0.00000000e+00j\n",
      "   3.88143531e-01 +0.00000000e+00j   5.65446107e-01 +0.00000000e+00j\n",
      "   5.07397559e-01 +0.00000000e+00j   4.99843175e-01 +0.00000000e+00j\n",
      "   4.73925775e-01 +0.00000000e+00j   4.66171420e-01 +0.00000000e+00j\n",
      "   8.74669710e-03 +0.00000000e+00j   1.75880754e-02 +0.00000000e+00j\n",
      "   1.44871406e-02 +0.00000000e+00j   3.93681935e-01 +0.00000000e+00j\n",
      "   5.93692063e-01 +0.00000000e+00j   4.80546047e-01 +0.00000000e+00j\n",
      "   4.84901306e-01 +0.00000000e+00j   5.48452517e-01 +0.00000000e+00j\n",
      "   5.38507451e-01 +0.00000000e+00j   5.57573438e-01 +0.00000000e+00j\n",
      "   5.26044088e-01 +0.00000000e+00j   4.59071957e-01 +0.00000000e+00j\n",
      "   4.36178403e-01 +0.00000000e+00j   4.30264603e-01 +0.00000000e+00j\n",
      "   5.14168571e-01 +0.00000000e+00j   5.28903375e-01 +0.00000000e+00j\n",
      "   4.44768938e-01 +0.00000000e+00j   5.98169740e-01 +0.00000000e+00j\n",
      "   5.61589811e-01 +0.00000000e+00j   5.43507875e-01 +0.00000000e+00j\n",
      "   4.90048620e-01 +0.00000000e+00j   4.54455731e-01 +0.00000000e+00j\n",
      "   4.42589976e-01 +0.00000000e+00j   4.27805744e-01 +0.00000000e+00j\n",
      "   3.82171018e-03 +0.00000000e+00j   1.89461084e-03 +0.00000000e+00j\n",
      "   9.72132451e-04 +0.00000000e+00j   2.38071753e-04 +0.00000000e+00j\n",
      "   4.38146254e-15 +0.00000000e+00j   4.10741275e-15 +0.00000000e+00j\n",
      "   3.54369556e-15 +0.00000000e+00j  -2.82861000e-15 +0.00000000e+00j\n",
      "   2.92669600e-15 +0.00000000e+00j   2.55692509e-15 +4.04319235e-17j\n",
      "   2.55692509e-15 -4.04319235e-17j  -2.29756138e-15 +0.00000000e+00j\n",
      "   1.98140241e-15 +0.00000000e+00j   1.80385374e-15 +0.00000000e+00j\n",
      "   1.61498319e-15 +0.00000000e+00j  -1.95200964e-15 +3.34440190e-17j\n",
      "  -1.95200964e-15 -3.34440190e-17j   1.32179527e-15 +0.00000000e+00j\n",
      "  -1.58996083e-15 +4.66396227e-17j  -1.58996083e-15 -4.66396227e-17j\n",
      "  -1.42872706e-15 +0.00000000e+00j   9.38496282e-16 +0.00000000e+00j\n",
      "   8.20104553e-16 +0.00000000e+00j   6.38112549e-16 +0.00000000e+00j\n",
      "   4.85358610e-16 +0.00000000e+00j   3.91401447e-16 +9.53838131e-17j\n",
      "   3.91401447e-16 -9.53838131e-17j   3.15661199e-16 +0.00000000e+00j\n",
      "   1.98730833e-16 +0.00000000e+00j  -1.06292335e-15 +0.00000000e+00j\n",
      "  -6.56488244e-17 +0.00000000e+00j  -8.51164975e-16 +0.00000000e+00j\n",
      "  -2.96724997e-16 +1.57304365e-16j  -2.96724997e-16 -1.57304365e-16j\n",
      "  -6.30223080e-16 +2.57250957e-17j  -6.30223080e-16 -2.57250957e-17j\n",
      "  -2.78386784e-16 +0.00000000e+00j  -3.99518617e-16 +5.05967068e-18j\n",
      "  -3.99518617e-16 -5.05967068e-18j]\n"
     ]
    }
   ],
   "source": [
    "print('Eigenvectors \\n%s' %eig_vecs)\n",
    "print('\\nEigenvalues \\n%s' %eig_vals)"
   ]
  },
  {
   "cell_type": "code",
   "execution_count": 41,
   "metadata": {},
   "outputs": [
    {
     "name": "stdout",
     "output_type": "stream",
     "text": [
      "Eigenvalues in descending order:\n",
      "17.6911998279\n",
      "8.16859379346\n",
      "6.56399226746\n",
      "5.49870178844\n",
      "4.90229518188\n",
      "4.51683207895\n",
      "4.1004750364\n",
      "3.48732260949\n",
      "3.39171681797\n",
      "3.31979673142\n",
      "3.15069598159\n",
      "3.06275341022\n",
      "2.88723660354\n",
      "2.87459786483\n",
      "2.76759827827\n",
      "2.74847927869\n",
      "2.63694353976\n",
      "2.57433834936\n",
      "2.50673998686\n",
      "2.46743890087\n",
      "2.42997259591\n",
      "2.35065061094\n",
      "2.31612507447\n",
      "2.26064022647\n",
      "2.22172560724\n",
      "2.20563099438\n",
      "2.1952491217\n",
      "2.15241728717\n",
      "2.1258769809\n",
      "2.09691382019\n",
      "2.08698259785\n",
      "2.06166707437\n",
      "1.99497945594\n",
      "1.96051350693\n",
      "1.95032998672\n",
      "1.83208754777\n",
      "1.91076557716\n",
      "1.89579439096\n",
      "1.86266080252\n",
      "1.88489967238\n",
      "1.79880166018\n",
      "1.77377329595\n",
      "1.74212353884\n",
      "1.71911470277\n",
      "1.69107537198\n",
      "1.67547679986\n",
      "1.6515593312\n",
      "1.6440451334\n",
      "1.60493825285\n",
      "1.59769911634\n",
      "1.58286323899\n",
      "1.56024189073\n",
      "1.53990623947\n",
      "1.5252751235\n",
      "1.49643905262\n",
      "1.48184067792\n",
      "1.47363204588\n",
      "1.45242329088\n",
      "1.39690368707\n",
      "1.41045114825\n",
      "1.41929402867\n",
      "1.42910800616\n",
      "1.38179131379\n",
      "1.35702917119\n",
      "1.35076342605\n",
      "1.33363245462\n",
      "1.32385405777\n",
      "1.30639961618\n",
      "1.29711795941\n",
      "1.2824651135\n",
      "1.27315763206\n",
      "1.26945256225\n",
      "1.24985712368\n",
      "1.23746262353\n",
      "1.23275696523\n",
      "1.22336025158\n",
      "1.20027279434\n",
      "1.15820698078\n",
      "1.1927726183\n",
      "1.16697297437\n",
      "1.18094850271\n",
      "1.17923950704\n",
      "1.15053596689\n",
      "1.14170326921\n",
      "1.12832382687\n",
      "1.11241462651\n",
      "1.10635434479\n",
      "1.0910805439\n",
      "1.08946440464\n",
      "1.07587351809\n",
      "1.07258560883\n",
      "1.06223069299\n",
      "1.05980288589\n",
      "1.04929367275\n",
      "1.02295421247\n",
      "1.03924343456\n",
      "1.03455847765\n",
      "1.03120256681\n",
      "1.00206727961\n",
      "0.999722341166\n",
      "0.987703459237\n",
      "0.982458877092\n",
      "0.970244911184\n",
      "0.963602565801\n",
      "0.956439869451\n",
      "0.935127417892\n",
      "0.927819100198\n",
      "0.925075724442\n",
      "0.920318908364\n",
      "0.911236185169\n",
      "0.901347454296\n",
      "0.894113645234\n",
      "0.88046861836\n",
      "0.869574121728\n",
      "0.860151607713\n",
      "0.864283429672\n",
      "0.847469571583\n",
      "0.842487362001\n",
      "0.834999066801\n",
      "0.0536887127683\n",
      "0.0984805344844\n",
      "0.0833528208504\n",
      "0.0789758500155\n",
      "0.0593087658669\n",
      "0.0688863926134\n",
      "0.0702911328538\n",
      "0.101552706533\n",
      "0.11484119606\n",
      "0.12077122842\n",
      "0.125009920169\n",
      "0.103797237883\n",
      "0.210679115793\n",
      "0.205537159558\n",
      "0.194712350456\n",
      "0.186527647051\n",
      "0.144637084553\n",
      "0.14990964813\n",
      "0.154675657375\n",
      "0.156997706158\n",
      "0.162373591637\n",
      "0.164899307902\n",
      "0.13988744321\n",
      "0.216880739385\n",
      "0.230287781513\n",
      "0.226853915608\n",
      "0.826056490261\n",
      "0.821429837911\n",
      "0.818930966307\n",
      "0.0446759219524\n",
      "0.234670290542\n",
      "0.242650731712\n",
      "0.24813891345\n",
      "0.805176497958\n",
      "0.802648911954\n",
      "0.773721452367\n",
      "0.791725768267\n",
      "0.787501302506\n",
      "0.767677763842\n",
      "0.033321761006\n",
      "0.0502782641537\n",
      "0.263254550932\n",
      "0.277618299959\n",
      "0.286636557146\n",
      "0.760489435366\n",
      "0.756585453592\n",
      "0.279259835719\n",
      "0.297785524075\n",
      "0.301493644444\n",
      "0.305244186376\n",
      "0.0202545710461\n",
      "0.308725398195\n",
      "0.332282908148\n",
      "0.33592834712\n",
      "0.347797638867\n",
      "0.3500227204\n",
      "0.36570396967\n",
      "0.369818562138\n",
      "0.74417848827\n",
      "0.734430339896\n",
      "0.730979560418\n",
      "0.722683801393\n",
      "0.720254147748\n",
      "0.710964259908\n",
      "0.678022786132\n",
      "0.683083195125\n",
      "0.68862152845\n",
      "0.69756187111\n",
      "0.702021073665\n",
      "0.377584667536\n",
      "0.66761259581\n",
      "0.65946209459\n",
      "0.650790472611\n",
      "0.640487414365\n",
      "0.638541140645\n",
      "0.383167292164\n",
      "0.403123182965\n",
      "0.412152807467\n",
      "0.414540535097\n",
      "0.0179567442432\n",
      "0.0176171632975\n",
      "0.388132768728\n",
      "0.623511188905\n",
      "0.625384835797\n",
      "0.615347244341\n",
      "0.588458023314\n",
      "0.610843204343\n",
      "0.607423153323\n",
      "0.592871749218\n",
      "0.571420996845\n",
      "0.56539474416\n",
      "0.49911666231\n",
      "0.507004183352\n",
      "0.547750016786\n",
      "0.538388758853\n",
      "0.526028451975\n",
      "0.528609756641\n",
      "0.458394910689\n",
      "0.453895522776\n",
      "0.466149953461\n",
      "0.429234545751\n",
      "0.435703584937\n",
      "0.473845183106\n",
      "0.484752957233\n",
      "0.480485798356\n",
      "0.514164548429\n",
      "0.0144941605747\n",
      "0.00874959938955\n",
      "0.324129874623\n",
      "0.39326648789\n",
      "0.598137725273\n",
      "0.427683479645\n",
      "0.444737910927\n",
      "0.442555430827\n",
      "0.556553190427\n",
      "0.558409883332\n",
      "0.488309878048\n",
      "0.543277892899\n",
      "0.00382277053719\n",
      "0.0018953155293\n",
      "0.000972810944119\n",
      "0.000238112221508\n",
      "4.19016721657e-15\n",
      "3.90712244619e-15\n",
      "2.92415790554e-15\n",
      "3.2311206383e-15\n",
      "2.98778010338e-15\n",
      "2.70195908405e-15\n",
      "2.29037471907e-15\n",
      "2.47750292312e-15\n",
      "2.13172790635e-15\n",
      "1.90852591879e-15\n",
      "2.10787608025e-15\n",
      "1.96228396333e-15\n",
      "1.96228396333e-15\n",
      "1.64523031609e-15\n",
      "1.41676844079e-15\n",
      "1.41676844079e-15\n",
      "1.42457619714e-15\n",
      "1.27060223846e-15\n",
      "1.27060223846e-15\n",
      "8.71670743412e-16\n",
      "8.71670743412e-16\n",
      "1.03474592466e-15\n",
      "2.93353528165e-16\n",
      "2.93353528165e-16\n",
      "1.79015143991e-16\n",
      "1.79015143991e-16\n",
      "6.33496020074e-17\n",
      "6.33496020074e-17\n",
      "1.85873268108e-16\n",
      "3.9158232039e-16\n",
      "3.9158232039e-16\n",
      "7.63913536686e-16\n",
      "6.91782608855e-16\n",
      "6.91782608855e-16\n",
      "8.73861460048e-16\n"
     ]
    }
   ],
   "source": [
    "eig_pairs = [(np.abs(eig_vals[i]), eig_vecs[:,i]) for i in range(len(eig_vals))]\n",
    "print('Eigenvalues in descending order:')\n",
    "for i in eig_pairs:\n",
    "    print(i[0])\n"
   ]
  },
  {
   "cell_type": "code",
   "execution_count": 42,
   "metadata": {},
   "outputs": [
    {
     "name": "stdout",
     "output_type": "stream",
     "text": [
      "[ 0.98108556  0.00507613  0.00337994  0.00277273  0.00240621  0.00196454\n",
      "  0.00174636]\n"
     ]
    }
   ],
   "source": [
    "pca = sklearnPCA(n_components=7)\n",
    "pca.fit_transform(X)\n",
    "print pca.explained_variance_ratio_\n"
   ]
  },
  {
   "cell_type": "code",
   "execution_count": 43,
   "metadata": {},
   "outputs": [
    {
     "data": {
      "image/png": "[encoded data removed]",
      "text/plain": [
       "<matplotlib.figure.Figure at 0x1a152194d0>"
      ]
     },
     "metadata": {},
     "output_type": "display_data"
    }
   ],
   "source": [
    "#Explained variance\n",
    "pca = sklearnPCA().fit(X_std)\n",
    "plt.plot(np.cumsum(pca.explained_variance_ratio_))\n",
    "plt.xlabel('number of components')\n",
    "plt.ylabel('cumulative explained variance')\n",
    "plt.show()"
   ]
  },
  {
   "cell_type": "code",
   "execution_count": 49,
   "metadata": {},
   "outputs": [
    {
     "data": {
      "text/plain": [
       "(276, 276)"
      ]
     },
     "execution_count": 49,
     "metadata": {},
     "output_type": "execute_result"
    }
   ],
   "source": [
    "eig_vecs.shape"
   ]
  },
  {
   "cell_type": "code",
   "execution_count": 76,
   "metadata": {},
   "outputs": [],
   "source": [
    "# planning to use top 5 components from PCA\n",
    "\n",
    "eig_pairs = [(np.abs(eig_vals[i]), eig_vecs[:,i]) for i in range(len(eig_vals))]\n",
    "matrix_w = np.hstack((eig_pairs[0][1].reshape(276,1),\n",
    "                      eig_pairs[1][1].reshape(276,1),\n",
    "                      eig_pairs[2][1].reshape(276,1),\n",
    "                      eig_pairs[3][1].reshape(276,1),\n",
    "                      eig_pairs[4][1].reshape(276,1)))"
   ]
  },
  {
   "cell_type": "code",
   "execution_count": 77,
   "metadata": {
    "collapsed": true
   },
   "outputs": [],
   "source": [
    "new_Y = X_std.dot(matrix_w)"
   ]
  },
  {
   "cell_type": "code",
   "execution_count": 80,
   "metadata": {},
   "outputs": [],
   "source": [
    "X_pca_5 = pd.DataFrame(new_Y, columns=['pca1','pca2','pca3','pca4','pca5'])"
   ]
  },
  {
   "cell_type": "code",
   "execution_count": 81,
   "metadata": {},
   "outputs": [
    {
     "data": {
      "text/html": [
       "<div>\n",
       "<style>\n",
       "    .dataframe thead tr:only-child th {\n",
       "        text-align: right;\n",
       "    }\n",
       "\n",
       "    .dataframe thead th {\n",
       "        text-align: left;\n",
       "    }\n",
       "\n",
       "    .dataframe tbody tr th {\n",
       "        vertical-align: top;\n",
       "    }\n",
       "</style>\n",
       "<table border=\"1\" class=\"dataframe\">\n",
       "  <thead>\n",
       "    <tr style=\"text-align: right;\">\n",
       "      <th></th>\n",
       "      <th>pca1</th>\n",
       "      <th>pca2</th>\n",
       "      <th>pca3</th>\n",
       "      <th>pca4</th>\n",
       "      <th>pca5</th>\n",
       "    </tr>\n",
       "  </thead>\n",
       "  <tbody>\n",
       "    <tr>\n",
       "      <th>0</th>\n",
       "      <td>(-4.15379556467+0j)</td>\n",
       "      <td>(-1.39117177326+0j)</td>\n",
       "      <td>(2.576401447+0j)</td>\n",
       "      <td>(1.63157092859+0j)</td>\n",
       "      <td>(-1.05854876518+0j)</td>\n",
       "    </tr>\n",
       "    <tr>\n",
       "      <th>1</th>\n",
       "      <td>(0.0871292924752+0j)</td>\n",
       "      <td>(3.26849773823+0j)</td>\n",
       "      <td>(0.364213982423+0j)</td>\n",
       "      <td>(0.0204667056658+0j)</td>\n",
       "      <td>(-0.0772259318177+0j)</td>\n",
       "    </tr>\n",
       "    <tr>\n",
       "      <th>2</th>\n",
       "      <td>(-4.79786570751+0j)</td>\n",
       "      <td>(-0.79085770304+0j)</td>\n",
       "      <td>(1.90021923708+0j)</td>\n",
       "      <td>(2.04155978989+0j)</td>\n",
       "      <td>(-1.6327918981+0j)</td>\n",
       "    </tr>\n",
       "    <tr>\n",
       "      <th>3</th>\n",
       "      <td>(1.98155999116+0j)</td>\n",
       "      <td>(-1.06378931685+0j)</td>\n",
       "      <td>(-1.71406245748+0j)</td>\n",
       "      <td>(2.11049936796+0j)</td>\n",
       "      <td>(1.34579226139+0j)</td>\n",
       "    </tr>\n",
       "    <tr>\n",
       "      <th>4</th>\n",
       "      <td>(-6.45536418522+0j)</td>\n",
       "      <td>(-0.663992257889+0j)</td>\n",
       "      <td>(0.155491850317+0j)</td>\n",
       "      <td>(3.64218858922+0j)</td>\n",
       "      <td>(-1.34729845562+0j)</td>\n",
       "    </tr>\n",
       "  </tbody>\n",
       "</table>\n",
       "</div>"
      ],
      "text/plain": [
       "                   pca1                  pca2                 pca3  \\\n",
       "0   (-4.15379556467+0j)   (-1.39117177326+0j)     (2.576401447+0j)   \n",
       "1  (0.0871292924752+0j)    (3.26849773823+0j)  (0.364213982423+0j)   \n",
       "2   (-4.79786570751+0j)   (-0.79085770304+0j)   (1.90021923708+0j)   \n",
       "3    (1.98155999116+0j)   (-1.06378931685+0j)  (-1.71406245748+0j)   \n",
       "4   (-6.45536418522+0j)  (-0.663992257889+0j)  (0.155491850317+0j)   \n",
       "\n",
       "                   pca4                   pca5  \n",
       "0    (1.63157092859+0j)    (-1.05854876518+0j)  \n",
       "1  (0.0204667056658+0j)  (-0.0772259318177+0j)  \n",
       "2    (2.04155978989+0j)     (-1.6327918981+0j)  \n",
       "3    (2.11049936796+0j)     (1.34579226139+0j)  \n",
       "4    (3.64218858922+0j)    (-1.34729845562+0j)  "
      ]
     },
     "execution_count": 81,
     "metadata": {},
     "output_type": "execute_result"
    }
   ],
   "source": [
    "X_pca_5.head()"
   ]
  },
  {
   "cell_type": "markdown",
   "metadata": {},
   "source": [
    "### Comparing two models\n",
    "* PCA based model\n",
    "* Non-PCA based, only with one hot encoded variables"
   ]
  },
  {
   "cell_type": "code",
   "execution_count": 83,
   "metadata": {},
   "outputs": [
    {
     "data": {
      "text/plain": [
       "(1460,)"
      ]
     },
     "execution_count": 83,
     "metadata": {},
     "output_type": "execute_result"
    }
   ],
   "source": [
    "y.shape"
   ]
  },
  {
   "cell_type": "code",
   "execution_count": null,
   "metadata": {
    "collapsed": true
   },
   "outputs": [],
   "source": []
  }
 ],
 "metadata": {
  "kernelspec": {
   "display_name": "Python 2",
   "language": "python",
   "name": "python2"
  },
  "language_info": {
   "codemirror_mode": {
    "name": "ipython",
    "version": 2
   },
   "file_extension": ".py",
   "mimetype": "text/x-python",
   "name": "python",
   "nbconvert_exporter": "python",
   "pygments_lexer": "ipython2",
   "version": "2.7.14"
  }
 },
 "nbformat": 4,
 "nbformat_minor": 2
}
