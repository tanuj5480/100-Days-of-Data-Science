{
 "cells": [
  {
   "cell_type": "markdown",
   "metadata": {},
   "source": [
    "## Problem #1\n",
    "### Kaggle - House Prices: Advanced Regression Techniques "
   ]
  },
  {
   "cell_type": "markdown",
   "metadata": {},
   "source": [
    "After installing the API to download data from Kaggle"
   ]
  },
  {
   "cell_type": "code",
   "execution_count": 2,
   "metadata": {},
   "outputs": [
    {
     "name": "stdout",
     "output_type": "stream",
     "text": [
      "/Users/rachit/.kaggle/competitions/house-prices-advanced-regression-techniques\n"
     ]
    }
   ],
   "source": [
    "%cd ~/.kaggle/competitions/house-prices-advanced-regression-techniques"
   ]
  },
  {
   "cell_type": "code",
   "execution_count": 3,
   "metadata": {},
   "outputs": [
    {
     "name": "stdout",
     "output_type": "stream",
     "text": [
      "data_description.txt      submission.csv            train.csv\r\n",
      "sample_submission.csv     test.csv                  train.csv.gz\r\n",
      "sample_submission.csv.gz  test.csv.gz\r\n"
     ]
    }
   ],
   "source": [
    "%ls"
   ]
  },
  {
   "cell_type": "code",
   "execution_count": 1,
   "metadata": {
    "collapsed": true
   },
   "outputs": [],
   "source": [
    "import pandas as pd\n",
    "import numpy as np\n",
    "import seaborn as sns\n",
    "import matplotlib.pyplot as plt\n",
    "\n",
    "%matplotlib inline"
   ]
  },
  {
   "cell_type": "code",
   "execution_count": 4,
   "metadata": {
    "collapsed": true
   },
   "outputs": [],
   "source": [
    "train_df = pd.read_csv('train.csv')\n",
    "test_df = pd.read_csv('test.csv')"
   ]
  },
  {
   "cell_type": "code",
   "execution_count": 5,
   "metadata": {},
   "outputs": [
    {
     "data": {
      "text/html": [
       "<div>\n",
       "<style>\n",
       "    .dataframe thead tr:only-child th {\n",
       "        text-align: right;\n",
       "    }\n",
       "\n",
       "    .dataframe thead th {\n",
       "        text-align: left;\n",
       "    }\n",
       "\n",
       "    .dataframe tbody tr th {\n",
       "        vertical-align: top;\n",
       "    }\n",
       "</style>\n",
       "<table border=\"1\" class=\"dataframe\">\n",
       "  <thead>\n",
       "    <tr style=\"text-align: right;\">\n",
       "      <th></th>\n",
       "      <th>Id</th>\n",
       "      <th>MSSubClass</th>\n",
       "      <th>MSZoning</th>\n",
       "      <th>LotFrontage</th>\n",
       "      <th>LotArea</th>\n",
       "      <th>Street</th>\n",
       "      <th>Alley</th>\n",
       "      <th>LotShape</th>\n",
       "      <th>LandContour</th>\n",
       "      <th>Utilities</th>\n",
       "      <th>...</th>\n",
       "      <th>PoolArea</th>\n",
       "      <th>PoolQC</th>\n",
       "      <th>Fence</th>\n",
       "      <th>MiscFeature</th>\n",
       "      <th>MiscVal</th>\n",
       "      <th>MoSold</th>\n",
       "      <th>YrSold</th>\n",
       "      <th>SaleType</th>\n",
       "      <th>SaleCondition</th>\n",
       "      <th>SalePrice</th>\n",
       "    </tr>\n",
       "  </thead>\n",
       "  <tbody>\n",
       "    <tr>\n",
       "      <th>0</th>\n",
       "      <td>1</td>\n",
       "      <td>60</td>\n",
       "      <td>RL</td>\n",
       "      <td>65.0</td>\n",
       "      <td>8450</td>\n",
       "      <td>Pave</td>\n",
       "      <td>NaN</td>\n",
       "      <td>Reg</td>\n",
       "      <td>Lvl</td>\n",
       "      <td>AllPub</td>\n",
       "      <td>...</td>\n",
       "      <td>0</td>\n",
       "      <td>NaN</td>\n",
       "      <td>NaN</td>\n",
       "      <td>NaN</td>\n",
       "      <td>0</td>\n",
       "      <td>2</td>\n",
       "      <td>2008</td>\n",
       "      <td>WD</td>\n",
       "      <td>Normal</td>\n",
       "      <td>208500</td>\n",
       "    </tr>\n",
       "    <tr>\n",
       "      <th>1</th>\n",
       "      <td>2</td>\n",
       "      <td>20</td>\n",
       "      <td>RL</td>\n",
       "      <td>80.0</td>\n",
       "      <td>9600</td>\n",
       "      <td>Pave</td>\n",
       "      <td>NaN</td>\n",
       "      <td>Reg</td>\n",
       "      <td>Lvl</td>\n",
       "      <td>AllPub</td>\n",
       "      <td>...</td>\n",
       "      <td>0</td>\n",
       "      <td>NaN</td>\n",
       "      <td>NaN</td>\n",
       "      <td>NaN</td>\n",
       "      <td>0</td>\n",
       "      <td>5</td>\n",
       "      <td>2007</td>\n",
       "      <td>WD</td>\n",
       "      <td>Normal</td>\n",
       "      <td>181500</td>\n",
       "    </tr>\n",
       "    <tr>\n",
       "      <th>2</th>\n",
       "      <td>3</td>\n",
       "      <td>60</td>\n",
       "      <td>RL</td>\n",
       "      <td>68.0</td>\n",
       "      <td>11250</td>\n",
       "      <td>Pave</td>\n",
       "      <td>NaN</td>\n",
       "      <td>IR1</td>\n",
       "      <td>Lvl</td>\n",
       "      <td>AllPub</td>\n",
       "      <td>...</td>\n",
       "      <td>0</td>\n",
       "      <td>NaN</td>\n",
       "      <td>NaN</td>\n",
       "      <td>NaN</td>\n",
       "      <td>0</td>\n",
       "      <td>9</td>\n",
       "      <td>2008</td>\n",
       "      <td>WD</td>\n",
       "      <td>Normal</td>\n",
       "      <td>223500</td>\n",
       "    </tr>\n",
       "    <tr>\n",
       "      <th>3</th>\n",
       "      <td>4</td>\n",
       "      <td>70</td>\n",
       "      <td>RL</td>\n",
       "      <td>60.0</td>\n",
       "      <td>9550</td>\n",
       "      <td>Pave</td>\n",
       "      <td>NaN</td>\n",
       "      <td>IR1</td>\n",
       "      <td>Lvl</td>\n",
       "      <td>AllPub</td>\n",
       "      <td>...</td>\n",
       "      <td>0</td>\n",
       "      <td>NaN</td>\n",
       "      <td>NaN</td>\n",
       "      <td>NaN</td>\n",
       "      <td>0</td>\n",
       "      <td>2</td>\n",
       "      <td>2006</td>\n",
       "      <td>WD</td>\n",
       "      <td>Abnorml</td>\n",
       "      <td>140000</td>\n",
       "    </tr>\n",
       "    <tr>\n",
       "      <th>4</th>\n",
       "      <td>5</td>\n",
       "      <td>60</td>\n",
       "      <td>RL</td>\n",
       "      <td>84.0</td>\n",
       "      <td>14260</td>\n",
       "      <td>Pave</td>\n",
       "      <td>NaN</td>\n",
       "      <td>IR1</td>\n",
       "      <td>Lvl</td>\n",
       "      <td>AllPub</td>\n",
       "      <td>...</td>\n",
       "      <td>0</td>\n",
       "      <td>NaN</td>\n",
       "      <td>NaN</td>\n",
       "      <td>NaN</td>\n",
       "      <td>0</td>\n",
       "      <td>12</td>\n",
       "      <td>2008</td>\n",
       "      <td>WD</td>\n",
       "      <td>Normal</td>\n",
       "      <td>250000</td>\n",
       "    </tr>\n",
       "  </tbody>\n",
       "</table>\n",
       "<p>5 rows × 81 columns</p>\n",
       "</div>"
      ],
      "text/plain": [
       "   Id  MSSubClass MSZoning  LotFrontage  LotArea Street Alley LotShape  \\\n",
       "0   1          60       RL         65.0     8450   Pave   NaN      Reg   \n",
       "1   2          20       RL         80.0     9600   Pave   NaN      Reg   \n",
       "2   3          60       RL         68.0    11250   Pave   NaN      IR1   \n",
       "3   4          70       RL         60.0     9550   Pave   NaN      IR1   \n",
       "4   5          60       RL         84.0    14260   Pave   NaN      IR1   \n",
       "\n",
       "  LandContour Utilities    ...     PoolArea PoolQC Fence MiscFeature MiscVal  \\\n",
       "0         Lvl    AllPub    ...            0    NaN   NaN         NaN       0   \n",
       "1         Lvl    AllPub    ...            0    NaN   NaN         NaN       0   \n",
       "2         Lvl    AllPub    ...            0    NaN   NaN         NaN       0   \n",
       "3         Lvl    AllPub    ...            0    NaN   NaN         NaN       0   \n",
       "4         Lvl    AllPub    ...            0    NaN   NaN         NaN       0   \n",
       "\n",
       "  MoSold YrSold  SaleType  SaleCondition  SalePrice  \n",
       "0      2   2008        WD         Normal     208500  \n",
       "1      5   2007        WD         Normal     181500  \n",
       "2      9   2008        WD         Normal     223500  \n",
       "3      2   2006        WD        Abnorml     140000  \n",
       "4     12   2008        WD         Normal     250000  \n",
       "\n",
       "[5 rows x 81 columns]"
      ]
     },
     "execution_count": 5,
     "metadata": {},
     "output_type": "execute_result"
    }
   ],
   "source": [
    "train_df.head()"
   ]
  },
  {
   "cell_type": "code",
   "execution_count": 6,
   "metadata": {
    "collapsed": true
   },
   "outputs": [],
   "source": [
    "train_ID = train_df['Id']\n",
    "test_ID = test_df['Id']"
   ]
  },
  {
   "cell_type": "code",
   "execution_count": 7,
   "metadata": {},
   "outputs": [
    {
     "data": {
      "image/png": "[encoded data removed]",
      "text/plain": [
       "<matplotlib.figure.Figure at 0x1a16941450>"
      ]
     },
     "metadata": {},
     "output_type": "display_data"
    }
   ],
   "source": [
    "# plotting the dependant variable\n",
    "\n",
    "plt.figure(figsize=(8,6))\n",
    "plt.scatter(range(train_df.shape[0]), np.sort(train_df.SalePrice.values))\n",
    "plt.xlabel('index', fontsize=12)\n",
    "plt.ylabel('SalePrice', fontsize=12)\n",
    "plt.show()"
   ]
  },
  {
   "cell_type": "markdown",
   "metadata": {},
   "source": [
    "### Dependant Variable Analysis"
   ]
  },
  {
   "cell_type": "code",
   "execution_count": 8,
   "metadata": {
    "collapsed": true
   },
   "outputs": [],
   "source": [
    "from scipy import stats\n",
    "from scipy.stats import norm, skew #for some statistics"
   ]
  },
  {
   "cell_type": "code",
   "execution_count": 9,
   "metadata": {},
   "outputs": [
    {
     "name": "stdout",
     "output_type": "stream",
     "text": [
      "\n",
      " mu = 180921.20 and sigma = 79415.29\n",
      "\n"
     ]
    },
    {
     "data": {
      "image/png": "[encoded data removed]",
      "text/plain": [
       "<matplotlib.figure.Figure at 0x1a16962d10>"
      ]
     },
     "metadata": {},
     "output_type": "display_data"
    },
    {
     "data": {
      "image/png": "[encoded data removed]",
      "text/plain": [
       "<matplotlib.figure.Figure at 0x1a16962390>"
      ]
     },
     "metadata": {},
     "output_type": "display_data"
    }
   ],
   "source": [
    "sns.distplot(train_df['SalePrice'], fit=norm);\n",
    "\n",
    "(mu, sigma) = norm.fit(train_df['SalePrice'])\n",
    "print ('\\n mu = {:.2f} and sigma = {:.2f}\\n'.format(mu, sigma))\n",
    "\n",
    "\n",
    "# plot the distribution\n",
    "plt.legend(['Normal dist. ($\\mu=${:.2f} and $\\sigma=${:.2f} )'.format(mu,sigma)])\n",
    "\n",
    "# also creating the Q-Q plot\n",
    "\n",
    "fig=plt.figure()\n",
    "res = stats.probplot(train_df['SalePrice'], plot=plt)\n",
    "plt.show()"
   ]
  },
  {
   "cell_type": "markdown",
   "metadata": {},
   "source": [
    "Dependant variable has right skew, and since linear models require normoal distribution, will apply transformation in the next step"
   ]
  },
  {
   "cell_type": "markdown",
   "metadata": {},
   "source": [
    "#### Log transformation of the dependant variable"
   ]
  },
  {
   "cell_type": "code",
   "execution_count": 10,
   "metadata": {
    "collapsed": true
   },
   "outputs": [],
   "source": [
    "# using numpy's log1p, which is log(1+x) on the column\n",
    "\n",
    "train_df[\"ln_SalePrice\"] = np.log1p(train_df[\"SalePrice\"])"
   ]
  },
  {
   "cell_type": "code",
   "execution_count": 11,
   "metadata": {},
   "outputs": [
    {
     "data": {
      "image/png": "[encoded data removed]",
      "text/plain": [
       "<matplotlib.figure.Figure at 0x111233150>"
      ]
     },
     "metadata": {},
     "output_type": "display_data"
    },
    {
     "data": {
      "image/png": "[encoded data removed]",
      "text/plain": [
       "<matplotlib.figure.Figure at 0x1a20294290>"
      ]
     },
     "metadata": {},
     "output_type": "display_data"
    }
   ],
   "source": [
    "# checking the new distribution\n",
    "(mu, sigma) = norm.fit(train_df['ln_SalePrice'])\n",
    "sns.distplot(train_df['ln_SalePrice'], fit=norm)\n",
    "\n",
    "plt.legend([('Norm dist. ($\\mu=${:.2f} and $\\sigma=${:.2f}').format(mu, sigma)])\n",
    "\n",
    "fig = plt.figure()\n",
    "res = stats.probplot(train_df['ln_SalePrice'], plot=plt)\n",
    "plt.show()\n",
    "\n"
   ]
  },
  {
   "cell_type": "code",
   "execution_count": 45,
   "metadata": {
    "collapsed": true
   },
   "outputs": [],
   "source": [
    "ntrain = train_df.shape[0]\n",
    "ntest = test_df.shape[0]\n",
    "\n",
    "y_train = train_df.ln_SalePrice.values\n",
    "all_data = pd.concat((train_df, test_df)).reset_index(drop=True)\n",
    "\n",
    "all_data.drop(['SalePrice', 'ln_SalePrice'], axis=1, inplace=True)"
   ]
  },
  {
   "cell_type": "code",
   "execution_count": 14,
   "metadata": {},
   "outputs": [
    {
     "data": {
      "text/plain": [
       "((2919, 80), (1460, 82), (1459, 80))"
      ]
     },
     "execution_count": 14,
     "metadata": {},
     "output_type": "execute_result"
    }
   ],
   "source": [
    "all_data.shape, train_df.shape, test_df.shape"
   ]
  },
  {
   "cell_type": "code",
   "execution_count": 16,
   "metadata": {},
   "outputs": [
    {
     "data": {
      "text/plain": [
       "(0    208500\n",
       " 1    181500\n",
       " 2    223500\n",
       " 3    140000\n",
       " 4    250000\n",
       " Name: SalePrice, dtype: int64, 0    12.247699\n",
       " 1    12.109016\n",
       " 2    12.317171\n",
       " 3    11.849405\n",
       " 4    12.429220\n",
       " Name: SalePrice, dtype: float64, 0    12.247699\n",
       " 1    12.109016\n",
       " 2    12.317171\n",
       " 3    11.849405\n",
       " 4    12.429220\n",
       " Name: ln_SalePrice, dtype: float64)"
      ]
     },
     "execution_count": 16,
     "metadata": {},
     "output_type": "execute_result"
    }
   ],
   "source": [
    "train_df['SalePrice'].head(), np.log1p(train_df[\"SalePrice\"].head()), train_df['ln_SalePrice'].head()"
   ]
  },
  {
   "cell_type": "code",
   "execution_count": 46,
   "metadata": {
    "collapsed": true
   },
   "outputs": [],
   "source": [
    "all_data['garage_decade'] = (all_data.GarageYrBlt//10)*10\n"
   ]
  },
  {
   "cell_type": "markdown",
   "metadata": {},
   "source": [
    "#### Fill Rate Analysis"
   ]
  },
  {
   "cell_type": "code",
   "execution_count": 17,
   "metadata": {},
   "outputs": [
    {
     "data": {
      "image/png": "[encoded data removed]",
      "text/plain": [
       "<matplotlib.figure.Figure at 0x1a1f903e10>"
      ]
     },
     "metadata": {},
     "output_type": "display_data"
    }
   ],
   "source": [
    "missing_df = all_data.isnull().sum(axis=0).reset_index()\n",
    "missing_df.columns = ['column_name', 'missing_count']\n",
    "missing_df = missing_df.loc[missing_df['missing_count']>0]\n",
    "missing_df = missing_df.sort_values(by='missing_count')\n",
    "\n",
    "ind = np.arange(missing_df.shape[0])\n",
    "width = 0.9\n",
    "fig, ax = plt.subplots(figsize=(12,18))\n",
    "rects = ax.barh(ind, missing_df.missing_count.values, color='blue')\n",
    "ax.set_yticks(ind)\n",
    "ax.set_yticklabels(missing_df.column_name.values, rotation='horizontal')\n",
    "ax.set_xlabel(\"Count of missing values\")\n",
    "ax.set_title(\"Number of missing values in each column\")\n",
    "plt.show()\n"
   ]
  },
  {
   "cell_type": "code",
   "execution_count": 18,
   "metadata": {},
   "outputs": [
    {
     "data": {
      "text/html": [
       "<div>\n",
       "<style>\n",
       "    .dataframe thead tr:only-child th {\n",
       "        text-align: right;\n",
       "    }\n",
       "\n",
       "    .dataframe thead th {\n",
       "        text-align: left;\n",
       "    }\n",
       "\n",
       "    .dataframe tbody tr th {\n",
       "        vertical-align: top;\n",
       "    }\n",
       "</style>\n",
       "<table border=\"1\" class=\"dataframe\">\n",
       "  <thead>\n",
       "    <tr style=\"text-align: right;\">\n",
       "      <th></th>\n",
       "      <th>column_name</th>\n",
       "      <th>missing_count</th>\n",
       "      <th>missing_ratio</th>\n",
       "    </tr>\n",
       "  </thead>\n",
       "  <tbody>\n",
       "    <tr>\n",
       "      <th>3</th>\n",
       "      <td>Alley</td>\n",
       "      <td>2721</td>\n",
       "      <td>0.932169</td>\n",
       "    </tr>\n",
       "    <tr>\n",
       "      <th>25</th>\n",
       "      <td>Fence</td>\n",
       "      <td>2348</td>\n",
       "      <td>0.804385</td>\n",
       "    </tr>\n",
       "    <tr>\n",
       "      <th>57</th>\n",
       "      <td>MiscFeature</td>\n",
       "      <td>2814</td>\n",
       "      <td>0.964029</td>\n",
       "    </tr>\n",
       "    <tr>\n",
       "      <th>66</th>\n",
       "      <td>PoolQC</td>\n",
       "      <td>2909</td>\n",
       "      <td>0.996574</td>\n",
       "    </tr>\n",
       "  </tbody>\n",
       "</table>\n",
       "</div>"
      ],
      "text/plain": [
       "    column_name  missing_count  missing_ratio\n",
       "3         Alley           2721       0.932169\n",
       "25        Fence           2348       0.804385\n",
       "57  MiscFeature           2814       0.964029\n",
       "66       PoolQC           2909       0.996574"
      ]
     },
     "execution_count": 18,
     "metadata": {},
     "output_type": "execute_result"
    }
   ],
   "source": [
    "# Can drop the below variables since there is more than 80% missing data\n",
    "\n",
    "missing_df = all_data.isnull().sum(axis=0).reset_index()\n",
    "missing_df.columns = ['column_name', 'missing_count']\n",
    "missing_df['missing_ratio'] = missing_df['missing_count'] / all_data.shape[0]\n",
    "missing_df.loc[missing_df['missing_ratio']>0.80]"
   ]
  },
  {
   "cell_type": "code",
   "execution_count": 28,
   "metadata": {
    "collapsed": true
   },
   "outputs": [],
   "source": [
    "cols_to_drop = missing_df.loc[missing_df['missing_ratio']>0.80]\n",
    "lst_var_to_drop = list(cols_to_drop.column_name.values)\n",
    "\n",
    "all_data.drop(lst_var_to_drop, axis=1, inplace=True)"
   ]
  },
  {
   "cell_type": "code",
   "execution_count": 50,
   "metadata": {},
   "outputs": [],
   "source": [
    "all_data['garage_decade'] = (all_data.GarageYrBlt//10)*10\n",
    "all_data['garage_decade'] = all_data['garage_decade'].astype(str)\n",
    "all_data.drop('GarageYrBlt', axis=1, inplace=True)"
   ]
  },
  {
   "cell_type": "code",
   "execution_count": 51,
   "metadata": {},
   "outputs": [],
   "source": [
    "dtype_df = all_data.dtypes.reset_index()\n",
    "dtype_df.columns = [\"Count\", \"Column Type\"]"
   ]
  },
  {
   "cell_type": "code",
   "execution_count": 52,
   "metadata": {},
   "outputs": [
    {
     "data": {
      "text/html": [
       "<div>\n",
       "<style>\n",
       "    .dataframe thead tr:only-child th {\n",
       "        text-align: right;\n",
       "    }\n",
       "\n",
       "    .dataframe thead th {\n",
       "        text-align: left;\n",
       "    }\n",
       "\n",
       "    .dataframe tbody tr th {\n",
       "        vertical-align: top;\n",
       "    }\n",
       "</style>\n",
       "<table border=\"1\" class=\"dataframe\">\n",
       "  <thead>\n",
       "    <tr style=\"text-align: right;\">\n",
       "      <th></th>\n",
       "      <th>Column Type</th>\n",
       "      <th>Count</th>\n",
       "    </tr>\n",
       "  </thead>\n",
       "  <tbody>\n",
       "    <tr>\n",
       "      <th>0</th>\n",
       "      <td>int64</td>\n",
       "      <td>26</td>\n",
       "    </tr>\n",
       "    <tr>\n",
       "      <th>1</th>\n",
       "      <td>float64</td>\n",
       "      <td>10</td>\n",
       "    </tr>\n",
       "    <tr>\n",
       "      <th>2</th>\n",
       "      <td>object</td>\n",
       "      <td>40</td>\n",
       "    </tr>\n",
       "  </tbody>\n",
       "</table>\n",
       "</div>"
      ],
      "text/plain": [
       "  Column Type  Count\n",
       "0       int64     26\n",
       "1     float64     10\n",
       "2      object     40"
      ]
     },
     "execution_count": 52,
     "metadata": {},
     "output_type": "execute_result"
    }
   ],
   "source": [
    "dtype_df.groupby('Column Type').count().reset_index()"
   ]
  },
  {
   "cell_type": "code",
   "execution_count": 53,
   "metadata": {},
   "outputs": [],
   "source": [
    "# seperating out the categorical variables\n",
    "\n",
    "cat_var = dtype_df[dtype_df['Column Type'] == 'object'].Count.values\n",
    "cont_var = dtype_df[dtype_df['Column Type'] == 'float64'].Count.values"
   ]
  },
  {
   "cell_type": "code",
   "execution_count": 54,
   "metadata": {},
   "outputs": [
    {
     "data": {
      "text/plain": [
       "(array(['BldgType', 'BsmtCond', 'BsmtExposure', 'BsmtFinType1',\n",
       "        'BsmtFinType2', 'BsmtQual', 'CentralAir', 'Condition1',\n",
       "        'Condition2', 'Electrical', 'ExterCond', 'ExterQual', 'Exterior1st',\n",
       "        'Exterior2nd', 'FireplaceQu', 'Foundation', 'Functional',\n",
       "        'GarageCond', 'GarageFinish', 'GarageQual', 'GarageType', 'Heating',\n",
       "        'HeatingQC', 'HouseStyle', 'KitchenQual', 'LandContour',\n",
       "        'LandSlope', 'LotConfig', 'LotShape', 'MSZoning', 'MasVnrType',\n",
       "        'Neighborhood', 'PavedDrive', 'RoofMatl', 'RoofStyle',\n",
       "        'SaleCondition', 'SaleType', 'Street', 'Utilities', 'garage_decade'], dtype=object),\n",
       " array(['BsmtFinSF1', 'BsmtFinSF2', 'BsmtFullBath', 'BsmtHalfBath',\n",
       "        'BsmtUnfSF', 'GarageArea', 'GarageCars', 'LotFrontage',\n",
       "        'MasVnrArea', 'TotalBsmtSF'], dtype=object))"
      ]
     },
     "execution_count": 54,
     "metadata": {},
     "output_type": "execute_result"
    }
   ],
   "source": [
    "cat_var, cont_var"
   ]
  },
  {
   "cell_type": "code",
   "execution_count": 55,
   "metadata": {
    "collapsed": true
   },
   "outputs": [],
   "source": [
    "# Few of the above variables are really categorical but not continous, so transforming them into the same\n",
    "\n",
    "#Year and month sold are transformed into categorical features.\n",
    "all_data['YrSold'] = all_data['YrSold'].astype(str)\n",
    "all_data['MoSold'] = all_data['MoSold'].astype(str)\n",
    "all_data['YearBuilt'] = all_data['YearBuilt'].astype(str)\n",
    "all_data['YearRemodAdd'] = all_data['YearRemodAdd'].astype(str)\n",
    "all_data['YearRemodAdd'] = all_data['YearRemodAdd'].astype(str)\n"
   ]
  },
  {
   "cell_type": "code",
   "execution_count": 153,
   "metadata": {
    "collapsed": true
   },
   "outputs": [],
   "source": [
    "train_df['YrSold'] = train_df['YrSold'].astype(str)\n",
    "train_df['MoSold'] = train_df['MoSold'].astype(str)\n",
    "train_df['YearBuilt'] = train_df['YearBuilt'].astype(str)\n",
    "train_df['YearRemodAdd'] = train_df['YearRemodAdd'].astype(str)\n",
    "train_df['YearRemodAdd'] = train_df['YearRemodAdd'].astype(str)"
   ]
  },
  {
   "cell_type": "markdown",
   "metadata": {},
   "source": [
    "### Missing Value Imputation"
   ]
  },
  {
   "cell_type": "code",
   "execution_count": 57,
   "metadata": {},
   "outputs": [],
   "source": [
    "# categorical variables: to replace with the mode for that variable\n",
    "\n",
    "for var in cat_var:\n",
    "    all_data[var].fillna(all_data[var].mode()[0], inplace=True)\n",
    "    \n",
    "# to further improve the model, we would have to go through at variable level and impute values accrodingly"
   ]
  },
  {
   "cell_type": "code",
   "execution_count": 58,
   "metadata": {
    "collapsed": true
   },
   "outputs": [],
   "source": [
    "all_data[cont_var] = all_data[cont_var].fillna(all_data.mean().iloc[0])"
   ]
  },
  {
   "cell_type": "markdown",
   "metadata": {},
   "source": [
    "#### Skew check in numerical features"
   ]
  },
  {
   "cell_type": "code",
   "execution_count": 59,
   "metadata": {},
   "outputs": [
    {
     "name": "stdout",
     "output_type": "stream",
     "text": [
      "\n",
      "Skew in numerical features: \n",
      "\n"
     ]
    },
    {
     "data": {
      "text/html": [
       "<div>\n",
       "<style>\n",
       "    .dataframe thead tr:only-child th {\n",
       "        text-align: right;\n",
       "    }\n",
       "\n",
       "    .dataframe thead th {\n",
       "        text-align: left;\n",
       "    }\n",
       "\n",
       "    .dataframe tbody tr th {\n",
       "        vertical-align: top;\n",
       "    }\n",
       "</style>\n",
       "<table border=\"1\" class=\"dataframe\">\n",
       "  <thead>\n",
       "    <tr style=\"text-align: right;\">\n",
       "      <th></th>\n",
       "      <th>Skew</th>\n",
       "    </tr>\n",
       "  </thead>\n",
       "  <tbody>\n",
       "    <tr>\n",
       "      <th>MiscVal</th>\n",
       "      <td>24.451640</td>\n",
       "    </tr>\n",
       "    <tr>\n",
       "      <th>PoolArea</th>\n",
       "      <td>14.813135</td>\n",
       "    </tr>\n",
       "    <tr>\n",
       "      <th>LotArea</th>\n",
       "      <td>12.195142</td>\n",
       "    </tr>\n",
       "    <tr>\n",
       "      <th>3SsnPorch</th>\n",
       "      <td>10.293752</td>\n",
       "    </tr>\n",
       "    <tr>\n",
       "      <th>LowQualFinSF</th>\n",
       "      <td>9.002080</td>\n",
       "    </tr>\n",
       "    <tr>\n",
       "      <th>KitchenAbvGr</th>\n",
       "      <td>4.483784</td>\n",
       "    </tr>\n",
       "    <tr>\n",
       "      <th>BsmtFinSF2</th>\n",
       "      <td>4.250888</td>\n",
       "    </tr>\n",
       "    <tr>\n",
       "      <th>ScreenPorch</th>\n",
       "      <td>4.117977</td>\n",
       "    </tr>\n",
       "    <tr>\n",
       "      <th>BsmtHalfBath</th>\n",
       "      <td>4.099186</td>\n",
       "    </tr>\n",
       "    <tr>\n",
       "      <th>EnclosedPorch</th>\n",
       "      <td>3.086696</td>\n",
       "    </tr>\n",
       "  </tbody>\n",
       "</table>\n",
       "</div>"
      ],
      "text/plain": [
       "                    Skew\n",
       "MiscVal        24.451640\n",
       "PoolArea       14.813135\n",
       "LotArea        12.195142\n",
       "3SsnPorch      10.293752\n",
       "LowQualFinSF    9.002080\n",
       "KitchenAbvGr    4.483784\n",
       "BsmtFinSF2      4.250888\n",
       "ScreenPorch     4.117977\n",
       "BsmtHalfBath    4.099186\n",
       "EnclosedPorch   3.086696"
      ]
     },
     "execution_count": 59,
     "metadata": {},
     "output_type": "execute_result"
    }
   ],
   "source": [
    "numeric_feats = all_data.dtypes[all_data.dtypes != \"object\"].index\n",
    "\n",
    "# Check the skew of all numerical features\n",
    "skewed_feats = train_df[numeric_feats].apply(lambda x: skew(x.dropna())).sort_values(ascending=False)\n",
    "print(\"\\nSkew in numerical features: \\n\")\n",
    "skewness = pd.DataFrame({'Skew' :skewed_feats})\n",
    "skewness.head(10)"
   ]
  },
  {
   "cell_type": "code",
   "execution_count": 60,
   "metadata": {},
   "outputs": [
    {
     "name": "stdout",
     "output_type": "stream",
     "text": [
      "There are 32 skewed numerical features to Box Cox transform\n"
     ]
    }
   ],
   "source": [
    "skewness = skewness[abs(skewness) > 0.75]\n",
    "\n",
    "print(\"There are {} skewed numerical features to Box Cox transform\".format(skewness.shape[0]))\n",
    "\n",
    "from scipy.special import boxcox1p\n",
    "\n",
    "skewed_features = skewness.index\n",
    "lam = 0.15\n",
    "for feat in skewed_features:\n",
    "    #all_data[feat] += 1\n",
    "    all_data[feat] = boxcox1p(train_df[feat], lam)"
   ]
  },
  {
   "cell_type": "code",
   "execution_count": 82,
   "metadata": {
    "collapsed": true
   },
   "outputs": [],
   "source": [
    "for feat in skewed_features:\n",
    "    #all_data[feat] += 1\n",
    "    if (feat not in ['SalePrice', 'ln_SalePrice']) :\n",
    "        test_df[feat] = boxcox1p(test_df[feat], lam)"
   ]
  },
  {
   "cell_type": "code",
   "execution_count": null,
   "metadata": {
    "collapsed": true
   },
   "outputs": [],
   "source": [
    "# In case of numerical varibles, capping the outliers to 95th-%tile.  \n",
    "# Since linear regression is sensitive to outliers\n",
    "\n"
   ]
  },
  {
   "cell_type": "code",
   "execution_count": 26,
   "metadata": {
    "collapsed": true
   },
   "outputs": [],
   "source": [
    "# numerical variables: replacing with the mean value\n",
    "\n",
    "# train_df_2['LotFrontage'].fillna((train_df_2['LotFrontage'].mean()), inplace=True)\n",
    "# train_df_2['GarageYrBlt'].fillna((train_df_2['GarageYrBlt'].mean()), inplace=True)\n",
    "# train_df_2['MasVnrArea'].fillna((train_df_2['MasVnrArea'].mean()), inplace=True)"
   ]
  },
  {
   "cell_type": "code",
   "execution_count": 61,
   "metadata": {},
   "outputs": [
    {
     "data": {
      "text/html": [
       "<div>\n",
       "<style>\n",
       "    .dataframe thead tr:only-child th {\n",
       "        text-align: right;\n",
       "    }\n",
       "\n",
       "    .dataframe thead th {\n",
       "        text-align: left;\n",
       "    }\n",
       "\n",
       "    .dataframe tbody tr th {\n",
       "        vertical-align: top;\n",
       "    }\n",
       "</style>\n",
       "<table border=\"1\" class=\"dataframe\">\n",
       "  <thead>\n",
       "    <tr style=\"text-align: right;\">\n",
       "      <th></th>\n",
       "      <th>Missing Ratio</th>\n",
       "    </tr>\n",
       "  </thead>\n",
       "  <tbody>\n",
       "    <tr>\n",
       "      <th>LotFrontage</th>\n",
       "      <td>58.855773</td>\n",
       "    </tr>\n",
       "    <tr>\n",
       "      <th>MasVnrArea</th>\n",
       "      <td>50.256937</td>\n",
       "    </tr>\n",
       "    <tr>\n",
       "      <th>WoodDeckSF</th>\n",
       "      <td>49.982871</td>\n",
       "    </tr>\n",
       "    <tr>\n",
       "      <th>GarageArea</th>\n",
       "      <td>49.982871</td>\n",
       "    </tr>\n",
       "    <tr>\n",
       "      <th>FullBath</th>\n",
       "      <td>49.982871</td>\n",
       "    </tr>\n",
       "  </tbody>\n",
       "</table>\n",
       "</div>"
      ],
      "text/plain": [
       "             Missing Ratio\n",
       "LotFrontage      58.855773\n",
       "MasVnrArea       50.256937\n",
       "WoodDeckSF       49.982871\n",
       "GarageArea       49.982871\n",
       "FullBath         49.982871"
      ]
     },
     "execution_count": 61,
     "metadata": {},
     "output_type": "execute_result"
    }
   ],
   "source": [
    "all_data_na = (all_data.isnull().sum() / len(all_data)) * 100\n",
    "all_data_na = all_data_na.drop(all_data_na[all_data_na == 0].index).sort_values(ascending=False)\n",
    "missing_data = pd.DataFrame({'Missing Ratio' :all_data_na})\n",
    "missing_data.head()"
   ]
  },
  {
   "cell_type": "code",
   "execution_count": 62,
   "metadata": {
    "collapsed": true
   },
   "outputs": [],
   "source": [
    "# creating the one hot encoded variables, and dropping the original variables\n",
    "\n",
    "def get_dummies_ohe(df, varlst):\n",
    "    df_mod = df.copy()\n",
    "    for var in varlst:\n",
    "        new_var_name_lst = []\n",
    "        new_var_lst = pd.get_dummies(df[var])\n",
    "        df_mod = df_mod.drop(var, axis=1)\n",
    "        for elem in new_var_lst.columns:\n",
    "            new_var_name_lst.append(var+'_'+str(elem))\n",
    "        new_var_lst.columns = new_var_name_lst\n",
    "        df_mod = df_mod.join(new_var_lst)\n",
    "    return df_mod"
   ]
  },
  {
   "cell_type": "code",
   "execution_count": 63,
   "metadata": {
    "collapsed": true
   },
   "outputs": [],
   "source": [
    "all_data_2 = get_dummies_ohe(all_data, cat_var)"
   ]
  },
  {
   "cell_type": "code",
   "execution_count": 64,
   "metadata": {},
   "outputs": [
    {
     "data": {
      "text/plain": [
       "290"
      ]
     },
     "execution_count": 64,
     "metadata": {},
     "output_type": "execute_result"
    }
   ],
   "source": [
    "len(all_data_2.columns)"
   ]
  },
  {
   "cell_type": "markdown",
   "metadata": {},
   "source": [
    "### Principal Component Analysis"
   ]
  },
  {
   "cell_type": "code",
   "execution_count": 70,
   "metadata": {
    "collapsed": true
   },
   "outputs": [],
   "source": [
    "from matplotlib.cm import register_cmap\n",
    "from scipy import stats\n",
    "from sklearn.decomposition import PCA as sklearnPCA\n",
    "from sklearn.preprocessing import StandardScaler\n"
   ]
  },
  {
   "cell_type": "code",
   "execution_count": 31,
   "metadata": {
    "collapsed": true
   },
   "outputs": [],
   "source": [
    "??sklearnPCA"
   ]
  },
  {
   "cell_type": "code",
   "execution_count": 65,
   "metadata": {
    "collapsed": true
   },
   "outputs": [],
   "source": [
    "train = all_data_2[:ntrain]\n",
    "test = all_data_2[ntrain:]"
   ]
  },
  {
   "cell_type": "code",
   "execution_count": 66,
   "metadata": {
    "collapsed": true
   },
   "outputs": [],
   "source": [
    "y = train_df['ln_SalePrice']\n",
    "X = train"
   ]
  },
  {
   "cell_type": "code",
   "execution_count": 68,
   "metadata": {},
   "outputs": [
    {
     "data": {
      "text/plain": [
       "Index([u'1stFlrSF', u'2ndFlrSF', u'3SsnPorch', u'BedroomAbvGr', u'BsmtFinSF1',\n",
       "       u'BsmtFinSF2', u'BsmtFullBath', u'BsmtHalfBath', u'BsmtUnfSF',\n",
       "       u'EnclosedPorch',\n",
       "       ...\n",
       "       u'garage_decade_1940.0', u'garage_decade_1950.0',\n",
       "       u'garage_decade_1960.0', u'garage_decade_1970.0',\n",
       "       u'garage_decade_1980.0', u'garage_decade_1990.0',\n",
       "       u'garage_decade_2000.0', u'garage_decade_2010.0',\n",
       "       u'garage_decade_2200.0', u'garage_decade_nan'],\n",
       "      dtype='object', length=290)"
      ]
     },
     "execution_count": 68,
     "metadata": {},
     "output_type": "execute_result"
    }
   ],
   "source": [
    "X.columns"
   ]
  },
  {
   "cell_type": "code",
   "execution_count": 71,
   "metadata": {},
   "outputs": [],
   "source": [
    "X = X.replace(np.nan, 0, regex=True)\n",
    "X_std = StandardScaler().fit_transform(X)"
   ]
  },
  {
   "cell_type": "code",
   "execution_count": 97,
   "metadata": {},
   "outputs": [],
   "source": [
    "test = test.replace(np.nan, 0, regex=True)\n",
    "test_std = StandardScaler().fit_transform(test)"
   ]
  },
  {
   "cell_type": "code",
   "execution_count": 72,
   "metadata": {},
   "outputs": [
    {
     "name": "stdout",
     "output_type": "stream",
     "text": [
      "Covariance matrix \n",
      "[[ 1.0006854  -0.33628594  0.05856703 ...,  0.06236991  0.         -0.17448259]\n",
      " [-0.33628594  1.0006854  -0.02351383 ..., -0.03936504  0.         -0.04581089]\n",
      " [ 0.05856703 -0.02351383  1.0006854  ..., -0.00580756  0.         -0.03101867]\n",
      " ..., \n",
      " [ 0.06236991 -0.03936504 -0.00580756 ...,  1.0006854   0.         -0.01100497]\n",
      " [ 0.          0.          0.         ...,  0.          0.          0.        ]\n",
      " [-0.17448259 -0.04581089 -0.03101867 ..., -0.01100497  0.          1.0006854 ]]\n"
     ]
    }
   ],
   "source": [
    "mean_vec = np.mean(X_std, axis=0)\n",
    "cov_mat = (X_std - mean_vec).T.dot((X_std - mean_vec)) / (X_std.shape[0]-1)\n",
    "print('Covariance matrix \\n%s' %cov_mat)"
   ]
  },
  {
   "cell_type": "code",
   "execution_count": 73,
   "metadata": {
    "collapsed": true
   },
   "outputs": [],
   "source": [
    "#Perform eigendecomposition on covariance matrix\n",
    "cov_mat = np.cov(X_std.T)\n",
    "eig_vals, eig_vecs = np.linalg.eig(cov_mat)"
   ]
  },
  {
   "cell_type": "code",
   "execution_count": 74,
   "metadata": {},
   "outputs": [
    {
     "name": "stdout",
     "output_type": "stream",
     "text": [
      "Eigenvectors \n",
      "[[ -1.05745913e-01+0.j   9.04498095e-02+0.j  -1.47973309e-01+0.j ...,\n",
      "   -3.52914249e-15+0.j   0.00000000e+00+0.j   0.00000000e+00+0.j]\n",
      " [ -2.16684170e-02+0.j  -1.33881977e-01+0.j  -1.51665043e-01+0.j ...,\n",
      "    2.28066923e-16+0.j   0.00000000e+00+0.j   0.00000000e+00+0.j]\n",
      " [ -1.18778402e-02+0.j   1.79003890e-02+0.j  -1.90142449e-02+0.j ...,\n",
      "   -1.80356033e-16+0.j   0.00000000e+00+0.j   0.00000000e+00+0.j]\n",
      " ..., \n",
      " [ -1.91651847e-02+0.j  -5.60910816e-03+0.j   1.90585483e-03+0.j ...,\n",
      "   -6.84146385e-03+0.j   0.00000000e+00+0.j   0.00000000e+00+0.j]\n",
      " [  0.00000000e+00+0.j   0.00000000e+00+0.j   0.00000000e+00+0.j ...,\n",
      "    0.00000000e+00+0.j   0.00000000e+00+0.j   1.00000000e+00+0.j]\n",
      " [  6.93649080e-02+0.j  -5.12357236e-02+0.j   5.47708382e-02+0.j ...,\n",
      "   -3.45846413e-02+0.j   0.00000000e+00+0.j   0.00000000e+00+0.j]]\n",
      "\n",
      "Eigenvalues \n",
      "[  1.81942660e+01 +0.00000000e+00j   9.00006757e+00 +0.00000000e+00j\n",
      "   6.33741200e+00 +0.00000000e+00j   5.86488124e+00 +0.00000000e+00j\n",
      "   4.84932111e+00 +0.00000000e+00j   4.56472229e+00 +0.00000000e+00j\n",
      "   4.27974722e+00 +0.00000000e+00j   3.78860217e+00 +0.00000000e+00j\n",
      "   3.52256360e+00 +0.00000000e+00j   3.28877095e+00 +0.00000000e+00j\n",
      "   3.26363807e+00 +0.00000000e+00j   3.14043405e+00 +0.00000000e+00j\n",
      "   3.10418875e+00 +0.00000000e+00j   2.91983766e+00 +0.00000000e+00j\n",
      "   2.85093001e+00 +0.00000000e+00j   2.77910700e+00 +0.00000000e+00j\n",
      "   2.74623419e+00 +0.00000000e+00j   2.72316748e+00 +0.00000000e+00j\n",
      "   2.57875132e+00 +0.00000000e+00j   2.52897756e+00 +0.00000000e+00j\n",
      "   2.44337002e+00 +0.00000000e+00j   2.42282463e+00 +0.00000000e+00j\n",
      "   2.41020545e+00 +0.00000000e+00j   2.30731543e+00 +0.00000000e+00j\n",
      "   2.25846121e+00 +0.00000000e+00j   2.24569942e+00 +0.00000000e+00j\n",
      "   2.20398813e+00 +0.00000000e+00j   2.17611881e+00 +0.00000000e+00j\n",
      "   2.11843280e+00 +0.00000000e+00j   2.12613588e+00 +0.00000000e+00j\n",
      "   2.14283410e+00 +0.00000000e+00j   2.14767481e+00 +0.00000000e+00j\n",
      "   2.06251323e+00 +0.00000000e+00j   2.01069574e+00 +0.00000000e+00j\n",
      "   2.00158023e+00 +0.00000000e+00j   1.94135406e+00 +0.00000000e+00j\n",
      "   1.93219054e+00 +0.00000000e+00j   1.92381373e+00 +0.00000000e+00j\n",
      "   1.87220645e+00 +0.00000000e+00j   1.86476314e+00 +0.00000000e+00j\n",
      "   1.85384916e+00 +0.00000000e+00j   1.83872570e+00 +0.00000000e+00j\n",
      "   1.79625625e+00 +0.00000000e+00j   1.77819444e+00 +0.00000000e+00j\n",
      "   1.73733981e+00 +0.00000000e+00j   1.72440484e+00 +0.00000000e+00j\n",
      "   1.68267791e+00 +0.00000000e+00j   1.66760369e+00 +0.00000000e+00j\n",
      "   1.64529541e+00 +0.00000000e+00j   1.62942301e+00 +0.00000000e+00j\n",
      "   1.59765046e+00 +0.00000000e+00j   1.58863846e+00 +0.00000000e+00j\n",
      "   1.56102426e+00 +0.00000000e+00j   1.53973767e+00 +0.00000000e+00j\n",
      "   1.52924749e+00 +0.00000000e+00j   1.51878277e+00 +0.00000000e+00j\n",
      "   1.46571912e+00 +0.00000000e+00j   1.47021370e+00 +0.00000000e+00j\n",
      "   1.49450386e+00 +0.00000000e+00j   1.50327908e+00 +0.00000000e+00j\n",
      "   1.45445672e+00 +0.00000000e+00j   1.44630367e+00 +0.00000000e+00j\n",
      "   1.42123388e+00 +0.00000000e+00j   1.41135953e+00 +0.00000000e+00j\n",
      "   1.38777246e+00 +0.00000000e+00j   1.37229854e+00 +0.00000000e+00j\n",
      "   1.35651207e+00 +0.00000000e+00j   1.34939192e+00 +0.00000000e+00j\n",
      "   1.33884406e+00 +0.00000000e+00j   1.33048577e+00 +0.00000000e+00j\n",
      "   1.31570993e+00 +0.00000000e+00j   1.29393667e+00 +0.00000000e+00j\n",
      "   1.28474835e+00 +0.00000000e+00j   1.27875066e+00 +0.00000000e+00j\n",
      "   1.26923025e+00 +0.00000000e+00j   1.22140253e+00 +0.00000000e+00j\n",
      "   1.23534391e+00 +0.00000000e+00j   1.23886202e+00 +0.00000000e+00j\n",
      "   1.25298965e+00 +0.00000000e+00j   1.20848241e+00 +0.00000000e+00j\n",
      "   1.19814994e+00 +0.00000000e+00j   1.17951753e+00 +0.00000000e+00j\n",
      "   1.18944490e+00 +0.00000000e+00j   1.19183152e+00 +0.00000000e+00j\n",
      "   1.15998625e+00 +0.00000000e+00j   1.15287542e+00 +0.00000000e+00j\n",
      "   1.14256299e+00 +0.00000000e+00j   1.13189100e+00 +0.00000000e+00j\n",
      "   1.12109503e+00 +0.00000000e+00j   1.10858573e+00 +0.00000000e+00j\n",
      "   1.10716226e+00 +0.00000000e+00j   1.09657512e+00 +0.00000000e+00j\n",
      "   1.09276254e+00 +0.00000000e+00j   1.08750213e+00 +0.00000000e+00j\n",
      "   1.07348435e+00 +0.00000000e+00j   1.06678437e+00 +0.00000000e+00j\n",
      "   1.05988187e+00 +0.00000000e+00j   1.04359053e+00 +0.00000000e+00j\n",
      "   1.03931862e+00 +0.00000000e+00j   1.03166381e+00 +0.00000000e+00j\n",
      "   1.01368124e+00 +0.00000000e+00j   1.01021064e+00 +0.00000000e+00j\n",
      "   1.00217370e+00 +0.00000000e+00j   9.91576934e-01 +0.00000000e+00j\n",
      "   9.83099121e-01 +0.00000000e+00j   9.77422222e-01 +0.00000000e+00j\n",
      "   9.68013127e-01 +0.00000000e+00j   9.62604811e-01 +0.00000000e+00j\n",
      "   9.56366120e-01 +0.00000000e+00j   9.40041765e-01 +0.00000000e+00j\n",
      "   9.37014013e-01 +0.00000000e+00j   9.23840073e-01 +0.00000000e+00j\n",
      "   9.14562748e-01 +0.00000000e+00j   9.16555035e-01 +0.00000000e+00j\n",
      "   9.10766334e-01 +0.00000000e+00j   9.02767522e-01 +0.00000000e+00j\n",
      "   8.96717402e-01 +0.00000000e+00j   8.82532961e-01 +0.00000000e+00j\n",
      "   8.71604985e-01 +0.00000000e+00j   8.67402838e-01 +0.00000000e+00j\n",
      "   8.58394296e-01 +0.00000000e+00j   8.42069246e-01 +0.00000000e+00j\n",
      "   6.90239295e-02 +0.00000000e+00j   8.06647937e-02 +0.00000000e+00j\n",
      "   8.12180488e-02 +0.00000000e+00j   8.48039132e-02 +0.00000000e+00j\n",
      "   9.62958683e-02 +0.00000000e+00j   1.02232309e-01 +0.00000000e+00j\n",
      "   1.04104244e-01 +0.00000000e+00j   1.07819147e-01 +0.00000000e+00j\n",
      "   1.14100789e-01 +0.00000000e+00j   1.26192316e-01 +0.00000000e+00j\n",
      "   1.38540906e-01 +0.00000000e+00j   1.41474792e-01 +0.00000000e+00j\n",
      "   1.67665315e-01 +0.00000000e+00j   1.48881842e-01 +0.00000000e+00j\n",
      "   1.60447064e-01 +0.00000000e+00j   1.56486927e-01 +0.00000000e+00j\n",
      "   1.52422072e-01 +0.00000000e+00j   1.90278108e-01 +0.00000000e+00j\n",
      "   1.96763760e-01 +0.00000000e+00j   1.99471412e-01 +0.00000000e+00j\n",
      "   2.06374538e-01 +0.00000000e+00j   8.36038152e-01 +0.00000000e+00j\n",
      "   8.33345602e-01 +0.00000000e+00j   8.25951315e-01 +0.00000000e+00j\n",
      "   5.16410347e-02 +0.00000000e+00j   2.15715686e-01 +0.00000000e+00j\n",
      "   2.22139273e-01 +0.00000000e+00j   2.26512308e-01 +0.00000000e+00j\n",
      "   8.13774182e-01 +0.00000000e+00j   8.07306727e-01 +0.00000000e+00j\n",
      "   8.03654808e-01 +0.00000000e+00j   7.96126291e-01 +0.00000000e+00j\n",
      "   7.84867613e-01 +0.00000000e+00j   3.77371723e-02 +0.00000000e+00j\n",
      "   3.72502409e-02 +0.00000000e+00j   2.60645116e-01 +0.00000000e+00j\n",
      "   2.73436955e-01 +0.00000000e+00j   2.48854470e-01 +0.00000000e+00j\n",
      "   2.40538670e-01 +0.00000000e+00j   2.41928445e-01 +0.00000000e+00j\n",
      "   7.68886748e-01 +0.00000000e+00j   7.75519454e-01 +0.00000000e+00j\n",
      "   2.54611207e-02 +0.00000000e+00j   2.79872243e-01 +0.00000000e+00j\n",
      "   3.33561060e-02 +0.00000000e+00j   3.16278704e-02 +0.00000000e+00j\n",
      "   2.89682953e-01 +0.00000000e+00j   2.97612601e-01 +0.00000000e+00j\n",
      "   7.77214485e-01 +0.00000000e+00j   7.62332310e-01 +0.00000000e+00j\n",
      "   7.56109207e-01 +0.00000000e+00j   7.47294832e-01 +0.00000000e+00j\n",
      "   7.42122890e-01 +0.00000000e+00j   7.32454516e-01 +0.00000000e+00j\n",
      "   7.21637433e-01 +0.00000000e+00j   7.15842236e-01 +0.00000000e+00j\n",
      "   7.10586533e-01 +0.00000000e+00j   7.01546802e-01 +0.00000000e+00j\n",
      "   6.96539637e-01 +0.00000000e+00j   6.85484310e-01 +0.00000000e+00j\n",
      "   6.77321217e-01 +0.00000000e+00j   3.00532899e-01 +0.00000000e+00j\n",
      "   3.06758364e-01 +0.00000000e+00j   3.08254356e-01 +0.00000000e+00j\n",
      "   3.12215063e-01 +0.00000000e+00j   3.59758439e-01 +0.00000000e+00j\n",
      "   3.50716933e-01 +0.00000000e+00j   3.24330165e-01 +0.00000000e+00j\n",
      "   3.26411414e-01 +0.00000000e+00j   3.37280336e-01 +0.00000000e+00j\n",
      "   3.38287926e-01 +0.00000000e+00j   1.47199419e-02 +0.00000000e+00j\n",
      "   3.68174515e-01 +0.00000000e+00j   3.75118316e-01 +0.00000000e+00j\n",
      "   6.65856416e-01 +0.00000000e+00j   6.64166451e-01 +0.00000000e+00j\n",
      "   6.47574895e-01 +0.00000000e+00j   6.41438477e-01 +0.00000000e+00j\n",
      "   3.81578496e-01 +0.00000000e+00j   1.99449741e-02 +0.00000000e+00j\n",
      "   2.09652066e-02 +0.00000000e+00j   3.87766455e-01 +0.00000000e+00j\n",
      "   6.31851057e-01 +0.00000000e+00j   6.55597548e-01 +0.00000000e+00j\n",
      "   6.21943759e-01 +0.00000000e+00j   6.16073110e-01 +0.00000000e+00j\n",
      "   3.95688372e-01 +0.00000000e+00j   4.05663971e-01 +0.00000000e+00j\n",
      "   6.08256378e-01 +0.00000000e+00j   5.34526670e-01 +0.00000000e+00j\n",
      "   5.26942374e-01 +0.00000000e+00j   4.78541683e-01 +0.00000000e+00j\n",
      "   5.21656419e-01 +0.00000000e+00j   5.90551598e-01 +0.00000000e+00j\n",
      "   5.94987541e-01 +0.00000000e+00j   6.02719721e-01 +0.00000000e+00j\n",
      "   5.58269231e-01 +0.00000000e+00j   4.11617021e-01 +0.00000000e+00j\n",
      "   4.14899643e-01 +0.00000000e+00j   4.28846352e-01 +0.00000000e+00j\n",
      "   4.31980176e-01 +0.00000000e+00j   4.87392719e-01 +0.00000000e+00j\n",
      "   4.71912716e-01 +0.00000000e+00j   4.46393588e-01 +0.00000000e+00j\n",
      "   4.66223864e-01 +0.00000000e+00j   4.59748892e-01 +0.00000000e+00j\n",
      "   4.56696082e-01 +0.00000000e+00j   5.70960450e-01 +0.00000000e+00j\n",
      "   5.62152933e-01 +0.00000000e+00j   5.66933106e-01 +0.00000000e+00j\n",
      "   5.09908957e-01 +0.00000000e+00j   5.11307816e-01 +0.00000000e+00j\n",
      "   4.89204642e-01 +0.00000000e+00j   1.75967644e-02 +0.00000000e+00j\n",
      "   5.67808055e-01 +0.00000000e+00j   6.35828894e-01 +0.00000000e+00j\n",
      "   3.83656083e-01 +0.00000000e+00j   5.96808660e-01 +0.00000000e+00j\n",
      "   4.21164690e-01 +0.00000000e+00j   4.23985889e-01 +0.00000000e+00j\n",
      "   4.43684150e-01 +0.00000000e+00j   5.13186342e-01 +0.00000000e+00j\n",
      "   5.48443989e-01 +0.00000000e+00j   1.26163138e-02 +0.00000000e+00j\n",
      "   7.52237937e-03 +0.00000000e+00j  -4.09356289e-15 +0.00000000e+00j\n",
      "   3.92002765e-15 +0.00000000e+00j   3.59343543e-15 +0.00000000e+00j\n",
      "   3.49616159e-15 +0.00000000e+00j   3.26348231e-15 +0.00000000e+00j\n",
      "   2.90976632e-15 +0.00000000e+00j  -3.39611559e-15 +7.85807489e-17j\n",
      "  -3.39611559e-15 -7.85807489e-17j  -2.67515170e-15 +0.00000000e+00j\n",
      "  -2.98679971e-15 +0.00000000e+00j   2.31979716e-15 +0.00000000e+00j\n",
      "   2.05480975e-15 +0.00000000e+00j   1.81378618e-15 +0.00000000e+00j\n",
      "  -1.93174780e-15 +2.12413351e-17j  -1.93174780e-15 -2.12413351e-17j\n",
      "   1.33958673e-15 +3.73203010e-17j   1.33958673e-15 -3.73203010e-17j\n",
      "   1.17773870e-15 +0.00000000e+00j   1.23201438e-15 +0.00000000e+00j\n",
      "   9.53731399e-16 +0.00000000e+00j   6.75386390e-16 +0.00000000e+00j\n",
      "  -1.50284443e-15 +0.00000000e+00j  -1.41129930e-15 +0.00000000e+00j\n",
      "   4.40855885e-16 +3.22591783e-17j   4.40855885e-16 -3.22591783e-17j\n",
      "   3.13530376e-16 +0.00000000e+00j   2.18075314e-16 +0.00000000e+00j\n",
      "  -7.43580384e-17 +1.36394556e-16j  -7.43580384e-17 -1.36394556e-16j\n",
      "  -2.27949054e-18 +3.10408668e-17j  -2.27949054e-18 -3.10408668e-17j\n",
      "  -1.26787679e-16 +0.00000000e+00j  -3.18307402e-16 +8.07610906e-17j\n",
      "  -3.18307402e-16 -8.07610906e-17j  -1.31742765e-15 +0.00000000e+00j\n",
      "  -5.28033906e-16 +2.61918480e-17j  -5.28033906e-16 -2.61918480e-17j\n",
      "  -1.15212368e-15 +0.00000000e+00j  -8.65988436e-16 +0.00000000e+00j\n",
      "  -9.16121389e-16 +0.00000000e+00j  -1.02398957e-15 +0.00000000e+00j\n",
      "   0.00000000e+00 +0.00000000e+00j   0.00000000e+00 +0.00000000e+00j]\n"
     ]
    }
   ],
   "source": [
    "print('Eigenvectors \\n%s' %eig_vecs)\n",
    "print('\\nEigenvalues \\n%s' %eig_vals)"
   ]
  },
  {
   "cell_type": "code",
   "execution_count": 75,
   "metadata": {},
   "outputs": [
    {
     "name": "stdout",
     "output_type": "stream",
     "text": [
      "Eigenvalues in descending order:\n",
      "18.1942660062\n",
      "9.00006756631\n",
      "6.33741199773\n",
      "5.86488124357\n",
      "4.84932111405\n",
      "4.56472228681\n",
      "4.27974721542\n",
      "3.78860216943\n",
      "3.52256360416\n",
      "3.28877095291\n",
      "3.26363806949\n",
      "3.14043404574\n",
      "3.10418875357\n",
      "2.91983765783\n",
      "2.85093000559\n",
      "2.77910700032\n",
      "2.74623419215\n",
      "2.72316747696\n",
      "2.57875132275\n",
      "2.52897755966\n",
      "2.4433700156\n",
      "2.42282463012\n",
      "2.41020544733\n",
      "2.30731543008\n",
      "2.25846121306\n",
      "2.24569942116\n",
      "2.2039881259\n",
      "2.17611881296\n",
      "2.11843279845\n",
      "2.12613587661\n",
      "2.14283409682\n",
      "2.1476748084\n",
      "2.06251323194\n",
      "2.01069573848\n",
      "2.00158022677\n",
      "1.94135405891\n",
      "1.93219053773\n",
      "1.92381373121\n",
      "1.87220644869\n",
      "1.86476313518\n",
      "1.85384915564\n",
      "1.83872569811\n",
      "1.79625625446\n",
      "1.77819443583\n",
      "1.73733980741\n",
      "1.7244048356\n",
      "1.68267791494\n",
      "1.66760369114\n",
      "1.64529541352\n",
      "1.62942300538\n",
      "1.59765046132\n",
      "1.58863846146\n",
      "1.56102426001\n",
      "1.53973766924\n",
      "1.52924748933\n",
      "1.51878276766\n",
      "1.46571912073\n",
      "1.47021370427\n",
      "1.49450385573\n",
      "1.5032790835\n",
      "1.45445672135\n",
      "1.44630367218\n",
      "1.42123387816\n",
      "1.41135952785\n",
      "1.38777246165\n",
      "1.37229853515\n",
      "1.35651206845\n",
      "1.34939191804\n",
      "1.33884406238\n",
      "1.33048577194\n",
      "1.31570992991\n",
      "1.29393666747\n",
      "1.28474835102\n",
      "1.27875066281\n",
      "1.2692302495\n",
      "1.22140253021\n",
      "1.23534390827\n",
      "1.23886202426\n",
      "1.25298964982\n",
      "1.20848240636\n",
      "1.19814993601\n",
      "1.17951753417\n",
      "1.18944490449\n",
      "1.19183152166\n",
      "1.15998625259\n",
      "1.15287542483\n",
      "1.14256299\n",
      "1.13189099576\n",
      "1.12109503299\n",
      "1.1085857334\n",
      "1.10716226448\n",
      "1.0965751224\n",
      "1.09276253769\n",
      "1.087502132\n",
      "1.07348435248\n",
      "1.06678437366\n",
      "1.05988186553\n",
      "1.04359053075\n",
      "1.03931862179\n",
      "1.03166380769\n",
      "1.01368124425\n",
      "1.01021063671\n",
      "1.00217370082\n",
      "0.991576933682\n",
      "0.98309912066\n",
      "0.977422222176\n",
      "0.968013127208\n",
      "0.96260481101\n",
      "0.956366119691\n",
      "0.940041765012\n",
      "0.937014013369\n",
      "0.92384007279\n",
      "0.914562747857\n",
      "0.916555035122\n",
      "0.910766334198\n",
      "0.902767522354\n",
      "0.896717401934\n",
      "0.882532960594\n",
      "0.871604985249\n",
      "0.867402838468\n",
      "0.858394296237\n",
      "0.842069246095\n",
      "0.0690239294713\n",
      "0.0806647936524\n",
      "0.0812180487584\n",
      "0.0848039131648\n",
      "0.0962958683175\n",
      "0.102232308942\n",
      "0.104104243916\n",
      "0.107819147418\n",
      "0.114100788962\n",
      "0.12619231615\n",
      "0.138540905615\n",
      "0.141474792179\n",
      "0.167665315448\n",
      "0.14888184189\n",
      "0.160447063539\n",
      "0.156486927178\n",
      "0.152422072275\n",
      "0.190278107838\n",
      "0.196763759791\n",
      "0.199471411779\n",
      "0.206374537697\n",
      "0.836038151647\n",
      "0.833345601971\n",
      "0.825951315328\n",
      "0.0516410346938\n",
      "0.215715686233\n",
      "0.22213927334\n",
      "0.22651230784\n",
      "0.81377418178\n",
      "0.807306726641\n",
      "0.803654807838\n",
      "0.796126291433\n",
      "0.784867613488\n",
      "0.0377371723148\n",
      "0.0372502408657\n",
      "0.26064511591\n",
      "0.273436955471\n",
      "0.248854469812\n",
      "0.240538669662\n",
      "0.241928444853\n",
      "0.768886747841\n",
      "0.775519454185\n",
      "0.0254611206721\n",
      "0.279872243097\n",
      "0.0333561059977\n",
      "0.0316278704071\n",
      "0.289682952785\n",
      "0.297612601068\n",
      "0.777214484963\n",
      "0.762332310343\n",
      "0.756109206993\n",
      "0.747294832106\n",
      "0.74212288979\n",
      "0.732454516087\n",
      "0.721637433287\n",
      "0.715842235865\n",
      "0.710586532571\n",
      "0.701546801792\n",
      "0.696539637465\n",
      "0.685484309572\n",
      "0.67732121724\n",
      "0.300532898791\n",
      "0.306758363814\n",
      "0.308254356148\n",
      "0.312215063018\n",
      "0.359758439447\n",
      "0.350716932763\n",
      "0.324330165323\n",
      "0.326411413584\n",
      "0.337280336465\n",
      "0.338287926381\n",
      "0.0147199418879\n",
      "0.368174515009\n",
      "0.375118316076\n",
      "0.665856416072\n",
      "0.6641664508\n",
      "0.647574895103\n",
      "0.641438476566\n",
      "0.381578496172\n",
      "0.0199449741156\n",
      "0.0209652066318\n",
      "0.387766454653\n",
      "0.631851057428\n",
      "0.655597548447\n",
      "0.621943759118\n",
      "0.616073110317\n",
      "0.395688372145\n",
      "0.405663971358\n",
      "0.608256377847\n",
      "0.534526669719\n",
      "0.52694237449\n",
      "0.478541683232\n",
      "0.521656418582\n",
      "0.590551597861\n",
      "0.594987540881\n",
      "0.602719721116\n",
      "0.558269231162\n",
      "0.411617021183\n",
      "0.414899642944\n",
      "0.428846352188\n",
      "0.431980175719\n",
      "0.487392719435\n",
      "0.471912715684\n",
      "0.446393588127\n",
      "0.466223863649\n",
      "0.459748892449\n",
      "0.456696082032\n",
      "0.570960450033\n",
      "0.562152933164\n",
      "0.566933105854\n",
      "0.50990895672\n",
      "0.511307815505\n",
      "0.489204641727\n",
      "0.0175967644081\n",
      "0.567808054961\n",
      "0.63582889419\n",
      "0.383656082766\n",
      "0.59680866049\n",
      "0.421164689751\n",
      "0.423985889398\n",
      "0.443684150184\n",
      "0.513186341982\n",
      "0.548443988857\n",
      "0.0126163138032\n",
      "0.00752237937064\n",
      "4.09356289445e-15\n",
      "3.92002765126e-15\n",
      "3.59343542542e-15\n",
      "3.49616159437e-15\n",
      "3.26348230895e-15\n",
      "2.90976632493e-15\n",
      "3.39702458487e-15\n",
      "3.39702458487e-15\n",
      "2.67515169527e-15\n",
      "2.98679971255e-15\n",
      "2.3197971599e-15\n",
      "2.05480975294e-15\n",
      "1.81378617678e-15\n",
      "1.93186458537e-15\n",
      "1.93186458537e-15\n",
      "1.34010649149e-15\n",
      "1.34010649149e-15\n",
      "1.17773870034e-15\n",
      "1.23201438423e-15\n",
      "9.53731399349e-16\n",
      "6.75386389877e-16\n",
      "1.50284443045e-15\n",
      "1.41129929763e-15\n",
      "4.42034575167e-16\n",
      "4.42034575167e-16\n",
      "3.13530375719e-16\n",
      "2.18075313589e-16\n",
      "1.55346686054e-16\n",
      "1.55346686054e-16\n",
      "3.11244516307e-17\n",
      "3.11244516307e-17\n",
      "1.26787678673e-16\n",
      "3.28392990424e-16\n",
      "3.28392990424e-16\n",
      "1.31742764516e-15\n",
      "5.28683098732e-16\n",
      "5.28683098732e-16\n",
      "1.15212368281e-15\n",
      "8.65988435948e-16\n",
      "9.16121388958e-16\n",
      "1.02398956852e-15\n",
      "0.0\n",
      "0.0\n"
     ]
    }
   ],
   "source": [
    "eig_pairs = [(np.abs(eig_vals[i]), eig_vecs[:,i]) for i in range(len(eig_vals))]\n",
    "print('Eigenvalues in descending order:')\n",
    "for i in eig_pairs:\n",
    "    print(i[0])\n"
   ]
  },
  {
   "cell_type": "code",
   "execution_count": 76,
   "metadata": {},
   "outputs": [
    {
     "name": "stdout",
     "output_type": "stream",
     "text": [
      "[ 0.73259     0.14970595  0.02419624  0.01709791  0.0106156   0.00928282\n",
      "  0.00707935]\n"
     ]
    }
   ],
   "source": [
    "pca = sklearnPCA(n_components=7)\n",
    "pca.fit_transform(X)\n",
    "print pca.explained_variance_ratio_\n"
   ]
  },
  {
   "cell_type": "code",
   "execution_count": 77,
   "metadata": {},
   "outputs": [
    {
     "data": {
      "image/png": "[encoded data removed]",
      "text/plain": [
       "<matplotlib.figure.Figure at 0x110e57910>"
      ]
     },
     "metadata": {},
     "output_type": "display_data"
    }
   ],
   "source": [
    "#Explained variance\n",
    "pca = sklearnPCA().fit(X_std)\n",
    "plt.plot(np.cumsum(pca.explained_variance_ratio_))\n",
    "plt.xlabel('number of components')\n",
    "plt.ylabel('cumulative explained variance')\n",
    "plt.show()"
   ]
  },
  {
   "cell_type": "code",
   "execution_count": 78,
   "metadata": {},
   "outputs": [
    {
     "data": {
      "text/plain": [
       "(290, 290)"
      ]
     },
     "execution_count": 78,
     "metadata": {},
     "output_type": "execute_result"
    }
   ],
   "source": [
    "eig_vecs.shape"
   ]
  },
  {
   "cell_type": "code",
   "execution_count": 79,
   "metadata": {
    "collapsed": true
   },
   "outputs": [],
   "source": [
    "# planning to use top 5 components from PCA\n",
    "\n",
    "eig_pairs = [(np.abs(eig_vals[i]), eig_vecs[:,i]) for i in range(len(eig_vals))]\n",
    "matrix_w = np.hstack((eig_pairs[0][1].reshape(290,1),\n",
    "                      eig_pairs[1][1].reshape(290,1),\n",
    "                      eig_pairs[2][1].reshape(290,1),\n",
    "                      eig_pairs[3][1].reshape(290,1),\n",
    "                      eig_pairs[4][1].reshape(290,1)))"
   ]
  },
  {
   "cell_type": "code",
   "execution_count": 80,
   "metadata": {
    "collapsed": true
   },
   "outputs": [],
   "source": [
    "pred_Y = X_std.dot(matrix_w)"
   ]
  },
  {
   "cell_type": "code",
   "execution_count": 98,
   "metadata": {
    "collapsed": true
   },
   "outputs": [],
   "source": [
    "new_test = test_std.dot(matrix_w)"
   ]
  },
  {
   "cell_type": "code",
   "execution_count": 81,
   "metadata": {
    "collapsed": true
   },
   "outputs": [],
   "source": [
    "X_pca_5 = pd.DataFrame(pred_Y, columns=['pca1','pca2','pca3','pca4','pca5'])"
   ]
  },
  {
   "cell_type": "code",
   "execution_count": 82,
   "metadata": {},
   "outputs": [
    {
     "data": {
      "text/html": [
       "<div>\n",
       "<style>\n",
       "    .dataframe thead tr:only-child th {\n",
       "        text-align: right;\n",
       "    }\n",
       "\n",
       "    .dataframe thead th {\n",
       "        text-align: left;\n",
       "    }\n",
       "\n",
       "    .dataframe tbody tr th {\n",
       "        vertical-align: top;\n",
       "    }\n",
       "</style>\n",
       "<table border=\"1\" class=\"dataframe\">\n",
       "  <thead>\n",
       "    <tr style=\"text-align: right;\">\n",
       "      <th></th>\n",
       "      <th>pca1</th>\n",
       "      <th>pca2</th>\n",
       "      <th>pca3</th>\n",
       "      <th>pca4</th>\n",
       "      <th>pca5</th>\n",
       "    </tr>\n",
       "  </thead>\n",
       "  <tbody>\n",
       "    <tr>\n",
       "      <th>0</th>\n",
       "      <td>(-4.72200101425+0j)</td>\n",
       "      <td>(-1.61544204235+0j)</td>\n",
       "      <td>(1.36958310358+0j)</td>\n",
       "      <td>(1.87249001577+0j)</td>\n",
       "      <td>(-0.019851947962+0j)</td>\n",
       "    </tr>\n",
       "    <tr>\n",
       "      <th>1</th>\n",
       "      <td>(0.0940376313779+0j)</td>\n",
       "      <td>(3.47520753788+0j)</td>\n",
       "      <td>(0.208035800388+0j)</td>\n",
       "      <td>(0.624860672775+0j)</td>\n",
       "      <td>(-0.0340770676078+0j)</td>\n",
       "    </tr>\n",
       "    <tr>\n",
       "      <th>2</th>\n",
       "      <td>(-5.53096050179+0j)</td>\n",
       "      <td>(-0.666139332188+0j)</td>\n",
       "      <td>(-0.0119003777098+0j)</td>\n",
       "      <td>(2.27027992978+0j)</td>\n",
       "      <td>(-0.489253123183+0j)</td>\n",
       "    </tr>\n",
       "    <tr>\n",
       "      <th>3</th>\n",
       "      <td>(1.91770250914+0j)</td>\n",
       "      <td>(-1.17142580203+0j)</td>\n",
       "      <td>(-2.62798470197+0j)</td>\n",
       "      <td>(1.40290750728+0j)</td>\n",
       "      <td>(1.14206563809+0j)</td>\n",
       "    </tr>\n",
       "    <tr>\n",
       "      <th>4</th>\n",
       "      <td>(-6.80584396928+0j)</td>\n",
       "      <td>(-0.306429780236+0j)</td>\n",
       "      <td>(-1.76780783421+0j)</td>\n",
       "      <td>(3.07536881161+0j)</td>\n",
       "      <td>(-0.335950553283+0j)</td>\n",
       "    </tr>\n",
       "  </tbody>\n",
       "</table>\n",
       "</div>"
      ],
      "text/plain": [
       "                   pca1                  pca2                   pca3  \\\n",
       "0   (-4.72200101425+0j)   (-1.61544204235+0j)     (1.36958310358+0j)   \n",
       "1  (0.0940376313779+0j)    (3.47520753788+0j)    (0.208035800388+0j)   \n",
       "2   (-5.53096050179+0j)  (-0.666139332188+0j)  (-0.0119003777098+0j)   \n",
       "3    (1.91770250914+0j)   (-1.17142580203+0j)    (-2.62798470197+0j)   \n",
       "4   (-6.80584396928+0j)  (-0.306429780236+0j)    (-1.76780783421+0j)   \n",
       "\n",
       "                  pca4                   pca5  \n",
       "0   (1.87249001577+0j)   (-0.019851947962+0j)  \n",
       "1  (0.624860672775+0j)  (-0.0340770676078+0j)  \n",
       "2   (2.27027992978+0j)   (-0.489253123183+0j)  \n",
       "3   (1.40290750728+0j)     (1.14206563809+0j)  \n",
       "4   (3.07536881161+0j)   (-0.335950553283+0j)  "
      ]
     },
     "execution_count": 82,
     "metadata": {},
     "output_type": "execute_result"
    }
   ],
   "source": [
    "X_pca_5.head()"
   ]
  },
  {
   "cell_type": "code",
   "execution_count": 83,
   "metadata": {},
   "outputs": [
    {
     "data": {
      "text/plain": [
       "(1460, 5)"
      ]
     },
     "execution_count": 83,
     "metadata": {},
     "output_type": "execute_result"
    }
   ],
   "source": [
    "X_pca_5.shape"
   ]
  },
  {
   "cell_type": "markdown",
   "metadata": {},
   "source": [
    "### Comparing two models\n",
    "* PCA based model\n",
    "* Non-PCA based, only with one hot encoded variables"
   ]
  },
  {
   "cell_type": "code",
   "execution_count": 84,
   "metadata": {},
   "outputs": [
    {
     "data": {
      "text/plain": [
       "0    208500.0\n",
       "1    181500.0\n",
       "2    223500.0\n",
       "3    140000.0\n",
       "4    250000.0\n",
       "Name: ln_SalePrice, dtype: float64"
      ]
     },
     "execution_count": 84,
     "metadata": {},
     "output_type": "execute_result"
    }
   ],
   "source": [
    "np.expm1(y.head())"
   ]
  },
  {
   "cell_type": "code",
   "execution_count": 87,
   "metadata": {
    "collapsed": true
   },
   "outputs": [],
   "source": [
    "from sklearn.linear_model import ElasticNet, Lasso,  BayesianRidge, LassoLarsIC\n",
    "from sklearn.pipeline import make_pipeline\n",
    "from sklearn.preprocessing import RobustScaler\n",
    "from sklearn.kernel_ridge import KernelRidge\n",
    "import xgboost as xgb\n",
    "from sklearn.model_selection import KFold, cross_val_score, train_test_split\n",
    "from sklearn.metrics import mean_squared_error"
   ]
  },
  {
   "cell_type": "markdown",
   "metadata": {},
   "source": [
    "### Building Base Models"
   ]
  },
  {
   "cell_type": "code",
   "execution_count": 94,
   "metadata": {
    "collapsed": true
   },
   "outputs": [],
   "source": [
    "#Validation function\n",
    "n_folds = 5\n",
    "\n",
    "def rmsle_cv(model):\n",
    "    kf = KFold(n_folds, shuffle=True, random_state=42).get_n_splits(X_pca_5.values)\n",
    "    rmse= np.sqrt(-cross_val_score(model, X_pca_5.values, y, scoring=\"neg_mean_squared_error\", cv = kf))\n",
    "    return(rmse)\n"
   ]
  },
  {
   "cell_type": "code",
   "execution_count": 213,
   "metadata": {
    "collapsed": true
   },
   "outputs": [],
   "source": [
    "# Lasso\n",
    "\n",
    "lasso = make_pipeline(RobustScaler(), Lasso(alpha =0.0005, random_state=1))"
   ]
  },
  {
   "cell_type": "code",
   "execution_count": 214,
   "metadata": {
    "collapsed": true
   },
   "outputs": [],
   "source": [
    "# ElasticNet\n",
    "\n",
    "ENet = make_pipeline(RobustScaler(), ElasticNet(alpha=0.0005, l1_ratio=.9, random_state=3))"
   ]
  },
  {
   "cell_type": "code",
   "execution_count": 215,
   "metadata": {
    "collapsed": true
   },
   "outputs": [],
   "source": [
    "# Kernel Ridge Regression\n",
    "\n",
    "KRR = KernelRidge(alpha=0.6, kernel='polynomial', degree=2, coef0=2.5)"
   ]
  },
  {
   "cell_type": "code",
   "execution_count": 93,
   "metadata": {
    "collapsed": true
   },
   "outputs": [],
   "source": [
    "# xgboost\n",
    "\n",
    "model_xgb = xgb.XGBRegressor(colsample_bytree=0.4603, gamma=0.0468, \n",
    "                             learning_rate=0.05, max_depth=3, \n",
    "                             min_child_weight=1.7817, n_estimators=2200,\n",
    "                             reg_alpha=0.4640, reg_lambda=0.8571,\n",
    "                             subsample=0.5213, silent=1,\n",
    "                             random_state =7, nthread = -1)"
   ]
  },
  {
   "cell_type": "markdown",
   "metadata": {},
   "source": [
    "#### Models for the PCA data "
   ]
  },
  {
   "cell_type": "code",
   "execution_count": 217,
   "metadata": {},
   "outputs": [
    {
     "name": "stdout",
     "output_type": "stream",
     "text": [
      "\n",
      "Lasso score: 0.0065 (0.0004)\n",
      "\n"
     ]
    }
   ],
   "source": [
    "score = rmsle_cv(lasso)\n",
    "\n",
    "print(\"\\nLasso score: {:.4f} ({:.4f})\\n\".format(score.mean(), score.std()))"
   ]
  },
  {
   "cell_type": "code",
   "execution_count": 218,
   "metadata": {},
   "outputs": [
    {
     "name": "stdout",
     "output_type": "stream",
     "text": [
      "ElasticNet score: 0.0065 (0.0004)\n",
      "\n"
     ]
    }
   ],
   "source": [
    "score = rmsle_cv(ENet)\n",
    "print(\"ElasticNet score: {:.4f} ({:.4f})\\n\".format(score.mean(), score.std()))"
   ]
  },
  {
   "cell_type": "code",
   "execution_count": 219,
   "metadata": {},
   "outputs": [
    {
     "name": "stdout",
     "output_type": "stream",
     "text": [
      "Kernel Ridge score: 0.0060 (0.0004)\n",
      "\n"
     ]
    }
   ],
   "source": [
    "score = rmsle_cv(KRR)\n",
    "print(\"Kernel Ridge score: {:.4f} ({:.4f})\\n\".format(score.mean(), score.std()))"
   ]
  },
  {
   "cell_type": "code",
   "execution_count": 95,
   "metadata": {},
   "outputs": [
    {
     "name": "stderr",
     "output_type": "stream",
     "text": [
      "/Users/rachit/anaconda2/lib/python2.7/site-packages/xgboost/core.py:346: ComplexWarning: Casting complex values to real discards the imaginary part\n",
      "  data = np.array(mat.reshape(mat.size), copy=False, dtype=np.float32)\n"
     ]
    },
    {
     "name": "stdout",
     "output_type": "stream",
     "text": [
      "Xgboost score: 0.1678 (0.0089)\n",
      "\n"
     ]
    }
   ],
   "source": [
    "score = rmsle_cv(model_xgb)\n",
    "print(\"Xgboost score: {:.4f} ({:.4f})\\n\".format(score.mean(), score.std()))"
   ]
  },
  {
   "cell_type": "markdown",
   "metadata": {},
   "source": [
    "#### Models for the original data"
   ]
  },
  {
   "cell_type": "code",
   "execution_count": 243,
   "metadata": {
    "collapsed": true
   },
   "outputs": [],
   "source": [
    "#Validation function\n",
    "n_folds = 5\n",
    "\n",
    "def rmsle_cv(model):\n",
    "    kf = KFold(n_folds, shuffle=True, random_state=42).get_n_splits(train_df_2.values)\n",
    "    rmse= np.sqrt(-cross_val_score(model, train_df_2.values, y, scoring=\"neg_mean_squared_error\", cv = kf))\n",
    "    return(rmse)\n"
   ]
  },
  {
   "cell_type": "code",
   "execution_count": 244,
   "metadata": {},
   "outputs": [
    {
     "name": "stdout",
     "output_type": "stream",
     "text": [
      "\n",
      "Lasso score: 0.0006 (0.0000)\n",
      "\n"
     ]
    }
   ],
   "source": [
    "score = rmsle_cv(lasso)\n",
    "\n",
    "print(\"\\nLasso score: {:.4f} ({:.4f})\\n\".format(score.mean(), score.std()))"
   ]
  },
  {
   "cell_type": "code",
   "execution_count": 245,
   "metadata": {},
   "outputs": [
    {
     "name": "stdout",
     "output_type": "stream",
     "text": [
      "ElasticNet score: 0.0006 (0.0000)\n",
      "\n"
     ]
    }
   ],
   "source": [
    "score = rmsle_cv(ENet)\n",
    "print(\"ElasticNet score: {:.4f} ({:.4f})\\n\".format(score.mean(), score.std()))"
   ]
  },
  {
   "cell_type": "code",
   "execution_count": 246,
   "metadata": {},
   "outputs": [
    {
     "name": "stdout",
     "output_type": "stream",
     "text": [
      "Xgboost score: 0.0121 (0.0007)\n",
      "\n"
     ]
    }
   ],
   "source": [
    "score = rmsle_cv(model_xgb)\n",
    "print(\"Xgboost score: {:.4f} ({:.4f})\\n\".format(score.mean(), score.std()))"
   ]
  },
  {
   "cell_type": "markdown",
   "metadata": {
    "collapsed": true
   },
   "source": [
    "### Building a class to create stacked model"
   ]
  },
  {
   "cell_type": "code",
   "execution_count": 61,
   "metadata": {
    "collapsed": true
   },
   "outputs": [],
   "source": [
    "from sklearn.base import BaseEstimator, TransformerMixin, RegressorMixin, clone\n",
    "from sklearn.model_selection import KFold, cross_val_score, train_test_split"
   ]
  },
  {
   "cell_type": "code",
   "execution_count": 62,
   "metadata": {
    "collapsed": true
   },
   "outputs": [],
   "source": [
    "class AveragingModels(BaseEstimator, RegressorMixin, TransformerMixin):\n",
    "    def __init__(self, models):\n",
    "        self.models = models\n",
    "        \n",
    "    def fit(self, X, y):\n",
    "        self.models_ = [clone(x) for x in self.models]\n",
    "        \n",
    "        for model in self.models_:\n",
    "            model.fit(X,y)\n",
    "            \n",
    "        return self\n",
    "\n",
    "    def predict(self, X):\n",
    "        predictions = np.column_stack([model.predict(X) for model in self.models_])\n",
    "        \n",
    "        return np.mean(predictions, axis=1)"
   ]
  },
  {
   "cell_type": "code",
   "execution_count": 221,
   "metadata": {},
   "outputs": [
    {
     "name": "stdout",
     "output_type": "stream",
     "text": [
      " Averaged base models score: 0.0070 (0.0004)\n",
      "\n"
     ]
    }
   ],
   "source": [
    "AveragedModel = AveragingModels(models = (ENet, model_xgb, KRR, lasso))\n",
    "\n",
    "score = rmsle_cv(AveragedModel)\n",
    "print(\" Averaged base models score: {:.4f} ({:.4f})\\n\".format(score.mean(), score.std()))"
   ]
  },
  {
   "cell_type": "code",
   "execution_count": 69,
   "metadata": {},
   "outputs": [
    {
     "name": "stdout",
     "output_type": "stream",
     "text": [
      " Averaged base models score: 0.0200 (0.0014)\n",
      "\n"
     ]
    }
   ],
   "source": [
    "AveragedModel = AveragingModels(models = (ENet, model_xgb, KRR, lasso))\n",
    "\n",
    "score = rmsle_cv(AveragedModel)\n",
    "print(\" Averaged base models score: {:.4f} ({:.4f})\\n\".format(score.mean(), score.std()))"
   ]
  },
  {
   "cell_type": "code",
   "execution_count": 225,
   "metadata": {
    "collapsed": true
   },
   "outputs": [],
   "source": [
    "def rmsle(y, y_pred):\n",
    "    return np.sqrt(mean_squared_error(y, y_pred))"
   ]
  },
  {
   "cell_type": "code",
   "execution_count": 247,
   "metadata": {},
   "outputs": [
    {
     "name": "stdout",
     "output_type": "stream",
     "text": [
      "0.0126548340483\n"
     ]
    }
   ],
   "source": [
    "model_xgb.fit(train, y_train)\n",
    "xgb_train_pred = model_xgb.predict(train)\n",
    "xgb_pred = np.expm1(model_xgb.predict(test))\n",
    "print(rmsle(y_train, xgb_train_pred))"
   ]
  },
  {
   "cell_type": "code",
   "execution_count": 248,
   "metadata": {
    "collapsed": true
   },
   "outputs": [],
   "source": [
    "sub = pd.DataFrame()\n",
    "sub['Id'] = test_ID\n",
    "sub['SalePrice'] = xgb_pred\n",
    "sub.to_csv('submission.csv',index=False)"
   ]
  },
  {
   "cell_type": "code",
   "execution_count": 230,
   "metadata": {},
   "outputs": [
    {
     "name": "stdout",
     "output_type": "stream",
     "text": [
      "data_description.txt      submission.csv            train.csv\r\n",
      "sample_submission.csv     test.csv                  train.csv.gz\r\n",
      "sample_submission.csv.gz  test.csv.gz\r\n"
     ]
    }
   ],
   "source": [
    "%ls"
   ]
  },
  {
   "cell_type": "code",
   "execution_count": 231,
   "metadata": {},
   "outputs": [
    {
     "data": {
      "text/plain": [
       "u'/Users/rachit/.kaggle/competitions/house-prices-advanced-regression-techniques'"
      ]
     },
     "execution_count": 231,
     "metadata": {},
     "output_type": "execute_result"
    }
   ],
   "source": [
    "%pwd"
   ]
  },
  {
   "cell_type": "code",
   "execution_count": 249,
   "metadata": {
    "collapsed": true
   },
   "outputs": [],
   "source": [
    "sub.to_csv('/Users/rachit/Desktop/Tanuj/DataScientist/Kaggle/submission.csv', index=False)"
   ]
  },
  {
   "cell_type": "markdown",
   "metadata": {},
   "source": [
    "### Lasso"
   ]
  },
  {
   "cell_type": "code",
   "execution_count": 271,
   "metadata": {},
   "outputs": [
    {
     "data": {
      "text/plain": [
       "((1460,), (1460, 468), (1459, 468))"
      ]
     },
     "execution_count": 271,
     "metadata": {},
     "output_type": "execute_result"
    }
   ],
   "source": [
    "y.shape, train.shape, test.shape"
   ]
  },
  {
   "cell_type": "code",
   "execution_count": 88,
   "metadata": {},
   "outputs": [],
   "source": [
    "# X_train,X_test,y_train,y_test=train_test_split(train,y, test_size=0.2, random_state=31)\n",
    "X_train,X_test,y_train,y_test=train_test_split(X_pca_5,y, test_size=0.2, random_state=31)"
   ]
  },
  {
   "cell_type": "code",
   "execution_count": 89,
   "metadata": {},
   "outputs": [
    {
     "name": "stdout",
     "output_type": "stream",
     "text": [
      "training score:  0.320478163886\n",
      "test score:  0.301399386401\n",
      "number of features used:  1\n"
     ]
    },
    {
     "name": "stderr",
     "output_type": "stream",
     "text": [
      "/Users/rachit/anaconda2/lib/python2.7/site-packages/sklearn/utils/validation.py:433: ComplexWarning: Casting complex values to real discards the imaginary part\n",
      "  array = np.array(array, dtype=dtype, order=order, copy=copy)\n",
      "/Users/rachit/anaconda2/lib/python2.7/site-packages/numpy/core/_methods.py:32: ComplexWarning: Casting complex values to real discards the imaginary part\n",
      "  return umr_sum(a, axis, dtype, out, keepdims)\n"
     ]
    }
   ],
   "source": [
    "lasso = Lasso()\n",
    "lasso.fit(X_train, y_train)\n",
    "train_score=lasso.score(X_train, y_train)\n",
    "test_score = lasso.score(X_test, y_test)\n",
    "coeff_used = np.sum(lasso.coef_!=0)\n",
    "\n",
    "print \"training score: \", train_score\n",
    "print \"test score: \", test_score\n",
    "print \"number of features used: \", coeff_used"
   ]
  },
  {
   "cell_type": "code",
   "execution_count": 90,
   "metadata": {},
   "outputs": [
    {
     "data": {
      "text/plain": [
       "((1168, 5), (1168,))"
      ]
     },
     "execution_count": 90,
     "metadata": {},
     "output_type": "execute_result"
    }
   ],
   "source": [
    "X_train.shape, y_train.shape"
   ]
  },
  {
   "cell_type": "code",
   "execution_count": 91,
   "metadata": {},
   "outputs": [
    {
     "name": "stdout",
     "output_type": "stream",
     "text": [
      "training score for alpha=0.01: 0.819652388939\n",
      "test score for alpha =0.01:  0.795832462957\n",
      "number of features used: for alpha =0.01: 5\n"
     ]
    }
   ],
   "source": [
    "lasso001 = Lasso(alpha=0.01, max_iter=10e5)\n",
    "lasso001.fit(X_train,y_train)\n",
    "train_score001=lasso001.score(X_train,y_train)\n",
    "test_score001=lasso001.score(X_test,y_test)\n",
    "coeff_used001 = np.sum(lasso001.coef_!=0)\n",
    "print \"training score for alpha=0.01:\", train_score001 \n",
    "print \"test score for alpha =0.01: \", test_score001\n",
    "print \"number of features used: for alpha =0.01:\", coeff_used001"
   ]
  },
  {
   "cell_type": "code",
   "execution_count": 263,
   "metadata": {},
   "outputs": [
    {
     "name": "stdout",
     "output_type": "stream",
     "text": [
      "training score for alpha=0.01: 0.6385502749\n",
      "test score for alpha =0.01:  0.619239534191\n",
      "number of features used: for alpha =0.01: 2\n"
     ]
    }
   ],
   "source": [
    "lasso001 = Lasso(alpha=0.01, max_iter=10e5)\n",
    "lasso001.fit(X_train,y_train)\n",
    "train_score001=lasso001.score(X_train,y_train)\n",
    "test_score001=lasso001.score(X_test,y_test)\n",
    "coeff_used001 = np.sum(lasso001.coef_!=0)\n",
    "print \"training score for alpha=0.01:\", train_score001 \n",
    "print \"test score for alpha =0.01: \", test_score001\n",
    "print \"number of features used: for alpha =0.01:\", coeff_used001"
   ]
  },
  {
   "cell_type": "code",
   "execution_count": 92,
   "metadata": {},
   "outputs": [
    {
     "name": "stdout",
     "output_type": "stream",
     "text": [
      "training score for alpha=0.0001: 0.820112643087\n",
      "test score for alpha =0.0001:  0.795545432783\n",
      "number of features used: for alpha =0.0001: 5\n"
     ]
    }
   ],
   "source": [
    "lasso00001 = Lasso(alpha=0.0001, max_iter=10e5)\n",
    "lasso00001.fit(X_train,y_train)\n",
    "train_score00001=lasso00001.score(X_train,y_train)\n",
    "test_score00001=lasso00001.score(X_test,y_test)\n",
    "coeff_used00001 = np.sum(lasso00001.coef_!=0)\n",
    "print \"training score for alpha=0.0001:\", train_score00001 \n",
    "print \"test score for alpha =0.0001: \", test_score00001\n",
    "print \"number of features used: for alpha =0.0001:\", coeff_used00001"
   ]
  },
  {
   "cell_type": "code",
   "execution_count": 264,
   "metadata": {},
   "outputs": [
    {
     "name": "stdout",
     "output_type": "stream",
     "text": [
      "training score for alpha=0.0001: 0.783760940644\n",
      "test score for alpha =0.0001:  0.768917162809\n",
      "number of features used: for alpha =0.0001: 5\n"
     ]
    }
   ],
   "source": [
    "lasso00001 = Lasso(alpha=0.0001, max_iter=10e5)\n",
    "lasso00001.fit(X_train,y_train)\n",
    "train_score00001=lasso00001.score(X_train,y_train)\n",
    "test_score00001=lasso00001.score(X_test,y_test)\n",
    "coeff_used00001 = np.sum(lasso00001.coef_!=0)\n",
    "print \"training score for alpha=0.0001:\", train_score00001 \n",
    "print \"test score for alpha =0.0001: \", test_score00001\n",
    "print \"number of features used: for alpha =0.0001:\", coeff_used00001"
   ]
  },
  {
   "cell_type": "code",
   "execution_count": 101,
   "metadata": {},
   "outputs": [],
   "source": [
    "oot_test_score = lasso00001.predict(new_test)"
   ]
  },
  {
   "cell_type": "code",
   "execution_count": 102,
   "metadata": {},
   "outputs": [
    {
     "data": {
      "text/plain": [
       "(1459,)"
      ]
     },
     "execution_count": 102,
     "metadata": {},
     "output_type": "execute_result"
    }
   ],
   "source": [
    "oot_test_score.shape"
   ]
  },
  {
   "cell_type": "code",
   "execution_count": 106,
   "metadata": {},
   "outputs": [
    {
     "name": "stderr",
     "output_type": "stream",
     "text": [
      "/Users/rachit/anaconda2/lib/python2.7/site-packages/ipykernel_launcher.py:1: ComplexWarning: Casting complex values to real discards the imaginary part\n",
      "  \"\"\"Entry point for launching an IPython kernel.\n"
     ]
    }
   ],
   "source": [
    "final_test_score = np.expm1(oot_test_score.astype(np.float64))\n",
    "\n",
    "sub = pd.DataFrame()\n",
    "sub['Id'] = test_ID\n",
    "sub['SalePrice'] = final_test_score\n",
    "sub.to_csv('submission.csv',index=False)"
   ]
  },
  {
   "cell_type": "code",
   "execution_count": 108,
   "metadata": {
    "collapsed": true
   },
   "outputs": [],
   "source": [
    "sub.to_csv('/Users/rachit/Desktop/Tanuj/DataScientist/Kaggle/submission.csv', index=False)"
   ]
  },
  {
   "cell_type": "code",
   "execution_count": 107,
   "metadata": {},
   "outputs": [
    {
     "data": {
      "text/plain": [
       "array([ 134332.79352615,  164112.68928756,  196341.9947663 , ...,\n",
       "        151649.24173949,  141806.62480828,  192087.49291605])"
      ]
     },
     "execution_count": 107,
     "metadata": {},
     "output_type": "execute_result"
    }
   ],
   "source": [
    "final_test_score"
   ]
  },
  {
   "cell_type": "code",
   "execution_count": null,
   "metadata": {
    "collapsed": true
   },
   "outputs": [],
   "source": []
  }
 ],
 "metadata": {
  "kernelspec": {
   "display_name": "Python 2",
   "language": "python",
   "name": "python2"
  },
  "language_info": {
   "codemirror_mode": {
    "name": "ipython",
    "version": 2
   },
   "file_extension": ".py",
   "mimetype": "text/x-python",
   "name": "python",
   "nbconvert_exporter": "python",
   "pygments_lexer": "ipython2",
   "version": "2.7.14"
  }
 },
 "nbformat": 4,
 "nbformat_minor": 2
}
