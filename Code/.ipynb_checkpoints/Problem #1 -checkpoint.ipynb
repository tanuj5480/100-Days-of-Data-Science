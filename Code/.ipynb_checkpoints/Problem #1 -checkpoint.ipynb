{
 "cells": [
  {
   "cell_type": "markdown",
   "metadata": {},
   "source": [
    "## Problem #1\n",
    "### Kaggle - House Prices: Advanced Regression Techniques "
   ]
  },
  {
   "cell_type": "markdown",
   "metadata": {},
   "source": [
    "After installing the API to download data from Kaggle"
   ]
  },
  {
   "cell_type": "code",
   "execution_count": 1,
   "metadata": {},
   "outputs": [
    {
     "name": "stdout",
     "output_type": "stream",
     "text": [
      "/Users/rachit/.kaggle/competitions/house-prices-advanced-regression-techniques\n"
     ]
    }
   ],
   "source": [
    "%cd ~/.kaggle/competitions/house-prices-advanced-regression-techniques"
   ]
  },
  {
   "cell_type": "code",
   "execution_count": 3,
   "metadata": {},
   "outputs": [
    {
     "name": "stdout",
     "output_type": "stream",
     "text": [
      "data_description.txt      submission.csv            train.csv\r\n",
      "sample_submission.csv     test.csv                  train.csv.gz\r\n",
      "sample_submission.csv.gz  test.csv.gz\r\n"
     ]
    }
   ],
   "source": [
    "%ls"
   ]
  },
  {
   "cell_type": "code",
   "execution_count": 2,
   "metadata": {
    "collapsed": true
   },
   "outputs": [],
   "source": [
    "import pandas as pd\n",
    "import numpy as np\n",
    "import seaborn as sns\n",
    "import matplotlib.pyplot as plt\n",
    "\n",
    "%matplotlib inline"
   ]
  },
  {
   "cell_type": "code",
   "execution_count": 3,
   "metadata": {
    "collapsed": true
   },
   "outputs": [],
   "source": [
    "train_df = pd.read_csv('train.csv')\n",
    "test_df = pd.read_csv('test.csv')"
   ]
  },
  {
   "cell_type": "code",
   "execution_count": 4,
   "metadata": {},
   "outputs": [
    {
     "data": {
      "text/html": [
       "<div>\n",
       "<style>\n",
       "    .dataframe thead tr:only-child th {\n",
       "        text-align: right;\n",
       "    }\n",
       "\n",
       "    .dataframe thead th {\n",
       "        text-align: left;\n",
       "    }\n",
       "\n",
       "    .dataframe tbody tr th {\n",
       "        vertical-align: top;\n",
       "    }\n",
       "</style>\n",
       "<table border=\"1\" class=\"dataframe\">\n",
       "  <thead>\n",
       "    <tr style=\"text-align: right;\">\n",
       "      <th></th>\n",
       "      <th>Id</th>\n",
       "      <th>MSSubClass</th>\n",
       "      <th>MSZoning</th>\n",
       "      <th>LotFrontage</th>\n",
       "      <th>LotArea</th>\n",
       "      <th>Street</th>\n",
       "      <th>Alley</th>\n",
       "      <th>LotShape</th>\n",
       "      <th>LandContour</th>\n",
       "      <th>Utilities</th>\n",
       "      <th>...</th>\n",
       "      <th>PoolArea</th>\n",
       "      <th>PoolQC</th>\n",
       "      <th>Fence</th>\n",
       "      <th>MiscFeature</th>\n",
       "      <th>MiscVal</th>\n",
       "      <th>MoSold</th>\n",
       "      <th>YrSold</th>\n",
       "      <th>SaleType</th>\n",
       "      <th>SaleCondition</th>\n",
       "      <th>SalePrice</th>\n",
       "    </tr>\n",
       "  </thead>\n",
       "  <tbody>\n",
       "    <tr>\n",
       "      <th>0</th>\n",
       "      <td>1</td>\n",
       "      <td>60</td>\n",
       "      <td>RL</td>\n",
       "      <td>65.0</td>\n",
       "      <td>8450</td>\n",
       "      <td>Pave</td>\n",
       "      <td>NaN</td>\n",
       "      <td>Reg</td>\n",
       "      <td>Lvl</td>\n",
       "      <td>AllPub</td>\n",
       "      <td>...</td>\n",
       "      <td>0</td>\n",
       "      <td>NaN</td>\n",
       "      <td>NaN</td>\n",
       "      <td>NaN</td>\n",
       "      <td>0</td>\n",
       "      <td>2</td>\n",
       "      <td>2008</td>\n",
       "      <td>WD</td>\n",
       "      <td>Normal</td>\n",
       "      <td>208500</td>\n",
       "    </tr>\n",
       "    <tr>\n",
       "      <th>1</th>\n",
       "      <td>2</td>\n",
       "      <td>20</td>\n",
       "      <td>RL</td>\n",
       "      <td>80.0</td>\n",
       "      <td>9600</td>\n",
       "      <td>Pave</td>\n",
       "      <td>NaN</td>\n",
       "      <td>Reg</td>\n",
       "      <td>Lvl</td>\n",
       "      <td>AllPub</td>\n",
       "      <td>...</td>\n",
       "      <td>0</td>\n",
       "      <td>NaN</td>\n",
       "      <td>NaN</td>\n",
       "      <td>NaN</td>\n",
       "      <td>0</td>\n",
       "      <td>5</td>\n",
       "      <td>2007</td>\n",
       "      <td>WD</td>\n",
       "      <td>Normal</td>\n",
       "      <td>181500</td>\n",
       "    </tr>\n",
       "    <tr>\n",
       "      <th>2</th>\n",
       "      <td>3</td>\n",
       "      <td>60</td>\n",
       "      <td>RL</td>\n",
       "      <td>68.0</td>\n",
       "      <td>11250</td>\n",
       "      <td>Pave</td>\n",
       "      <td>NaN</td>\n",
       "      <td>IR1</td>\n",
       "      <td>Lvl</td>\n",
       "      <td>AllPub</td>\n",
       "      <td>...</td>\n",
       "      <td>0</td>\n",
       "      <td>NaN</td>\n",
       "      <td>NaN</td>\n",
       "      <td>NaN</td>\n",
       "      <td>0</td>\n",
       "      <td>9</td>\n",
       "      <td>2008</td>\n",
       "      <td>WD</td>\n",
       "      <td>Normal</td>\n",
       "      <td>223500</td>\n",
       "    </tr>\n",
       "    <tr>\n",
       "      <th>3</th>\n",
       "      <td>4</td>\n",
       "      <td>70</td>\n",
       "      <td>RL</td>\n",
       "      <td>60.0</td>\n",
       "      <td>9550</td>\n",
       "      <td>Pave</td>\n",
       "      <td>NaN</td>\n",
       "      <td>IR1</td>\n",
       "      <td>Lvl</td>\n",
       "      <td>AllPub</td>\n",
       "      <td>...</td>\n",
       "      <td>0</td>\n",
       "      <td>NaN</td>\n",
       "      <td>NaN</td>\n",
       "      <td>NaN</td>\n",
       "      <td>0</td>\n",
       "      <td>2</td>\n",
       "      <td>2006</td>\n",
       "      <td>WD</td>\n",
       "      <td>Abnorml</td>\n",
       "      <td>140000</td>\n",
       "    </tr>\n",
       "    <tr>\n",
       "      <th>4</th>\n",
       "      <td>5</td>\n",
       "      <td>60</td>\n",
       "      <td>RL</td>\n",
       "      <td>84.0</td>\n",
       "      <td>14260</td>\n",
       "      <td>Pave</td>\n",
       "      <td>NaN</td>\n",
       "      <td>IR1</td>\n",
       "      <td>Lvl</td>\n",
       "      <td>AllPub</td>\n",
       "      <td>...</td>\n",
       "      <td>0</td>\n",
       "      <td>NaN</td>\n",
       "      <td>NaN</td>\n",
       "      <td>NaN</td>\n",
       "      <td>0</td>\n",
       "      <td>12</td>\n",
       "      <td>2008</td>\n",
       "      <td>WD</td>\n",
       "      <td>Normal</td>\n",
       "      <td>250000</td>\n",
       "    </tr>\n",
       "  </tbody>\n",
       "</table>\n",
       "<p>5 rows × 81 columns</p>\n",
       "</div>"
      ],
      "text/plain": [
       "   Id  MSSubClass MSZoning  LotFrontage  LotArea Street Alley LotShape  \\\n",
       "0   1          60       RL         65.0     8450   Pave   NaN      Reg   \n",
       "1   2          20       RL         80.0     9600   Pave   NaN      Reg   \n",
       "2   3          60       RL         68.0    11250   Pave   NaN      IR1   \n",
       "3   4          70       RL         60.0     9550   Pave   NaN      IR1   \n",
       "4   5          60       RL         84.0    14260   Pave   NaN      IR1   \n",
       "\n",
       "  LandContour Utilities    ...     PoolArea PoolQC Fence MiscFeature MiscVal  \\\n",
       "0         Lvl    AllPub    ...            0    NaN   NaN         NaN       0   \n",
       "1         Lvl    AllPub    ...            0    NaN   NaN         NaN       0   \n",
       "2         Lvl    AllPub    ...            0    NaN   NaN         NaN       0   \n",
       "3         Lvl    AllPub    ...            0    NaN   NaN         NaN       0   \n",
       "4         Lvl    AllPub    ...            0    NaN   NaN         NaN       0   \n",
       "\n",
       "  MoSold YrSold  SaleType  SaleCondition  SalePrice  \n",
       "0      2   2008        WD         Normal     208500  \n",
       "1      5   2007        WD         Normal     181500  \n",
       "2      9   2008        WD         Normal     223500  \n",
       "3      2   2006        WD        Abnorml     140000  \n",
       "4     12   2008        WD         Normal     250000  \n",
       "\n",
       "[5 rows x 81 columns]"
      ]
     },
     "execution_count": 4,
     "metadata": {},
     "output_type": "execute_result"
    }
   ],
   "source": [
    "train_df.head()"
   ]
  },
  {
   "cell_type": "code",
   "execution_count": 5,
   "metadata": {
    "collapsed": true
   },
   "outputs": [],
   "source": [
    "train_ID = train_df['Id']\n",
    "test_ID = test_df['Id']"
   ]
  },
  {
   "cell_type": "code",
   "execution_count": 6,
   "metadata": {},
   "outputs": [
    {
     "data": {
      "image/png": "[encoded data removed]",
      "text/plain": [
       "<matplotlib.figure.Figure at 0x1162ae250>"
      ]
     },
     "metadata": {},
     "output_type": "display_data"
    }
   ],
   "source": [
    "# plotting the dependant variable\n",
    "\n",
    "plt.figure(figsize=(8,6))\n",
    "plt.scatter(range(train_df.shape[0]), np.sort(train_df.SalePrice.values))\n",
    "plt.xlabel('index', fontsize=12)\n",
    "plt.ylabel('SalePrice', fontsize=12)\n",
    "plt.show()"
   ]
  },
  {
   "cell_type": "markdown",
   "metadata": {},
   "source": [
    "### Dependant Variable Analysis"
   ]
  },
  {
   "cell_type": "code",
   "execution_count": 8,
   "metadata": {
    "collapsed": true
   },
   "outputs": [],
   "source": [
    "from scipy import stats\n",
    "from scipy.stats import norm, skew #for some statistics"
   ]
  },
  {
   "cell_type": "code",
   "execution_count": 9,
   "metadata": {},
   "outputs": [
    {
     "name": "stdout",
     "output_type": "stream",
     "text": [
      "\n",
      " mu = 180921.20 and sigma = 79415.29\n",
      "\n"
     ]
    },
    {
     "data": {
      "image/png": "[encoded data removed]",
      "text/plain": [
       "<matplotlib.figure.Figure at 0x11bf13250>"
      ]
     },
     "metadata": {},
     "output_type": "display_data"
    },
    {
     "data": {
      "image/png": "[encoded data removed]",
      "text/plain": [
       "<matplotlib.figure.Figure at 0x11bf13350>"
      ]
     },
     "metadata": {},
     "output_type": "display_data"
    }
   ],
   "source": [
    "sns.distplot(train_df['SalePrice'], fit=norm);\n",
    "\n",
    "(mu, sigma) = norm.fit(train_df['SalePrice'])\n",
    "print ('\\n mu = {:.2f} and sigma = {:.2f}\\n'.format(mu, sigma))\n",
    "\n",
    "\n",
    "# plot the distribution\n",
    "plt.legend(['Normal dist. ($\\mu=${:.2f} and $\\sigma=${:.2f} )'.format(mu,sigma)])\n",
    "\n",
    "# also creating the Q-Q plot\n",
    "\n",
    "fig=plt.figure()\n",
    "res = stats.probplot(train_df['SalePrice'], plot=plt)\n",
    "plt.show()"
   ]
  },
  {
   "cell_type": "markdown",
   "metadata": {},
   "source": [
    "Dependant variable has right skew, and since linear models require normoal distribution, will apply transformation in the next step"
   ]
  },
  {
   "cell_type": "markdown",
   "metadata": {},
   "source": [
    "#### Log transformation of the dependant variable"
   ]
  },
  {
   "cell_type": "code",
   "execution_count": 10,
   "metadata": {
    "collapsed": true
   },
   "outputs": [],
   "source": [
    "# using numpy's log1p, which is log(1+x) on the column\n",
    "\n",
    "train_df[\"ln_SalePrice\"] = np.log1p(train_df[\"SalePrice\"])"
   ]
  },
  {
   "cell_type": "code",
   "execution_count": 11,
   "metadata": {},
   "outputs": [
    {
     "data": {
      "image/png": "[encoded data removed]",
      "text/plain": [
       "<matplotlib.figure.Figure at 0x11ca213d0>"
      ]
     },
     "metadata": {},
     "output_type": "display_data"
    },
    {
     "data": {
      "image/png": "[encoded data removed]",
      "text/plain": [
       "<matplotlib.figure.Figure at 0x1162970d0>"
      ]
     },
     "metadata": {},
     "output_type": "display_data"
    }
   ],
   "source": [
    "# checking the new distribution\n",
    "(mu, sigma) = norm.fit(train_df['ln_SalePrice'])\n",
    "sns.distplot(train_df['ln_SalePrice'], fit=norm)\n",
    "\n",
    "plt.legend([('Norm dist. ($\\mu=${:.2f} and $\\sigma=${:.2f}').format(mu, sigma)])\n",
    "\n",
    "fig = plt.figure()\n",
    "res = stats.probplot(train_df['ln_SalePrice'], plot=plt)\n",
    "plt.show()\n",
    "\n"
   ]
  },
  {
   "cell_type": "code",
   "execution_count": 12,
   "metadata": {
    "collapsed": true
   },
   "outputs": [],
   "source": [
    "ntrain = train_df.shape[0]\n",
    "ntest = test_df.shape[0]\n",
    "\n",
    "y_train = train_df.ln_SalePrice.values\n",
    "all_data = pd.concat((train_df, test_df)).reset_index(drop=True)\n",
    "\n",
    "all_data.drop(['SalePrice', 'ln_SalePrice'], axis=1, inplace=True)"
   ]
  },
  {
   "cell_type": "code",
   "execution_count": 13,
   "metadata": {},
   "outputs": [
    {
     "data": {
      "text/plain": [
       "((2919, 80), (1460, 82), (1459, 80))"
      ]
     },
     "execution_count": 13,
     "metadata": {},
     "output_type": "execute_result"
    }
   ],
   "source": [
    "all_data.shape, train_df.shape, test_df.shape"
   ]
  },
  {
   "cell_type": "code",
   "execution_count": 16,
   "metadata": {},
   "outputs": [
    {
     "data": {
      "text/plain": [
       "(0    208500\n",
       " 1    181500\n",
       " 2    223500\n",
       " 3    140000\n",
       " 4    250000\n",
       " Name: SalePrice, dtype: int64, 0    12.247699\n",
       " 1    12.109016\n",
       " 2    12.317171\n",
       " 3    11.849405\n",
       " 4    12.429220\n",
       " Name: SalePrice, dtype: float64, 0    12.247699\n",
       " 1    12.109016\n",
       " 2    12.317171\n",
       " 3    11.849405\n",
       " 4    12.429220\n",
       " Name: ln_SalePrice, dtype: float64)"
      ]
     },
     "execution_count": 16,
     "metadata": {},
     "output_type": "execute_result"
    }
   ],
   "source": [
    "train_df['SalePrice'].head(), np.log1p(train_df[\"SalePrice\"].head()), train_df['ln_SalePrice'].head()"
   ]
  },
  {
   "cell_type": "code",
   "execution_count": 14,
   "metadata": {
    "collapsed": true
   },
   "outputs": [],
   "source": [
    "all_data['garage_decade'] = (all_data.GarageYrBlt//10)*10"
   ]
  },
  {
   "cell_type": "markdown",
   "metadata": {},
   "source": [
    "#### Fill Rate Analysis"
   ]
  },
  {
   "cell_type": "code",
   "execution_count": 15,
   "metadata": {},
   "outputs": [
    {
     "data": {
      "image/png": "[encoded data removed]",
      "text/plain": [
       "<matplotlib.figure.Figure at 0x11bf13610>"
      ]
     },
     "metadata": {},
     "output_type": "display_data"
    }
   ],
   "source": [
    "missing_df = all_data.isnull().sum(axis=0).reset_index()\n",
    "missing_df.columns = ['column_name', 'missing_count']\n",
    "missing_df = missing_df.loc[missing_df['missing_count']>0]\n",
    "missing_df = missing_df.sort_values(by='missing_count')\n",
    "\n",
    "ind = np.arange(missing_df.shape[0])\n",
    "width = 0.9\n",
    "fig, ax = plt.subplots(figsize=(12,18))\n",
    "rects = ax.barh(ind, missing_df.missing_count.values, color='blue')\n",
    "ax.set_yticks(ind)\n",
    "ax.set_yticklabels(missing_df.column_name.values, rotation='horizontal')\n",
    "ax.set_xlabel(\"Count of missing values\")\n",
    "ax.set_title(\"Number of missing values in each column\")\n",
    "plt.show()\n"
   ]
  },
  {
   "cell_type": "code",
   "execution_count": 18,
   "metadata": {},
   "outputs": [
    {
     "data": {
      "text/html": [
       "<div>\n",
       "<style>\n",
       "    .dataframe thead tr:only-child th {\n",
       "        text-align: right;\n",
       "    }\n",
       "\n",
       "    .dataframe thead th {\n",
       "        text-align: left;\n",
       "    }\n",
       "\n",
       "    .dataframe tbody tr th {\n",
       "        vertical-align: top;\n",
       "    }\n",
       "</style>\n",
       "<table border=\"1\" class=\"dataframe\">\n",
       "  <thead>\n",
       "    <tr style=\"text-align: right;\">\n",
       "      <th></th>\n",
       "      <th>column_name</th>\n",
       "      <th>missing_count</th>\n",
       "      <th>missing_ratio</th>\n",
       "    </tr>\n",
       "  </thead>\n",
       "  <tbody>\n",
       "    <tr>\n",
       "      <th>3</th>\n",
       "      <td>Alley</td>\n",
       "      <td>2721</td>\n",
       "      <td>0.932169</td>\n",
       "    </tr>\n",
       "    <tr>\n",
       "      <th>25</th>\n",
       "      <td>Fence</td>\n",
       "      <td>2348</td>\n",
       "      <td>0.804385</td>\n",
       "    </tr>\n",
       "    <tr>\n",
       "      <th>57</th>\n",
       "      <td>MiscFeature</td>\n",
       "      <td>2814</td>\n",
       "      <td>0.964029</td>\n",
       "    </tr>\n",
       "    <tr>\n",
       "      <th>66</th>\n",
       "      <td>PoolQC</td>\n",
       "      <td>2909</td>\n",
       "      <td>0.996574</td>\n",
       "    </tr>\n",
       "  </tbody>\n",
       "</table>\n",
       "</div>"
      ],
      "text/plain": [
       "    column_name  missing_count  missing_ratio\n",
       "3         Alley           2721       0.932169\n",
       "25        Fence           2348       0.804385\n",
       "57  MiscFeature           2814       0.964029\n",
       "66       PoolQC           2909       0.996574"
      ]
     },
     "execution_count": 18,
     "metadata": {},
     "output_type": "execute_result"
    }
   ],
   "source": [
    "# Can drop the below variables since there is more than 80% missing data\n",
    "\n",
    "missing_df = all_data.isnull().sum(axis=0).reset_index()\n",
    "missing_df.columns = ['column_name', 'missing_count']\n",
    "missing_df['missing_ratio'] = missing_df['missing_count'] / all_data.shape[0]\n",
    "missing_df.loc[missing_df['missing_ratio']>0.80]"
   ]
  },
  {
   "cell_type": "code",
   "execution_count": 16,
   "metadata": {
    "collapsed": true
   },
   "outputs": [],
   "source": [
    "# imputing missing values with \"None\" where missing means, not available\n",
    "\n",
    "all_data[\"PoolQC\"] = all_data[\"PoolQC\"].fillna(\"None\")\n",
    "all_data[\"MiscFeature\"] = all_data[\"MiscFeature\"].fillna(\"None\")\n",
    "all_data[\"Alley\"] = all_data[\"Alley\"].fillna(\"None\")\n",
    "all_data[\"Fence\"] = all_data[\"Fence\"].fillna(\"None\")\n",
    "all_data[\"FireplaceQu\"] = all_data[\"FireplaceQu\"].fillna(\"None\")"
   ]
  },
  {
   "cell_type": "code",
   "execution_count": 17,
   "metadata": {
    "collapsed": true
   },
   "outputs": [],
   "source": [
    "for col in ('GarageType', 'GarageFinish', 'GarageQual', 'GarageCond'):\n",
    "    all_data[col] = all_data[col].fillna('None')"
   ]
  },
  {
   "cell_type": "code",
   "execution_count": 18,
   "metadata": {
    "collapsed": true
   },
   "outputs": [],
   "source": [
    "for col in ('GarageYrBlt', 'GarageArea', 'GarageCars'):\n",
    "    all_data[col] = all_data[col].fillna(0)"
   ]
  },
  {
   "cell_type": "code",
   "execution_count": 19,
   "metadata": {
    "collapsed": true
   },
   "outputs": [],
   "source": [
    "for col in ('BsmtFinSF1', 'BsmtFinSF2', 'BsmtUnfSF','TotalBsmtSF', 'BsmtFullBath', 'BsmtHalfBath'):\n",
    "    all_data[col] = all_data[col].fillna(0)"
   ]
  },
  {
   "cell_type": "code",
   "execution_count": 20,
   "metadata": {
    "collapsed": true
   },
   "outputs": [],
   "source": [
    "for col in ('BsmtQual', 'BsmtCond', 'BsmtExposure', 'BsmtFinType1', 'BsmtFinType2'):\n",
    "    all_data[col] = all_data[col].fillna('None')"
   ]
  },
  {
   "cell_type": "code",
   "execution_count": 21,
   "metadata": {
    "collapsed": true
   },
   "outputs": [],
   "source": [
    "all_data[\"MasVnrType\"] = all_data[\"MasVnrType\"].fillna(\"None\")\n",
    "all_data[\"MasVnrArea\"] = all_data[\"MasVnrArea\"].fillna(0)"
   ]
  },
  {
   "cell_type": "code",
   "execution_count": 22,
   "metadata": {
    "collapsed": true
   },
   "outputs": [],
   "source": [
    "all_data['MSZoning'] = all_data['MSZoning'].fillna(all_data['MSZoning'].mode()[0])"
   ]
  },
  {
   "cell_type": "code",
   "execution_count": 23,
   "metadata": {
    "collapsed": true
   },
   "outputs": [],
   "source": [
    "all_data[\"Functional\"] = all_data[\"Functional\"].fillna(\"Typ\")\n",
    "all_data['Electrical'] = all_data['Electrical'].fillna(all_data['Electrical'].mode()[0])\n",
    "\n",
    "all_data['KitchenQual'] = all_data['KitchenQual'].fillna(all_data['KitchenQual'].mode()[0])\n",
    "all_data['Exterior1st'] = all_data['Exterior1st'].fillna(all_data['Exterior1st'].mode()[0])\n",
    "all_data['Exterior2nd'] = all_data['Exterior2nd'].fillna(all_data['Exterior2nd'].mode()[0])\n",
    "all_data['SaleType'] = all_data['SaleType'].fillna(all_data['SaleType'].mode()[0])\n",
    "\n",
    "all_data['MSSubClass'] = all_data['MSSubClass'].fillna(\"None\")"
   ]
  },
  {
   "cell_type": "code",
   "execution_count": 25,
   "metadata": {
    "collapsed": true
   },
   "outputs": [],
   "source": [
    "all_data[\"LotFrontage\"] = all_data.groupby(\"Neighborhood\")[\"LotFrontage\"].transform(\n",
    "    lambda x: x.fillna(x.median()))"
   ]
  },
  {
   "cell_type": "code",
   "execution_count": 26,
   "metadata": {
    "collapsed": true
   },
   "outputs": [],
   "source": [
    "all_data['garage_decade'] = (all_data.GarageYrBlt//10)*10"
   ]
  },
  {
   "cell_type": "code",
   "execution_count": 28,
   "metadata": {
    "collapsed": true
   },
   "outputs": [],
   "source": [
    "all_data = all_data.drop(['Utilities'], axis=1)"
   ]
  },
  {
   "cell_type": "code",
   "execution_count": 31,
   "metadata": {},
   "outputs": [
    {
     "data": {
      "image/png": "[encoded data removed]",
      "text/plain": [
       "<matplotlib.figure.Figure at 0x11c095cd0>"
      ]
     },
     "metadata": {},
     "output_type": "display_data"
    }
   ],
   "source": [
    "missing_df = all_data.isnull().sum(axis=0).reset_index()\n",
    "missing_df.columns = ['column_name', 'missing_count']\n",
    "missing_df = missing_df.loc[missing_df['missing_count']>0]\n",
    "missing_df = missing_df.sort_values(by='missing_count')\n",
    "\n",
    "ind = np.arange(missing_df.shape[0])\n",
    "width = 0.9\n",
    "fig, ax = plt.subplots(figsize=(6,6))\n",
    "rects = ax.barh(ind, missing_df.missing_count.values, color='blue')\n",
    "ax.set_yticks(ind)\n",
    "ax.set_yticklabels(missing_df.column_name.values, rotation='horizontal')\n",
    "ax.set_xlabel(\"Count of missing values\")\n",
    "ax.set_title(\"Number of missing values in each column\")\n",
    "plt.show()\n"
   ]
  },
  {
   "cell_type": "code",
   "execution_count": 28,
   "metadata": {
    "collapsed": true
   },
   "outputs": [],
   "source": [
    "# cols_to_drop = missing_df.loc[missing_df['missing_ratio']>0.80]\n",
    "# lst_var_to_drop = list(cols_to_drop.column_name.values)\n",
    "\n",
    "# all_data.drop(lst_var_to_drop, axis=1, inplace=True)"
   ]
  },
  {
   "cell_type": "code",
   "execution_count": 32,
   "metadata": {
    "collapsed": true
   },
   "outputs": [],
   "source": [
    "all_data['garage_decade'] = all_data['garage_decade'].astype(str)\n",
    "all_data.drop('GarageYrBlt', axis=1, inplace=True)"
   ]
  },
  {
   "cell_type": "code",
   "execution_count": 33,
   "metadata": {
    "collapsed": true
   },
   "outputs": [],
   "source": [
    "dtype_df = all_data.dtypes.reset_index()\n",
    "dtype_df.columns = [\"Count\", \"Column Type\"]"
   ]
  },
  {
   "cell_type": "code",
   "execution_count": 34,
   "metadata": {},
   "outputs": [
    {
     "data": {
      "text/html": [
       "<div>\n",
       "<style>\n",
       "    .dataframe thead tr:only-child th {\n",
       "        text-align: right;\n",
       "    }\n",
       "\n",
       "    .dataframe thead th {\n",
       "        text-align: left;\n",
       "    }\n",
       "\n",
       "    .dataframe tbody tr th {\n",
       "        vertical-align: top;\n",
       "    }\n",
       "</style>\n",
       "<table border=\"1\" class=\"dataframe\">\n",
       "  <thead>\n",
       "    <tr style=\"text-align: right;\">\n",
       "      <th></th>\n",
       "      <th>Column Type</th>\n",
       "      <th>Count</th>\n",
       "    </tr>\n",
       "  </thead>\n",
       "  <tbody>\n",
       "    <tr>\n",
       "      <th>0</th>\n",
       "      <td>int64</td>\n",
       "      <td>26</td>\n",
       "    </tr>\n",
       "    <tr>\n",
       "      <th>1</th>\n",
       "      <td>float64</td>\n",
       "      <td>10</td>\n",
       "    </tr>\n",
       "    <tr>\n",
       "      <th>2</th>\n",
       "      <td>object</td>\n",
       "      <td>43</td>\n",
       "    </tr>\n",
       "  </tbody>\n",
       "</table>\n",
       "</div>"
      ],
      "text/plain": [
       "  Column Type  Count\n",
       "0       int64     26\n",
       "1     float64     10\n",
       "2      object     43"
      ]
     },
     "execution_count": 34,
     "metadata": {},
     "output_type": "execute_result"
    }
   ],
   "source": [
    "dtype_df.groupby('Column Type').count().reset_index()"
   ]
  },
  {
   "cell_type": "code",
   "execution_count": 35,
   "metadata": {
    "collapsed": true
   },
   "outputs": [],
   "source": [
    "# seperating out the categorical variables\n",
    "\n",
    "cat_var = dtype_df[dtype_df['Column Type'] == 'object'].Count.values\n",
    "cont_var = dtype_df[dtype_df['Column Type'] == 'float64'].Count.values"
   ]
  },
  {
   "cell_type": "code",
   "execution_count": 36,
   "metadata": {},
   "outputs": [
    {
     "data": {
      "text/plain": [
       "(array(['Alley', 'BldgType', 'BsmtCond', 'BsmtExposure', 'BsmtFinType1',\n",
       "        'BsmtFinType2', 'BsmtQual', 'CentralAir', 'Condition1',\n",
       "        'Condition2', 'Electrical', 'ExterCond', 'ExterQual', 'Exterior1st',\n",
       "        'Exterior2nd', 'Fence', 'FireplaceQu', 'Foundation', 'Functional',\n",
       "        'GarageCond', 'GarageFinish', 'GarageQual', 'GarageType', 'Heating',\n",
       "        'HeatingQC', 'HouseStyle', 'KitchenQual', 'LandContour',\n",
       "        'LandSlope', 'LotConfig', 'LotShape', 'MSZoning', 'MasVnrType',\n",
       "        'MiscFeature', 'Neighborhood', 'PavedDrive', 'PoolQC', 'RoofMatl',\n",
       "        'RoofStyle', 'SaleCondition', 'SaleType', 'Street', 'garage_decade'], dtype=object),\n",
       " array(['BsmtFinSF1', 'BsmtFinSF2', 'BsmtFullBath', 'BsmtHalfBath',\n",
       "        'BsmtUnfSF', 'GarageArea', 'GarageCars', 'LotFrontage',\n",
       "        'MasVnrArea', 'TotalBsmtSF'], dtype=object))"
      ]
     },
     "execution_count": 36,
     "metadata": {},
     "output_type": "execute_result"
    }
   ],
   "source": [
    "cat_var, cont_var"
   ]
  },
  {
   "cell_type": "code",
   "execution_count": 37,
   "metadata": {
    "collapsed": true
   },
   "outputs": [],
   "source": [
    "# Few of the above variables are really categorical but not continous, so transforming them into the same\n",
    "\n",
    "#Year and month sold are transformed into categorical features.\n",
    "all_data['YrSold'] = all_data['YrSold'].astype(str)\n",
    "all_data['MoSold'] = all_data['MoSold'].astype(str)\n",
    "all_data['YearBuilt'] = all_data['YearBuilt'].astype(str)\n",
    "all_data['YearRemodAdd'] = all_data['YearRemodAdd'].astype(str)\n",
    "all_data['YearRemodAdd'] = all_data['YearRemodAdd'].astype(str)\n"
   ]
  },
  {
   "cell_type": "code",
   "execution_count": 153,
   "metadata": {
    "collapsed": true
   },
   "outputs": [],
   "source": [
    "train_df['YrSold'] = train_df['YrSold'].astype(str)\n",
    "train_df['MoSold'] = train_df['MoSold'].astype(str)\n",
    "train_df['YearBuilt'] = train_df['YearBuilt'].astype(str)\n",
    "train_df['YearRemodAdd'] = train_df['YearRemodAdd'].astype(str)\n",
    "train_df['YearRemodAdd'] = train_df['YearRemodAdd'].astype(str)"
   ]
  },
  {
   "cell_type": "markdown",
   "metadata": {},
   "source": [
    "### Missing Value Imputation"
   ]
  },
  {
   "cell_type": "code",
   "execution_count": 57,
   "metadata": {
    "collapsed": true
   },
   "outputs": [],
   "source": [
    "# categorical variables: to replace with the mode for that variable\n",
    "\n",
    "for var in cat_var:\n",
    "    all_data[var].fillna(all_data[var].mode()[0], inplace=True)\n",
    "    \n",
    "# to further improve the model, we would have to go through at variable level and impute values accrodingly"
   ]
  },
  {
   "cell_type": "code",
   "execution_count": 58,
   "metadata": {
    "collapsed": true
   },
   "outputs": [],
   "source": [
    "all_data[cont_var] = all_data[cont_var].fillna(all_data.mean().iloc[0])"
   ]
  },
  {
   "cell_type": "markdown",
   "metadata": {},
   "source": [
    "#### Skew check in numerical features"
   ]
  },
  {
   "cell_type": "code",
   "execution_count": 38,
   "metadata": {},
   "outputs": [
    {
     "name": "stdout",
     "output_type": "stream",
     "text": [
      "\n",
      "Skew in numerical features: \n",
      "\n"
     ]
    },
    {
     "data": {
      "text/html": [
       "<div>\n",
       "<style>\n",
       "    .dataframe thead tr:only-child th {\n",
       "        text-align: right;\n",
       "    }\n",
       "\n",
       "    .dataframe thead th {\n",
       "        text-align: left;\n",
       "    }\n",
       "\n",
       "    .dataframe tbody tr th {\n",
       "        vertical-align: top;\n",
       "    }\n",
       "</style>\n",
       "<table border=\"1\" class=\"dataframe\">\n",
       "  <thead>\n",
       "    <tr style=\"text-align: right;\">\n",
       "      <th></th>\n",
       "      <th>Skew</th>\n",
       "    </tr>\n",
       "  </thead>\n",
       "  <tbody>\n",
       "    <tr>\n",
       "      <th>MiscVal</th>\n",
       "      <td>24.451640</td>\n",
       "    </tr>\n",
       "    <tr>\n",
       "      <th>PoolArea</th>\n",
       "      <td>14.813135</td>\n",
       "    </tr>\n",
       "    <tr>\n",
       "      <th>LotArea</th>\n",
       "      <td>12.195142</td>\n",
       "    </tr>\n",
       "    <tr>\n",
       "      <th>3SsnPorch</th>\n",
       "      <td>10.293752</td>\n",
       "    </tr>\n",
       "    <tr>\n",
       "      <th>LowQualFinSF</th>\n",
       "      <td>9.002080</td>\n",
       "    </tr>\n",
       "    <tr>\n",
       "      <th>KitchenAbvGr</th>\n",
       "      <td>4.483784</td>\n",
       "    </tr>\n",
       "    <tr>\n",
       "      <th>BsmtFinSF2</th>\n",
       "      <td>4.250888</td>\n",
       "    </tr>\n",
       "    <tr>\n",
       "      <th>ScreenPorch</th>\n",
       "      <td>4.117977</td>\n",
       "    </tr>\n",
       "    <tr>\n",
       "      <th>BsmtHalfBath</th>\n",
       "      <td>4.099186</td>\n",
       "    </tr>\n",
       "    <tr>\n",
       "      <th>EnclosedPorch</th>\n",
       "      <td>3.086696</td>\n",
       "    </tr>\n",
       "  </tbody>\n",
       "</table>\n",
       "</div>"
      ],
      "text/plain": [
       "                    Skew\n",
       "MiscVal        24.451640\n",
       "PoolArea       14.813135\n",
       "LotArea        12.195142\n",
       "3SsnPorch      10.293752\n",
       "LowQualFinSF    9.002080\n",
       "KitchenAbvGr    4.483784\n",
       "BsmtFinSF2      4.250888\n",
       "ScreenPorch     4.117977\n",
       "BsmtHalfBath    4.099186\n",
       "EnclosedPorch   3.086696"
      ]
     },
     "execution_count": 38,
     "metadata": {},
     "output_type": "execute_result"
    }
   ],
   "source": [
    "numeric_feats = all_data.dtypes[all_data.dtypes != \"object\"].index\n",
    "\n",
    "# Check the skew of all numerical features\n",
    "skewed_feats = train_df[numeric_feats].apply(lambda x: skew(x.dropna())).sort_values(ascending=False)\n",
    "print(\"\\nSkew in numerical features: \\n\")\n",
    "skewness = pd.DataFrame({'Skew' :skewed_feats})\n",
    "skewness.head(10)"
   ]
  },
  {
   "cell_type": "code",
   "execution_count": 39,
   "metadata": {},
   "outputs": [
    {
     "name": "stdout",
     "output_type": "stream",
     "text": [
      "There are 32 skewed numerical features to Box Cox transform\n"
     ]
    }
   ],
   "source": [
    "skewness = skewness[abs(skewness) > 0.75]\n",
    "\n",
    "print(\"There are {} skewed numerical features to Box Cox transform\".format(skewness.shape[0]))\n",
    "\n",
    "from scipy.special import boxcox1p\n",
    "\n",
    "skewed_features = skewness.index\n",
    "lam = 0.15\n",
    "for feat in skewed_features:\n",
    "    #all_data[feat] += 1\n",
    "    all_data[feat] = boxcox1p(train_df[feat], lam)"
   ]
  },
  {
   "cell_type": "code",
   "execution_count": 82,
   "metadata": {
    "collapsed": true
   },
   "outputs": [],
   "source": [
    "for feat in skewed_features:\n",
    "    #all_data[feat] += 1\n",
    "    if (feat not in ['SalePrice', 'ln_SalePrice']) :\n",
    "        test_df[feat] = boxcox1p(test_df[feat], lam)"
   ]
  },
  {
   "cell_type": "code",
   "execution_count": null,
   "metadata": {
    "collapsed": true
   },
   "outputs": [],
   "source": [
    "# In case of numerical varibles, capping the outliers to 95th-%tile.  \n",
    "# Since linear regression is sensitive to outliers\n",
    "\n"
   ]
  },
  {
   "cell_type": "code",
   "execution_count": 26,
   "metadata": {
    "collapsed": true
   },
   "outputs": [],
   "source": [
    "# numerical variables: replacing with the mean value\n",
    "\n",
    "# train_df_2['LotFrontage'].fillna((train_df_2['LotFrontage'].mean()), inplace=True)\n",
    "# train_df_2['GarageYrBlt'].fillna((train_df_2['GarageYrBlt'].mean()), inplace=True)\n",
    "# train_df_2['MasVnrArea'].fillna((train_df_2['MasVnrArea'].mean()), inplace=True)"
   ]
  },
  {
   "cell_type": "code",
   "execution_count": 40,
   "metadata": {},
   "outputs": [
    {
     "data": {
      "text/html": [
       "<div>\n",
       "<style>\n",
       "    .dataframe thead tr:only-child th {\n",
       "        text-align: right;\n",
       "    }\n",
       "\n",
       "    .dataframe thead th {\n",
       "        text-align: left;\n",
       "    }\n",
       "\n",
       "    .dataframe tbody tr th {\n",
       "        vertical-align: top;\n",
       "    }\n",
       "</style>\n",
       "<table border=\"1\" class=\"dataframe\">\n",
       "  <thead>\n",
       "    <tr style=\"text-align: right;\">\n",
       "      <th></th>\n",
       "      <th>Missing Ratio</th>\n",
       "    </tr>\n",
       "  </thead>\n",
       "  <tbody>\n",
       "    <tr>\n",
       "      <th>LotFrontage</th>\n",
       "      <td>58.855773</td>\n",
       "    </tr>\n",
       "    <tr>\n",
       "      <th>MasVnrArea</th>\n",
       "      <td>50.256937</td>\n",
       "    </tr>\n",
       "    <tr>\n",
       "      <th>WoodDeckSF</th>\n",
       "      <td>49.982871</td>\n",
       "    </tr>\n",
       "    <tr>\n",
       "      <th>GarageArea</th>\n",
       "      <td>49.982871</td>\n",
       "    </tr>\n",
       "    <tr>\n",
       "      <th>FullBath</th>\n",
       "      <td>49.982871</td>\n",
       "    </tr>\n",
       "  </tbody>\n",
       "</table>\n",
       "</div>"
      ],
      "text/plain": [
       "             Missing Ratio\n",
       "LotFrontage      58.855773\n",
       "MasVnrArea       50.256937\n",
       "WoodDeckSF       49.982871\n",
       "GarageArea       49.982871\n",
       "FullBath         49.982871"
      ]
     },
     "execution_count": 40,
     "metadata": {},
     "output_type": "execute_result"
    }
   ],
   "source": [
    "all_data_na = (all_data.isnull().sum() / len(all_data)) * 100\n",
    "all_data_na = all_data_na.drop(all_data_na[all_data_na == 0].index).sort_values(ascending=False)\n",
    "missing_data = pd.DataFrame({'Missing Ratio' :all_data_na})\n",
    "missing_data.head()"
   ]
  },
  {
   "cell_type": "code",
   "execution_count": 41,
   "metadata": {
    "collapsed": true
   },
   "outputs": [],
   "source": [
    "# creating the one hot encoded variables, and dropping the original variables\n",
    "\n",
    "def get_dummies_ohe(df, varlst):\n",
    "    df_mod = df.copy()\n",
    "    for var in varlst:\n",
    "        new_var_name_lst = []\n",
    "        new_var_lst = pd.get_dummies(df[var])\n",
    "        df_mod = df_mod.drop(var, axis=1)\n",
    "        for elem in new_var_lst.columns:\n",
    "            new_var_name_lst.append(var+'_'+str(elem))\n",
    "        new_var_lst.columns = new_var_name_lst\n",
    "        df_mod = df_mod.join(new_var_lst)\n",
    "    return df_mod"
   ]
  },
  {
   "cell_type": "code",
   "execution_count": 42,
   "metadata": {
    "collapsed": true
   },
   "outputs": [],
   "source": [
    "all_data_2 = get_dummies_ohe(all_data, cat_var)"
   ]
  },
  {
   "cell_type": "code",
   "execution_count": 43,
   "metadata": {},
   "outputs": [
    {
     "data": {
      "text/plain": [
       "315"
      ]
     },
     "execution_count": 43,
     "metadata": {},
     "output_type": "execute_result"
    }
   ],
   "source": [
    "len(all_data_2.columns)"
   ]
  },
  {
   "cell_type": "markdown",
   "metadata": {},
   "source": [
    "### Principal Component Analysis"
   ]
  },
  {
   "cell_type": "code",
   "execution_count": 44,
   "metadata": {
    "collapsed": true
   },
   "outputs": [],
   "source": [
    "from matplotlib.cm import register_cmap\n",
    "from scipy import stats\n",
    "from sklearn.decomposition import PCA as sklearnPCA\n",
    "from sklearn.preprocessing import StandardScaler\n"
   ]
  },
  {
   "cell_type": "code",
   "execution_count": 31,
   "metadata": {
    "collapsed": true
   },
   "outputs": [],
   "source": [
    "??sklearnPCA"
   ]
  },
  {
   "cell_type": "code",
   "execution_count": 45,
   "metadata": {
    "collapsed": true
   },
   "outputs": [],
   "source": [
    "train = all_data_2[:ntrain]\n",
    "test = all_data_2[ntrain:]"
   ]
  },
  {
   "cell_type": "code",
   "execution_count": 46,
   "metadata": {
    "collapsed": true
   },
   "outputs": [],
   "source": [
    "y = train_df['ln_SalePrice']\n",
    "X = train"
   ]
  },
  {
   "cell_type": "code",
   "execution_count": 47,
   "metadata": {},
   "outputs": [
    {
     "data": {
      "text/plain": [
       "Index([u'1stFlrSF', u'2ndFlrSF', u'3SsnPorch', u'BedroomAbvGr', u'BsmtFinSF1',\n",
       "       u'BsmtFinSF2', u'BsmtFullBath', u'BsmtHalfBath', u'BsmtUnfSF',\n",
       "       u'EnclosedPorch',\n",
       "       ...\n",
       "       u'garage_decade_1930.0', u'garage_decade_1940.0',\n",
       "       u'garage_decade_1950.0', u'garage_decade_1960.0',\n",
       "       u'garage_decade_1970.0', u'garage_decade_1980.0',\n",
       "       u'garage_decade_1990.0', u'garage_decade_2000.0',\n",
       "       u'garage_decade_2010.0', u'garage_decade_2200.0'],\n",
       "      dtype='object', length=315)"
      ]
     },
     "execution_count": 47,
     "metadata": {},
     "output_type": "execute_result"
    }
   ],
   "source": [
    "X.columns"
   ]
  },
  {
   "cell_type": "code",
   "execution_count": 48,
   "metadata": {
    "collapsed": true
   },
   "outputs": [],
   "source": [
    "X = X.replace(np.nan, 0, regex=True)\n",
    "X_std = StandardScaler().fit_transform(X)"
   ]
  },
  {
   "cell_type": "code",
   "execution_count": 49,
   "metadata": {
    "collapsed": true
   },
   "outputs": [],
   "source": [
    "test = test.replace(np.nan, 0, regex=True)\n",
    "test_std = StandardScaler().fit_transform(test)"
   ]
  },
  {
   "cell_type": "code",
   "execution_count": 50,
   "metadata": {},
   "outputs": [
    {
     "name": "stdout",
     "output_type": "stream",
     "text": [
      "Covariance matrix \n",
      "[[ 1.0006854  -0.33628594  0.05856703 ...,  0.20031801  0.06236991  0.        ]\n",
      " [-0.33628594  1.0006854  -0.02351383 ...,  0.02109444 -0.03936504  0.        ]\n",
      " [ 0.05856703 -0.02351383  1.0006854  ..., -0.01177708 -0.00580756  0.        ]\n",
      " ..., \n",
      " [ 0.20031801  0.02109444 -0.01177708 ...,  1.0006854  -0.02784564  0.        ]\n",
      " [ 0.06236991 -0.03936504 -0.00580756 ..., -0.02784564  1.0006854   0.        ]\n",
      " [ 0.          0.          0.         ...,  0.          0.          0.        ]]\n"
     ]
    }
   ],
   "source": [
    "mean_vec = np.mean(X_std, axis=0)\n",
    "cov_mat = (X_std - mean_vec).T.dot((X_std - mean_vec)) / (X_std.shape[0]-1)\n",
    "print('Covariance matrix \\n%s' %cov_mat)"
   ]
  },
  {
   "cell_type": "code",
   "execution_count": 51,
   "metadata": {
    "collapsed": true
   },
   "outputs": [],
   "source": [
    "#Perform eigendecomposition on covariance matrix\n",
    "cov_mat = np.cov(X_std.T)\n",
    "eig_vals, eig_vecs = np.linalg.eig(cov_mat)"
   ]
  },
  {
   "cell_type": "code",
   "execution_count": 52,
   "metadata": {},
   "outputs": [
    {
     "name": "stdout",
     "output_type": "stream",
     "text": [
      "Eigenvectors \n",
      "[[  1.04201047e-01 +0.00000000e+00j  -6.38002621e-02 +0.00000000e+00j\n",
      "   -6.46731130e-02 +0.00000000e+00j ...,   4.35951464e-15 -4.73127399e-15j\n",
      "    0.00000000e+00 +0.00000000e+00j   0.00000000e+00 +0.00000000e+00j]\n",
      " [  2.10315578e-02 +0.00000000e+00j   9.87391659e-02 +0.00000000e+00j\n",
      "    8.78375652e-02 +0.00000000e+00j ...,   7.70185851e-15 -1.19021388e-14j\n",
      "    0.00000000e+00 +0.00000000e+00j   0.00000000e+00 +0.00000000e+00j]\n",
      " [  1.19440303e-02 +0.00000000e+00j  -1.53256094e-02 +0.00000000e+00j\n",
      "   -9.07930883e-03 +0.00000000e+00j ...,  -2.56601392e-16 +2.68877351e-16j\n",
      "    0.00000000e+00 +0.00000000e+00j   0.00000000e+00 +0.00000000e+00j]\n",
      " ..., \n",
      " [  1.48706589e-01 +0.00000000e+00j   1.35513262e-01 +0.00000000e+00j\n",
      "   -1.83152833e-02 +0.00000000e+00j ...,  -4.34538705e-03 +5.28637693e-02j\n",
      "    0.00000000e+00 +0.00000000e+00j   0.00000000e+00 +0.00000000e+00j]\n",
      " [  1.75911412e-02 +0.00000000e+00j   1.01242497e-02 +0.00000000e+00j\n",
      "   -9.90880154e-03 +0.00000000e+00j ...,  -4.41544754e-04 +5.37160896e-03j\n",
      "    0.00000000e+00 +0.00000000e+00j   0.00000000e+00 +0.00000000e+00j]\n",
      " [  0.00000000e+00 +0.00000000e+00j   0.00000000e+00 +0.00000000e+00j\n",
      "    0.00000000e+00 +0.00000000e+00j ...,   0.00000000e+00 -0.00000000e+00j\n",
      "    0.00000000e+00 +0.00000000e+00j   1.00000000e+00 +0.00000000e+00j]]\n",
      "\n",
      "Eigenvalues \n",
      "[  1.95421396e+01 +0.00000000e+00j   9.88888953e+00 +0.00000000e+00j\n",
      "   8.16150988e+00 +0.00000000e+00j   6.96352648e+00 +0.00000000e+00j\n",
      "   6.50449149e+00 +0.00000000e+00j   5.67829259e+00 +0.00000000e+00j\n",
      "   4.64631121e+00 +0.00000000e+00j   4.64490859e+00 +0.00000000e+00j\n",
      "   3.82776916e+00 +0.00000000e+00j   3.71532110e+00 +0.00000000e+00j\n",
      "   3.64042242e+00 +0.00000000e+00j   3.49813217e+00 +0.00000000e+00j\n",
      "   3.28926008e+00 +0.00000000e+00j   3.15760629e+00 +0.00000000e+00j\n",
      "   3.03376730e+00 +0.00000000e+00j   2.99126815e+00 +0.00000000e+00j\n",
      "   2.88476237e+00 +0.00000000e+00j   2.86086856e+00 +0.00000000e+00j\n",
      "   2.74287413e+00 +0.00000000e+00j   2.72673270e+00 +0.00000000e+00j\n",
      "   2.67358550e+00 +0.00000000e+00j   2.51606818e+00 +0.00000000e+00j\n",
      "   2.50963267e+00 +0.00000000e+00j   2.47603116e+00 +0.00000000e+00j\n",
      "   2.38496915e+00 +0.00000000e+00j   2.35241449e+00 +0.00000000e+00j\n",
      "   2.32883841e+00 +0.00000000e+00j   2.26286236e+00 +0.00000000e+00j\n",
      "   2.22763045e+00 +0.00000000e+00j   2.21843034e+00 +0.00000000e+00j\n",
      "   2.17664077e+00 +0.00000000e+00j   2.12570652e+00 +0.00000000e+00j\n",
      "   2.11595761e+00 +0.00000000e+00j   2.10188034e+00 +0.00000000e+00j\n",
      "   2.09316093e+00 +0.00000000e+00j   2.04459951e+00 +0.00000000e+00j\n",
      "   2.00775415e+00 +0.00000000e+00j   1.96161731e+00 +0.00000000e+00j\n",
      "   1.95224958e+00 +0.00000000e+00j   1.93812579e+00 +0.00000000e+00j\n",
      "   1.92343847e+00 +0.00000000e+00j   1.89632606e+00 +0.00000000e+00j\n",
      "   1.86802259e+00 +0.00000000e+00j   1.85384431e+00 +0.00000000e+00j\n",
      "   1.79250569e+00 +0.00000000e+00j   1.77918921e+00 +0.00000000e+00j\n",
      "   1.75719187e+00 +0.00000000e+00j   1.72286221e+00 +0.00000000e+00j\n",
      "   1.69841195e+00 +0.00000000e+00j   1.68050869e+00 +0.00000000e+00j\n",
      "   1.63626522e+00 +0.00000000e+00j   1.65285246e+00 +0.00000000e+00j\n",
      "   1.66057759e+00 +0.00000000e+00j   1.61819080e+00 +0.00000000e+00j\n",
      "   1.60457421e+00 +0.00000000e+00j   1.58992909e+00 +0.00000000e+00j\n",
      "   1.57806495e+00 +0.00000000e+00j   1.54342171e+00 +0.00000000e+00j\n",
      "   1.52401706e+00 +0.00000000e+00j   1.50625281e+00 +0.00000000e+00j\n",
      "   1.50326662e+00 +0.00000000e+00j   1.48650723e+00 +0.00000000e+00j\n",
      "   1.48074150e+00 +0.00000000e+00j   1.45696012e+00 +0.00000000e+00j\n",
      "   1.43983072e+00 +0.00000000e+00j   1.42736861e+00 +0.00000000e+00j\n",
      "   1.41931979e+00 +0.00000000e+00j   1.41089725e+00 +0.00000000e+00j\n",
      "   1.38200050e+00 +0.00000000e+00j   1.37460833e+00 +0.00000000e+00j\n",
      "   1.37259837e+00 +0.00000000e+00j   1.28817525e+00 +0.00000000e+00j\n",
      "   1.30557406e+00 +0.00000000e+00j   1.34833118e+00 +0.00000000e+00j\n",
      "   1.33801749e+00 +0.00000000e+00j   1.32338408e+00 +0.00000000e+00j\n",
      "   1.26998769e+00 +0.00000000e+00j   1.28374418e+00 +0.00000000e+00j\n",
      "   1.28002778e+00 +0.00000000e+00j   1.27873276e+00 +0.00000000e+00j\n",
      "   1.25159762e+00 +0.00000000e+00j   1.24558892e+00 +0.00000000e+00j\n",
      "   1.23465238e+00 +0.00000000e+00j   1.21847682e+00 +0.00000000e+00j\n",
      "   1.20736692e+00 +0.00000000e+00j   1.20443085e+00 +0.00000000e+00j\n",
      "   1.19306521e+00 +0.00000000e+00j   1.17344138e+00 +0.00000000e+00j\n",
      "   1.16044665e+00 +0.00000000e+00j   1.15481924e+00 +0.00000000e+00j\n",
      "   1.14655499e+00 +0.00000000e+00j   1.14256728e+00 +0.00000000e+00j\n",
      "   1.14042711e+00 +0.00000000e+00j   1.11861030e+00 +0.00000000e+00j\n",
      "   1.11557665e+00 +0.00000000e+00j   1.10065965e+00 +0.00000000e+00j\n",
      "   1.09790316e+00 +0.00000000e+00j   1.08834373e+00 +0.00000000e+00j\n",
      "   1.08062540e+00 +0.00000000e+00j   1.01857808e+00 +0.00000000e+00j\n",
      "   1.02328737e+00 +0.00000000e+00j   1.03218999e+00 +0.00000000e+00j\n",
      "   1.07242733e+00 +0.00000000e+00j   1.04255826e+00 +0.00000000e+00j\n",
      "   1.04929051e+00 +0.00000000e+00j   1.06445351e+00 +0.00000000e+00j\n",
      "   1.06185973e+00 +0.00000000e+00j   9.98352965e-01 +0.00000000e+00j\n",
      "   9.92355180e-01 +0.00000000e+00j   9.81090593e-01 +0.00000000e+00j\n",
      "   9.78655130e-01 +0.00000000e+00j   9.62113817e-01 +0.00000000e+00j\n",
      "   9.57487589e-01 +0.00000000e+00j   9.50864334e-01 +0.00000000e+00j\n",
      "   9.21390684e-01 +0.00000000e+00j   9.37726274e-01 +0.00000000e+00j\n",
      "   9.35957392e-01 +0.00000000e+00j   9.29075286e-01 +0.00000000e+00j\n",
      "   9.09479454e-01 +0.00000000e+00j   9.02772620e-01 +0.00000000e+00j\n",
      "   8.98988985e-01 +0.00000000e+00j   8.89302566e-01 +0.00000000e+00j\n",
      "   8.81084830e-01 +0.00000000e+00j   8.76639234e-01 +0.00000000e+00j\n",
      "   8.75971865e-01 +0.00000000e+00j   8.59262758e-01 +0.00000000e+00j\n",
      "   8.47925784e-01 +0.00000000e+00j   8.43348679e-01 +0.00000000e+00j\n",
      "   8.35554940e-01 +0.00000000e+00j   8.34518601e-01 +0.00000000e+00j\n",
      "   8.22009581e-01 +0.00000000e+00j   8.15698104e-01 +0.00000000e+00j\n",
      "   8.09430205e-01 +0.00000000e+00j   8.06289202e-01 +0.00000000e+00j\n",
      "   7.98238939e-01 +0.00000000e+00j   7.90593849e-01 +0.00000000e+00j\n",
      "   7.88729458e-01 +0.00000000e+00j   7.75275895e-01 +0.00000000e+00j\n",
      "   7.68315276e-01 +0.00000000e+00j   9.27233769e-02 +0.00000000e+00j\n",
      "   8.63301988e-02 +0.00000000e+00j   8.05702800e-02 +0.00000000e+00j\n",
      "   9.90533543e-02 +0.00000000e+00j   1.04891548e-01 +0.00000000e+00j\n",
      "   1.10497680e-01 +0.00000000e+00j   1.15257310e-01 +0.00000000e+00j\n",
      "   1.25423502e-01 +0.00000000e+00j   1.35088017e-01 +0.00000000e+00j\n",
      "   1.40311252e-01 +0.00000000e+00j   1.42500153e-01 +0.00000000e+00j\n",
      "   1.46888777e-01 +0.00000000e+00j   1.63009405e-01 +0.00000000e+00j\n",
      "   1.64931719e-01 +0.00000000e+00j   1.53638976e-01 +0.00000000e+00j\n",
      "   1.73268153e-01 +0.00000000e+00j   1.91592783e-01 +0.00000000e+00j\n",
      "   1.84072763e-01 +0.00000000e+00j   6.88260902e-02 +0.00000000e+00j\n",
      "   2.06697656e-01 +0.00000000e+00j   2.03475141e-01 +0.00000000e+00j\n",
      "   7.61548359e-01 +0.00000000e+00j   7.53237206e-01 +0.00000000e+00j\n",
      "   7.45277094e-01 +0.00000000e+00j   5.11208738e-02 +0.00000000e+00j\n",
      "   2.20102293e-01 +0.00000000e+00j   2.21332406e-01 +0.00000000e+00j\n",
      "   2.31287275e-01 +0.00000000e+00j   2.42103135e-01 +0.00000000e+00j\n",
      "   2.46286792e-01 +0.00000000e+00j   2.53283805e-01 +0.00000000e+00j\n",
      "   2.61718343e-01 +0.00000000e+00j   2.68328710e-01 +0.00000000e+00j\n",
      "   2.73142277e-01 +0.00000000e+00j   2.12089377e-01 +0.00000000e+00j\n",
      "   7.26939311e-01 +0.00000000e+00j   7.35423467e-01 +0.00000000e+00j\n",
      "   7.34501381e-01 +0.00000000e+00j   2.78586130e-01 +0.00000000e+00j\n",
      "   2.91759433e-01 +0.00000000e+00j   2.97003334e-01 +0.00000000e+00j\n",
      "   4.14077809e-02 +0.00000000e+00j   3.95472371e-02 +0.00000000e+00j\n",
      "   3.73584577e-02 +0.00000000e+00j   3.61905807e-02 +0.00000000e+00j\n",
      "   3.01375141e-01 +0.00000000e+00j   3.11273860e-01 +0.00000000e+00j\n",
      "   3.14319225e-01 +0.00000000e+00j   3.25125622e-01 +0.00000000e+00j\n",
      "   3.33039106e-01 +0.00000000e+00j   3.39645248e-01 +0.00000000e+00j\n",
      "   3.48725982e-01 +0.00000000e+00j   7.13812407e-01 +0.00000000e+00j\n",
      "   7.08599735e-01 +0.00000000e+00j   6.34961728e-01 +0.00000000e+00j\n",
      "   6.28680186e-01 +0.00000000e+00j   6.22377126e-01 +0.00000000e+00j\n",
      "   6.46503610e-01 +0.00000000e+00j   6.54841184e-01 +0.00000000e+00j\n",
      "   6.59492762e-01 +0.00000000e+00j   6.70598015e-01 +0.00000000e+00j\n",
      "   6.67478257e-01 +0.00000000e+00j   7.01302737e-01 +0.00000000e+00j\n",
      "   6.84405258e-01 +0.00000000e+00j   6.91082123e-01 +0.00000000e+00j\n",
      "   6.99081177e-01 +0.00000000e+00j   3.53895096e-01 +0.00000000e+00j\n",
      "   6.09242430e-01 +0.00000000e+00j   6.01443003e-01 +0.00000000e+00j\n",
      "   5.85425588e-01 +0.00000000e+00j   3.62691888e-01 +0.00000000e+00j\n",
      "   3.67744905e-01 +0.00000000e+00j   3.73443166e-01 +0.00000000e+00j\n",
      "   5.80541547e-01 +0.00000000e+00j   5.14854690e-01 +0.00000000e+00j\n",
      "   5.23670842e-01 +0.00000000e+00j   5.29166719e-01 +0.00000000e+00j\n",
      "   5.42874427e-01 +0.00000000e+00j   5.46622472e-01 +0.00000000e+00j\n",
      "   3.17342673e-02 +0.00000000e+00j   3.05889005e-02 +0.00000000e+00j\n",
      "   2.74418713e-02 +0.00000000e+00j   2.40980866e-02 +0.00000000e+00j\n",
      "   6.88934401e-01 +0.00000000e+00j   3.18447785e-01 +0.00000000e+00j\n",
      "   5.63406517e-01 +0.00000000e+00j   6.12849998e-01 +0.00000000e+00j\n",
      "   5.04613038e-01 +0.00000000e+00j   3.92744867e-01 +0.00000000e+00j\n",
      "   4.72637390e-01 +0.00000000e+00j   4.68810225e-01 +0.00000000e+00j\n",
      "   4.91852344e-01 +0.00000000e+00j   4.88626834e-01 +0.00000000e+00j\n",
      "   5.74363318e-01 +0.00000000e+00j   5.60177221e-01 +0.00000000e+00j\n",
      "   5.36147597e-01 +0.00000000e+00j   4.98333321e-01 +0.00000000e+00j\n",
      "   4.84022171e-01 +0.00000000e+00j   3.86933576e-01 +0.00000000e+00j\n",
      "   3.81424949e-01 +0.00000000e+00j   4.60903431e-01 +0.00000000e+00j\n",
      "   4.54338389e-01 +0.00000000e+00j   4.50461483e-01 +0.00000000e+00j\n",
      "   4.42766206e-01 +0.00000000e+00j   4.32608493e-01 +0.00000000e+00j\n",
      "   4.17392625e-01 +0.00000000e+00j   4.04887183e-01 +0.00000000e+00j\n",
      "   4.03600589e-01 +0.00000000e+00j   4.08294994e-01 +0.00000000e+00j\n",
      "   4.22247532e-01 +0.00000000e+00j   4.38594043e-01 +0.00000000e+00j\n",
      "   4.27636465e-01 +0.00000000e+00j   5.95696821e-01 +0.00000000e+00j\n",
      "   3.83589529e-01 +0.00000000e+00j   1.98582882e-02 +0.00000000e+00j\n",
      "   1.70403745e-02 +0.00000000e+00j   2.33597805e-02 +0.00000000e+00j\n",
      "   5.74253712e-01 +0.00000000e+00j   7.41337770e-03 +0.00000000e+00j\n",
      "   1.12998249e-02 +0.00000000e+00j   1.57613763e-02 +0.00000000e+00j\n",
      "   1.49238238e-02 +0.00000000e+00j   1.44877753e-02 +0.00000000e+00j\n",
      "   1.36706017e-04 +0.00000000e+00j   6.12747720e-15 +0.00000000e+00j\n",
      "  -4.59874523e-15 +0.00000000e+00j   4.61461252e-15 +0.00000000e+00j\n",
      "  -3.91957662e-15 +0.00000000e+00j   4.24096372e-15 +0.00000000e+00j\n",
      "   3.49348257e-15 +0.00000000e+00j  -2.80237471e-15 +0.00000000e+00j\n",
      "   3.07749810e-15 +0.00000000e+00j   2.86269392e-15 +0.00000000e+00j\n",
      "   2.59986757e-15 +1.04081373e-16j   2.59986757e-15 -1.04081373e-16j\n",
      "   2.34500336e-15 +0.00000000e+00j  -2.49137426e-15 +0.00000000e+00j\n",
      "   1.97102016e-15 +0.00000000e+00j  -2.00079055e-15 +0.00000000e+00j\n",
      "  -1.92908269e-15 +0.00000000e+00j   1.70289669e-15 +0.00000000e+00j\n",
      "   1.60804127e-15 +0.00000000e+00j  -1.85530643e-15 +0.00000000e+00j\n",
      "  -1.63201456e-15 +0.00000000e+00j   1.40082476e-15 +0.00000000e+00j\n",
      "   1.34920733e-15 +0.00000000e+00j  -1.41763676e-15 +5.44718509e-17j\n",
      "  -1.41763676e-15 -5.44718509e-17j   9.07252383e-16 +0.00000000e+00j\n",
      "   1.05961906e-15 +0.00000000e+00j  -1.17943596e-15 +5.85685665e-17j\n",
      "  -1.17943596e-15 -5.85685665e-17j  -1.12983900e-15 +0.00000000e+00j\n",
      "  -7.73739668e-16 +0.00000000e+00j  -1.00440115e-15 +0.00000000e+00j\n",
      "   6.98746996e-16 +0.00000000e+00j  -5.20977786e-16 +0.00000000e+00j\n",
      "  -3.76645064e-16 +0.00000000e+00j   4.55562333e-16 +0.00000000e+00j\n",
      "  -2.69323764e-16 +0.00000000e+00j   2.12738661e-16 +1.15780748e-16j\n",
      "   2.12738661e-16 -1.15780748e-16j  -1.86001426e-18 +1.08585858e-16j\n",
      "  -1.86001426e-18 -1.08585858e-16j   2.88603994e-17 +4.01738520e-17j\n",
      "   2.88603994e-17 -4.01738520e-17j   2.86197838e-17 +0.00000000e+00j\n",
      "  -6.07657973e-17 +1.30279777e-17j  -6.07657973e-17 -1.30279777e-17j\n",
      "  -8.10308163e-17 +0.00000000e+00j  -1.13349601e-16 +0.00000000e+00j\n",
      "   2.49119094e-16 +0.00000000e+00j   2.42896909e-16 +4.72131906e-17j\n",
      "   2.42896909e-16 -4.72131906e-17j   0.00000000e+00 +0.00000000e+00j\n",
      "   0.00000000e+00 +0.00000000e+00j]\n"
     ]
    }
   ],
   "source": [
    "print('Eigenvectors \\n%s' %eig_vecs)\n",
    "print('\\nEigenvalues \\n%s' %eig_vals)"
   ]
  },
  {
   "cell_type": "code",
   "execution_count": 53,
   "metadata": {},
   "outputs": [
    {
     "name": "stdout",
     "output_type": "stream",
     "text": [
      "Eigenvalues in descending order:\n",
      "19.5421395765\n",
      "9.88888953377\n",
      "8.16150987604\n",
      "6.9635264829\n",
      "6.50449148905\n",
      "5.67829258605\n",
      "4.64631121093\n",
      "4.64490859122\n",
      "3.82776916032\n",
      "3.71532109789\n",
      "3.64042241571\n",
      "3.49813216583\n",
      "3.28926008003\n",
      "3.15760629061\n",
      "3.03376729578\n",
      "2.99126815288\n",
      "2.88476237295\n",
      "2.86086856264\n",
      "2.74287412986\n",
      "2.72673269983\n",
      "2.67358550261\n",
      "2.51606818011\n",
      "2.50963267128\n",
      "2.47603116286\n",
      "2.38496915238\n",
      "2.35241449233\n",
      "2.32883840801\n",
      "2.26286235557\n",
      "2.22763044889\n",
      "2.21843034098\n",
      "2.17664076646\n",
      "2.12570652029\n",
      "2.11595761072\n",
      "2.10188033964\n",
      "2.09316093496\n",
      "2.04459951371\n",
      "2.00775415418\n",
      "1.9616173061\n",
      "1.95224957732\n",
      "1.9381257941\n",
      "1.92343847166\n",
      "1.89632606131\n",
      "1.86802259223\n",
      "1.85384430912\n",
      "1.7925056908\n",
      "1.77918921337\n",
      "1.75719186656\n",
      "1.72286220625\n",
      "1.69841195471\n",
      "1.68050869028\n",
      "1.63626522017\n",
      "1.65285245745\n",
      "1.66057759104\n",
      "1.61819079802\n",
      "1.60457421022\n",
      "1.58992908588\n",
      "1.57806494637\n",
      "1.54342170722\n",
      "1.52401705757\n",
      "1.50625280513\n",
      "1.50326661788\n",
      "1.48650722649\n",
      "1.4807415002\n",
      "1.45696012288\n",
      "1.43983071624\n",
      "1.42736860576\n",
      "1.41931978645\n",
      "1.41089725407\n",
      "1.3820004994\n",
      "1.37460832916\n",
      "1.37259837206\n",
      "1.28817524911\n",
      "1.30557405992\n",
      "1.34833118377\n",
      "1.33801749102\n",
      "1.32338408344\n",
      "1.26998768573\n",
      "1.28374418097\n",
      "1.2800277773\n",
      "1.27873276438\n",
      "1.25159762237\n",
      "1.24558891549\n",
      "1.23465237609\n",
      "1.21847681921\n",
      "1.20736692034\n",
      "1.20443085246\n",
      "1.19306521336\n",
      "1.17344137572\n",
      "1.16044665037\n",
      "1.15481923663\n",
      "1.14655498998\n",
      "1.14256728307\n",
      "1.14042711437\n",
      "1.11861029961\n",
      "1.11557664882\n",
      "1.10065964945\n",
      "1.09790315935\n",
      "1.0883437314\n",
      "1.08062540413\n",
      "1.0185780757\n",
      "1.02328736848\n",
      "1.03218999363\n",
      "1.07242732642\n",
      "1.04255825797\n",
      "1.04929050816\n",
      "1.06445350816\n",
      "1.06185972946\n",
      "0.998352964689\n",
      "0.992355179961\n",
      "0.981090593192\n",
      "0.978655130307\n",
      "0.962113816624\n",
      "0.957487588555\n",
      "0.950864334397\n",
      "0.921390683609\n",
      "0.937726273947\n",
      "0.935957391585\n",
      "0.929075286029\n",
      "0.909479454401\n",
      "0.902772620222\n",
      "0.898988985163\n",
      "0.889302566438\n",
      "0.881084829608\n",
      "0.876639234142\n",
      "0.875971864789\n",
      "0.85926275844\n",
      "0.847925783819\n",
      "0.843348679153\n",
      "0.835554939676\n",
      "0.834518600757\n",
      "0.822009581475\n",
      "0.815698103713\n",
      "0.809430204715\n",
      "0.80628920219\n",
      "0.798238938963\n",
      "0.790593849462\n",
      "0.788729458198\n",
      "0.775275894581\n",
      "0.768315275915\n",
      "0.0927233769143\n",
      "0.0863301988246\n",
      "0.0805702800411\n",
      "0.0990533542903\n",
      "0.104891548123\n",
      "0.110497680085\n",
      "0.115257309814\n",
      "0.125423502274\n",
      "0.135088017069\n",
      "0.140311252146\n",
      "0.142500153282\n",
      "0.146888776707\n",
      "0.163009404557\n",
      "0.164931719064\n",
      "0.153638976305\n",
      "0.173268152718\n",
      "0.191592783085\n",
      "0.184072762522\n",
      "0.0688260902239\n",
      "0.206697656012\n",
      "0.203475141349\n",
      "0.761548359201\n",
      "0.753237205681\n",
      "0.745277094256\n",
      "0.0511208738112\n",
      "0.220102293356\n",
      "0.22133240555\n",
      "0.231287274876\n",
      "0.242103134708\n",
      "0.246286791727\n",
      "0.253283805387\n",
      "0.261718343172\n",
      "0.268328709849\n",
      "0.27314227733\n",
      "0.212089376946\n",
      "0.726939311223\n",
      "0.735423467039\n",
      "0.734501381431\n",
      "0.278586129762\n",
      "0.291759433052\n",
      "0.297003334302\n",
      "0.0414077809058\n",
      "0.0395472371122\n",
      "0.0373584576598\n",
      "0.0361905807415\n",
      "0.301375140895\n",
      "0.311273859757\n",
      "0.314319225469\n",
      "0.325125621933\n",
      "0.333039106273\n",
      "0.339645248049\n",
      "0.34872598244\n",
      "0.713812407111\n",
      "0.708599734779\n",
      "0.634961727718\n",
      "0.628680186104\n",
      "0.622377126392\n",
      "0.646503610428\n",
      "0.654841183779\n",
      "0.65949276243\n",
      "0.670598014963\n",
      "0.667478256664\n",
      "0.701302737417\n",
      "0.684405258168\n",
      "0.691082123355\n",
      "0.699081177349\n",
      "0.353895096377\n",
      "0.609242430277\n",
      "0.601443002787\n",
      "0.585425588332\n",
      "0.36269188803\n",
      "0.367744905115\n",
      "0.373443165743\n",
      "0.580541546575\n",
      "0.514854689642\n",
      "0.523670842259\n",
      "0.529166718946\n",
      "0.542874427071\n",
      "0.546622471822\n",
      "0.031734267269\n",
      "0.0305889005399\n",
      "0.0274418712559\n",
      "0.0240980865711\n",
      "0.688934400644\n",
      "0.318447785222\n",
      "0.563406517323\n",
      "0.612849998203\n",
      "0.504613037802\n",
      "0.392744866859\n",
      "0.472637390028\n",
      "0.468810225211\n",
      "0.491852343522\n",
      "0.488626833692\n",
      "0.574363317741\n",
      "0.560177220773\n",
      "0.536147597068\n",
      "0.498333320686\n",
      "0.484022171477\n",
      "0.386933575967\n",
      "0.381424949225\n",
      "0.460903431371\n",
      "0.454338388861\n",
      "0.450461482804\n",
      "0.442766205507\n",
      "0.4326084926\n",
      "0.417392624922\n",
      "0.404887182672\n",
      "0.403600589016\n",
      "0.408294993529\n",
      "0.422247532179\n",
      "0.438594043\n",
      "0.4276364649\n",
      "0.595696821451\n",
      "0.383589528713\n",
      "0.0198582881796\n",
      "0.0170403745223\n",
      "0.0233597804538\n",
      "0.574253711834\n",
      "0.00741337770378\n",
      "0.0112998248971\n",
      "0.01576137631\n",
      "0.0149238238089\n",
      "0.0144877752708\n",
      "0.000136706016779\n",
      "6.12747720353e-15\n",
      "4.59874522759e-15\n",
      "4.61461252245e-15\n",
      "3.91957661588e-15\n",
      "4.24096372499e-15\n",
      "3.49348257411e-15\n",
      "2.80237470574e-15\n",
      "3.07749810225e-15\n",
      "2.86269391594e-15\n",
      "2.60195009713e-15\n",
      "2.60195009713e-15\n",
      "2.34500336207e-15\n",
      "2.49137425813e-15\n",
      "1.97102015753e-15\n",
      "2.00079055058e-15\n",
      "1.92908268548e-15\n",
      "1.70289668883e-15\n",
      "1.60804126843e-15\n",
      "1.85530642583e-15\n",
      "1.63201456425e-15\n",
      "1.40082475851e-15\n",
      "1.34920733226e-15\n",
      "1.41868290008e-15\n",
      "1.41868290008e-15\n",
      "9.0725238259e-16\n",
      "1.059619058e-15\n",
      "1.18088926791e-15\n",
      "1.18088926791e-15\n",
      "1.12983900303e-15\n",
      "7.73739667724e-16\n",
      "1.00440115133e-15\n",
      "6.9874699553e-16\n",
      "5.20977785517e-16\n",
      "3.76645063996e-16\n",
      "4.55562332645e-16\n",
      "2.69323764363e-16\n",
      "2.42204292601e-16\n",
      "2.42204292601e-16\n",
      "1.08601787098e-16\n",
      "1.08601787098e-16\n",
      "4.94657561907e-17\n",
      "4.94657561907e-17\n",
      "2.86197837915e-17\n",
      "6.21466839629e-17\n",
      "6.21466839629e-17\n",
      "8.10308163188e-17\n",
      "1.13349600656e-16\n",
      "2.49119094287e-16\n",
      "2.47442910114e-16\n",
      "2.47442910114e-16\n",
      "0.0\n",
      "0.0\n"
     ]
    }
   ],
   "source": [
    "eig_pairs = [(np.abs(eig_vals[i]), eig_vecs[:,i]) for i in range(len(eig_vals))]\n",
    "print('Eigenvalues in descending order:')\n",
    "for i in eig_pairs:\n",
    "    print(i[0])\n"
   ]
  },
  {
   "cell_type": "code",
   "execution_count": 54,
   "metadata": {},
   "outputs": [
    {
     "name": "stdout",
     "output_type": "stream",
     "text": [
      "[ 0.73201363  0.14959234  0.02417695  0.01707909  0.01064955  0.00927899\n",
      "  0.00710752]\n"
     ]
    }
   ],
   "source": [
    "pca = sklearnPCA(n_components=7)\n",
    "pca.fit_transform(X)\n",
    "print pca.explained_variance_ratio_\n"
   ]
  },
  {
   "cell_type": "code",
   "execution_count": 55,
   "metadata": {},
   "outputs": [
    {
     "data": {
      "image/png": "[encoded data removed]",
      "text/plain": [
       "<matplotlib.figure.Figure at 0x11de7f110>"
      ]
     },
     "metadata": {},
     "output_type": "display_data"
    }
   ],
   "source": [
    "#Explained variance\n",
    "pca = sklearnPCA().fit(X_std)\n",
    "plt.plot(np.cumsum(pca.explained_variance_ratio_))\n",
    "plt.xlabel('number of components')\n",
    "plt.ylabel('cumulative explained variance')\n",
    "plt.show()"
   ]
  },
  {
   "cell_type": "code",
   "execution_count": 56,
   "metadata": {},
   "outputs": [
    {
     "data": {
      "text/plain": [
       "(315, 315)"
      ]
     },
     "execution_count": 56,
     "metadata": {},
     "output_type": "execute_result"
    }
   ],
   "source": [
    "eig_vecs.shape"
   ]
  },
  {
   "cell_type": "code",
   "execution_count": 57,
   "metadata": {
    "collapsed": true
   },
   "outputs": [],
   "source": [
    "# planning to use top 5 components from PCA\n",
    "\n",
    "eig_pairs = [(np.abs(eig_vals[i]), eig_vecs[:,i]) for i in range(len(eig_vals))]\n",
    "matrix_w = np.hstack((eig_pairs[0][1].reshape(315,1),\n",
    "                      eig_pairs[1][1].reshape(315,1),\n",
    "                      eig_pairs[2][1].reshape(315,1),\n",
    "                      eig_pairs[3][1].reshape(315,1),\n",
    "                      eig_pairs[4][1].reshape(315,1)))"
   ]
  },
  {
   "cell_type": "code",
   "execution_count": 58,
   "metadata": {
    "collapsed": true
   },
   "outputs": [],
   "source": [
    "pred_Y = X_std.dot(matrix_w)"
   ]
  },
  {
   "cell_type": "code",
   "execution_count": 59,
   "metadata": {
    "collapsed": true
   },
   "outputs": [],
   "source": [
    "new_test = test_std.dot(matrix_w)"
   ]
  },
  {
   "cell_type": "code",
   "execution_count": 60,
   "metadata": {
    "collapsed": true
   },
   "outputs": [],
   "source": [
    "X_pca_5 = pd.DataFrame(pred_Y, columns=['pca1','pca2','pca3','pca4','pca5'])"
   ]
  },
  {
   "cell_type": "code",
   "execution_count": 61,
   "metadata": {},
   "outputs": [
    {
     "data": {
      "text/html": [
       "<div>\n",
       "<style>\n",
       "    .dataframe thead tr:only-child th {\n",
       "        text-align: right;\n",
       "    }\n",
       "\n",
       "    .dataframe thead th {\n",
       "        text-align: left;\n",
       "    }\n",
       "\n",
       "    .dataframe tbody tr th {\n",
       "        vertical-align: top;\n",
       "    }\n",
       "</style>\n",
       "<table border=\"1\" class=\"dataframe\">\n",
       "  <thead>\n",
       "    <tr style=\"text-align: right;\">\n",
       "      <th></th>\n",
       "      <th>pca1</th>\n",
       "      <th>pca2</th>\n",
       "      <th>pca3</th>\n",
       "      <th>pca4</th>\n",
       "      <th>pca5</th>\n",
       "    </tr>\n",
       "  </thead>\n",
       "  <tbody>\n",
       "    <tr>\n",
       "      <th>0</th>\n",
       "      <td>(4.54302483424+0j)</td>\n",
       "      <td>(1.86270888125+0j)</td>\n",
       "      <td>(-0.0884681149397+0j)</td>\n",
       "      <td>(0.346769589491+0j)</td>\n",
       "      <td>(-2.16398686501+0j)</td>\n",
       "    </tr>\n",
       "    <tr>\n",
       "      <th>1</th>\n",
       "      <td>(0.216543424546+0j)</td>\n",
       "      <td>(-3.1554263361+0j)</td>\n",
       "      <td>(-0.23819482425+0j)</td>\n",
       "      <td>(1.07968948006+0j)</td>\n",
       "      <td>(-0.0802868723494+0j)</td>\n",
       "    </tr>\n",
       "    <tr>\n",
       "      <th>2</th>\n",
       "      <td>(5.40307804534+0j)</td>\n",
       "      <td>(1.25152596101+0j)</td>\n",
       "      <td>(-0.310016220627+0j)</td>\n",
       "      <td>(0.117803487619+0j)</td>\n",
       "      <td>(-0.780429479058+0j)</td>\n",
       "    </tr>\n",
       "    <tr>\n",
       "      <th>3</th>\n",
       "      <td>(-1.24992770703+0j)</td>\n",
       "      <td>(-0.070611845047+0j)</td>\n",
       "      <td>(2.04004242737+0j)</td>\n",
       "      <td>(-2.97919825669+0j)</td>\n",
       "      <td>(1.34462872138+0j)</td>\n",
       "    </tr>\n",
       "    <tr>\n",
       "      <th>4</th>\n",
       "      <td>(6.6454603864+0j)</td>\n",
       "      <td>(1.01641824458+0j)</td>\n",
       "      <td>(-0.436536148303+0j)</td>\n",
       "      <td>(-0.526836345934+0j)</td>\n",
       "      <td>(0.529661452778+0j)</td>\n",
       "    </tr>\n",
       "  </tbody>\n",
       "</table>\n",
       "</div>"
      ],
      "text/plain": [
       "                  pca1                  pca2                   pca3  \\\n",
       "0   (4.54302483424+0j)    (1.86270888125+0j)  (-0.0884681149397+0j)   \n",
       "1  (0.216543424546+0j)    (-3.1554263361+0j)    (-0.23819482425+0j)   \n",
       "2   (5.40307804534+0j)    (1.25152596101+0j)   (-0.310016220627+0j)   \n",
       "3  (-1.24992770703+0j)  (-0.070611845047+0j)     (2.04004242737+0j)   \n",
       "4    (6.6454603864+0j)    (1.01641824458+0j)   (-0.436536148303+0j)   \n",
       "\n",
       "                   pca4                   pca5  \n",
       "0   (0.346769589491+0j)    (-2.16398686501+0j)  \n",
       "1    (1.07968948006+0j)  (-0.0802868723494+0j)  \n",
       "2   (0.117803487619+0j)   (-0.780429479058+0j)  \n",
       "3   (-2.97919825669+0j)     (1.34462872138+0j)  \n",
       "4  (-0.526836345934+0j)    (0.529661452778+0j)  "
      ]
     },
     "execution_count": 61,
     "metadata": {},
     "output_type": "execute_result"
    }
   ],
   "source": [
    "X_pca_5.head()"
   ]
  },
  {
   "cell_type": "code",
   "execution_count": 62,
   "metadata": {},
   "outputs": [
    {
     "data": {
      "text/plain": [
       "(1460, 5)"
      ]
     },
     "execution_count": 62,
     "metadata": {},
     "output_type": "execute_result"
    }
   ],
   "source": [
    "X_pca_5.shape"
   ]
  },
  {
   "cell_type": "markdown",
   "metadata": {},
   "source": [
    "### Comparing two models\n",
    "* PCA based model\n",
    "* Non-PCA based, only with one hot encoded variables"
   ]
  },
  {
   "cell_type": "code",
   "execution_count": 64,
   "metadata": {
    "collapsed": true
   },
   "outputs": [],
   "source": [
    "from sklearn.linear_model import ElasticNet, Lasso,  BayesianRidge, LassoLarsIC\n",
    "from sklearn.pipeline import make_pipeline\n",
    "from sklearn.preprocessing import RobustScaler\n",
    "from sklearn.kernel_ridge import KernelRidge\n",
    "import xgboost as xgb\n",
    "from sklearn.model_selection import KFold, cross_val_score, train_test_split\n",
    "from sklearn.metrics import mean_squared_error"
   ]
  },
  {
   "cell_type": "markdown",
   "metadata": {},
   "source": [
    "### Building Base Models"
   ]
  },
  {
   "cell_type": "code",
   "execution_count": 94,
   "metadata": {
    "collapsed": true
   },
   "outputs": [],
   "source": [
    "#Validation function\n",
    "n_folds = 5\n",
    "\n",
    "def rmsle_cv(model):\n",
    "    kf = KFold(n_folds, shuffle=True, random_state=42).get_n_splits(X_pca_5.values)\n",
    "    rmse= np.sqrt(-cross_val_score(model, X_pca_5.values, y, scoring=\"neg_mean_squared_error\", cv = kf))\n",
    "    return(rmse)\n"
   ]
  },
  {
   "cell_type": "code",
   "execution_count": 213,
   "metadata": {
    "collapsed": true
   },
   "outputs": [],
   "source": [
    "# Lasso\n",
    "\n",
    "lasso = make_pipeline(RobustScaler(), Lasso(alpha =0.0005, random_state=1))"
   ]
  },
  {
   "cell_type": "code",
   "execution_count": 214,
   "metadata": {
    "collapsed": true
   },
   "outputs": [],
   "source": [
    "# ElasticNet\n",
    "\n",
    "ENet = make_pipeline(RobustScaler(), ElasticNet(alpha=0.0005, l1_ratio=.9, random_state=3))"
   ]
  },
  {
   "cell_type": "code",
   "execution_count": 215,
   "metadata": {
    "collapsed": true
   },
   "outputs": [],
   "source": [
    "# Kernel Ridge Regression\n",
    "\n",
    "KRR = KernelRidge(alpha=0.6, kernel='polynomial', degree=2, coef0=2.5)"
   ]
  },
  {
   "cell_type": "code",
   "execution_count": 93,
   "metadata": {
    "collapsed": true
   },
   "outputs": [],
   "source": [
    "# xgboost\n",
    "\n",
    "model_xgb = xgb.XGBRegressor(colsample_bytree=0.4603, gamma=0.0468, \n",
    "                             learning_rate=0.05, max_depth=3, \n",
    "                             min_child_weight=1.7817, n_estimators=2200,\n",
    "                             reg_alpha=0.4640, reg_lambda=0.8571,\n",
    "                             subsample=0.5213, silent=1,\n",
    "                             random_state =7, nthread = -1)"
   ]
  },
  {
   "cell_type": "markdown",
   "metadata": {},
   "source": [
    "#### Models for the PCA data "
   ]
  },
  {
   "cell_type": "code",
   "execution_count": 217,
   "metadata": {},
   "outputs": [
    {
     "name": "stdout",
     "output_type": "stream",
     "text": [
      "\n",
      "Lasso score: 0.0065 (0.0004)\n",
      "\n"
     ]
    }
   ],
   "source": [
    "score = rmsle_cv(lasso)\n",
    "\n",
    "print(\"\\nLasso score: {:.4f} ({:.4f})\\n\".format(score.mean(), score.std()))"
   ]
  },
  {
   "cell_type": "code",
   "execution_count": 218,
   "metadata": {},
   "outputs": [
    {
     "name": "stdout",
     "output_type": "stream",
     "text": [
      "ElasticNet score: 0.0065 (0.0004)\n",
      "\n"
     ]
    }
   ],
   "source": [
    "score = rmsle_cv(ENet)\n",
    "print(\"ElasticNet score: {:.4f} ({:.4f})\\n\".format(score.mean(), score.std()))"
   ]
  },
  {
   "cell_type": "code",
   "execution_count": 219,
   "metadata": {},
   "outputs": [
    {
     "name": "stdout",
     "output_type": "stream",
     "text": [
      "Kernel Ridge score: 0.0060 (0.0004)\n",
      "\n"
     ]
    }
   ],
   "source": [
    "score = rmsle_cv(KRR)\n",
    "print(\"Kernel Ridge score: {:.4f} ({:.4f})\\n\".format(score.mean(), score.std()))"
   ]
  },
  {
   "cell_type": "code",
   "execution_count": 95,
   "metadata": {},
   "outputs": [
    {
     "name": "stderr",
     "output_type": "stream",
     "text": [
      "/Users/rachit/anaconda2/lib/python2.7/site-packages/xgboost/core.py:346: ComplexWarning: Casting complex values to real discards the imaginary part\n",
      "  data = np.array(mat.reshape(mat.size), copy=False, dtype=np.float32)\n"
     ]
    },
    {
     "name": "stdout",
     "output_type": "stream",
     "text": [
      "Xgboost score: 0.1678 (0.0089)\n",
      "\n"
     ]
    }
   ],
   "source": [
    "score = rmsle_cv(model_xgb)\n",
    "print(\"Xgboost score: {:.4f} ({:.4f})\\n\".format(score.mean(), score.std()))"
   ]
  },
  {
   "cell_type": "markdown",
   "metadata": {},
   "source": [
    "#### Models for the original data"
   ]
  },
  {
   "cell_type": "code",
   "execution_count": 243,
   "metadata": {
    "collapsed": true
   },
   "outputs": [],
   "source": [
    "#Validation function\n",
    "n_folds = 5\n",
    "\n",
    "def rmsle_cv(model):\n",
    "    kf = KFold(n_folds, shuffle=True, random_state=42).get_n_splits(train_df_2.values)\n",
    "    rmse= np.sqrt(-cross_val_score(model, train_df_2.values, y, scoring=\"neg_mean_squared_error\", cv = kf))\n",
    "    return(rmse)\n"
   ]
  },
  {
   "cell_type": "code",
   "execution_count": 244,
   "metadata": {},
   "outputs": [
    {
     "name": "stdout",
     "output_type": "stream",
     "text": [
      "\n",
      "Lasso score: 0.0006 (0.0000)\n",
      "\n"
     ]
    }
   ],
   "source": [
    "score = rmsle_cv(lasso)\n",
    "\n",
    "print(\"\\nLasso score: {:.4f} ({:.4f})\\n\".format(score.mean(), score.std()))"
   ]
  },
  {
   "cell_type": "code",
   "execution_count": 245,
   "metadata": {},
   "outputs": [
    {
     "name": "stdout",
     "output_type": "stream",
     "text": [
      "ElasticNet score: 0.0006 (0.0000)\n",
      "\n"
     ]
    }
   ],
   "source": [
    "score = rmsle_cv(ENet)\n",
    "print(\"ElasticNet score: {:.4f} ({:.4f})\\n\".format(score.mean(), score.std()))"
   ]
  },
  {
   "cell_type": "code",
   "execution_count": 246,
   "metadata": {},
   "outputs": [
    {
     "name": "stdout",
     "output_type": "stream",
     "text": [
      "Xgboost score: 0.0121 (0.0007)\n",
      "\n"
     ]
    }
   ],
   "source": [
    "score = rmsle_cv(model_xgb)\n",
    "print(\"Xgboost score: {:.4f} ({:.4f})\\n\".format(score.mean(), score.std()))"
   ]
  },
  {
   "cell_type": "markdown",
   "metadata": {
    "collapsed": true
   },
   "source": [
    "### Building a class to create stacked model"
   ]
  },
  {
   "cell_type": "code",
   "execution_count": 61,
   "metadata": {
    "collapsed": true
   },
   "outputs": [],
   "source": [
    "from sklearn.base import BaseEstimator, TransformerMixin, RegressorMixin, clone\n",
    "from sklearn.model_selection import KFold, cross_val_score, train_test_split"
   ]
  },
  {
   "cell_type": "code",
   "execution_count": 62,
   "metadata": {
    "collapsed": true
   },
   "outputs": [],
   "source": [
    "class AveragingModels(BaseEstimator, RegressorMixin, TransformerMixin):\n",
    "    def __init__(self, models):\n",
    "        self.models = models\n",
    "        \n",
    "    def fit(self, X, y):\n",
    "        self.models_ = [clone(x) for x in self.models]\n",
    "        \n",
    "        for model in self.models_:\n",
    "            model.fit(X,y)\n",
    "            \n",
    "        return self\n",
    "\n",
    "    def predict(self, X):\n",
    "        predictions = np.column_stack([model.predict(X) for model in self.models_])\n",
    "        \n",
    "        return np.mean(predictions, axis=1)"
   ]
  },
  {
   "cell_type": "code",
   "execution_count": 221,
   "metadata": {},
   "outputs": [
    {
     "name": "stdout",
     "output_type": "stream",
     "text": [
      " Averaged base models score: 0.0070 (0.0004)\n",
      "\n"
     ]
    }
   ],
   "source": [
    "AveragedModel = AveragingModels(models = (ENet, model_xgb, KRR, lasso))\n",
    "\n",
    "score = rmsle_cv(AveragedModel)\n",
    "print(\" Averaged base models score: {:.4f} ({:.4f})\\n\".format(score.mean(), score.std()))"
   ]
  },
  {
   "cell_type": "code",
   "execution_count": 69,
   "metadata": {},
   "outputs": [
    {
     "name": "stdout",
     "output_type": "stream",
     "text": [
      " Averaged base models score: 0.0200 (0.0014)\n",
      "\n"
     ]
    }
   ],
   "source": [
    "AveragedModel = AveragingModels(models = (ENet, model_xgb, KRR, lasso))\n",
    "\n",
    "score = rmsle_cv(AveragedModel)\n",
    "print(\" Averaged base models score: {:.4f} ({:.4f})\\n\".format(score.mean(), score.std()))"
   ]
  },
  {
   "cell_type": "code",
   "execution_count": 225,
   "metadata": {
    "collapsed": true
   },
   "outputs": [],
   "source": [
    "def rmsle(y, y_pred):\n",
    "    return np.sqrt(mean_squared_error(y, y_pred))"
   ]
  },
  {
   "cell_type": "code",
   "execution_count": 247,
   "metadata": {},
   "outputs": [
    {
     "name": "stdout",
     "output_type": "stream",
     "text": [
      "0.0126548340483\n"
     ]
    }
   ],
   "source": [
    "model_xgb.fit(train, y_train)\n",
    "xgb_train_pred = model_xgb.predict(train)\n",
    "xgb_pred = np.expm1(model_xgb.predict(test))\n",
    "print(rmsle(y_train, xgb_train_pred))"
   ]
  },
  {
   "cell_type": "code",
   "execution_count": 248,
   "metadata": {
    "collapsed": true
   },
   "outputs": [],
   "source": [
    "sub = pd.DataFrame()\n",
    "sub['Id'] = test_ID\n",
    "sub['SalePrice'] = xgb_pred\n",
    "sub.to_csv('submission.csv',index=False)"
   ]
  },
  {
   "cell_type": "code",
   "execution_count": 230,
   "metadata": {},
   "outputs": [
    {
     "name": "stdout",
     "output_type": "stream",
     "text": [
      "data_description.txt      submission.csv            train.csv\r\n",
      "sample_submission.csv     test.csv                  train.csv.gz\r\n",
      "sample_submission.csv.gz  test.csv.gz\r\n"
     ]
    }
   ],
   "source": [
    "%ls"
   ]
  },
  {
   "cell_type": "code",
   "execution_count": 231,
   "metadata": {},
   "outputs": [
    {
     "data": {
      "text/plain": [
       "u'/Users/rachit/.kaggle/competitions/house-prices-advanced-regression-techniques'"
      ]
     },
     "execution_count": 231,
     "metadata": {},
     "output_type": "execute_result"
    }
   ],
   "source": [
    "%pwd"
   ]
  },
  {
   "cell_type": "code",
   "execution_count": 249,
   "metadata": {
    "collapsed": true
   },
   "outputs": [],
   "source": [
    "sub.to_csv('/Users/rachit/Desktop/Tanuj/DataScientist/Kaggle/submission.csv', index=False)"
   ]
  },
  {
   "cell_type": "markdown",
   "metadata": {},
   "source": [
    "### Lasso"
   ]
  },
  {
   "cell_type": "code",
   "execution_count": 65,
   "metadata": {},
   "outputs": [
    {
     "data": {
      "text/plain": [
       "((1460,), (1460, 315), (1459, 315))"
      ]
     },
     "execution_count": 65,
     "metadata": {},
     "output_type": "execute_result"
    }
   ],
   "source": [
    "y.shape, train.shape, test.shape"
   ]
  },
  {
   "cell_type": "code",
   "execution_count": 66,
   "metadata": {
    "collapsed": true
   },
   "outputs": [],
   "source": [
    "# X_train,X_test,y_train,y_test=train_test_split(train,y, test_size=0.2, random_state=31)\n",
    "X_train,X_test,y_train,y_test=train_test_split(X_pca_5,y, test_size=0.2, random_state=31)"
   ]
  },
  {
   "cell_type": "code",
   "execution_count": 67,
   "metadata": {},
   "outputs": [
    {
     "name": "stdout",
     "output_type": "stream",
     "text": [
      "training score:  0.370432012775\n",
      "test score:  0.337474730608\n",
      "number of features used:  1\n"
     ]
    },
    {
     "name": "stderr",
     "output_type": "stream",
     "text": [
      "/Users/rachit/anaconda2/lib/python2.7/site-packages/sklearn/utils/validation.py:433: ComplexWarning: Casting complex values to real discards the imaginary part\n",
      "  array = np.array(array, dtype=dtype, order=order, copy=copy)\n",
      "/Users/rachit/anaconda2/lib/python2.7/site-packages/numpy/core/_methods.py:32: ComplexWarning: Casting complex values to real discards the imaginary part\n",
      "  return umr_sum(a, axis, dtype, out, keepdims)\n"
     ]
    }
   ],
   "source": [
    "lasso = Lasso()\n",
    "lasso.fit(X_train, y_train)\n",
    "train_score=lasso.score(X_train, y_train)\n",
    "test_score = lasso.score(X_test, y_test)\n",
    "coeff_used = np.sum(lasso.coef_!=0)\n",
    "\n",
    "print \"training score: \", train_score\n",
    "print \"test score: \", test_score\n",
    "print \"number of features used: \", coeff_used"
   ]
  },
  {
   "cell_type": "code",
   "execution_count": 68,
   "metadata": {},
   "outputs": [
    {
     "data": {
      "text/plain": [
       "((1168, 5), (1168,))"
      ]
     },
     "execution_count": 68,
     "metadata": {},
     "output_type": "execute_result"
    }
   ],
   "source": [
    "X_train.shape, y_train.shape"
   ]
  },
  {
   "cell_type": "code",
   "execution_count": 69,
   "metadata": {},
   "outputs": [
    {
     "name": "stdout",
     "output_type": "stream",
     "text": [
      "training score for alpha=0.01: 0.808592451524\n",
      "test score for alpha =0.01:  0.791615897265\n",
      "number of features used: for alpha =0.01: 4\n"
     ]
    }
   ],
   "source": [
    "lasso001 = Lasso(alpha=0.01, max_iter=10e5)\n",
    "lasso001.fit(X_train,y_train)\n",
    "train_score001=lasso001.score(X_train,y_train)\n",
    "test_score001=lasso001.score(X_test,y_test)\n",
    "coeff_used001 = np.sum(lasso001.coef_!=0)\n",
    "print \"training score for alpha=0.01:\", train_score001 \n",
    "print \"test score for alpha =0.01: \", test_score001\n",
    "print \"number of features used: for alpha =0.01:\", coeff_used001"
   ]
  },
  {
   "cell_type": "code",
   "execution_count": 70,
   "metadata": {},
   "outputs": [
    {
     "name": "stdout",
     "output_type": "stream",
     "text": [
      "training score for alpha=0.0001: 0.808920423712\n",
      "test score for alpha =0.0001:  0.792367448225\n",
      "number of features used: for alpha =0.0001: 5\n"
     ]
    }
   ],
   "source": [
    "lasso00001 = Lasso(alpha=0.0001, max_iter=10e5)\n",
    "lasso00001.fit(X_train,y_train)\n",
    "train_score00001=lasso00001.score(X_train,y_train)\n",
    "test_score00001=lasso00001.score(X_test,y_test)\n",
    "coeff_used00001 = np.sum(lasso00001.coef_!=0)\n",
    "print \"training score for alpha=0.0001:\", train_score00001 \n",
    "print \"test score for alpha =0.0001: \", test_score00001\n",
    "print \"number of features used: for alpha =0.0001:\", coeff_used00001"
   ]
  },
  {
   "cell_type": "code",
   "execution_count": 101,
   "metadata": {
    "collapsed": true
   },
   "outputs": [],
   "source": [
    "oot_test_score = lasso00001.predict(new_test)"
   ]
  },
  {
   "cell_type": "code",
   "execution_count": 102,
   "metadata": {},
   "outputs": [
    {
     "data": {
      "text/plain": [
       "(1459,)"
      ]
     },
     "execution_count": 102,
     "metadata": {},
     "output_type": "execute_result"
    }
   ],
   "source": [
    "oot_test_score.shape"
   ]
  },
  {
   "cell_type": "code",
   "execution_count": 106,
   "metadata": {},
   "outputs": [
    {
     "name": "stderr",
     "output_type": "stream",
     "text": [
      "/Users/rachit/anaconda2/lib/python2.7/site-packages/ipykernel_launcher.py:1: ComplexWarning: Casting complex values to real discards the imaginary part\n",
      "  \"\"\"Entry point for launching an IPython kernel.\n"
     ]
    }
   ],
   "source": [
    "final_test_score = np.expm1(oot_test_score.astype(np.float64))\n",
    "\n",
    "sub = pd.DataFrame()\n",
    "sub['Id'] = test_ID\n",
    "sub['SalePrice'] = final_test_score\n",
    "sub.to_csv('submission.csv',index=False)"
   ]
  },
  {
   "cell_type": "code",
   "execution_count": 108,
   "metadata": {
    "collapsed": true
   },
   "outputs": [],
   "source": [
    "sub.to_csv('/Users/rachit/Desktop/Tanuj/DataScientist/Kaggle/submission.csv', index=False)"
   ]
  },
  {
   "cell_type": "code",
   "execution_count": 107,
   "metadata": {},
   "outputs": [
    {
     "data": {
      "text/plain": [
       "array([ 134332.79352615,  164112.68928756,  196341.9947663 , ...,\n",
       "        151649.24173949,  141806.62480828,  192087.49291605])"
      ]
     },
     "execution_count": 107,
     "metadata": {},
     "output_type": "execute_result"
    }
   ],
   "source": [
    "final_test_score"
   ]
  },
  {
   "cell_type": "markdown",
   "metadata": {
    "collapsed": true
   },
   "source": [
    "### Elastic Net"
   ]
  },
  {
   "cell_type": "code",
   "execution_count": 71,
   "metadata": {},
   "outputs": [
    {
     "name": "stdout",
     "output_type": "stream",
     "text": [
      "training score for alpha=1: 0.608344132708\n",
      "test score for alpha =1:  0.569204160421\n"
     ]
    }
   ],
   "source": [
    "ENreg = ElasticNet(alpha=1, l1_ratio=0.5, normalize=False)\n",
    "ENreg.fit(X_train,y_train)\n",
    "train_score1=ENreg.score(X_train,y_train)\n",
    "test_score1=ENreg.score(X_test,y_test)\n",
    "# pred_cv = ENreg.predict(x_cv)\n",
    "\n",
    "print \"training score for alpha=1:\", train_score1 \n",
    "print \"test score for alpha =1: \", test_score1\n"
   ]
  },
  {
   "cell_type": "code",
   "execution_count": 73,
   "metadata": {},
   "outputs": [
    {
     "name": "stdout",
     "output_type": "stream",
     "text": [
      "training score for alpha=.001: 0.808920449856\n",
      "test score for alpha =.001:  0.792369287557\n"
     ]
    }
   ],
   "source": [
    "ENreg = ElasticNet(alpha=.0001, l1_ratio=0.5, normalize=False)\n",
    "ENreg.fit(X_train,y_train)\n",
    "train_score0001=ENreg.score(X_train,y_train)\n",
    "test_score0001=ENreg.score(X_test,y_test)\n",
    "# pred_cv = ENreg.predict(x_cv)\n",
    "\n",
    "print \"training score for alpha=.001:\", train_score0001 \n",
    "print \"test score for alpha =.001: \", test_score0001\n"
   ]
  },
  {
   "cell_type": "code",
   "execution_count": 74,
   "metadata": {},
   "outputs": [
    {
     "name": "stdout",
     "output_type": "stream",
     "text": [
      "training score for alpha=.01: 0.80882723398\n",
      "test score for alpha =.01:  0.792071966289\n"
     ]
    }
   ],
   "source": [
    "ENreg = ElasticNet(alpha=.01, l1_ratio=0.5, normalize=False)\n",
    "ENreg.fit(X_train,y_train)\n",
    "train_score01=ENreg.score(X_train,y_train)\n",
    "test_score01=ENreg.score(X_test,y_test)\n",
    "# pred_cv = ENreg.predict(x_cv)\n",
    "\n",
    "print \"training score for alpha=.01:\", train_score01 \n",
    "print \"test score for alpha =.01: \", test_score01\n"
   ]
  },
  {
   "cell_type": "code",
   "execution_count": 78,
   "metadata": {},
   "outputs": [
    {
     "name": "stdout",
     "output_type": "stream",
     "text": [
      "training score for alpha=.01: 0.79011815128\n",
      "test score for alpha =.01:  0.77005278374\n"
     ]
    }
   ],
   "source": [
    "ENreg = ElasticNet(alpha=.1, l1_ratio=0.9, normalize=False)\n",
    "ENreg.fit(X_train,y_train)\n",
    "train_score01=ENreg.score(X_train,y_train)\n",
    "test_score01=ENreg.score(X_test,y_test)\n",
    "# pred_cv = ENreg.predict(x_cv)\n",
    "\n",
    "print \"training score for alpha=.01:\", train_score01 \n",
    "print \"test score for alpha =.01: \", test_score01\n"
   ]
  },
  {
   "cell_type": "code",
   "execution_count": 79,
   "metadata": {
    "collapsed": true
   },
   "outputs": [],
   "source": [
    "enet_oot_test_score = ENreg.predict(new_test)"
   ]
  },
  {
   "cell_type": "code",
   "execution_count": 80,
   "metadata": {},
   "outputs": [
    {
     "name": "stderr",
     "output_type": "stream",
     "text": [
      "/Users/rachit/anaconda2/lib/python2.7/site-packages/ipykernel_launcher.py:1: ComplexWarning: Casting complex values to real discards the imaginary part\n",
      "  \"\"\"Entry point for launching an IPython kernel.\n"
     ]
    }
   ],
   "source": [
    "final_test_score = np.expm1(enet_oot_test_score.astype(np.float64))\n",
    "\n",
    "sub = pd.DataFrame()\n",
    "sub['Id'] = test_ID\n",
    "sub['SalePrice'] = final_test_score\n",
    "sub.to_csv('/Users/rachit/Desktop/Tanuj/DataScientist/Kaggle/enet_submission_2.csv', index=False)"
   ]
  },
  {
   "cell_type": "code",
   "execution_count": 81,
   "metadata": {
    "collapsed": true
   },
   "outputs": [],
   "source": [
    "model_xgb = xgb.XGBRegressor(colsample_bytree=0.4603, gamma=0.0468, \n",
    "                             learning_rate=0.05, max_depth=3, \n",
    "                             min_child_weight=1.7817, n_estimators=2200,\n",
    "                             reg_alpha=0.4640, reg_lambda=0.8571,\n",
    "                             subsample=0.5213, silent=1,\n",
    "                             random_state =7, nthread = -1)"
   ]
  },
  {
   "cell_type": "code",
   "execution_count": 86,
   "metadata": {},
   "outputs": [],
   "source": [
    "# model_xgb.fit(X_train,y_train)\n",
    "# train_score_xgb=model_xgb.score(X_train.astype(np.float64),y_train)\n",
    "# test_score_xgb=model_xgb.score(X_test.astype(np.float64),y_test)\n",
    "\n",
    "# print \"training score for xgb:\", train_score_xgb \n",
    "# print \"test score for alpha =.01: \", test_score_xgb\n"
   ]
  },
  {
   "cell_type": "code",
   "execution_count": null,
   "metadata": {
    "collapsed": true
   },
   "outputs": [],
   "source": []
  }
 ],
 "metadata": {
  "kernelspec": {
   "display_name": "Python 2",
   "language": "python",
   "name": "python2"
  },
  "language_info": {
   "codemirror_mode": {
    "name": "ipython",
    "version": 2
   },
   "file_extension": ".py",
   "mimetype": "text/x-python",
   "name": "python",
   "nbconvert_exporter": "python",
   "pygments_lexer": "ipython2",
   "version": "2.7.14"
  }
 },
 "nbformat": 4,
 "nbformat_minor": 2
}
